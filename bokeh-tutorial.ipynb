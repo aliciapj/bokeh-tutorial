{
 "cells": [
  {
   "cell_type": "code",
   "execution_count": 1,
   "metadata": {
    "slideshow": {
     "slide_type": "notes"
    }
   },
   "outputs": [
    {
     "data": {
      "text/plain": [
       "{'scroll': True}"
      ]
     },
     "execution_count": 1,
     "metadata": {},
     "output_type": "execute_result"
    }
   ],
   "source": [
    "# This code allows the scroll in presentation mode. Hidden content in slides view\n",
    "from notebook.services.config import ConfigManager\n",
    "cm = ConfigManager()\n",
    "cm.update('livereveal', {\n",
    "              'scroll': True,\n",
    "})"
   ]
  },
  {
   "cell_type": "markdown",
   "metadata": {
    "slideshow": {
     "slide_type": "slide"
    }
   },
   "source": [
    "<h1>Bokeh</h1><h2>StyleSage - May 17th 2018</h2>\n",
    "\n",
    "<a href=\"http://bokeh.pydata.org/\">\n",
    "    <img src=\"images/bokeh-transparent.png\" style=\"width:200px\" align=\"center\">\n",
    "</a>    \n",
    "<p>\n",
    "\n"
   ]
  },
  {
   "cell_type": "markdown",
   "metadata": {
    "slideshow": {
     "slide_type": "slide"
    }
   },
   "source": [
    "## What is Bokeh\n",
    "\n",
    "Bokeh is an interactive visualization library that targets modern web browsers for presentation. It is good for:\n",
    "\n",
    "* Interactive visualization in modern browsers\n",
    "* Standalone HTML documents, or server-backed apps\n",
    "* Expressive and versatile graphics\n",
    "* Large, dynamic or streaming data\n",
    "* Easy usage from python (or Scala, or R, or...)\n",
    "\n",
    "And most importantly:\n",
    "\n",
    "## <center><i>NO JAVASCRIPT REQUIRED</i></center>"
   ]
  },
  {
   "cell_type": "markdown",
   "metadata": {
    "slideshow": {
     "slide_type": "subslide"
    }
   },
   "source": [
    "# Imports and Setup\n",
    "\n",
    "When using the [`bokeh.plotting`](http://bokeh.pydata.org/en/latest/docs/user_guide/plotting.html) interface, there are a few common imports:\n",
    "* Use the [`figure`](http://bokeh.pydata.org/en/latest/docs/reference/plotting.html#bokeh.plotting.figure) function to  create new plot objects to work with. \n",
    "* Call the functions [`output_file`](http://bokeh.pydata.org/en/latest/docs/reference/resources_embedding.html#bokeh.io.output_file), [`output_notebook`](http://bokeh.pydata.org/en/latest/docs/reference/resources_embedding.html#bokeh.io.output_notebook), and [`output_server`](http://bokeh.pydata.org/en/latest/docs/reference/resources_embedding.html#bokeh.io.output_server) (possibly in combination) to tell Bokeh how to display or save output. \n",
    "* Execute [`show`](http://bokeh.pydata.org/en/latest/docs/reference/resources_embedding.html#bokeh.io.show) and  [`save`](http://bokeh.pydata.org/en/latest/docs/reference/resources_embedding.html#bokeh.io.save) to display or save plots and layouts."
   ]
  },
  {
   "cell_type": "code",
   "execution_count": 2,
   "metadata": {
    "slideshow": {
     "slide_type": "-"
    }
   },
   "outputs": [],
   "source": [
    "from bokeh.io import output_notebook, show\n",
    "from bokeh.plotting import figure"
   ]
  },
  {
   "cell_type": "markdown",
   "metadata": {
    "slideshow": {
     "slide_type": "-"
    }
   },
   "source": [
    "In this case, we are in the Jupyter notebook, so call `output_notebook()`. We only need to call this once, and all subsequent calls to `show()` will display inline in the notebook."
   ]
  },
  {
   "cell_type": "code",
   "execution_count": 3,
   "metadata": {
    "slideshow": {
     "slide_type": "-"
    }
   },
   "outputs": [
    {
     "data": {
      "text/html": [
       "\n",
       "    <div class=\"bk-root\">\n",
       "        <a href=\"https://bokeh.pydata.org\" target=\"_blank\" class=\"bk-logo bk-logo-small bk-logo-notebook\"></a>\n",
       "        <span id=\"1001\">Loading BokehJS ...</span>\n",
       "    </div>"
      ]
     },
     "metadata": {},
     "output_type": "display_data"
    },
    {
     "data": {
      "application/javascript": [
       "\n",
       "(function(root) {\n",
       "  function now() {\n",
       "    return new Date();\n",
       "  }\n",
       "\n",
       "  var force = true;\n",
       "\n",
       "  if (typeof (root._bokeh_onload_callbacks) === \"undefined\" || force === true) {\n",
       "    root._bokeh_onload_callbacks = [];\n",
       "    root._bokeh_is_loading = undefined;\n",
       "  }\n",
       "\n",
       "  var JS_MIME_TYPE = 'application/javascript';\n",
       "  var HTML_MIME_TYPE = 'text/html';\n",
       "  var EXEC_MIME_TYPE = 'application/vnd.bokehjs_exec.v0+json';\n",
       "  var CLASS_NAME = 'output_bokeh rendered_html';\n",
       "\n",
       "  /**\n",
       "   * Render data to the DOM node\n",
       "   */\n",
       "  function render(props, node) {\n",
       "    var script = document.createElement(\"script\");\n",
       "    node.appendChild(script);\n",
       "  }\n",
       "\n",
       "  /**\n",
       "   * Handle when an output is cleared or removed\n",
       "   */\n",
       "  function handleClearOutput(event, handle) {\n",
       "    var cell = handle.cell;\n",
       "\n",
       "    var id = cell.output_area._bokeh_element_id;\n",
       "    var server_id = cell.output_area._bokeh_server_id;\n",
       "    // Clean up Bokeh references\n",
       "    if (id != null && id in Bokeh.index) {\n",
       "      Bokeh.index[id].model.document.clear();\n",
       "      delete Bokeh.index[id];\n",
       "    }\n",
       "\n",
       "    if (server_id !== undefined) {\n",
       "      // Clean up Bokeh references\n",
       "      var cmd = \"from bokeh.io.state import curstate; print(curstate().uuid_to_server['\" + server_id + \"'].get_sessions()[0].document.roots[0]._id)\";\n",
       "      cell.notebook.kernel.execute(cmd, {\n",
       "        iopub: {\n",
       "          output: function(msg) {\n",
       "            var id = msg.content.text.trim();\n",
       "            if (id in Bokeh.index) {\n",
       "              Bokeh.index[id].model.document.clear();\n",
       "              delete Bokeh.index[id];\n",
       "            }\n",
       "          }\n",
       "        }\n",
       "      });\n",
       "      // Destroy server and session\n",
       "      var cmd = \"import bokeh.io.notebook as ion; ion.destroy_server('\" + server_id + \"')\";\n",
       "      cell.notebook.kernel.execute(cmd);\n",
       "    }\n",
       "  }\n",
       "\n",
       "  /**\n",
       "   * Handle when a new output is added\n",
       "   */\n",
       "  function handleAddOutput(event, handle) {\n",
       "    var output_area = handle.output_area;\n",
       "    var output = handle.output;\n",
       "\n",
       "    // limit handleAddOutput to display_data with EXEC_MIME_TYPE content only\n",
       "    if ((output.output_type != \"display_data\") || (!output.data.hasOwnProperty(EXEC_MIME_TYPE))) {\n",
       "      return\n",
       "    }\n",
       "\n",
       "    var toinsert = output_area.element.find(\".\" + CLASS_NAME.split(' ')[0]);\n",
       "\n",
       "    if (output.metadata[EXEC_MIME_TYPE][\"id\"] !== undefined) {\n",
       "      toinsert[toinsert.length - 1].firstChild.textContent = output.data[JS_MIME_TYPE];\n",
       "      // store reference to embed id on output_area\n",
       "      output_area._bokeh_element_id = output.metadata[EXEC_MIME_TYPE][\"id\"];\n",
       "    }\n",
       "    if (output.metadata[EXEC_MIME_TYPE][\"server_id\"] !== undefined) {\n",
       "      var bk_div = document.createElement(\"div\");\n",
       "      bk_div.innerHTML = output.data[HTML_MIME_TYPE];\n",
       "      var script_attrs = bk_div.children[0].attributes;\n",
       "      for (var i = 0; i < script_attrs.length; i++) {\n",
       "        toinsert[toinsert.length - 1].firstChild.setAttribute(script_attrs[i].name, script_attrs[i].value);\n",
       "      }\n",
       "      // store reference to server id on output_area\n",
       "      output_area._bokeh_server_id = output.metadata[EXEC_MIME_TYPE][\"server_id\"];\n",
       "    }\n",
       "  }\n",
       "\n",
       "  function register_renderer(events, OutputArea) {\n",
       "\n",
       "    function append_mime(data, metadata, element) {\n",
       "      // create a DOM node to render to\n",
       "      var toinsert = this.create_output_subarea(\n",
       "        metadata,\n",
       "        CLASS_NAME,\n",
       "        EXEC_MIME_TYPE\n",
       "      );\n",
       "      this.keyboard_manager.register_events(toinsert);\n",
       "      // Render to node\n",
       "      var props = {data: data, metadata: metadata[EXEC_MIME_TYPE]};\n",
       "      render(props, toinsert[toinsert.length - 1]);\n",
       "      element.append(toinsert);\n",
       "      return toinsert\n",
       "    }\n",
       "\n",
       "    /* Handle when an output is cleared or removed */\n",
       "    events.on('clear_output.CodeCell', handleClearOutput);\n",
       "    events.on('delete.Cell', handleClearOutput);\n",
       "\n",
       "    /* Handle when a new output is added */\n",
       "    events.on('output_added.OutputArea', handleAddOutput);\n",
       "\n",
       "    /**\n",
       "     * Register the mime type and append_mime function with output_area\n",
       "     */\n",
       "    OutputArea.prototype.register_mime_type(EXEC_MIME_TYPE, append_mime, {\n",
       "      /* Is output safe? */\n",
       "      safe: true,\n",
       "      /* Index of renderer in `output_area.display_order` */\n",
       "      index: 0\n",
       "    });\n",
       "  }\n",
       "\n",
       "  // register the mime type if in Jupyter Notebook environment and previously unregistered\n",
       "  if (root.Jupyter !== undefined) {\n",
       "    var events = require('base/js/events');\n",
       "    var OutputArea = require('notebook/js/outputarea').OutputArea;\n",
       "\n",
       "    if (OutputArea.prototype.mime_types().indexOf(EXEC_MIME_TYPE) == -1) {\n",
       "      register_renderer(events, OutputArea);\n",
       "    }\n",
       "  }\n",
       "\n",
       "  \n",
       "  if (typeof (root._bokeh_timeout) === \"undefined\" || force === true) {\n",
       "    root._bokeh_timeout = Date.now() + 5000;\n",
       "    root._bokeh_failed_load = false;\n",
       "  }\n",
       "\n",
       "  var NB_LOAD_WARNING = {'data': {'text/html':\n",
       "     \"<div style='background-color: #fdd'>\\n\"+\n",
       "     \"<p>\\n\"+\n",
       "     \"BokehJS does not appear to have successfully loaded. If loading BokehJS from CDN, this \\n\"+\n",
       "     \"may be due to a slow or bad network connection. Possible fixes:\\n\"+\n",
       "     \"</p>\\n\"+\n",
       "     \"<ul>\\n\"+\n",
       "     \"<li>re-rerun `output_notebook()` to attempt to load from CDN again, or</li>\\n\"+\n",
       "     \"<li>use INLINE resources instead, as so:</li>\\n\"+\n",
       "     \"</ul>\\n\"+\n",
       "     \"<code>\\n\"+\n",
       "     \"from bokeh.resources import INLINE\\n\"+\n",
       "     \"output_notebook(resources=INLINE)\\n\"+\n",
       "     \"</code>\\n\"+\n",
       "     \"</div>\"}};\n",
       "\n",
       "  function display_loaded() {\n",
       "    var el = document.getElementById(\"1001\");\n",
       "    if (el != null) {\n",
       "      el.textContent = \"BokehJS is loading...\";\n",
       "    }\n",
       "    if (root.Bokeh !== undefined) {\n",
       "      if (el != null) {\n",
       "        el.textContent = \"BokehJS \" + root.Bokeh.version + \" successfully loaded.\";\n",
       "      }\n",
       "    } else if (Date.now() < root._bokeh_timeout) {\n",
       "      setTimeout(display_loaded, 100)\n",
       "    }\n",
       "  }\n",
       "\n",
       "\n",
       "  function run_callbacks() {\n",
       "    try {\n",
       "      root._bokeh_onload_callbacks.forEach(function(callback) { callback() });\n",
       "    }\n",
       "    finally {\n",
       "      delete root._bokeh_onload_callbacks\n",
       "    }\n",
       "    console.info(\"Bokeh: all callbacks have finished\");\n",
       "  }\n",
       "\n",
       "  function load_libs(js_urls, callback) {\n",
       "    root._bokeh_onload_callbacks.push(callback);\n",
       "    if (root._bokeh_is_loading > 0) {\n",
       "      console.log(\"Bokeh: BokehJS is being loaded, scheduling callback at\", now());\n",
       "      return null;\n",
       "    }\n",
       "    if (js_urls == null || js_urls.length === 0) {\n",
       "      run_callbacks();\n",
       "      return null;\n",
       "    }\n",
       "    console.log(\"Bokeh: BokehJS not loaded, scheduling load and callback at\", now());\n",
       "    root._bokeh_is_loading = js_urls.length;\n",
       "    for (var i = 0; i < js_urls.length; i++) {\n",
       "      var url = js_urls[i];\n",
       "      var s = document.createElement('script');\n",
       "      s.src = url;\n",
       "      s.async = false;\n",
       "      s.onreadystatechange = s.onload = function() {\n",
       "        root._bokeh_is_loading--;\n",
       "        if (root._bokeh_is_loading === 0) {\n",
       "          console.log(\"Bokeh: all BokehJS libraries loaded\");\n",
       "          run_callbacks()\n",
       "        }\n",
       "      };\n",
       "      s.onerror = function() {\n",
       "        console.warn(\"failed to load library \" + url);\n",
       "      };\n",
       "      console.log(\"Bokeh: injecting script tag for BokehJS library: \", url);\n",
       "      document.getElementsByTagName(\"head\")[0].appendChild(s);\n",
       "    }\n",
       "  };var element = document.getElementById(\"1001\");\n",
       "  if (element == null) {\n",
       "    console.log(\"Bokeh: ERROR: autoload.js configured with elementid '1001' but no matching script tag was found. \")\n",
       "    return false;\n",
       "  }\n",
       "\n",
       "  var js_urls = [\"https://cdn.pydata.org/bokeh/release/bokeh-1.0.2.min.js\", \"https://cdn.pydata.org/bokeh/release/bokeh-widgets-1.0.2.min.js\", \"https://cdn.pydata.org/bokeh/release/bokeh-tables-1.0.2.min.js\", \"https://cdn.pydata.org/bokeh/release/bokeh-gl-1.0.2.min.js\"];\n",
       "\n",
       "  var inline_js = [\n",
       "    function(Bokeh) {\n",
       "      Bokeh.set_log_level(\"info\");\n",
       "    },\n",
       "    \n",
       "    function(Bokeh) {\n",
       "      \n",
       "    },\n",
       "    function(Bokeh) {\n",
       "      console.log(\"Bokeh: injecting CSS: https://cdn.pydata.org/bokeh/release/bokeh-1.0.2.min.css\");\n",
       "      Bokeh.embed.inject_css(\"https://cdn.pydata.org/bokeh/release/bokeh-1.0.2.min.css\");\n",
       "      console.log(\"Bokeh: injecting CSS: https://cdn.pydata.org/bokeh/release/bokeh-widgets-1.0.2.min.css\");\n",
       "      Bokeh.embed.inject_css(\"https://cdn.pydata.org/bokeh/release/bokeh-widgets-1.0.2.min.css\");\n",
       "      console.log(\"Bokeh: injecting CSS: https://cdn.pydata.org/bokeh/release/bokeh-tables-1.0.2.min.css\");\n",
       "      Bokeh.embed.inject_css(\"https://cdn.pydata.org/bokeh/release/bokeh-tables-1.0.2.min.css\");\n",
       "    }\n",
       "  ];\n",
       "\n",
       "  function run_inline_js() {\n",
       "    \n",
       "    if ((root.Bokeh !== undefined) || (force === true)) {\n",
       "      for (var i = 0; i < inline_js.length; i++) {\n",
       "        inline_js[i].call(root, root.Bokeh);\n",
       "      }if (force === true) {\n",
       "        display_loaded();\n",
       "      }} else if (Date.now() < root._bokeh_timeout) {\n",
       "      setTimeout(run_inline_js, 100);\n",
       "    } else if (!root._bokeh_failed_load) {\n",
       "      console.log(\"Bokeh: BokehJS failed to load within specified timeout.\");\n",
       "      root._bokeh_failed_load = true;\n",
       "    } else if (force !== true) {\n",
       "      var cell = $(document.getElementById(\"1001\")).parents('.cell').data().cell;\n",
       "      cell.output_area.append_execute_result(NB_LOAD_WARNING)\n",
       "    }\n",
       "\n",
       "  }\n",
       "\n",
       "  if (root._bokeh_is_loading === 0) {\n",
       "    console.log(\"Bokeh: BokehJS loaded, going straight to plotting\");\n",
       "    run_inline_js();\n",
       "  } else {\n",
       "    load_libs(js_urls, function() {\n",
       "      console.log(\"Bokeh: BokehJS plotting callback run at\", now());\n",
       "      run_inline_js();\n",
       "    });\n",
       "  }\n",
       "}(window));"
      ],
      "application/vnd.bokehjs_load.v0+json": "\n(function(root) {\n  function now() {\n    return new Date();\n  }\n\n  var force = true;\n\n  if (typeof (root._bokeh_onload_callbacks) === \"undefined\" || force === true) {\n    root._bokeh_onload_callbacks = [];\n    root._bokeh_is_loading = undefined;\n  }\n\n  \n\n  \n  if (typeof (root._bokeh_timeout) === \"undefined\" || force === true) {\n    root._bokeh_timeout = Date.now() + 5000;\n    root._bokeh_failed_load = false;\n  }\n\n  var NB_LOAD_WARNING = {'data': {'text/html':\n     \"<div style='background-color: #fdd'>\\n\"+\n     \"<p>\\n\"+\n     \"BokehJS does not appear to have successfully loaded. If loading BokehJS from CDN, this \\n\"+\n     \"may be due to a slow or bad network connection. Possible fixes:\\n\"+\n     \"</p>\\n\"+\n     \"<ul>\\n\"+\n     \"<li>re-rerun `output_notebook()` to attempt to load from CDN again, or</li>\\n\"+\n     \"<li>use INLINE resources instead, as so:</li>\\n\"+\n     \"</ul>\\n\"+\n     \"<code>\\n\"+\n     \"from bokeh.resources import INLINE\\n\"+\n     \"output_notebook(resources=INLINE)\\n\"+\n     \"</code>\\n\"+\n     \"</div>\"}};\n\n  function display_loaded() {\n    var el = document.getElementById(\"1001\");\n    if (el != null) {\n      el.textContent = \"BokehJS is loading...\";\n    }\n    if (root.Bokeh !== undefined) {\n      if (el != null) {\n        el.textContent = \"BokehJS \" + root.Bokeh.version + \" successfully loaded.\";\n      }\n    } else if (Date.now() < root._bokeh_timeout) {\n      setTimeout(display_loaded, 100)\n    }\n  }\n\n\n  function run_callbacks() {\n    try {\n      root._bokeh_onload_callbacks.forEach(function(callback) { callback() });\n    }\n    finally {\n      delete root._bokeh_onload_callbacks\n    }\n    console.info(\"Bokeh: all callbacks have finished\");\n  }\n\n  function load_libs(js_urls, callback) {\n    root._bokeh_onload_callbacks.push(callback);\n    if (root._bokeh_is_loading > 0) {\n      console.log(\"Bokeh: BokehJS is being loaded, scheduling callback at\", now());\n      return null;\n    }\n    if (js_urls == null || js_urls.length === 0) {\n      run_callbacks();\n      return null;\n    }\n    console.log(\"Bokeh: BokehJS not loaded, scheduling load and callback at\", now());\n    root._bokeh_is_loading = js_urls.length;\n    for (var i = 0; i < js_urls.length; i++) {\n      var url = js_urls[i];\n      var s = document.createElement('script');\n      s.src = url;\n      s.async = false;\n      s.onreadystatechange = s.onload = function() {\n        root._bokeh_is_loading--;\n        if (root._bokeh_is_loading === 0) {\n          console.log(\"Bokeh: all BokehJS libraries loaded\");\n          run_callbacks()\n        }\n      };\n      s.onerror = function() {\n        console.warn(\"failed to load library \" + url);\n      };\n      console.log(\"Bokeh: injecting script tag for BokehJS library: \", url);\n      document.getElementsByTagName(\"head\")[0].appendChild(s);\n    }\n  };var element = document.getElementById(\"1001\");\n  if (element == null) {\n    console.log(\"Bokeh: ERROR: autoload.js configured with elementid '1001' but no matching script tag was found. \")\n    return false;\n  }\n\n  var js_urls = [\"https://cdn.pydata.org/bokeh/release/bokeh-1.0.2.min.js\", \"https://cdn.pydata.org/bokeh/release/bokeh-widgets-1.0.2.min.js\", \"https://cdn.pydata.org/bokeh/release/bokeh-tables-1.0.2.min.js\", \"https://cdn.pydata.org/bokeh/release/bokeh-gl-1.0.2.min.js\"];\n\n  var inline_js = [\n    function(Bokeh) {\n      Bokeh.set_log_level(\"info\");\n    },\n    \n    function(Bokeh) {\n      \n    },\n    function(Bokeh) {\n      console.log(\"Bokeh: injecting CSS: https://cdn.pydata.org/bokeh/release/bokeh-1.0.2.min.css\");\n      Bokeh.embed.inject_css(\"https://cdn.pydata.org/bokeh/release/bokeh-1.0.2.min.css\");\n      console.log(\"Bokeh: injecting CSS: https://cdn.pydata.org/bokeh/release/bokeh-widgets-1.0.2.min.css\");\n      Bokeh.embed.inject_css(\"https://cdn.pydata.org/bokeh/release/bokeh-widgets-1.0.2.min.css\");\n      console.log(\"Bokeh: injecting CSS: https://cdn.pydata.org/bokeh/release/bokeh-tables-1.0.2.min.css\");\n      Bokeh.embed.inject_css(\"https://cdn.pydata.org/bokeh/release/bokeh-tables-1.0.2.min.css\");\n    }\n  ];\n\n  function run_inline_js() {\n    \n    if ((root.Bokeh !== undefined) || (force === true)) {\n      for (var i = 0; i < inline_js.length; i++) {\n        inline_js[i].call(root, root.Bokeh);\n      }if (force === true) {\n        display_loaded();\n      }} else if (Date.now() < root._bokeh_timeout) {\n      setTimeout(run_inline_js, 100);\n    } else if (!root._bokeh_failed_load) {\n      console.log(\"Bokeh: BokehJS failed to load within specified timeout.\");\n      root._bokeh_failed_load = true;\n    } else if (force !== true) {\n      var cell = $(document.getElementById(\"1001\")).parents('.cell').data().cell;\n      cell.output_area.append_execute_result(NB_LOAD_WARNING)\n    }\n\n  }\n\n  if (root._bokeh_is_loading === 0) {\n    console.log(\"Bokeh: BokehJS loaded, going straight to plotting\");\n    run_inline_js();\n  } else {\n    load_libs(js_urls, function() {\n      console.log(\"Bokeh: BokehJS plotting callback run at\", now());\n      run_inline_js();\n    });\n  }\n}(window));"
     },
     "metadata": {},
     "output_type": "display_data"
    }
   ],
   "source": [
    "output_notebook()"
   ]
  },
  {
   "cell_type": "markdown",
   "metadata": {
    "slideshow": {
     "slide_type": "slide"
    }
   },
   "source": [
    "# Basic plotting\n",
    "<img src=\"images/chart_suggestions.png\" align=\"center\"/>"
   ]
  },
  {
   "cell_type": "markdown",
   "metadata": {
    "slideshow": {
     "slide_type": "subslide"
    }
   },
   "source": [
    "## Scatter Plots"
   ]
  },
  {
   "cell_type": "markdown",
   "metadata": {
    "slideshow": {
     "slide_type": "-"
    }
   },
   "source": [
    "Basic plotting and available tools"
   ]
  },
  {
   "cell_type": "code",
   "execution_count": 4,
   "metadata": {
    "scrolled": false,
    "slideshow": {
     "slide_type": "-"
    }
   },
   "outputs": [
    {
     "data": {
      "text/html": [
       "\n",
       "\n",
       "\n",
       "\n",
       "\n",
       "\n",
       "  <div class=\"bk-root\" id=\"55b1125d-085d-4c55-9261-d49d7f97ce9b\"></div>\n"
      ]
     },
     "metadata": {},
     "output_type": "display_data"
    },
    {
     "data": {
      "application/javascript": [
       "(function(root) {\n",
       "  function embed_document(root) {\n",
       "    \n",
       "  var docs_json = {\"3c1b12ea-5870-4e73-ab3c-113fe3da8390\":{\"roots\":{\"references\":[{\"attributes\":{\"below\":[{\"id\":\"1013\",\"type\":\"LinearAxis\"}],\"left\":[{\"id\":\"1018\",\"type\":\"LinearAxis\"}],\"plot_height\":500,\"plot_width\":900,\"renderers\":[{\"id\":\"1013\",\"type\":\"LinearAxis\"},{\"id\":\"1017\",\"type\":\"Grid\"},{\"id\":\"1018\",\"type\":\"LinearAxis\"},{\"id\":\"1022\",\"type\":\"Grid\"},{\"id\":\"1029\",\"type\":\"GlyphRenderer\"}],\"title\":{\"id\":\"1002\",\"type\":\"Title\"},\"toolbar\":{\"id\":\"1024\",\"type\":\"Toolbar\"},\"x_range\":{\"id\":\"1005\",\"type\":\"DataRange1d\"},\"x_scale\":{\"id\":\"1009\",\"type\":\"LinearScale\"},\"y_range\":{\"id\":\"1007\",\"type\":\"DataRange1d\"},\"y_scale\":{\"id\":\"1011\",\"type\":\"LinearScale\"}},\"id\":\"1003\",\"subtype\":\"Figure\",\"type\":\"Plot\"},{\"attributes\":{\"plot\":{\"id\":\"1003\",\"subtype\":\"Figure\",\"type\":\"Plot\"},\"ticker\":{\"id\":\"1014\",\"type\":\"BasicTicker\"}},\"id\":\"1017\",\"type\":\"Grid\"},{\"attributes\":{\"formatter\":{\"id\":\"1033\",\"type\":\"BasicTickFormatter\"},\"major_label_text_font_size\":{\"value\":\"20pt\"},\"plot\":{\"id\":\"1003\",\"subtype\":\"Figure\",\"type\":\"Plot\"},\"ticker\":{\"id\":\"1019\",\"type\":\"BasicTicker\"}},\"id\":\"1018\",\"type\":\"LinearAxis\"},{\"attributes\":{},\"id\":\"1019\",\"type\":\"BasicTicker\"},{\"attributes\":{\"fill_color\":{\"value\":\"orange\"},\"line_color\":{\"value\":\"#1f77b4\"},\"size\":{\"units\":\"screen\",\"value\":20},\"x\":{\"field\":\"x\"},\"y\":{\"field\":\"y\"}},\"id\":\"1027\",\"type\":\"Diamond\"},{\"attributes\":{\"dimension\":1,\"plot\":{\"id\":\"1003\",\"subtype\":\"Figure\",\"type\":\"Plot\"},\"ticker\":{\"id\":\"1019\",\"type\":\"BasicTicker\"}},\"id\":\"1022\",\"type\":\"Grid\"},{\"attributes\":{\"active_drag\":\"auto\",\"active_inspect\":\"auto\",\"active_multi\":null,\"active_scroll\":\"auto\",\"active_tap\":\"auto\",\"tools\":[{\"id\":\"1023\",\"type\":\"PanTool\"}]},\"id\":\"1024\",\"type\":\"Toolbar\"},{\"attributes\":{},\"id\":\"1023\",\"type\":\"PanTool\"},{\"attributes\":{},\"id\":\"1033\",\"type\":\"BasicTickFormatter\"},{\"attributes\":{\"callback\":null,\"data\":{\"x\":[1,2,3,4,5],\"y\":[6,7,2,4,5]},\"selected\":{\"id\":\"1036\",\"type\":\"Selection\"},\"selection_policy\":{\"id\":\"1037\",\"type\":\"UnionRenderers\"}},\"id\":\"1026\",\"type\":\"ColumnDataSource\"},{\"attributes\":{\"data_source\":{\"id\":\"1026\",\"type\":\"ColumnDataSource\"},\"glyph\":{\"id\":\"1027\",\"type\":\"Diamond\"},\"hover_glyph\":null,\"muted_glyph\":null,\"nonselection_glyph\":{\"id\":\"1028\",\"type\":\"Diamond\"},\"selection_glyph\":null,\"view\":{\"id\":\"1030\",\"type\":\"CDSView\"}},\"id\":\"1029\",\"type\":\"GlyphRenderer\"},{\"attributes\":{\"plot\":null,\"text\":\"Hola caracola\"},\"id\":\"1002\",\"type\":\"Title\"},{\"attributes\":{\"source\":{\"id\":\"1026\",\"type\":\"ColumnDataSource\"}},\"id\":\"1030\",\"type\":\"CDSView\"},{\"attributes\":{\"callback\":null},\"id\":\"1005\",\"type\":\"DataRange1d\"},{\"attributes\":{\"callback\":null},\"id\":\"1007\",\"type\":\"DataRange1d\"},{\"attributes\":{},\"id\":\"1035\",\"type\":\"BasicTickFormatter\"},{\"attributes\":{},\"id\":\"1009\",\"type\":\"LinearScale\"},{\"attributes\":{},\"id\":\"1036\",\"type\":\"Selection\"},{\"attributes\":{},\"id\":\"1011\",\"type\":\"LinearScale\"},{\"attributes\":{},\"id\":\"1037\",\"type\":\"UnionRenderers\"},{\"attributes\":{\"formatter\":{\"id\":\"1035\",\"type\":\"BasicTickFormatter\"},\"major_label_text_font_size\":{\"value\":\"20pt\"},\"plot\":{\"id\":\"1003\",\"subtype\":\"Figure\",\"type\":\"Plot\"},\"ticker\":{\"id\":\"1014\",\"type\":\"BasicTicker\"}},\"id\":\"1013\",\"type\":\"LinearAxis\"},{\"attributes\":{},\"id\":\"1014\",\"type\":\"BasicTicker\"},{\"attributes\":{\"fill_alpha\":{\"value\":0.1},\"fill_color\":{\"value\":\"#1f77b4\"},\"line_alpha\":{\"value\":0.1},\"line_color\":{\"value\":\"#1f77b4\"},\"size\":{\"units\":\"screen\",\"value\":20},\"x\":{\"field\":\"x\"},\"y\":{\"field\":\"y\"}},\"id\":\"1028\",\"type\":\"Diamond\"}],\"root_ids\":[\"1003\"]},\"title\":\"Bokeh Application\",\"version\":\"1.0.2\"}};\n",
       "  var render_items = [{\"docid\":\"3c1b12ea-5870-4e73-ab3c-113fe3da8390\",\"roots\":{\"1003\":\"55b1125d-085d-4c55-9261-d49d7f97ce9b\"}}];\n",
       "  root.Bokeh.embed.embed_items_notebook(docs_json, render_items);\n",
       "\n",
       "  }\n",
       "  if (root.Bokeh !== undefined) {\n",
       "    embed_document(root);\n",
       "  } else {\n",
       "    var attempts = 0;\n",
       "    var timer = setInterval(function(root) {\n",
       "      if (root.Bokeh !== undefined) {\n",
       "        embed_document(root);\n",
       "        clearInterval(timer);\n",
       "      }\n",
       "      attempts++;\n",
       "      if (attempts > 100) {\n",
       "        console.log(\"Bokeh: ERROR: Unable to run BokehJS code because BokehJS library is missing\");\n",
       "        clearInterval(timer);\n",
       "      }\n",
       "    }, 10, root)\n",
       "  }\n",
       "})(window);"
      ],
      "application/vnd.bokehjs_exec.v0+json": ""
     },
     "metadata": {
      "application/vnd.bokehjs_exec.v0+json": {
       "id": "1003"
      }
     },
     "output_type": "display_data"
    }
   ],
   "source": [
    "x = [1, 2, 3, 4, 5]\n",
    "y = [6, 7, 2, 4, 5]\n",
    "\n",
    "# create a new plot with default tools, using figure\n",
    "p = figure(plot_width=900, plot_height=500, tools=['pan'], title='Hola caracola')\n",
    "\n",
    "# add a circle renderer with a size\n",
    "p.diamond(x, y, size=20, fill_color='orange')\n",
    "\n",
    "# increase the axis' font size for the slides view\n",
    "p.xaxis.major_label_text_font_size = \"20pt\"\n",
    "p.yaxis.major_label_text_font_size = \"20pt\"\n",
    "\n",
    "show(p) # show the results"
   ]
  },
  {
   "cell_type": "markdown",
   "metadata": {
    "slideshow": {
     "slide_type": "subslide"
    }
   },
   "source": [
    "Plotting from data source"
   ]
  },
  {
   "cell_type": "code",
   "execution_count": 5,
   "metadata": {
    "scrolled": false,
    "slideshow": {
     "slide_type": "-"
    }
   },
   "outputs": [
    {
     "data": {
      "text/html": [
       "\n",
       "\n",
       "\n",
       "\n",
       "\n",
       "\n",
       "  <div class=\"bk-root\" id=\"3cca5fd8-92e6-4d3b-9e5f-afd184451edf\"></div>\n"
      ]
     },
     "metadata": {},
     "output_type": "display_data"
    },
    {
     "data": {
      "application/javascript": [
       "(function(root) {\n",
       "  function embed_document(root) {\n",
       "    \n",
       "  var docs_json = {\"a8c63b35-5f11-484b-8667-ee29905e3b43\":{\"roots\":{\"references\":[{\"attributes\":{\"below\":[{\"id\":\"1090\",\"type\":\"LinearAxis\"}],\"left\":[{\"id\":\"1095\",\"type\":\"LinearAxis\"}],\"plot_height\":400,\"plot_width\":900,\"renderers\":[{\"id\":\"1090\",\"type\":\"LinearAxis\"},{\"id\":\"1094\",\"type\":\"Grid\"},{\"id\":\"1095\",\"type\":\"LinearAxis\"},{\"id\":\"1099\",\"type\":\"Grid\"},{\"id\":\"1108\",\"type\":\"BoxAnnotation\"},{\"id\":\"1118\",\"type\":\"GlyphRenderer\"}],\"title\":{\"id\":\"1128\",\"type\":\"Title\"},\"toolbar\":{\"id\":\"1106\",\"type\":\"Toolbar\"},\"x_range\":{\"id\":\"1082\",\"type\":\"DataRange1d\"},\"x_scale\":{\"id\":\"1086\",\"type\":\"LinearScale\"},\"y_range\":{\"id\":\"1084\",\"type\":\"DataRange1d\"},\"y_scale\":{\"id\":\"1088\",\"type\":\"LinearScale\"}},\"id\":\"1081\",\"subtype\":\"Figure\",\"type\":\"Plot\"},{\"attributes\":{\"overlay\":{\"id\":\"1108\",\"type\":\"BoxAnnotation\"}},\"id\":\"1102\",\"type\":\"BoxZoomTool\"},{\"attributes\":{\"data_source\":{\"id\":\"1080\",\"type\":\"ColumnDataSource\"},\"glyph\":{\"id\":\"1116\",\"type\":\"Circle\"},\"hover_glyph\":null,\"muted_glyph\":null,\"nonselection_glyph\":{\"id\":\"1117\",\"type\":\"Circle\"},\"selection_glyph\":null,\"view\":{\"id\":\"1119\",\"type\":\"CDSView\"}},\"id\":\"1118\",\"type\":\"GlyphRenderer\"},{\"attributes\":{\"plot\":{\"id\":\"1081\",\"subtype\":\"Figure\",\"type\":\"Plot\"},\"ticker\":{\"id\":\"1091\",\"type\":\"BasicTicker\"}},\"id\":\"1094\",\"type\":\"Grid\"},{\"attributes\":{},\"id\":\"1105\",\"type\":\"HelpTool\"},{\"attributes\":{},\"id\":\"1091\",\"type\":\"BasicTicker\"},{\"attributes\":{\"source\":{\"id\":\"1080\",\"type\":\"ColumnDataSource\"}},\"id\":\"1119\",\"type\":\"CDSView\"},{\"attributes\":{\"plot\":null,\"text\":\"\"},\"id\":\"1128\",\"type\":\"Title\"},{\"attributes\":{},\"id\":\"1130\",\"type\":\"BasicTickFormatter\"},{\"attributes\":{\"formatter\":{\"id\":\"1132\",\"type\":\"BasicTickFormatter\"},\"major_label_text_font_size\":{\"value\":\"20pt\"},\"plot\":{\"id\":\"1081\",\"subtype\":\"Figure\",\"type\":\"Plot\"},\"ticker\":{\"id\":\"1091\",\"type\":\"BasicTicker\"}},\"id\":\"1090\",\"type\":\"LinearAxis\"},{\"attributes\":{\"callback\":null},\"id\":\"1084\",\"type\":\"DataRange1d\"},{\"attributes\":{},\"id\":\"1088\",\"type\":\"LinearScale\"},{\"attributes\":{},\"id\":\"1132\",\"type\":\"BasicTickFormatter\"},{\"attributes\":{},\"id\":\"1086\",\"type\":\"LinearScale\"},{\"attributes\":{\"fill_color\":{\"value\":\"#1f77b4\"},\"line_color\":{\"value\":\"#1f77b4\"},\"size\":{\"units\":\"screen\",\"value\":20},\"x\":{\"field\":\"x\"},\"y\":{\"field\":\"y\"}},\"id\":\"1116\",\"type\":\"Circle\"},{\"attributes\":{},\"id\":\"1134\",\"type\":\"Selection\"},{\"attributes\":{},\"id\":\"1135\",\"type\":\"UnionRenderers\"},{\"attributes\":{\"dimension\":1,\"plot\":{\"id\":\"1081\",\"subtype\":\"Figure\",\"type\":\"Plot\"},\"ticker\":{\"id\":\"1096\",\"type\":\"BasicTicker\"}},\"id\":\"1099\",\"type\":\"Grid\"},{\"attributes\":{\"callback\":null,\"data\":{\"x\":[1,2,3,4,5],\"y\":[6,7,2,4,5]},\"selected\":{\"id\":\"1134\",\"type\":\"Selection\"},\"selection_policy\":{\"id\":\"1135\",\"type\":\"UnionRenderers\"}},\"id\":\"1080\",\"type\":\"ColumnDataSource\"},{\"attributes\":{\"fill_alpha\":{\"value\":0.1},\"fill_color\":{\"value\":\"#1f77b4\"},\"line_alpha\":{\"value\":0.1},\"line_color\":{\"value\":\"#1f77b4\"},\"size\":{\"units\":\"screen\",\"value\":20},\"x\":{\"field\":\"x\"},\"y\":{\"field\":\"y\"}},\"id\":\"1117\",\"type\":\"Circle\"},{\"attributes\":{},\"id\":\"1096\",\"type\":\"BasicTicker\"},{\"attributes\":{\"callback\":null},\"id\":\"1082\",\"type\":\"DataRange1d\"},{\"attributes\":{\"formatter\":{\"id\":\"1130\",\"type\":\"BasicTickFormatter\"},\"major_label_text_font_size\":{\"value\":\"20pt\"},\"plot\":{\"id\":\"1081\",\"subtype\":\"Figure\",\"type\":\"Plot\"},\"ticker\":{\"id\":\"1096\",\"type\":\"BasicTicker\"}},\"id\":\"1095\",\"type\":\"LinearAxis\"},{\"attributes\":{},\"id\":\"1101\",\"type\":\"WheelZoomTool\"},{\"attributes\":{},\"id\":\"1100\",\"type\":\"PanTool\"},{\"attributes\":{\"active_drag\":\"auto\",\"active_inspect\":\"auto\",\"active_multi\":null,\"active_scroll\":\"auto\",\"active_tap\":\"auto\",\"tools\":[{\"id\":\"1100\",\"type\":\"PanTool\"},{\"id\":\"1101\",\"type\":\"WheelZoomTool\"},{\"id\":\"1102\",\"type\":\"BoxZoomTool\"},{\"id\":\"1103\",\"type\":\"SaveTool\"},{\"id\":\"1104\",\"type\":\"ResetTool\"},{\"id\":\"1105\",\"type\":\"HelpTool\"}]},\"id\":\"1106\",\"type\":\"Toolbar\"},{\"attributes\":{},\"id\":\"1104\",\"type\":\"ResetTool\"},{\"attributes\":{},\"id\":\"1103\",\"type\":\"SaveTool\"},{\"attributes\":{\"bottom_units\":\"screen\",\"fill_alpha\":{\"value\":0.5},\"fill_color\":{\"value\":\"lightgrey\"},\"left_units\":\"screen\",\"level\":\"overlay\",\"line_alpha\":{\"value\":1.0},\"line_color\":{\"value\":\"black\"},\"line_dash\":[4,4],\"line_width\":{\"value\":2},\"plot\":null,\"render_mode\":\"css\",\"right_units\":\"screen\",\"top_units\":\"screen\"},\"id\":\"1108\",\"type\":\"BoxAnnotation\"}],\"root_ids\":[\"1081\"]},\"title\":\"Bokeh Application\",\"version\":\"1.0.2\"}};\n",
       "  var render_items = [{\"docid\":\"a8c63b35-5f11-484b-8667-ee29905e3b43\",\"roots\":{\"1081\":\"3cca5fd8-92e6-4d3b-9e5f-afd184451edf\"}}];\n",
       "  root.Bokeh.embed.embed_items_notebook(docs_json, render_items);\n",
       "\n",
       "  }\n",
       "  if (root.Bokeh !== undefined) {\n",
       "    embed_document(root);\n",
       "  } else {\n",
       "    var attempts = 0;\n",
       "    var timer = setInterval(function(root) {\n",
       "      if (root.Bokeh !== undefined) {\n",
       "        embed_document(root);\n",
       "        clearInterval(timer);\n",
       "      }\n",
       "      attempts++;\n",
       "      if (attempts > 100) {\n",
       "        console.log(\"Bokeh: ERROR: Unable to run BokehJS code because BokehJS library is missing\");\n",
       "        clearInterval(timer);\n",
       "      }\n",
       "    }, 10, root)\n",
       "  }\n",
       "})(window);"
      ],
      "application/vnd.bokehjs_exec.v0+json": ""
     },
     "metadata": {
      "application/vnd.bokehjs_exec.v0+json": {
       "id": "1081"
      }
     },
     "output_type": "display_data"
    }
   ],
   "source": [
    "from bokeh.models import ColumnDataSource\n",
    "\n",
    "source = ColumnDataSource(data=dict(x=[1, 2, 3, 4, 5],\n",
    "                                    y=[6, 7, 2, 4, 5],))\n",
    "\n",
    "p = figure(plot_width=900, plot_height=400)\n",
    "\n",
    "# axis info are now strings and parameter source is required\n",
    "p.circle('x', 'y', size=20, source=source)\n",
    "\n",
    "p.xaxis.major_label_text_font_size = \"20pt\"\n",
    "p.yaxis.major_label_text_font_size = \"20pt\"\n",
    "\n",
    "show(p)"
   ]
  },
  {
   "cell_type": "markdown",
   "metadata": {
    "slideshow": {
     "slide_type": "subslide"
    }
   },
   "source": [
    "Labelling the data"
   ]
  },
  {
   "cell_type": "code",
   "execution_count": 6,
   "metadata": {
    "slideshow": {
     "slide_type": "-"
    }
   },
   "outputs": [
    {
     "data": {
      "text/html": [
       "\n",
       "\n",
       "\n",
       "\n",
       "\n",
       "\n",
       "  <div class=\"bk-root\" id=\"9fb585d9-1c49-4208-9935-455f0dd3676c\"></div>\n"
      ]
     },
     "metadata": {},
     "output_type": "display_data"
    },
    {
     "data": {
      "application/javascript": [
       "(function(root) {\n",
       "  function embed_document(root) {\n",
       "    \n",
       "  var docs_json = {\"3538ecd8-58a5-48db-9327-cec634b5febd\":{\"roots\":{\"references\":[{\"attributes\":{\"below\":[{\"id\":\"1200\",\"type\":\"LinearAxis\"}],\"left\":[{\"id\":\"1205\",\"type\":\"LinearAxis\"}],\"plot_height\":400,\"plot_width\":900,\"renderers\":[{\"id\":\"1200\",\"type\":\"LinearAxis\"},{\"id\":\"1204\",\"type\":\"Grid\"},{\"id\":\"1205\",\"type\":\"LinearAxis\"},{\"id\":\"1209\",\"type\":\"Grid\"},{\"id\":\"1218\",\"type\":\"BoxAnnotation\"},{\"id\":\"1228\",\"type\":\"GlyphRenderer\"},{\"id\":\"1230\",\"type\":\"LabelSet\"}],\"title\":{\"id\":\"1249\",\"type\":\"Title\"},\"toolbar\":{\"id\":\"1216\",\"type\":\"Toolbar\"},\"x_range\":{\"id\":\"1192\",\"type\":\"DataRange1d\"},\"x_scale\":{\"id\":\"1196\",\"type\":\"LinearScale\"},\"y_range\":{\"id\":\"1194\",\"type\":\"DataRange1d\"},\"y_scale\":{\"id\":\"1198\",\"type\":\"LinearScale\"}},\"id\":\"1191\",\"subtype\":\"Figure\",\"type\":\"Plot\"},{\"attributes\":{\"bottom_units\":\"screen\",\"fill_alpha\":{\"value\":0.5},\"fill_color\":{\"value\":\"lightgrey\"},\"left_units\":\"screen\",\"level\":\"overlay\",\"line_alpha\":{\"value\":1.0},\"line_color\":{\"value\":\"black\"},\"line_dash\":[4,4],\"line_width\":{\"value\":2},\"plot\":null,\"render_mode\":\"css\",\"right_units\":\"screen\",\"top_units\":\"screen\"},\"id\":\"1218\",\"type\":\"BoxAnnotation\"},{\"attributes\":{},\"id\":\"1201\",\"type\":\"BasicTicker\"},{\"attributes\":{\"fill_alpha\":{\"value\":0.1},\"fill_color\":{\"value\":\"#1f77b4\"},\"line_alpha\":{\"value\":0.1},\"line_color\":{\"value\":\"#1f77b4\"},\"size\":{\"units\":\"screen\",\"value\":20},\"x\":{\"field\":\"x\"},\"y\":{\"field\":\"y\"}},\"id\":\"1227\",\"type\":\"Circle\"},{\"attributes\":{\"data_source\":{\"id\":\"1190\",\"type\":\"ColumnDataSource\"},\"glyph\":{\"id\":\"1226\",\"type\":\"Circle\"},\"hover_glyph\":null,\"muted_glyph\":null,\"nonselection_glyph\":{\"id\":\"1227\",\"type\":\"Circle\"},\"selection_glyph\":null,\"view\":{\"id\":\"1229\",\"type\":\"CDSView\"}},\"id\":\"1228\",\"type\":\"GlyphRenderer\"},{\"attributes\":{\"formatter\":{\"id\":\"1251\",\"type\":\"BasicTickFormatter\"},\"plot\":{\"id\":\"1191\",\"subtype\":\"Figure\",\"type\":\"Plot\"},\"ticker\":{\"id\":\"1206\",\"type\":\"BasicTicker\"}},\"id\":\"1205\",\"type\":\"LinearAxis\"},{\"attributes\":{\"source\":{\"id\":\"1190\",\"type\":\"ColumnDataSource\"}},\"id\":\"1229\",\"type\":\"CDSView\"},{\"attributes\":{\"active_drag\":\"auto\",\"active_inspect\":\"auto\",\"active_multi\":null,\"active_scroll\":\"auto\",\"active_tap\":\"auto\",\"tools\":[{\"id\":\"1210\",\"type\":\"PanTool\"},{\"id\":\"1211\",\"type\":\"WheelZoomTool\"},{\"id\":\"1212\",\"type\":\"BoxZoomTool\"},{\"id\":\"1213\",\"type\":\"SaveTool\"},{\"id\":\"1214\",\"type\":\"ResetTool\"},{\"id\":\"1215\",\"type\":\"HelpTool\"}]},\"id\":\"1216\",\"type\":\"Toolbar\"},{\"attributes\":{\"plot\":null,\"text\":\"\"},\"id\":\"1249\",\"type\":\"Title\"},{\"attributes\":{\"formatter\":{\"id\":\"1253\",\"type\":\"BasicTickFormatter\"},\"plot\":{\"id\":\"1191\",\"subtype\":\"Figure\",\"type\":\"Plot\"},\"ticker\":{\"id\":\"1201\",\"type\":\"BasicTicker\"}},\"id\":\"1200\",\"type\":\"LinearAxis\"},{\"attributes\":{},\"id\":\"1251\",\"type\":\"BasicTickFormatter\"},{\"attributes\":{},\"id\":\"1198\",\"type\":\"LinearScale\"},{\"attributes\":{},\"id\":\"1256\",\"type\":\"UnionRenderers\"},{\"attributes\":{},\"id\":\"1253\",\"type\":\"BasicTickFormatter\"},{\"attributes\":{},\"id\":\"1196\",\"type\":\"LinearScale\"},{\"attributes\":{\"plot\":{\"id\":\"1191\",\"subtype\":\"Figure\",\"type\":\"Plot\"},\"source\":{\"id\":\"1190\",\"type\":\"ColumnDataSource\"},\"text\":{\"field\":\"names\"},\"text_font_size\":{\"value\":\"20pt\"},\"x\":{\"field\":\"x\"},\"x_offset\":{\"value\":5},\"y\":{\"field\":\"y\"},\"y_offset\":{\"value\":2}},\"id\":\"1230\",\"type\":\"LabelSet\"},{\"attributes\":{\"callback\":null},\"id\":\"1194\",\"type\":\"DataRange1d\"},{\"attributes\":{},\"id\":\"1206\",\"type\":\"BasicTicker\"},{\"attributes\":{},\"id\":\"1215\",\"type\":\"HelpTool\"},{\"attributes\":{},\"id\":\"1213\",\"type\":\"SaveTool\"},{\"attributes\":{\"callback\":null,\"data\":{\"names\":[\"a\",\"b\",\"c\",\"d\",\"e\"],\"x\":[1,2,3,4,5],\"y\":[6,7,2,4,5]},\"selected\":{\"id\":\"1255\",\"type\":\"Selection\"},\"selection_policy\":{\"id\":\"1256\",\"type\":\"UnionRenderers\"}},\"id\":\"1190\",\"type\":\"ColumnDataSource\"},{\"attributes\":{},\"id\":\"1214\",\"type\":\"ResetTool\"},{\"attributes\":{\"callback\":null},\"id\":\"1192\",\"type\":\"DataRange1d\"},{\"attributes\":{\"overlay\":{\"id\":\"1218\",\"type\":\"BoxAnnotation\"}},\"id\":\"1212\",\"type\":\"BoxZoomTool\"},{\"attributes\":{},\"id\":\"1255\",\"type\":\"Selection\"},{\"attributes\":{},\"id\":\"1210\",\"type\":\"PanTool\"},{\"attributes\":{},\"id\":\"1211\",\"type\":\"WheelZoomTool\"},{\"attributes\":{\"plot\":{\"id\":\"1191\",\"subtype\":\"Figure\",\"type\":\"Plot\"},\"ticker\":{\"id\":\"1201\",\"type\":\"BasicTicker\"}},\"id\":\"1204\",\"type\":\"Grid\"},{\"attributes\":{\"fill_color\":{\"value\":\"#1f77b4\"},\"line_color\":{\"value\":\"#1f77b4\"},\"size\":{\"units\":\"screen\",\"value\":20},\"x\":{\"field\":\"x\"},\"y\":{\"field\":\"y\"}},\"id\":\"1226\",\"type\":\"Circle\"},{\"attributes\":{\"dimension\":1,\"plot\":{\"id\":\"1191\",\"subtype\":\"Figure\",\"type\":\"Plot\"},\"ticker\":{\"id\":\"1206\",\"type\":\"BasicTicker\"}},\"id\":\"1209\",\"type\":\"Grid\"}],\"root_ids\":[\"1191\"]},\"title\":\"Bokeh Application\",\"version\":\"1.0.2\"}};\n",
       "  var render_items = [{\"docid\":\"3538ecd8-58a5-48db-9327-cec634b5febd\",\"roots\":{\"1191\":\"9fb585d9-1c49-4208-9935-455f0dd3676c\"}}];\n",
       "  root.Bokeh.embed.embed_items_notebook(docs_json, render_items);\n",
       "\n",
       "  }\n",
       "  if (root.Bokeh !== undefined) {\n",
       "    embed_document(root);\n",
       "  } else {\n",
       "    var attempts = 0;\n",
       "    var timer = setInterval(function(root) {\n",
       "      if (root.Bokeh !== undefined) {\n",
       "        embed_document(root);\n",
       "        clearInterval(timer);\n",
       "      }\n",
       "      attempts++;\n",
       "      if (attempts > 100) {\n",
       "        console.log(\"Bokeh: ERROR: Unable to run BokehJS code because BokehJS library is missing\");\n",
       "        clearInterval(timer);\n",
       "      }\n",
       "    }, 10, root)\n",
       "  }\n",
       "})(window);"
      ],
      "application/vnd.bokehjs_exec.v0+json": ""
     },
     "metadata": {
      "application/vnd.bokehjs_exec.v0+json": {
       "id": "1191"
      }
     },
     "output_type": "display_data"
    }
   ],
   "source": [
    "from bokeh.models import LabelSet\n",
    "\n",
    "source = ColumnDataSource(data=dict(x=[1, 2, 3, 4, 5],\n",
    "                                    y=[6, 7, 2, 4, 5],\n",
    "                                    names=['a', 'b', 'c', 'd', 'e']))  # data for labels\n",
    "\n",
    "p = figure(plot_width=900, plot_height=400)\n",
    "p.circle(x='x', y='y', size=20, source=source)\n",
    "\n",
    "# new labelset\n",
    "labels = LabelSet(x='x', y='y', text='names', \n",
    "                  x_offset=5, y_offset=2, text_font_size=\"20pt\", \n",
    "                  source=source)\n",
    "p.add_layout(labels)\n",
    "\n",
    "show(p)"
   ]
  },
  {
   "cell_type": "markdown",
   "metadata": {
    "slideshow": {
     "slide_type": "subslide"
    }
   },
   "source": [
    "Data ranges"
   ]
  },
  {
   "cell_type": "code",
   "execution_count": 7,
   "metadata": {
    "slideshow": {
     "slide_type": "-"
    }
   },
   "outputs": [
    {
     "data": {
      "text/html": [
       "\n",
       "\n",
       "\n",
       "\n",
       "\n",
       "\n",
       "  <div class=\"bk-root\" id=\"6d0c9fba-9c86-457d-beae-93c276329984\"></div>\n"
      ]
     },
     "metadata": {},
     "output_type": "display_data"
    },
    {
     "data": {
      "application/javascript": [
       "(function(root) {\n",
       "  function embed_document(root) {\n",
       "    \n",
       "  var docs_json = {\"ff5475de-b2b7-4967-ab4d-cb26cc77f269\":{\"roots\":{\"references\":[{\"attributes\":{\"below\":[{\"id\":\"1320\",\"type\":\"LinearAxis\"}],\"left\":[{\"id\":\"1325\",\"type\":\"LinearAxis\"}],\"plot_height\":400,\"plot_width\":900,\"renderers\":[{\"id\":\"1320\",\"type\":\"LinearAxis\"},{\"id\":\"1324\",\"type\":\"Grid\"},{\"id\":\"1325\",\"type\":\"LinearAxis\"},{\"id\":\"1329\",\"type\":\"Grid\"},{\"id\":\"1338\",\"type\":\"BoxAnnotation\"},{\"id\":\"1348\",\"type\":\"GlyphRenderer\"},{\"id\":\"1350\",\"type\":\"LabelSet\"}],\"title\":{\"id\":\"1379\",\"type\":\"Title\"},\"toolbar\":{\"id\":\"1336\",\"type\":\"Toolbar\"},\"x_range\":{\"id\":\"1312\",\"type\":\"DataRange1d\"},\"x_scale\":{\"id\":\"1316\",\"type\":\"LinearScale\"},\"y_range\":{\"id\":\"1352\",\"type\":\"Range1d\"},\"y_scale\":{\"id\":\"1318\",\"type\":\"LinearScale\"}},\"id\":\"1311\",\"subtype\":\"Figure\",\"type\":\"Plot\"},{\"attributes\":{\"formatter\":{\"id\":\"1383\",\"type\":\"BasicTickFormatter\"},\"plot\":{\"id\":\"1311\",\"subtype\":\"Figure\",\"type\":\"Plot\"},\"ticker\":{\"id\":\"1321\",\"type\":\"BasicTicker\"}},\"id\":\"1320\",\"type\":\"LinearAxis\"},{\"attributes\":{\"bottom_units\":\"screen\",\"fill_alpha\":{\"value\":0.5},\"fill_color\":{\"value\":\"lightgrey\"},\"left_units\":\"screen\",\"level\":\"overlay\",\"line_alpha\":{\"value\":1.0},\"line_color\":{\"value\":\"black\"},\"line_dash\":[4,4],\"line_width\":{\"value\":2},\"plot\":null,\"render_mode\":\"css\",\"right_units\":\"screen\",\"top_units\":\"screen\"},\"id\":\"1338\",\"type\":\"BoxAnnotation\"},{\"attributes\":{\"plot\":{\"id\":\"1311\",\"subtype\":\"Figure\",\"type\":\"Plot\"},\"ticker\":{\"id\":\"1321\",\"type\":\"BasicTicker\"}},\"id\":\"1324\",\"type\":\"Grid\"},{\"attributes\":{\"plot\":{\"id\":\"1311\",\"subtype\":\"Figure\",\"type\":\"Plot\"},\"source\":{\"id\":\"1190\",\"type\":\"ColumnDataSource\"},\"text\":{\"field\":\"names\"},\"text_font_size\":{\"value\":\"20pt\"},\"x\":{\"field\":\"x\"},\"x_offset\":{\"value\":5},\"y\":{\"field\":\"y\"},\"y_offset\":{\"value\":2}},\"id\":\"1350\",\"type\":\"LabelSet\"},{\"attributes\":{\"overlay\":{\"id\":\"1338\",\"type\":\"BoxAnnotation\"}},\"id\":\"1332\",\"type\":\"BoxZoomTool\"},{\"attributes\":{},\"id\":\"1331\",\"type\":\"WheelZoomTool\"},{\"attributes\":{},\"id\":\"1383\",\"type\":\"BasicTickFormatter\"},{\"attributes\":{},\"id\":\"1330\",\"type\":\"PanTool\"},{\"attributes\":{},\"id\":\"1316\",\"type\":\"LinearScale\"},{\"attributes\":{\"active_drag\":\"auto\",\"active_inspect\":\"auto\",\"active_multi\":null,\"active_scroll\":\"auto\",\"active_tap\":\"auto\",\"tools\":[{\"id\":\"1330\",\"type\":\"PanTool\"},{\"id\":\"1331\",\"type\":\"WheelZoomTool\"},{\"id\":\"1332\",\"type\":\"BoxZoomTool\"},{\"id\":\"1333\",\"type\":\"SaveTool\"},{\"id\":\"1334\",\"type\":\"ResetTool\"},{\"id\":\"1335\",\"type\":\"HelpTool\"}]},\"id\":\"1336\",\"type\":\"Toolbar\"},{\"attributes\":{\"fill_color\":{\"value\":\"#1f77b4\"},\"line_color\":{\"value\":\"#1f77b4\"},\"size\":{\"units\":\"screen\",\"value\":20},\"x\":{\"field\":\"x\"},\"y\":{\"field\":\"y\"}},\"id\":\"1346\",\"type\":\"Circle\"},{\"attributes\":{},\"id\":\"1326\",\"type\":\"BasicTicker\"},{\"attributes\":{},\"id\":\"1256\",\"type\":\"UnionRenderers\"},{\"attributes\":{\"formatter\":{\"id\":\"1381\",\"type\":\"BasicTickFormatter\"},\"plot\":{\"id\":\"1311\",\"subtype\":\"Figure\",\"type\":\"Plot\"},\"ticker\":{\"id\":\"1326\",\"type\":\"BasicTicker\"}},\"id\":\"1325\",\"type\":\"LinearAxis\"},{\"attributes\":{},\"id\":\"1321\",\"type\":\"BasicTicker\"},{\"attributes\":{},\"id\":\"1381\",\"type\":\"BasicTickFormatter\"},{\"attributes\":{\"data_source\":{\"id\":\"1190\",\"type\":\"ColumnDataSource\"},\"glyph\":{\"id\":\"1346\",\"type\":\"Circle\"},\"hover_glyph\":null,\"muted_glyph\":null,\"nonselection_glyph\":{\"id\":\"1347\",\"type\":\"Circle\"},\"selection_glyph\":null,\"view\":{\"id\":\"1349\",\"type\":\"CDSView\"}},\"id\":\"1348\",\"type\":\"GlyphRenderer\"},{\"attributes\":{\"dimension\":1,\"plot\":{\"id\":\"1311\",\"subtype\":\"Figure\",\"type\":\"Plot\"},\"ticker\":{\"id\":\"1326\",\"type\":\"BasicTicker\"}},\"id\":\"1329\",\"type\":\"Grid\"},{\"attributes\":{\"callback\":null,\"end\":8},\"id\":\"1352\",\"type\":\"Range1d\"},{\"attributes\":{\"callback\":null,\"data\":{\"names\":[\"a\",\"b\",\"c\",\"d\",\"e\"],\"x\":[1,2,3,4,5],\"y\":[6,7,2,4,5]},\"selected\":{\"id\":\"1255\",\"type\":\"Selection\"},\"selection_policy\":{\"id\":\"1256\",\"type\":\"UnionRenderers\"}},\"id\":\"1190\",\"type\":\"ColumnDataSource\"},{\"attributes\":{\"plot\":null,\"text\":\"\"},\"id\":\"1379\",\"type\":\"Title\"},{\"attributes\":{},\"id\":\"1333\",\"type\":\"SaveTool\"},{\"attributes\":{\"source\":{\"id\":\"1190\",\"type\":\"ColumnDataSource\"}},\"id\":\"1349\",\"type\":\"CDSView\"},{\"attributes\":{},\"id\":\"1255\",\"type\":\"Selection\"},{\"attributes\":{},\"id\":\"1334\",\"type\":\"ResetTool\"},{\"attributes\":{\"callback\":null},\"id\":\"1312\",\"type\":\"DataRange1d\"},{\"attributes\":{},\"id\":\"1335\",\"type\":\"HelpTool\"},{\"attributes\":{},\"id\":\"1318\",\"type\":\"LinearScale\"},{\"attributes\":{\"fill_alpha\":{\"value\":0.1},\"fill_color\":{\"value\":\"#1f77b4\"},\"line_alpha\":{\"value\":0.1},\"line_color\":{\"value\":\"#1f77b4\"},\"size\":{\"units\":\"screen\",\"value\":20},\"x\":{\"field\":\"x\"},\"y\":{\"field\":\"y\"}},\"id\":\"1347\",\"type\":\"Circle\"}],\"root_ids\":[\"1311\"]},\"title\":\"Bokeh Application\",\"version\":\"1.0.2\"}};\n",
       "  var render_items = [{\"docid\":\"ff5475de-b2b7-4967-ab4d-cb26cc77f269\",\"roots\":{\"1311\":\"6d0c9fba-9c86-457d-beae-93c276329984\"}}];\n",
       "  root.Bokeh.embed.embed_items_notebook(docs_json, render_items);\n",
       "\n",
       "  }\n",
       "  if (root.Bokeh !== undefined) {\n",
       "    embed_document(root);\n",
       "  } else {\n",
       "    var attempts = 0;\n",
       "    var timer = setInterval(function(root) {\n",
       "      if (root.Bokeh !== undefined) {\n",
       "        embed_document(root);\n",
       "        clearInterval(timer);\n",
       "      }\n",
       "      attempts++;\n",
       "      if (attempts > 100) {\n",
       "        console.log(\"Bokeh: ERROR: Unable to run BokehJS code because BokehJS library is missing\");\n",
       "        clearInterval(timer);\n",
       "      }\n",
       "    }, 10, root)\n",
       "  }\n",
       "})(window);"
      ],
      "application/vnd.bokehjs_exec.v0+json": ""
     },
     "metadata": {
      "application/vnd.bokehjs_exec.v0+json": {
       "id": "1311"
      }
     },
     "output_type": "display_data"
    }
   ],
   "source": [
    "from bokeh.models import Range1d\n",
    "\n",
    "p = figure(plot_width=900, plot_height=400)\n",
    "\n",
    "p.circle(x='x', y='y', size=20, source=source)\n",
    "\n",
    "labels = LabelSet(x='x', y='y', text='names', \n",
    "                  x_offset=5, y_offset=2, text_font_size=\"20pt\", \n",
    "                  source=source)\n",
    "p.add_layout(labels)\n",
    "\n",
    "# setting the y range to 8\n",
    "p.y_range = Range1d(0, 8)\n",
    "\n",
    "show(p)"
   ]
  },
  {
   "cell_type": "markdown",
   "metadata": {
    "slideshow": {
     "slide_type": "subslide"
    }
   },
   "source": [
    "# Lines"
   ]
  },
  {
   "cell_type": "code",
   "execution_count": 8,
   "metadata": {
    "slideshow": {
     "slide_type": "-"
    }
   },
   "outputs": [
    {
     "data": {
      "text/html": [
       "\n",
       "\n",
       "\n",
       "\n",
       "\n",
       "\n",
       "  <div class=\"bk-root\" id=\"17475474-987b-4fd4-bfd2-e118b55cdd67\"></div>\n"
      ]
     },
     "metadata": {},
     "output_type": "display_data"
    },
    {
     "data": {
      "application/javascript": [
       "(function(root) {\n",
       "  function embed_document(root) {\n",
       "    \n",
       "  var docs_json = {\"2ee955b3-eed6-460d-b741-130bf4e6cade\":{\"roots\":{\"references\":[{\"attributes\":{\"below\":[{\"id\":\"1450\",\"type\":\"LinearAxis\"}],\"left\":[{\"id\":\"1455\",\"type\":\"LinearAxis\"}],\"plot_height\":400,\"plot_width\":900,\"renderers\":[{\"id\":\"1450\",\"type\":\"LinearAxis\"},{\"id\":\"1454\",\"type\":\"Grid\"},{\"id\":\"1455\",\"type\":\"LinearAxis\"},{\"id\":\"1459\",\"type\":\"Grid\"},{\"id\":\"1468\",\"type\":\"BoxAnnotation\"},{\"id\":\"1478\",\"type\":\"GlyphRenderer\"}],\"title\":{\"id\":\"1515\",\"type\":\"Title\"},\"toolbar\":{\"id\":\"1466\",\"type\":\"Toolbar\"},\"x_range\":{\"id\":\"1442\",\"type\":\"DataRange1d\"},\"x_scale\":{\"id\":\"1446\",\"type\":\"LinearScale\"},\"y_range\":{\"id\":\"1444\",\"type\":\"DataRange1d\"},\"y_scale\":{\"id\":\"1448\",\"type\":\"LinearScale\"}},\"id\":\"1441\",\"subtype\":\"Figure\",\"type\":\"Plot\"},{\"attributes\":{\"source\":{\"id\":\"1475\",\"type\":\"ColumnDataSource\"}},\"id\":\"1479\",\"type\":\"CDSView\"},{\"attributes\":{},\"id\":\"1451\",\"type\":\"BasicTicker\"},{\"attributes\":{\"plot\":{\"id\":\"1441\",\"subtype\":\"Figure\",\"type\":\"Plot\"},\"ticker\":{\"id\":\"1451\",\"type\":\"BasicTicker\"}},\"id\":\"1454\",\"type\":\"Grid\"},{\"attributes\":{\"formatter\":{\"id\":\"1517\",\"type\":\"BasicTickFormatter\"},\"major_label_text_font_size\":{\"value\":\"20pt\"},\"plot\":{\"id\":\"1441\",\"subtype\":\"Figure\",\"type\":\"Plot\"},\"ticker\":{\"id\":\"1456\",\"type\":\"BasicTicker\"}},\"id\":\"1455\",\"type\":\"LinearAxis\"},{\"attributes\":{},\"id\":\"1517\",\"type\":\"BasicTickFormatter\"},{\"attributes\":{},\"id\":\"1456\",\"type\":\"BasicTicker\"},{\"attributes\":{},\"id\":\"1519\",\"type\":\"BasicTickFormatter\"},{\"attributes\":{\"dimension\":1,\"plot\":{\"id\":\"1441\",\"subtype\":\"Figure\",\"type\":\"Plot\"},\"ticker\":{\"id\":\"1456\",\"type\":\"BasicTicker\"}},\"id\":\"1459\",\"type\":\"Grid\"},{\"attributes\":{},\"id\":\"1521\",\"type\":\"Selection\"},{\"attributes\":{\"formatter\":{\"id\":\"1519\",\"type\":\"BasicTickFormatter\"},\"major_label_text_font_size\":{\"value\":\"20pt\"},\"plot\":{\"id\":\"1441\",\"subtype\":\"Figure\",\"type\":\"Plot\"},\"ticker\":{\"id\":\"1451\",\"type\":\"BasicTicker\"}},\"id\":\"1450\",\"type\":\"LinearAxis\"},{\"attributes\":{\"line_alpha\":{\"value\":0.1},\"line_color\":{\"value\":\"#1f77b4\"},\"line_width\":{\"value\":2},\"mode\":\"center\",\"x\":{\"field\":\"x\"},\"y\":{\"field\":\"y\"}},\"id\":\"1477\",\"type\":\"Step\"},{\"attributes\":{},\"id\":\"1522\",\"type\":\"UnionRenderers\"},{\"attributes\":{},\"id\":\"1446\",\"type\":\"LinearScale\"},{\"attributes\":{\"plot\":null,\"text\":\"\"},\"id\":\"1515\",\"type\":\"Title\"},{\"attributes\":{\"line_color\":{\"value\":\"#1f77b4\"},\"line_width\":{\"value\":2},\"mode\":\"center\",\"x\":{\"field\":\"x\"},\"y\":{\"field\":\"y\"}},\"id\":\"1476\",\"type\":\"Step\"},{\"attributes\":{\"active_drag\":\"auto\",\"active_inspect\":\"auto\",\"active_multi\":null,\"active_scroll\":\"auto\",\"active_tap\":\"auto\",\"tools\":[{\"id\":\"1460\",\"type\":\"PanTool\"},{\"id\":\"1461\",\"type\":\"WheelZoomTool\"},{\"id\":\"1462\",\"type\":\"BoxZoomTool\"},{\"id\":\"1463\",\"type\":\"SaveTool\"},{\"id\":\"1464\",\"type\":\"ResetTool\"},{\"id\":\"1465\",\"type\":\"HelpTool\"}]},\"id\":\"1466\",\"type\":\"Toolbar\"},{\"attributes\":{},\"id\":\"1460\",\"type\":\"PanTool\"},{\"attributes\":{},\"id\":\"1461\",\"type\":\"WheelZoomTool\"},{\"attributes\":{},\"id\":\"1448\",\"type\":\"LinearScale\"},{\"attributes\":{\"overlay\":{\"id\":\"1468\",\"type\":\"BoxAnnotation\"}},\"id\":\"1462\",\"type\":\"BoxZoomTool\"},{\"attributes\":{},\"id\":\"1463\",\"type\":\"SaveTool\"},{\"attributes\":{},\"id\":\"1464\",\"type\":\"ResetTool\"},{\"attributes\":{\"callback\":null},\"id\":\"1444\",\"type\":\"DataRange1d\"},{\"attributes\":{},\"id\":\"1465\",\"type\":\"HelpTool\"},{\"attributes\":{\"bottom_units\":\"screen\",\"fill_alpha\":{\"value\":0.5},\"fill_color\":{\"value\":\"lightgrey\"},\"left_units\":\"screen\",\"level\":\"overlay\",\"line_alpha\":{\"value\":1.0},\"line_color\":{\"value\":\"black\"},\"line_dash\":[4,4],\"line_width\":{\"value\":2},\"plot\":null,\"render_mode\":\"css\",\"right_units\":\"screen\",\"top_units\":\"screen\"},\"id\":\"1468\",\"type\":\"BoxAnnotation\"},{\"attributes\":{\"callback\":null},\"id\":\"1442\",\"type\":\"DataRange1d\"},{\"attributes\":{\"data_source\":{\"id\":\"1475\",\"type\":\"ColumnDataSource\"},\"glyph\":{\"id\":\"1476\",\"type\":\"Step\"},\"hover_glyph\":null,\"muted_glyph\":null,\"nonselection_glyph\":{\"id\":\"1477\",\"type\":\"Step\"},\"selection_glyph\":null,\"view\":{\"id\":\"1479\",\"type\":\"CDSView\"}},\"id\":\"1478\",\"type\":\"GlyphRenderer\"},{\"attributes\":{\"callback\":null,\"data\":{\"x\":[1,2,3,4,5],\"y\":[6,7,2,4,5]},\"selected\":{\"id\":\"1521\",\"type\":\"Selection\"},\"selection_policy\":{\"id\":\"1522\",\"type\":\"UnionRenderers\"}},\"id\":\"1475\",\"type\":\"ColumnDataSource\"}],\"root_ids\":[\"1441\"]},\"title\":\"Bokeh Application\",\"version\":\"1.0.2\"}};\n",
       "  var render_items = [{\"docid\":\"2ee955b3-eed6-460d-b741-130bf4e6cade\",\"roots\":{\"1441\":\"17475474-987b-4fd4-bfd2-e118b55cdd67\"}}];\n",
       "  root.Bokeh.embed.embed_items_notebook(docs_json, render_items);\n",
       "\n",
       "  }\n",
       "  if (root.Bokeh !== undefined) {\n",
       "    embed_document(root);\n",
       "  } else {\n",
       "    var attempts = 0;\n",
       "    var timer = setInterval(function(root) {\n",
       "      if (root.Bokeh !== undefined) {\n",
       "        embed_document(root);\n",
       "        clearInterval(timer);\n",
       "      }\n",
       "      attempts++;\n",
       "      if (attempts > 100) {\n",
       "        console.log(\"Bokeh: ERROR: Unable to run BokehJS code because BokehJS library is missing\");\n",
       "        clearInterval(timer);\n",
       "      }\n",
       "    }, 10, root)\n",
       "  }\n",
       "})(window);"
      ],
      "application/vnd.bokehjs_exec.v0+json": ""
     },
     "metadata": {
      "application/vnd.bokehjs_exec.v0+json": {
       "id": "1441"
      }
     },
     "output_type": "display_data"
    }
   ],
   "source": [
    "x = [1, 2, 3, 4, 5]\n",
    "y = [6, 7, 2, 4, 5]\n",
    "\n",
    "p = figure(plot_width=900, plot_height=400)\n",
    "\n",
    "# add a line renderer\n",
    "p.step(x, y, line_width=2, mode='center')\n",
    "\n",
    "p.xaxis.major_label_text_font_size = \"20pt\"\n",
    "p.yaxis.major_label_text_font_size = \"20pt\"\n",
    "\n",
    "show(p)"
   ]
  },
  {
   "cell_type": "code",
   "execution_count": 9,
   "metadata": {
    "slideshow": {
     "slide_type": "notes"
    }
   },
   "outputs": [
    {
     "data": {
      "text/html": [
       "<div style=\"display: table;\"><div style=\"display: table-row;\"><div style=\"display: table-cell;\"><b title=\"bokeh.models.renderers.GlyphRenderer\">GlyphRenderer</b>(</div><div style=\"display: table-cell;\">id&nbsp;=&nbsp;'1580', <span id=\"1628\" style=\"cursor: pointer;\">&hellip;)</span></div></div><div class=\"1627\" style=\"display: none;\"><div style=\"display: table-cell;\"></div><div style=\"display: table-cell;\">data_source&nbsp;=&nbsp;ColumnDataSource(id='1577', ...),</div></div><div class=\"1627\" style=\"display: none;\"><div style=\"display: table-cell;\"></div><div style=\"display: table-cell;\">glyph&nbsp;=&nbsp;Step(id='1578', ...),</div></div><div class=\"1627\" style=\"display: none;\"><div style=\"display: table-cell;\"></div><div style=\"display: table-cell;\">hover_glyph&nbsp;=&nbsp;None,</div></div><div class=\"1627\" style=\"display: none;\"><div style=\"display: table-cell;\"></div><div style=\"display: table-cell;\">js_event_callbacks&nbsp;=&nbsp;{},</div></div><div class=\"1627\" style=\"display: none;\"><div style=\"display: table-cell;\"></div><div style=\"display: table-cell;\">js_property_callbacks&nbsp;=&nbsp;{},</div></div><div class=\"1627\" style=\"display: none;\"><div style=\"display: table-cell;\"></div><div style=\"display: table-cell;\">level&nbsp;=&nbsp;'glyph',</div></div><div class=\"1627\" style=\"display: none;\"><div style=\"display: table-cell;\"></div><div style=\"display: table-cell;\">muted&nbsp;=&nbsp;False,</div></div><div class=\"1627\" style=\"display: none;\"><div style=\"display: table-cell;\"></div><div style=\"display: table-cell;\">muted_glyph&nbsp;=&nbsp;None,</div></div><div class=\"1627\" style=\"display: none;\"><div style=\"display: table-cell;\"></div><div style=\"display: table-cell;\">name&nbsp;=&nbsp;None,</div></div><div class=\"1627\" style=\"display: none;\"><div style=\"display: table-cell;\"></div><div style=\"display: table-cell;\">nonselection_glyph&nbsp;=&nbsp;Step(id='1579', ...),</div></div><div class=\"1627\" style=\"display: none;\"><div style=\"display: table-cell;\"></div><div style=\"display: table-cell;\">selection_glyph&nbsp;=&nbsp;None,</div></div><div class=\"1627\" style=\"display: none;\"><div style=\"display: table-cell;\"></div><div style=\"display: table-cell;\">subscribed_events&nbsp;=&nbsp;[],</div></div><div class=\"1627\" style=\"display: none;\"><div style=\"display: table-cell;\"></div><div style=\"display: table-cell;\">tags&nbsp;=&nbsp;[],</div></div><div class=\"1627\" style=\"display: none;\"><div style=\"display: table-cell;\"></div><div style=\"display: table-cell;\">view&nbsp;=&nbsp;CDSView(id='1581', ...),</div></div><div class=\"1627\" style=\"display: none;\"><div style=\"display: table-cell;\"></div><div style=\"display: table-cell;\">visible&nbsp;=&nbsp;True,</div></div><div class=\"1627\" style=\"display: none;\"><div style=\"display: table-cell;\"></div><div style=\"display: table-cell;\">x_range_name&nbsp;=&nbsp;'default',</div></div><div class=\"1627\" style=\"display: none;\"><div style=\"display: table-cell;\"></div><div style=\"display: table-cell;\">y_range_name&nbsp;=&nbsp;'default')</div></div></div>\n",
       "<script>\n",
       "(function() {\n",
       "  var expanded = false;\n",
       "  var ellipsis = document.getElementById(\"1628\");\n",
       "  ellipsis.addEventListener(\"click\", function() {\n",
       "    var rows = document.getElementsByClassName(\"1627\");\n",
       "    for (var i = 0; i < rows.length; i++) {\n",
       "      var el = rows[i];\n",
       "      el.style.display = expanded ? \"none\" : \"table-row\";\n",
       "    }\n",
       "    ellipsis.innerHTML = expanded ? \"&hellip;)\" : \"&lsaquo;&lsaquo;&lsaquo;\";\n",
       "    expanded = !expanded;\n",
       "  });\n",
       "})();\n",
       "</script>\n"
      ],
      "text/plain": [
       "GlyphRenderer(id='1580', ...)"
      ]
     },
     "execution_count": 9,
     "metadata": {},
     "output_type": "execute_result"
    }
   ],
   "source": [
    "p.step(x, y, line_width=2, mode=\"center\")"
   ]
  },
  {
   "cell_type": "markdown",
   "metadata": {
    "slideshow": {
     "slide_type": "subslide"
    }
   },
   "source": [
    "## Bars"
   ]
  },
  {
   "cell_type": "markdown",
   "metadata": {},
   "source": [
    "Basic plotting"
   ]
  },
  {
   "cell_type": "code",
   "execution_count": 10,
   "metadata": {
    "scrolled": false,
    "slideshow": {
     "slide_type": "-"
    }
   },
   "outputs": [
    {
     "data": {
      "text/html": [
       "\n",
       "\n",
       "\n",
       "\n",
       "\n",
       "\n",
       "  <div class=\"bk-root\" id=\"71b59f76-a52e-4da1-b8aa-9cad732c39d7\"></div>\n"
      ]
     },
     "metadata": {},
     "output_type": "display_data"
    },
    {
     "data": {
      "application/javascript": [
       "(function(root) {\n",
       "  function embed_document(root) {\n",
       "    \n",
       "  var docs_json = {\"0a313337-6916-4d36-9ed7-815a17bbd4e5\":{\"roots\":{\"references\":[{\"attributes\":{\"below\":[{\"id\":\"1638\",\"type\":\"LinearAxis\"}],\"left\":[{\"id\":\"1643\",\"type\":\"LinearAxis\"}],\"plot_height\":400,\"plot_width\":900,\"renderers\":[{\"id\":\"1638\",\"type\":\"LinearAxis\"},{\"id\":\"1642\",\"type\":\"Grid\"},{\"id\":\"1643\",\"type\":\"LinearAxis\"},{\"id\":\"1647\",\"type\":\"Grid\"},{\"id\":\"1656\",\"type\":\"BoxAnnotation\"},{\"id\":\"1666\",\"type\":\"GlyphRenderer\"}],\"title\":{\"id\":\"1714\",\"type\":\"Title\"},\"toolbar\":{\"id\":\"1654\",\"type\":\"Toolbar\"},\"x_range\":{\"id\":\"1630\",\"type\":\"DataRange1d\"},\"x_scale\":{\"id\":\"1634\",\"type\":\"LinearScale\"},\"y_range\":{\"id\":\"1632\",\"type\":\"DataRange1d\"},\"y_scale\":{\"id\":\"1636\",\"type\":\"LinearScale\"}},\"id\":\"1629\",\"subtype\":\"Figure\",\"type\":\"Plot\"},{\"attributes\":{},\"id\":\"1649\",\"type\":\"WheelZoomTool\"},{\"attributes\":{\"overlay\":{\"id\":\"1656\",\"type\":\"BoxAnnotation\"}},\"id\":\"1650\",\"type\":\"BoxZoomTool\"},{\"attributes\":{},\"id\":\"1651\",\"type\":\"SaveTool\"},{\"attributes\":{\"fill_alpha\":{\"value\":0.1},\"fill_color\":{\"value\":\"#1f77b4\"},\"line_alpha\":{\"value\":0.1},\"line_color\":{\"value\":\"#1f77b4\"},\"top\":{\"field\":\"top\"},\"width\":{\"value\":0.9},\"x\":{\"field\":\"x\"}},\"id\":\"1665\",\"type\":\"VBar\"},{\"attributes\":{},\"id\":\"1652\",\"type\":\"ResetTool\"},{\"attributes\":{\"callback\":null,\"data\":{\"fill_color\":[\"#99d594\",\"#ffffbf\",\"#fc8d59\"],\"line_color\":[\"#99d594\",\"#ffffbf\",\"#fc8d59\"],\"top\":[1.2,2.5,3.7],\"x\":[1,2,3]},\"selected\":{\"id\":\"1720\",\"type\":\"Selection\"},\"selection_policy\":{\"id\":\"1721\",\"type\":\"UnionRenderers\"}},\"id\":\"1663\",\"type\":\"ColumnDataSource\"},{\"attributes\":{},\"id\":\"1653\",\"type\":\"HelpTool\"},{\"attributes\":{\"callback\":null},\"id\":\"1630\",\"type\":\"DataRange1d\"},{\"attributes\":{\"callback\":null},\"id\":\"1632\",\"type\":\"DataRange1d\"},{\"attributes\":{\"bottom_units\":\"screen\",\"fill_alpha\":{\"value\":0.5},\"fill_color\":{\"value\":\"lightgrey\"},\"left_units\":\"screen\",\"level\":\"overlay\",\"line_alpha\":{\"value\":1.0},\"line_color\":{\"value\":\"black\"},\"line_dash\":[4,4],\"line_width\":{\"value\":2},\"plot\":null,\"render_mode\":\"css\",\"right_units\":\"screen\",\"top_units\":\"screen\"},\"id\":\"1656\",\"type\":\"BoxAnnotation\"},{\"attributes\":{},\"id\":\"1634\",\"type\":\"LinearScale\"},{\"attributes\":{},\"id\":\"1636\",\"type\":\"LinearScale\"},{\"attributes\":{\"data_source\":{\"id\":\"1663\",\"type\":\"ColumnDataSource\"},\"glyph\":{\"id\":\"1664\",\"type\":\"VBar\"},\"hover_glyph\":null,\"muted_glyph\":null,\"nonselection_glyph\":{\"id\":\"1665\",\"type\":\"VBar\"},\"selection_glyph\":null,\"view\":{\"id\":\"1667\",\"type\":\"CDSView\"}},\"id\":\"1666\",\"type\":\"GlyphRenderer\"},{\"attributes\":{\"formatter\":{\"id\":\"1718\",\"type\":\"BasicTickFormatter\"},\"plot\":{\"id\":\"1629\",\"subtype\":\"Figure\",\"type\":\"Plot\"},\"ticker\":{\"id\":\"1639\",\"type\":\"BasicTicker\"}},\"id\":\"1638\",\"type\":\"LinearAxis\"},{\"attributes\":{\"source\":{\"id\":\"1663\",\"type\":\"ColumnDataSource\"}},\"id\":\"1667\",\"type\":\"CDSView\"},{\"attributes\":{},\"id\":\"1639\",\"type\":\"BasicTicker\"},{\"attributes\":{\"plot\":{\"id\":\"1629\",\"subtype\":\"Figure\",\"type\":\"Plot\"},\"ticker\":{\"id\":\"1639\",\"type\":\"BasicTicker\"}},\"id\":\"1642\",\"type\":\"Grid\"},{\"attributes\":{},\"id\":\"1716\",\"type\":\"BasicTickFormatter\"},{\"attributes\":{\"formatter\":{\"id\":\"1716\",\"type\":\"BasicTickFormatter\"},\"plot\":{\"id\":\"1629\",\"subtype\":\"Figure\",\"type\":\"Plot\"},\"ticker\":{\"id\":\"1644\",\"type\":\"BasicTicker\"}},\"id\":\"1643\",\"type\":\"LinearAxis\"},{\"attributes\":{},\"id\":\"1718\",\"type\":\"BasicTickFormatter\"},{\"attributes\":{},\"id\":\"1644\",\"type\":\"BasicTicker\"},{\"attributes\":{},\"id\":\"1720\",\"type\":\"Selection\"},{\"attributes\":{\"dimension\":1,\"plot\":{\"id\":\"1629\",\"subtype\":\"Figure\",\"type\":\"Plot\"},\"ticker\":{\"id\":\"1644\",\"type\":\"BasicTicker\"}},\"id\":\"1647\",\"type\":\"Grid\"},{\"attributes\":{},\"id\":\"1721\",\"type\":\"UnionRenderers\"},{\"attributes\":{\"fill_color\":{\"field\":\"fill_color\"},\"line_color\":{\"field\":\"line_color\"},\"top\":{\"field\":\"top\"},\"width\":{\"value\":0.9},\"x\":{\"field\":\"x\"}},\"id\":\"1664\",\"type\":\"VBar\"},{\"attributes\":{\"plot\":null,\"text\":\"\"},\"id\":\"1714\",\"type\":\"Title\"},{\"attributes\":{\"active_drag\":\"auto\",\"active_inspect\":\"auto\",\"active_multi\":null,\"active_scroll\":\"auto\",\"active_tap\":\"auto\",\"tools\":[{\"id\":\"1648\",\"type\":\"PanTool\"},{\"id\":\"1649\",\"type\":\"WheelZoomTool\"},{\"id\":\"1650\",\"type\":\"BoxZoomTool\"},{\"id\":\"1651\",\"type\":\"SaveTool\"},{\"id\":\"1652\",\"type\":\"ResetTool\"},{\"id\":\"1653\",\"type\":\"HelpTool\"}]},\"id\":\"1654\",\"type\":\"Toolbar\"},{\"attributes\":{},\"id\":\"1648\",\"type\":\"PanTool\"}],\"root_ids\":[\"1629\"]},\"title\":\"Bokeh Application\",\"version\":\"1.0.2\"}};\n",
       "  var render_items = [{\"docid\":\"0a313337-6916-4d36-9ed7-815a17bbd4e5\",\"roots\":{\"1629\":\"71b59f76-a52e-4da1-b8aa-9cad732c39d7\"}}];\n",
       "  root.Bokeh.embed.embed_items_notebook(docs_json, render_items);\n",
       "\n",
       "  }\n",
       "  if (root.Bokeh !== undefined) {\n",
       "    embed_document(root);\n",
       "  } else {\n",
       "    var attempts = 0;\n",
       "    var timer = setInterval(function(root) {\n",
       "      if (root.Bokeh !== undefined) {\n",
       "        embed_document(root);\n",
       "        clearInterval(timer);\n",
       "      }\n",
       "      attempts++;\n",
       "      if (attempts > 100) {\n",
       "        console.log(\"Bokeh: ERROR: Unable to run BokehJS code because BokehJS library is missing\");\n",
       "        clearInterval(timer);\n",
       "      }\n",
       "    }, 10, root)\n",
       "  }\n",
       "})(window);"
      ],
      "application/vnd.bokehjs_exec.v0+json": ""
     },
     "metadata": {
      "application/vnd.bokehjs_exec.v0+json": {
       "id": "1629"
      }
     },
     "output_type": "display_data"
    }
   ],
   "source": [
    "from bokeh.palettes import Spectral3\n",
    "\n",
    "x=[1, 2, 3]\n",
    "top=[1.2, 2.5, 3.7]\n",
    "    \n",
    "p = figure(plot_width=900, plot_height=400)\n",
    "\n",
    "# add a vertical bar renderer\n",
    "p.vbar(x=x, top=top, width=0.9, color=Spectral3)\n",
    "\n",
    "show(p)"
   ]
  },
  {
   "cell_type": "markdown",
   "metadata": {
    "slideshow": {
     "slide_type": "subslide"
    }
   },
   "source": [
    "## Bars - categorical data"
   ]
  },
  {
   "cell_type": "code",
   "execution_count": 11,
   "metadata": {
    "scrolled": false,
    "slideshow": {
     "slide_type": "-"
    }
   },
   "outputs": [
    {
     "data": {
      "text/html": [
       "\n",
       "\n",
       "\n",
       "\n",
       "\n",
       "\n",
       "  <div class=\"bk-root\" id=\"1a5b3d05-4ddc-4a3b-8298-0cffb12b802a\"></div>\n"
      ]
     },
     "metadata": {},
     "output_type": "display_data"
    },
    {
     "data": {
      "application/javascript": [
       "(function(root) {\n",
       "  function embed_document(root) {\n",
       "    \n",
       "  var docs_json = {\"686ca3b8-ea8f-4e65-a935-0ce5bb163bf7\":{\"roots\":{\"references\":[{\"attributes\":{\"below\":[{\"id\":\"1785\",\"type\":\"CategoricalAxis\"}],\"left\":[{\"id\":\"1789\",\"type\":\"LinearAxis\"}],\"plot_height\":400,\"plot_width\":900,\"renderers\":[{\"id\":\"1785\",\"type\":\"CategoricalAxis\"},{\"id\":\"1788\",\"type\":\"Grid\"},{\"id\":\"1789\",\"type\":\"LinearAxis\"},{\"id\":\"1793\",\"type\":\"Grid\"},{\"id\":\"1802\",\"type\":\"BoxAnnotation\"},{\"id\":\"1812\",\"type\":\"GlyphRenderer\"}],\"title\":{\"id\":\"1869\",\"type\":\"Title\"},\"toolbar\":{\"id\":\"1800\",\"type\":\"Toolbar\"},\"x_range\":{\"id\":\"1777\",\"type\":\"FactorRange\"},\"x_scale\":{\"id\":\"1781\",\"type\":\"CategoricalScale\"},\"y_range\":{\"id\":\"1779\",\"type\":\"DataRange1d\"},\"y_scale\":{\"id\":\"1783\",\"type\":\"LinearScale\"}},\"id\":\"1776\",\"subtype\":\"Figure\",\"type\":\"Plot\"},{\"attributes\":{},\"id\":\"1781\",\"type\":\"CategoricalScale\"},{\"attributes\":{},\"id\":\"1783\",\"type\":\"LinearScale\"},{\"attributes\":{},\"id\":\"1871\",\"type\":\"BasicTickFormatter\"},{\"attributes\":{\"formatter\":{\"id\":\"1873\",\"type\":\"CategoricalTickFormatter\"},\"major_label_text_font_size\":{\"value\":\"20pt\"},\"plot\":{\"id\":\"1776\",\"subtype\":\"Figure\",\"type\":\"Plot\"},\"ticker\":{\"id\":\"1786\",\"type\":\"CategoricalTicker\"}},\"id\":\"1785\",\"type\":\"CategoricalAxis\"},{\"attributes\":{\"plot\":null,\"text\":\"\"},\"id\":\"1869\",\"type\":\"Title\"},{\"attributes\":{},\"id\":\"1786\",\"type\":\"CategoricalTicker\"},{\"attributes\":{\"plot\":{\"id\":\"1776\",\"subtype\":\"Figure\",\"type\":\"Plot\"},\"ticker\":{\"id\":\"1786\",\"type\":\"CategoricalTicker\"}},\"id\":\"1788\",\"type\":\"Grid\"},{\"attributes\":{\"data_source\":{\"id\":\"1809\",\"type\":\"ColumnDataSource\"},\"glyph\":{\"id\":\"1810\",\"type\":\"VBar\"},\"hover_glyph\":null,\"muted_glyph\":null,\"nonselection_glyph\":{\"id\":\"1811\",\"type\":\"VBar\"},\"selection_glyph\":null,\"view\":{\"id\":\"1813\",\"type\":\"CDSView\"}},\"id\":\"1812\",\"type\":\"GlyphRenderer\"},{\"attributes\":{\"formatter\":{\"id\":\"1871\",\"type\":\"BasicTickFormatter\"},\"major_label_text_font_size\":{\"value\":\"20pt\"},\"plot\":{\"id\":\"1776\",\"subtype\":\"Figure\",\"type\":\"Plot\"},\"ticker\":{\"id\":\"1790\",\"type\":\"BasicTicker\"}},\"id\":\"1789\",\"type\":\"LinearAxis\"},{\"attributes\":{\"source\":{\"id\":\"1809\",\"type\":\"ColumnDataSource\"}},\"id\":\"1813\",\"type\":\"CDSView\"},{\"attributes\":{},\"id\":\"1790\",\"type\":\"BasicTicker\"},{\"attributes\":{},\"id\":\"1873\",\"type\":\"CategoricalTickFormatter\"},{\"attributes\":{\"dimension\":1,\"plot\":{\"id\":\"1776\",\"subtype\":\"Figure\",\"type\":\"Plot\"},\"ticker\":{\"id\":\"1790\",\"type\":\"BasicTicker\"}},\"id\":\"1793\",\"type\":\"Grid\"},{\"attributes\":{\"fill_color\":{\"value\":\"#1f77b4\"},\"line_color\":{\"value\":\"#1f77b4\"},\"top\":{\"field\":\"top\"},\"width\":{\"value\":0.9},\"x\":{\"field\":\"x\"}},\"id\":\"1810\",\"type\":\"VBar\"},{\"attributes\":{},\"id\":\"1875\",\"type\":\"Selection\"},{\"attributes\":{},\"id\":\"1876\",\"type\":\"UnionRenderers\"},{\"attributes\":{\"active_drag\":\"auto\",\"active_inspect\":\"auto\",\"active_multi\":null,\"active_scroll\":\"auto\",\"active_tap\":\"auto\",\"tools\":[{\"id\":\"1794\",\"type\":\"PanTool\"},{\"id\":\"1795\",\"type\":\"WheelZoomTool\"},{\"id\":\"1796\",\"type\":\"BoxZoomTool\"},{\"id\":\"1797\",\"type\":\"SaveTool\"},{\"id\":\"1798\",\"type\":\"ResetTool\"},{\"id\":\"1799\",\"type\":\"HelpTool\"}]},\"id\":\"1800\",\"type\":\"Toolbar\"},{\"attributes\":{},\"id\":\"1794\",\"type\":\"PanTool\"},{\"attributes\":{},\"id\":\"1795\",\"type\":\"WheelZoomTool\"},{\"attributes\":{\"overlay\":{\"id\":\"1802\",\"type\":\"BoxAnnotation\"}},\"id\":\"1796\",\"type\":\"BoxZoomTool\"},{\"attributes\":{},\"id\":\"1797\",\"type\":\"SaveTool\"},{\"attributes\":{},\"id\":\"1798\",\"type\":\"ResetTool\"},{\"attributes\":{\"callback\":null,\"data\":{\"top\":[5,3,4,2,4,6],\"x\":[\"Apples\",\"Pears\",\"Nectarines\",\"Plums\",\"Grapes\",\"Strawberries\"]},\"selected\":{\"id\":\"1875\",\"type\":\"Selection\"},\"selection_policy\":{\"id\":\"1876\",\"type\":\"UnionRenderers\"}},\"id\":\"1809\",\"type\":\"ColumnDataSource\"},{\"attributes\":{},\"id\":\"1799\",\"type\":\"HelpTool\"},{\"attributes\":{\"callback\":null,\"factors\":[\"Apples\",\"Pears\",\"Nectarines\",\"Plums\",\"Grapes\",\"Strawberries\"]},\"id\":\"1777\",\"type\":\"FactorRange\"},{\"attributes\":{\"fill_alpha\":{\"value\":0.1},\"fill_color\":{\"value\":\"#1f77b4\"},\"line_alpha\":{\"value\":0.1},\"line_color\":{\"value\":\"#1f77b4\"},\"top\":{\"field\":\"top\"},\"width\":{\"value\":0.9},\"x\":{\"field\":\"x\"}},\"id\":\"1811\",\"type\":\"VBar\"},{\"attributes\":{\"callback\":null},\"id\":\"1779\",\"type\":\"DataRange1d\"},{\"attributes\":{\"bottom_units\":\"screen\",\"fill_alpha\":{\"value\":0.5},\"fill_color\":{\"value\":\"lightgrey\"},\"left_units\":\"screen\",\"level\":\"overlay\",\"line_alpha\":{\"value\":1.0},\"line_color\":{\"value\":\"black\"},\"line_dash\":[4,4],\"line_width\":{\"value\":2},\"plot\":null,\"render_mode\":\"css\",\"right_units\":\"screen\",\"top_units\":\"screen\"},\"id\":\"1802\",\"type\":\"BoxAnnotation\"}],\"root_ids\":[\"1776\"]},\"title\":\"Bokeh Application\",\"version\":\"1.0.2\"}};\n",
       "  var render_items = [{\"docid\":\"686ca3b8-ea8f-4e65-a935-0ce5bb163bf7\",\"roots\":{\"1776\":\"1a5b3d05-4ddc-4a3b-8298-0cffb12b802a\"}}];\n",
       "  root.Bokeh.embed.embed_items_notebook(docs_json, render_items);\n",
       "\n",
       "  }\n",
       "  if (root.Bokeh !== undefined) {\n",
       "    embed_document(root);\n",
       "  } else {\n",
       "    var attempts = 0;\n",
       "    var timer = setInterval(function(root) {\n",
       "      if (root.Bokeh !== undefined) {\n",
       "        embed_document(root);\n",
       "        clearInterval(timer);\n",
       "      }\n",
       "      attempts++;\n",
       "      if (attempts > 100) {\n",
       "        console.log(\"Bokeh: ERROR: Unable to run BokehJS code because BokehJS library is missing\");\n",
       "        clearInterval(timer);\n",
       "      }\n",
       "    }, 10, root)\n",
       "  }\n",
       "})(window);"
      ],
      "application/vnd.bokehjs_exec.v0+json": ""
     },
     "metadata": {
      "application/vnd.bokehjs_exec.v0+json": {
       "id": "1776"
      }
     },
     "output_type": "display_data"
    }
   ],
   "source": [
    "fruits = ['Apples', 'Pears', 'Nectarines', 'Plums', 'Grapes', 'Strawberries']\n",
    "data_fruits = [5, 3, 4, 2, 4, 6]\n",
    "\n",
    "p = figure(x_range=fruits,  # we have to define the range of values in axis x \n",
    "           plot_width=900, plot_height=400)\n",
    "\n",
    "p.vbar(x=fruits, top=data_fruits, width=0.9)\n",
    "\n",
    "p.xaxis.major_label_text_font_size = \"20pt\"\n",
    "p.yaxis.major_label_text_font_size = \"20pt\"  \n",
    "\n",
    "show(p)"
   ]
  },
  {
   "cell_type": "markdown",
   "metadata": {
    "slideshow": {
     "slide_type": "subslide"
    }
   },
   "source": [
    "Horizontal bars"
   ]
  },
  {
   "cell_type": "code",
   "execution_count": 12,
   "metadata": {},
   "outputs": [
    {
     "data": {
      "text/html": [
       "\n",
       "\n",
       "\n",
       "\n",
       "\n",
       "\n",
       "  <div class=\"bk-root\" id=\"d05ad2ac-6172-4197-9c99-7cfa56749cd9\"></div>\n"
      ]
     },
     "metadata": {},
     "output_type": "display_data"
    },
    {
     "data": {
      "application/javascript": [
       "(function(root) {\n",
       "  function embed_document(root) {\n",
       "    \n",
       "  var docs_json = {\"028c19a2-7d23-4b31-bda4-6b8f44201bd2\":{\"roots\":{\"references\":[{\"attributes\":{\"below\":[{\"id\":\"1940\",\"type\":\"LinearAxis\"}],\"left\":[{\"id\":\"1945\",\"type\":\"CategoricalAxis\"}],\"plot_height\":400,\"plot_width\":900,\"renderers\":[{\"id\":\"1940\",\"type\":\"LinearAxis\"},{\"id\":\"1944\",\"type\":\"Grid\"},{\"id\":\"1945\",\"type\":\"CategoricalAxis\"},{\"id\":\"1948\",\"type\":\"Grid\"},{\"id\":\"1957\",\"type\":\"BoxAnnotation\"},{\"id\":\"1967\",\"type\":\"GlyphRenderer\"}],\"title\":{\"id\":\"2033\",\"type\":\"Title\"},\"toolbar\":{\"id\":\"1955\",\"type\":\"Toolbar\"},\"x_range\":{\"id\":\"1932\",\"type\":\"DataRange1d\"},\"x_scale\":{\"id\":\"1936\",\"type\":\"LinearScale\"},\"y_range\":{\"id\":\"1934\",\"type\":\"FactorRange\"},\"y_scale\":{\"id\":\"1938\",\"type\":\"CategoricalScale\"}},\"id\":\"1931\",\"subtype\":\"Figure\",\"type\":\"Plot\"},{\"attributes\":{\"fill_color\":{\"value\":\"#1f77b4\"},\"height\":{\"value\":0.9},\"line_color\":{\"value\":\"#1f77b4\"},\"right\":{\"field\":\"right\"},\"y\":{\"field\":\"y\"}},\"id\":\"1965\",\"type\":\"HBar\"},{\"attributes\":{},\"id\":\"2037\",\"type\":\"BasicTickFormatter\"},{\"attributes\":{\"active_drag\":\"auto\",\"active_inspect\":\"auto\",\"active_multi\":null,\"active_scroll\":\"auto\",\"active_tap\":\"auto\",\"tools\":[{\"id\":\"1949\",\"type\":\"PanTool\"},{\"id\":\"1950\",\"type\":\"WheelZoomTool\"},{\"id\":\"1951\",\"type\":\"BoxZoomTool\"},{\"id\":\"1952\",\"type\":\"SaveTool\"},{\"id\":\"1953\",\"type\":\"ResetTool\"},{\"id\":\"1954\",\"type\":\"HelpTool\"}]},\"id\":\"1955\",\"type\":\"Toolbar\"},{\"attributes\":{\"fill_alpha\":{\"value\":0.1},\"fill_color\":{\"value\":\"#1f77b4\"},\"height\":{\"value\":0.9},\"line_alpha\":{\"value\":0.1},\"line_color\":{\"value\":\"#1f77b4\"},\"right\":{\"field\":\"right\"},\"y\":{\"field\":\"y\"}},\"id\":\"1966\",\"type\":\"HBar\"},{\"attributes\":{},\"id\":\"1946\",\"type\":\"CategoricalTicker\"},{\"attributes\":{\"formatter\":{\"id\":\"2035\",\"type\":\"CategoricalTickFormatter\"},\"major_label_text_font_size\":{\"value\":\"20pt\"},\"plot\":{\"id\":\"1931\",\"subtype\":\"Figure\",\"type\":\"Plot\"},\"ticker\":{\"id\":\"1946\",\"type\":\"CategoricalTicker\"}},\"id\":\"1945\",\"type\":\"CategoricalAxis\"},{\"attributes\":{\"plot\":{\"id\":\"1931\",\"subtype\":\"Figure\",\"type\":\"Plot\"},\"ticker\":{\"id\":\"1941\",\"type\":\"BasicTicker\"}},\"id\":\"1944\",\"type\":\"Grid\"},{\"attributes\":{},\"id\":\"1941\",\"type\":\"BasicTicker\"},{\"attributes\":{\"formatter\":{\"id\":\"2037\",\"type\":\"BasicTickFormatter\"},\"major_label_text_font_size\":{\"value\":\"20pt\"},\"plot\":{\"id\":\"1931\",\"subtype\":\"Figure\",\"type\":\"Plot\"},\"ticker\":{\"id\":\"1941\",\"type\":\"BasicTicker\"}},\"id\":\"1940\",\"type\":\"LinearAxis\"},{\"attributes\":{},\"id\":\"1938\",\"type\":\"CategoricalScale\"},{\"attributes\":{},\"id\":\"2040\",\"type\":\"UnionRenderers\"},{\"attributes\":{},\"id\":\"1936\",\"type\":\"LinearScale\"},{\"attributes\":{\"callback\":null},\"id\":\"1932\",\"type\":\"DataRange1d\"},{\"attributes\":{\"callback\":null,\"factors\":[\"Apples\",\"Pears\",\"Nectarines\",\"Plums\",\"Grapes\",\"Strawberries\"]},\"id\":\"1934\",\"type\":\"FactorRange\"},{\"attributes\":{\"overlay\":{\"id\":\"1957\",\"type\":\"BoxAnnotation\"}},\"id\":\"1951\",\"type\":\"BoxZoomTool\"},{\"attributes\":{\"callback\":null,\"data\":{\"right\":[5,3,4,2,4,6],\"y\":[\"Apples\",\"Pears\",\"Nectarines\",\"Plums\",\"Grapes\",\"Strawberries\"]},\"selected\":{\"id\":\"2039\",\"type\":\"Selection\"},\"selection_policy\":{\"id\":\"2040\",\"type\":\"UnionRenderers\"}},\"id\":\"1964\",\"type\":\"ColumnDataSource\"},{\"attributes\":{},\"id\":\"1952\",\"type\":\"SaveTool\"},{\"attributes\":{},\"id\":\"2035\",\"type\":\"CategoricalTickFormatter\"},{\"attributes\":{\"data_source\":{\"id\":\"1964\",\"type\":\"ColumnDataSource\"},\"glyph\":{\"id\":\"1965\",\"type\":\"HBar\"},\"hover_glyph\":null,\"muted_glyph\":null,\"nonselection_glyph\":{\"id\":\"1966\",\"type\":\"HBar\"},\"selection_glyph\":null,\"view\":{\"id\":\"1968\",\"type\":\"CDSView\"}},\"id\":\"1967\",\"type\":\"GlyphRenderer\"},{\"attributes\":{\"source\":{\"id\":\"1964\",\"type\":\"ColumnDataSource\"}},\"id\":\"1968\",\"type\":\"CDSView\"},{\"attributes\":{\"bottom_units\":\"screen\",\"fill_alpha\":{\"value\":0.5},\"fill_color\":{\"value\":\"lightgrey\"},\"left_units\":\"screen\",\"level\":\"overlay\",\"line_alpha\":{\"value\":1.0},\"line_color\":{\"value\":\"black\"},\"line_dash\":[4,4],\"line_width\":{\"value\":2},\"plot\":null,\"render_mode\":\"css\",\"right_units\":\"screen\",\"top_units\":\"screen\"},\"id\":\"1957\",\"type\":\"BoxAnnotation\"},{\"attributes\":{},\"id\":\"1949\",\"type\":\"PanTool\"},{\"attributes\":{},\"id\":\"1950\",\"type\":\"WheelZoomTool\"},{\"attributes\":{},\"id\":\"1954\",\"type\":\"HelpTool\"},{\"attributes\":{},\"id\":\"1953\",\"type\":\"ResetTool\"},{\"attributes\":{},\"id\":\"2039\",\"type\":\"Selection\"},{\"attributes\":{\"dimension\":1,\"plot\":{\"id\":\"1931\",\"subtype\":\"Figure\",\"type\":\"Plot\"},\"ticker\":{\"id\":\"1946\",\"type\":\"CategoricalTicker\"}},\"id\":\"1948\",\"type\":\"Grid\"},{\"attributes\":{\"plot\":null,\"text\":\"\"},\"id\":\"2033\",\"type\":\"Title\"}],\"root_ids\":[\"1931\"]},\"title\":\"Bokeh Application\",\"version\":\"1.0.2\"}};\n",
       "  var render_items = [{\"docid\":\"028c19a2-7d23-4b31-bda4-6b8f44201bd2\",\"roots\":{\"1931\":\"d05ad2ac-6172-4197-9c99-7cfa56749cd9\"}}];\n",
       "  root.Bokeh.embed.embed_items_notebook(docs_json, render_items);\n",
       "\n",
       "  }\n",
       "  if (root.Bokeh !== undefined) {\n",
       "    embed_document(root);\n",
       "  } else {\n",
       "    var attempts = 0;\n",
       "    var timer = setInterval(function(root) {\n",
       "      if (root.Bokeh !== undefined) {\n",
       "        embed_document(root);\n",
       "        clearInterval(timer);\n",
       "      }\n",
       "      attempts++;\n",
       "      if (attempts > 100) {\n",
       "        console.log(\"Bokeh: ERROR: Unable to run BokehJS code because BokehJS library is missing\");\n",
       "        clearInterval(timer);\n",
       "      }\n",
       "    }, 10, root)\n",
       "  }\n",
       "})(window);"
      ],
      "application/vnd.bokehjs_exec.v0+json": ""
     },
     "metadata": {
      "application/vnd.bokehjs_exec.v0+json": {
       "id": "1931"
      }
     },
     "output_type": "display_data"
    }
   ],
   "source": [
    "p = figure(y_range=fruits,  # we have to define the range of values in y axis\n",
    "           plot_width=900, plot_height=400)\n",
    "\n",
    "# add a horizontal bar renderer\n",
    "p.hbar(y=fruits, right=data_fruits, height=0.9)\n",
    "\n",
    "p.xaxis.major_label_text_font_size = \"20pt\"\n",
    "p.yaxis.major_label_text_font_size = \"20pt\"\n",
    "\n",
    "show(p)"
   ]
  },
  {
   "cell_type": "markdown",
   "metadata": {
    "slideshow": {
     "slide_type": "subslide"
    }
   },
   "source": [
    "Multiple categorical data"
   ]
  },
  {
   "cell_type": "code",
   "execution_count": 13,
   "metadata": {
    "slideshow": {
     "slide_type": "-"
    }
   },
   "outputs": [
    {
     "name": "stdout",
     "output_type": "stream",
     "text": [
      "Values in x: [('Apples', '2015'), ('Apples', '2016'), ('Apples', '2017'), ('Pears', '2015'), ('Pears', '2016')]\n",
      "Values in counts: (2, 5, 3, 1, 3)\n"
     ]
    }
   ],
   "source": [
    "from bokeh.models import ColumnDataSource, FactorRange\n",
    "\n",
    "fruits = ['Apples', 'Pears', 'Nectarines', 'Plums', 'Grapes', 'Strawberries']\n",
    "years = ['2015', '2016', '2017']\n",
    "\n",
    "data = {'fruits' : fruits,\n",
    "        '2015'   : [2, 1, 4, 3, 2, 4],\n",
    "        '2016'   : [5, 3, 3, 2, 4, 5],\n",
    "        '2017'   : [3, 2, 4, 4, 5, 4]}\n",
    "\n",
    "x = [(fruit, year) \n",
    "     for fruit in fruits \n",
    "        for year in years]\n",
    "print('Values in x: {}'.format(x[:5]))\n",
    "counts = sum(zip(data['2015'], data['2016'], data['2017']), ()) # like an hstack\n",
    "print('Values in counts: {}'.format(counts[:5]))"
   ]
  },
  {
   "cell_type": "markdown",
   "metadata": {
    "slideshow": {
     "slide_type": "subslide"
    }
   },
   "source": [
    "Multiple categorical data"
   ]
  },
  {
   "cell_type": "code",
   "execution_count": 14,
   "metadata": {
    "scrolled": false,
    "slideshow": {
     "slide_type": "-"
    }
   },
   "outputs": [
    {
     "data": {
      "text/html": [
       "\n",
       "\n",
       "\n",
       "\n",
       "\n",
       "\n",
       "  <div class=\"bk-root\" id=\"d14a1d84-e03a-4fcc-891c-a6b485c4fd7f\"></div>\n"
      ]
     },
     "metadata": {},
     "output_type": "display_data"
    },
    {
     "data": {
      "application/javascript": [
       "(function(root) {\n",
       "  function embed_document(root) {\n",
       "    \n",
       "  var docs_json = {\"f36fddab-2ef7-4cab-990b-f5ab4527fc95\":{\"roots\":{\"references\":[{\"attributes\":{\"below\":[{\"id\":\"2105\",\"type\":\"CategoricalAxis\"}],\"left\":[{\"id\":\"2109\",\"type\":\"LinearAxis\"}],\"plot_height\":500,\"plot_width\":900,\"renderers\":[{\"id\":\"2105\",\"type\":\"CategoricalAxis\"},{\"id\":\"2108\",\"type\":\"Grid\"},{\"id\":\"2109\",\"type\":\"LinearAxis\"},{\"id\":\"2113\",\"type\":\"Grid\"},{\"id\":\"2122\",\"type\":\"BoxAnnotation\"},{\"id\":\"2132\",\"type\":\"GlyphRenderer\"}],\"title\":{\"id\":\"2207\",\"type\":\"Title\"},\"toolbar\":{\"id\":\"2120\",\"type\":\"Toolbar\"},\"x_range\":{\"id\":\"2096\",\"type\":\"FactorRange\"},\"x_scale\":{\"id\":\"2101\",\"type\":\"CategoricalScale\"},\"y_range\":{\"id\":\"2099\",\"type\":\"DataRange1d\"},\"y_scale\":{\"id\":\"2103\",\"type\":\"LinearScale\"}},\"id\":\"2097\",\"subtype\":\"Figure\",\"type\":\"Plot\"},{\"attributes\":{\"formatter\":{\"id\":\"2209\",\"type\":\"BasicTickFormatter\"},\"plot\":{\"id\":\"2097\",\"subtype\":\"Figure\",\"type\":\"Plot\"},\"ticker\":{\"id\":\"2110\",\"type\":\"BasicTicker\"}},\"id\":\"2109\",\"type\":\"LinearAxis\"},{\"attributes\":{},\"id\":\"2211\",\"type\":\"CategoricalTickFormatter\"},{\"attributes\":{\"plot\":{\"id\":\"2097\",\"subtype\":\"Figure\",\"type\":\"Plot\"},\"ticker\":{\"id\":\"2106\",\"type\":\"CategoricalTicker\"}},\"id\":\"2108\",\"type\":\"Grid\"},{\"attributes\":{\"formatter\":{\"id\":\"2211\",\"type\":\"CategoricalTickFormatter\"},\"plot\":{\"id\":\"2097\",\"subtype\":\"Figure\",\"type\":\"Plot\"},\"ticker\":{\"id\":\"2106\",\"type\":\"CategoricalTicker\"}},\"id\":\"2105\",\"type\":\"CategoricalAxis\"},{\"attributes\":{\"source\":{\"id\":\"2095\",\"type\":\"ColumnDataSource\"}},\"id\":\"2133\",\"type\":\"CDSView\"},{\"attributes\":{\"data_source\":{\"id\":\"2095\",\"type\":\"ColumnDataSource\"},\"glyph\":{\"id\":\"2130\",\"type\":\"VBar\"},\"hover_glyph\":null,\"muted_glyph\":null,\"nonselection_glyph\":{\"id\":\"2131\",\"type\":\"VBar\"},\"selection_glyph\":null,\"view\":{\"id\":\"2133\",\"type\":\"CDSView\"}},\"id\":\"2132\",\"type\":\"GlyphRenderer\"},{\"attributes\":{},\"id\":\"2114\",\"type\":\"PanTool\"},{\"attributes\":{},\"id\":\"2213\",\"type\":\"Selection\"},{\"attributes\":{},\"id\":\"2117\",\"type\":\"SaveTool\"},{\"attributes\":{},\"id\":\"2106\",\"type\":\"CategoricalTicker\"},{\"attributes\":{\"bottom_units\":\"screen\",\"fill_alpha\":{\"value\":0.5},\"fill_color\":{\"value\":\"lightgrey\"},\"left_units\":\"screen\",\"level\":\"overlay\",\"line_alpha\":{\"value\":1.0},\"line_color\":{\"value\":\"black\"},\"line_dash\":[4,4],\"line_width\":{\"value\":2},\"plot\":null,\"render_mode\":\"css\",\"right_units\":\"screen\",\"top_units\":\"screen\"},\"id\":\"2122\",\"type\":\"BoxAnnotation\"},{\"attributes\":{},\"id\":\"2119\",\"type\":\"HelpTool\"},{\"attributes\":{},\"id\":\"2110\",\"type\":\"BasicTicker\"},{\"attributes\":{},\"id\":\"2214\",\"type\":\"UnionRenderers\"},{\"attributes\":{\"callback\":null,\"data\":{\"counts\":[2,5,3,1,3,2,4,3,4,3,2,4,2,4,5,4,5,4],\"x\":[[\"Apples\",\"2015\"],[\"Apples\",\"2016\"],[\"Apples\",\"2017\"],[\"Pears\",\"2015\"],[\"Pears\",\"2016\"],[\"Pears\",\"2017\"],[\"Nectarines\",\"2015\"],[\"Nectarines\",\"2016\"],[\"Nectarines\",\"2017\"],[\"Plums\",\"2015\"],[\"Plums\",\"2016\"],[\"Plums\",\"2017\"],[\"Grapes\",\"2015\"],[\"Grapes\",\"2016\"],[\"Grapes\",\"2017\"],[\"Strawberries\",\"2015\"],[\"Strawberries\",\"2016\"],[\"Strawberries\",\"2017\"]]},\"selected\":{\"id\":\"2213\",\"type\":\"Selection\"},\"selection_policy\":{\"id\":\"2214\",\"type\":\"UnionRenderers\"}},\"id\":\"2095\",\"type\":\"ColumnDataSource\"},{\"attributes\":{\"fill_color\":{\"value\":\"#1f77b4\"},\"line_color\":{\"value\":\"#1f77b4\"},\"top\":{\"field\":\"counts\"},\"width\":{\"value\":0.9},\"x\":{\"field\":\"x\"}},\"id\":\"2130\",\"type\":\"VBar\"},{\"attributes\":{\"fill_alpha\":{\"value\":0.1},\"fill_color\":{\"value\":\"#1f77b4\"},\"line_alpha\":{\"value\":0.1},\"line_color\":{\"value\":\"#1f77b4\"},\"top\":{\"field\":\"counts\"},\"width\":{\"value\":0.9},\"x\":{\"field\":\"x\"}},\"id\":\"2131\",\"type\":\"VBar\"},{\"attributes\":{\"dimension\":1,\"plot\":{\"id\":\"2097\",\"subtype\":\"Figure\",\"type\":\"Plot\"},\"ticker\":{\"id\":\"2110\",\"type\":\"BasicTicker\"}},\"id\":\"2113\",\"type\":\"Grid\"},{\"attributes\":{},\"id\":\"2115\",\"type\":\"WheelZoomTool\"},{\"attributes\":{},\"id\":\"2103\",\"type\":\"LinearScale\"},{\"attributes\":{\"callback\":null,\"factors\":[[\"Apples\",\"2015\"],[\"Apples\",\"2016\"],[\"Apples\",\"2017\"],[\"Pears\",\"2015\"],[\"Pears\",\"2016\"],[\"Pears\",\"2017\"],[\"Nectarines\",\"2015\"],[\"Nectarines\",\"2016\"],[\"Nectarines\",\"2017\"],[\"Plums\",\"2015\"],[\"Plums\",\"2016\"],[\"Plums\",\"2017\"],[\"Grapes\",\"2015\"],[\"Grapes\",\"2016\"],[\"Grapes\",\"2017\"],[\"Strawberries\",\"2015\"],[\"Strawberries\",\"2016\"],[\"Strawberries\",\"2017\"]]},\"id\":\"2096\",\"type\":\"FactorRange\"},{\"attributes\":{},\"id\":\"2209\",\"type\":\"BasicTickFormatter\"},{\"attributes\":{},\"id\":\"2118\",\"type\":\"ResetTool\"},{\"attributes\":{\"callback\":null},\"id\":\"2099\",\"type\":\"DataRange1d\"},{\"attributes\":{\"overlay\":{\"id\":\"2122\",\"type\":\"BoxAnnotation\"}},\"id\":\"2116\",\"type\":\"BoxZoomTool\"},{\"attributes\":{\"active_drag\":\"auto\",\"active_inspect\":\"auto\",\"active_multi\":null,\"active_scroll\":\"auto\",\"active_tap\":\"auto\",\"tools\":[{\"id\":\"2114\",\"type\":\"PanTool\"},{\"id\":\"2115\",\"type\":\"WheelZoomTool\"},{\"id\":\"2116\",\"type\":\"BoxZoomTool\"},{\"id\":\"2117\",\"type\":\"SaveTool\"},{\"id\":\"2118\",\"type\":\"ResetTool\"},{\"id\":\"2119\",\"type\":\"HelpTool\"}]},\"id\":\"2120\",\"type\":\"Toolbar\"},{\"attributes\":{\"plot\":null,\"text\":\"\"},\"id\":\"2207\",\"type\":\"Title\"},{\"attributes\":{},\"id\":\"2101\",\"type\":\"CategoricalScale\"}],\"root_ids\":[\"2097\"]},\"title\":\"Bokeh Application\",\"version\":\"1.0.2\"}};\n",
       "  var render_items = [{\"docid\":\"f36fddab-2ef7-4cab-990b-f5ab4527fc95\",\"roots\":{\"2097\":\"d14a1d84-e03a-4fcc-891c-a6b485c4fd7f\"}}];\n",
       "  root.Bokeh.embed.embed_items_notebook(docs_json, render_items);\n",
       "\n",
       "  }\n",
       "  if (root.Bokeh !== undefined) {\n",
       "    embed_document(root);\n",
       "  } else {\n",
       "    var attempts = 0;\n",
       "    var timer = setInterval(function(root) {\n",
       "      if (root.Bokeh !== undefined) {\n",
       "        embed_document(root);\n",
       "        clearInterval(timer);\n",
       "      }\n",
       "      attempts++;\n",
       "      if (attempts > 100) {\n",
       "        console.log(\"Bokeh: ERROR: Unable to run BokehJS code because BokehJS library is missing\");\n",
       "        clearInterval(timer);\n",
       "      }\n",
       "    }, 10, root)\n",
       "  }\n",
       "})(window);"
      ],
      "application/vnd.bokehjs_exec.v0+json": ""
     },
     "metadata": {
      "application/vnd.bokehjs_exec.v0+json": {
       "id": "2097"
      }
     },
     "output_type": "display_data"
    }
   ],
   "source": [
    "from bokeh.models import FactorRange\n",
    "\n",
    "source = ColumnDataSource(data=dict(x=x, counts=counts))\n",
    "\n",
    "p = figure(x_range=FactorRange(*x), # converts our list of tuples in a list of values for the range value\n",
    "           plot_width=900, plot_height=500)\n",
    "\n",
    "p.vbar(x='x', top='counts', width=0.9, source=source)\n",
    "\n",
    "show(p)"
   ]
  },
  {
   "cell_type": "markdown",
   "metadata": {
    "slideshow": {
     "slide_type": "subslide"
    }
   },
   "source": [
    "Multiple categorical data - formatted"
   ]
  },
  {
   "cell_type": "code",
   "execution_count": 15,
   "metadata": {
    "scrolled": false,
    "slideshow": {
     "slide_type": "-"
    }
   },
   "outputs": [
    {
     "data": {
      "text/html": [
       "\n",
       "\n",
       "\n",
       "\n",
       "\n",
       "\n",
       "  <div class=\"bk-root\" id=\"759e15af-14b8-405c-89d0-a8393688c9d4\"></div>\n"
      ]
     },
     "metadata": {},
     "output_type": "display_data"
    },
    {
     "data": {
      "application/javascript": [
       "(function(root) {\n",
       "  function embed_document(root) {\n",
       "    \n",
       "  var docs_json = {\"234adcce-d52a-49cd-b450-6a943cfa0279\":{\"roots\":{\"references\":[{\"attributes\":{\"below\":[{\"id\":\"2279\",\"type\":\"CategoricalAxis\"}],\"left\":[{\"id\":\"2283\",\"type\":\"LinearAxis\"}],\"plot_height\":500,\"plot_width\":900,\"renderers\":[{\"id\":\"2279\",\"type\":\"CategoricalAxis\"},{\"id\":\"2282\",\"type\":\"Grid\"},{\"id\":\"2283\",\"type\":\"LinearAxis\"},{\"id\":\"2287\",\"type\":\"Grid\"},{\"id\":\"2296\",\"type\":\"BoxAnnotation\"},{\"id\":\"2306\",\"type\":\"GlyphRenderer\"}],\"title\":{\"id\":\"2390\",\"type\":\"Title\"},\"toolbar\":{\"id\":\"2294\",\"type\":\"Toolbar\"},\"x_range\":{\"id\":\"2270\",\"type\":\"FactorRange\"},\"x_scale\":{\"id\":\"2275\",\"type\":\"CategoricalScale\"},\"y_range\":{\"id\":\"2273\",\"type\":\"DataRange1d\"},\"y_scale\":{\"id\":\"2277\",\"type\":\"LinearScale\"}},\"id\":\"2271\",\"subtype\":\"Figure\",\"type\":\"Plot\"},{\"attributes\":{\"overlay\":{\"id\":\"2296\",\"type\":\"BoxAnnotation\"}},\"id\":\"2290\",\"type\":\"BoxZoomTool\"},{\"attributes\":{\"callback\":null,\"factors\":[[\"Apples\",\"2015\"],[\"Apples\",\"2016\"],[\"Apples\",\"2017\"],[\"Pears\",\"2015\"],[\"Pears\",\"2016\"],[\"Pears\",\"2017\"],[\"Nectarines\",\"2015\"],[\"Nectarines\",\"2016\"],[\"Nectarines\",\"2017\"],[\"Plums\",\"2015\"],[\"Plums\",\"2016\"],[\"Plums\",\"2017\"],[\"Grapes\",\"2015\"],[\"Grapes\",\"2016\"],[\"Grapes\",\"2017\"],[\"Strawberries\",\"2015\"],[\"Strawberries\",\"2016\"],[\"Strawberries\",\"2017\"]],\"range_padding\":0.1},\"id\":\"2270\",\"type\":\"FactorRange\"},{\"attributes\":{},\"id\":\"2291\",\"type\":\"SaveTool\"},{\"attributes\":{},\"id\":\"2292\",\"type\":\"ResetTool\"},{\"attributes\":{},\"id\":\"2293\",\"type\":\"HelpTool\"},{\"attributes\":{\"fill_alpha\":{\"value\":0.1},\"fill_color\":{\"value\":\"#1f77b4\"},\"line_alpha\":{\"value\":0.1},\"line_color\":{\"value\":\"#1f77b4\"},\"top\":{\"field\":\"counts\"},\"width\":{\"value\":0.9},\"x\":{\"field\":\"x\"}},\"id\":\"2305\",\"type\":\"VBar\"},{\"attributes\":{\"source\":{\"id\":\"2269\",\"type\":\"ColumnDataSource\"}},\"id\":\"2307\",\"type\":\"CDSView\"},{\"attributes\":{},\"id\":\"2396\",\"type\":\"Selection\"},{\"attributes\":{\"callback\":null,\"start\":0},\"id\":\"2273\",\"type\":\"DataRange1d\"},{\"attributes\":{\"bottom_units\":\"screen\",\"fill_alpha\":{\"value\":0.5},\"fill_color\":{\"value\":\"lightgrey\"},\"left_units\":\"screen\",\"level\":\"overlay\",\"line_alpha\":{\"value\":1.0},\"line_color\":{\"value\":\"black\"},\"line_dash\":[4,4],\"line_width\":{\"value\":2},\"plot\":null,\"render_mode\":\"css\",\"right_units\":\"screen\",\"top_units\":\"screen\"},\"id\":\"2296\",\"type\":\"BoxAnnotation\"},{\"attributes\":{},\"id\":\"2275\",\"type\":\"CategoricalScale\"},{\"attributes\":{\"data_source\":{\"id\":\"2269\",\"type\":\"ColumnDataSource\"},\"glyph\":{\"id\":\"2304\",\"type\":\"VBar\"},\"hover_glyph\":null,\"muted_glyph\":null,\"nonselection_glyph\":{\"id\":\"2305\",\"type\":\"VBar\"},\"selection_glyph\":null,\"view\":{\"id\":\"2307\",\"type\":\"CDSView\"}},\"id\":\"2306\",\"type\":\"GlyphRenderer\"},{\"attributes\":{},\"id\":\"2277\",\"type\":\"LinearScale\"},{\"attributes\":{\"formatter\":{\"id\":\"2394\",\"type\":\"CategoricalTickFormatter\"},\"group_text_font_size\":{\"value\":\"20pt\"},\"major_label_orientation\":1,\"major_label_text_font_size\":{\"value\":\"20pt\"},\"plot\":{\"id\":\"2271\",\"subtype\":\"Figure\",\"type\":\"Plot\"},\"ticker\":{\"id\":\"2280\",\"type\":\"CategoricalTicker\"}},\"id\":\"2279\",\"type\":\"CategoricalAxis\"},{\"attributes\":{},\"id\":\"2392\",\"type\":\"BasicTickFormatter\"},{\"attributes\":{\"callback\":null,\"data\":{\"counts\":[2,5,3,1,3,2,4,3,4,3,2,4,2,4,5,4,5,4],\"x\":[[\"Apples\",\"2015\"],[\"Apples\",\"2016\"],[\"Apples\",\"2017\"],[\"Pears\",\"2015\"],[\"Pears\",\"2016\"],[\"Pears\",\"2017\"],[\"Nectarines\",\"2015\"],[\"Nectarines\",\"2016\"],[\"Nectarines\",\"2017\"],[\"Plums\",\"2015\"],[\"Plums\",\"2016\"],[\"Plums\",\"2017\"],[\"Grapes\",\"2015\"],[\"Grapes\",\"2016\"],[\"Grapes\",\"2017\"],[\"Strawberries\",\"2015\"],[\"Strawberries\",\"2016\"],[\"Strawberries\",\"2017\"]]},\"selected\":{\"id\":\"2396\",\"type\":\"Selection\"},\"selection_policy\":{\"id\":\"2397\",\"type\":\"UnionRenderers\"}},\"id\":\"2269\",\"type\":\"ColumnDataSource\"},{\"attributes\":{},\"id\":\"2280\",\"type\":\"CategoricalTicker\"},{\"attributes\":{},\"id\":\"2394\",\"type\":\"CategoricalTickFormatter\"},{\"attributes\":{\"grid_line_color\":{\"value\":null},\"plot\":{\"id\":\"2271\",\"subtype\":\"Figure\",\"type\":\"Plot\"},\"ticker\":{\"id\":\"2280\",\"type\":\"CategoricalTicker\"}},\"id\":\"2282\",\"type\":\"Grid\"},{\"attributes\":{},\"id\":\"2397\",\"type\":\"UnionRenderers\"},{\"attributes\":{\"formatter\":{\"id\":\"2392\",\"type\":\"BasicTickFormatter\"},\"major_label_text_font_size\":{\"value\":\"20pt\"},\"plot\":{\"id\":\"2271\",\"subtype\":\"Figure\",\"type\":\"Plot\"},\"ticker\":{\"id\":\"2284\",\"type\":\"BasicTicker\"}},\"id\":\"2283\",\"type\":\"LinearAxis\"},{\"attributes\":{},\"id\":\"2284\",\"type\":\"BasicTicker\"},{\"attributes\":{\"dimension\":1,\"plot\":{\"id\":\"2271\",\"subtype\":\"Figure\",\"type\":\"Plot\"},\"ticker\":{\"id\":\"2284\",\"type\":\"BasicTicker\"}},\"id\":\"2287\",\"type\":\"Grid\"},{\"attributes\":{\"fill_color\":{\"value\":\"#1f77b4\"},\"line_color\":{\"value\":\"#1f77b4\"},\"top\":{\"field\":\"counts\"},\"width\":{\"value\":0.9},\"x\":{\"field\":\"x\"}},\"id\":\"2304\",\"type\":\"VBar\"},{\"attributes\":{\"plot\":null,\"text\":\"\"},\"id\":\"2390\",\"type\":\"Title\"},{\"attributes\":{\"active_drag\":\"auto\",\"active_inspect\":\"auto\",\"active_multi\":null,\"active_scroll\":\"auto\",\"active_tap\":\"auto\",\"tools\":[{\"id\":\"2288\",\"type\":\"PanTool\"},{\"id\":\"2289\",\"type\":\"WheelZoomTool\"},{\"id\":\"2290\",\"type\":\"BoxZoomTool\"},{\"id\":\"2291\",\"type\":\"SaveTool\"},{\"id\":\"2292\",\"type\":\"ResetTool\"},{\"id\":\"2293\",\"type\":\"HelpTool\"}]},\"id\":\"2294\",\"type\":\"Toolbar\"},{\"attributes\":{},\"id\":\"2288\",\"type\":\"PanTool\"},{\"attributes\":{},\"id\":\"2289\",\"type\":\"WheelZoomTool\"}],\"root_ids\":[\"2271\"]},\"title\":\"Bokeh Application\",\"version\":\"1.0.2\"}};\n",
       "  var render_items = [{\"docid\":\"234adcce-d52a-49cd-b450-6a943cfa0279\",\"roots\":{\"2271\":\"759e15af-14b8-405c-89d0-a8393688c9d4\"}}];\n",
       "  root.Bokeh.embed.embed_items_notebook(docs_json, render_items);\n",
       "\n",
       "  }\n",
       "  if (root.Bokeh !== undefined) {\n",
       "    embed_document(root);\n",
       "  } else {\n",
       "    var attempts = 0;\n",
       "    var timer = setInterval(function(root) {\n",
       "      if (root.Bokeh !== undefined) {\n",
       "        embed_document(root);\n",
       "        clearInterval(timer);\n",
       "      }\n",
       "      attempts++;\n",
       "      if (attempts > 100) {\n",
       "        console.log(\"Bokeh: ERROR: Unable to run BokehJS code because BokehJS library is missing\");\n",
       "        clearInterval(timer);\n",
       "      }\n",
       "    }, 10, root)\n",
       "  }\n",
       "})(window);"
      ],
      "application/vnd.bokehjs_exec.v0+json": ""
     },
     "metadata": {
      "application/vnd.bokehjs_exec.v0+json": {
       "id": "2271"
      }
     },
     "output_type": "display_data"
    }
   ],
   "source": [
    "from bokeh.models import FactorRange\n",
    "\n",
    "source = ColumnDataSource(data=dict(x=x, counts=counts))\n",
    "\n",
    "p = figure(x_range=FactorRange(*x), \n",
    "           plot_width=900, plot_height=500)\n",
    "\n",
    "p.vbar(x='x', top='counts', width=0.9, source=source)\n",
    "\n",
    "p.y_range.start = 0\n",
    "p.x_range.range_padding = 0.1\n",
    "p.xaxis.major_label_orientation = 1\n",
    "p.xgrid.grid_line_color = None\n",
    " \n",
    "p.xaxis.major_label_text_font_size = \"20pt\"\n",
    "p.xaxis.group_text_font_size = \"20pt\"\n",
    "p.yaxis.major_label_text_font_size = \"20pt\"\n",
    "\n",
    "show(p)"
   ]
  },
  {
   "cell_type": "markdown",
   "metadata": {
    "slideshow": {
     "slide_type": "subslide"
    }
   },
   "source": [
    "Multiple data with legend"
   ]
  },
  {
   "cell_type": "code",
   "execution_count": 16,
   "metadata": {
    "slideshow": {
     "slide_type": "-"
    }
   },
   "outputs": [
    {
     "data": {
      "text/html": [
       "\n",
       "\n",
       "\n",
       "\n",
       "\n",
       "\n",
       "  <div class=\"bk-root\" id=\"5a401fa0-4095-4eed-96b1-e67ee313f642\"></div>\n"
      ]
     },
     "metadata": {},
     "output_type": "display_data"
    },
    {
     "data": {
      "application/javascript": [
       "(function(root) {\n",
       "  function embed_document(root) {\n",
       "    \n",
       "  var docs_json = {\"df87b80b-5a32-47ba-8472-f17a99c236d0\":{\"roots\":{\"references\":[{\"attributes\":{\"below\":[{\"id\":\"2462\",\"type\":\"CategoricalAxis\"}],\"left\":[{\"id\":\"2466\",\"type\":\"LinearAxis\"}],\"plot_height\":500,\"plot_width\":900,\"renderers\":[{\"id\":\"2462\",\"type\":\"CategoricalAxis\"},{\"id\":\"2465\",\"type\":\"Grid\"},{\"id\":\"2466\",\"type\":\"LinearAxis\"},{\"id\":\"2470\",\"type\":\"Grid\"},{\"id\":\"2479\",\"type\":\"BoxAnnotation\"},{\"id\":\"2499\",\"type\":\"Legend\"},{\"id\":\"2490\",\"type\":\"GlyphRenderer\"},{\"id\":\"2505\",\"type\":\"GlyphRenderer\"},{\"id\":\"2521\",\"type\":\"GlyphRenderer\"}],\"title\":{\"id\":\"2493\",\"type\":\"Title\"},\"toolbar\":{\"id\":\"2477\",\"type\":\"Toolbar\"},\"x_range\":{\"id\":\"2454\",\"type\":\"FactorRange\"},\"x_scale\":{\"id\":\"2458\",\"type\":\"CategoricalScale\"},\"y_range\":{\"id\":\"2456\",\"type\":\"Range1d\"},\"y_scale\":{\"id\":\"2460\",\"type\":\"LinearScale\"}},\"id\":\"2453\",\"subtype\":\"Figure\",\"type\":\"Plot\"},{\"attributes\":{},\"id\":\"2495\",\"type\":\"BasicTickFormatter\"},{\"attributes\":{},\"id\":\"2463\",\"type\":\"CategoricalTicker\"},{\"attributes\":{\"source\":{\"id\":\"2452\",\"type\":\"ColumnDataSource\"}},\"id\":\"2522\",\"type\":\"CDSView\"},{\"attributes\":{},\"id\":\"2497\",\"type\":\"CategoricalTickFormatter\"},{\"attributes\":{\"plot\":{\"id\":\"2453\",\"subtype\":\"Figure\",\"type\":\"Plot\"},\"ticker\":{\"id\":\"2463\",\"type\":\"CategoricalTicker\"}},\"id\":\"2465\",\"type\":\"Grid\"},{\"attributes\":{\"label\":{\"value\":\"2017\"},\"renderers\":[{\"id\":\"2521\",\"type\":\"GlyphRenderer\"}]},\"id\":\"2532\",\"type\":\"LegendItem\"},{\"attributes\":{\"items\":[{\"id\":\"2500\",\"type\":\"LegendItem\"},{\"id\":\"2516\",\"type\":\"LegendItem\"},{\"id\":\"2532\",\"type\":\"LegendItem\"}],\"location\":\"top_left\",\"orientation\":\"horizontal\",\"plot\":{\"id\":\"2453\",\"subtype\":\"Figure\",\"type\":\"Plot\"}},\"id\":\"2499\",\"type\":\"Legend\"},{\"attributes\":{\"formatter\":{\"id\":\"2495\",\"type\":\"BasicTickFormatter\"},\"major_label_text_font_size\":{\"value\":\"20pt\"},\"plot\":{\"id\":\"2453\",\"subtype\":\"Figure\",\"type\":\"Plot\"},\"ticker\":{\"id\":\"2467\",\"type\":\"BasicTicker\"}},\"id\":\"2466\",\"type\":\"LinearAxis\"},{\"attributes\":{\"label\":{\"value\":\"2015\"},\"renderers\":[{\"id\":\"2490\",\"type\":\"GlyphRenderer\"}]},\"id\":\"2500\",\"type\":\"LegendItem\"},{\"attributes\":{},\"id\":\"2467\",\"type\":\"BasicTicker\"},{\"attributes\":{\"range\":{\"id\":\"2454\",\"type\":\"FactorRange\"},\"value\":0.25},\"id\":\"2517\",\"type\":\"Dodge\"},{\"attributes\":{\"dimension\":1,\"plot\":{\"id\":\"2453\",\"subtype\":\"Figure\",\"type\":\"Plot\"},\"ticker\":{\"id\":\"2467\",\"type\":\"BasicTicker\"}},\"id\":\"2470\",\"type\":\"Grid\"},{\"attributes\":{\"fill_color\":{\"value\":\"#c9d9d3\"},\"line_color\":{\"value\":\"#c9d9d3\"},\"top\":{\"field\":\"2015\"},\"width\":{\"value\":0.2},\"x\":{\"field\":\"fruits\",\"transform\":{\"id\":\"2486\",\"type\":\"Dodge\"}}},\"id\":\"2488\",\"type\":\"VBar\"},{\"attributes\":{\"fill_color\":{\"value\":\"#718dbf\"},\"line_color\":{\"value\":\"#718dbf\"},\"top\":{\"field\":\"2016\"},\"width\":{\"value\":0.2},\"x\":{\"field\":\"fruits\",\"transform\":{\"id\":\"2501\",\"type\":\"Dodge\"}}},\"id\":\"2503\",\"type\":\"VBar\"},{\"attributes\":{\"fill_alpha\":{\"value\":0.1},\"fill_color\":{\"value\":\"#1f77b4\"},\"line_alpha\":{\"value\":0.1},\"line_color\":{\"value\":\"#1f77b4\"},\"top\":{\"field\":\"2015\"},\"width\":{\"value\":0.2},\"x\":{\"field\":\"fruits\",\"transform\":{\"id\":\"2486\",\"type\":\"Dodge\"}}},\"id\":\"2489\",\"type\":\"VBar\"},{\"attributes\":{\"fill_alpha\":{\"value\":0.1},\"fill_color\":{\"value\":\"#1f77b4\"},\"line_alpha\":{\"value\":0.1},\"line_color\":{\"value\":\"#1f77b4\"},\"top\":{\"field\":\"2016\"},\"width\":{\"value\":0.2},\"x\":{\"field\":\"fruits\",\"transform\":{\"id\":\"2501\",\"type\":\"Dodge\"}}},\"id\":\"2504\",\"type\":\"VBar\"},{\"attributes\":{\"active_drag\":\"auto\",\"active_inspect\":\"auto\",\"active_multi\":null,\"active_scroll\":\"auto\",\"active_tap\":\"auto\",\"tools\":[{\"id\":\"2471\",\"type\":\"PanTool\"},{\"id\":\"2472\",\"type\":\"WheelZoomTool\"},{\"id\":\"2473\",\"type\":\"BoxZoomTool\"},{\"id\":\"2474\",\"type\":\"SaveTool\"},{\"id\":\"2475\",\"type\":\"ResetTool\"},{\"id\":\"2476\",\"type\":\"HelpTool\"}]},\"id\":\"2477\",\"type\":\"Toolbar\"},{\"attributes\":{},\"id\":\"2471\",\"type\":\"PanTool\"},{\"attributes\":{\"data_source\":{\"id\":\"2452\",\"type\":\"ColumnDataSource\"},\"glyph\":{\"id\":\"2503\",\"type\":\"VBar\"},\"hover_glyph\":null,\"muted_glyph\":null,\"nonselection_glyph\":{\"id\":\"2504\",\"type\":\"VBar\"},\"selection_glyph\":null,\"view\":{\"id\":\"2506\",\"type\":\"CDSView\"}},\"id\":\"2505\",\"type\":\"GlyphRenderer\"},{\"attributes\":{\"data_source\":{\"id\":\"2452\",\"type\":\"ColumnDataSource\"},\"glyph\":{\"id\":\"2488\",\"type\":\"VBar\"},\"hover_glyph\":null,\"muted_glyph\":null,\"nonselection_glyph\":{\"id\":\"2489\",\"type\":\"VBar\"},\"selection_glyph\":null,\"view\":{\"id\":\"2491\",\"type\":\"CDSView\"}},\"id\":\"2490\",\"type\":\"GlyphRenderer\"},{\"attributes\":{\"source\":{\"id\":\"2452\",\"type\":\"ColumnDataSource\"}},\"id\":\"2506\",\"type\":\"CDSView\"},{\"attributes\":{\"formatter\":{\"id\":\"2497\",\"type\":\"CategoricalTickFormatter\"},\"major_label_text_font_size\":{\"value\":\"20pt\"},\"plot\":{\"id\":\"2453\",\"subtype\":\"Figure\",\"type\":\"Plot\"},\"ticker\":{\"id\":\"2463\",\"type\":\"CategoricalTicker\"}},\"id\":\"2462\",\"type\":\"CategoricalAxis\"},{\"attributes\":{},\"id\":\"2472\",\"type\":\"WheelZoomTool\"},{\"attributes\":{},\"id\":\"2514\",\"type\":\"Selection\"},{\"attributes\":{},\"id\":\"2476\",\"type\":\"HelpTool\"},{\"attributes\":{\"range\":{\"id\":\"2454\",\"type\":\"FactorRange\"},\"value\":-0.25},\"id\":\"2486\",\"type\":\"Dodge\"},{\"attributes\":{\"overlay\":{\"id\":\"2479\",\"type\":\"BoxAnnotation\"}},\"id\":\"2473\",\"type\":\"BoxZoomTool\"},{\"attributes\":{\"callback\":null,\"data\":{\"2015\":[2,1,4,3,2,4],\"2016\":[5,3,3,2,4,5],\"2017\":[3,2,4,4,5,4],\"fruits\":[\"Apples\",\"Pears\",\"Nectarines\",\"Plums\",\"Grapes\",\"Strawberries\"]},\"selected\":{\"id\":\"2514\",\"type\":\"Selection\"},\"selection_policy\":{\"id\":\"2515\",\"type\":\"UnionRenderers\"}},\"id\":\"2452\",\"type\":\"ColumnDataSource\"},{\"attributes\":{},\"id\":\"2515\",\"type\":\"UnionRenderers\"},{\"attributes\":{},\"id\":\"2474\",\"type\":\"SaveTool\"},{\"attributes\":{\"label\":{\"value\":\"2016\"},\"renderers\":[{\"id\":\"2505\",\"type\":\"GlyphRenderer\"}]},\"id\":\"2516\",\"type\":\"LegendItem\"},{\"attributes\":{\"range\":{\"id\":\"2454\",\"type\":\"FactorRange\"}},\"id\":\"2501\",\"type\":\"Dodge\"},{\"attributes\":{},\"id\":\"2475\",\"type\":\"ResetTool\"},{\"attributes\":{\"callback\":null,\"factors\":[\"Apples\",\"Pears\",\"Nectarines\",\"Plums\",\"Grapes\",\"Strawberries\"]},\"id\":\"2454\",\"type\":\"FactorRange\"},{\"attributes\":{\"callback\":null,\"end\":6},\"id\":\"2456\",\"type\":\"Range1d\"},{\"attributes\":{\"bottom_units\":\"screen\",\"fill_alpha\":{\"value\":0.5},\"fill_color\":{\"value\":\"lightgrey\"},\"left_units\":\"screen\",\"level\":\"overlay\",\"line_alpha\":{\"value\":1.0},\"line_color\":{\"value\":\"black\"},\"line_dash\":[4,4],\"line_width\":{\"value\":2},\"plot\":null,\"render_mode\":\"css\",\"right_units\":\"screen\",\"top_units\":\"screen\"},\"id\":\"2479\",\"type\":\"BoxAnnotation\"},{\"attributes\":{},\"id\":\"2458\",\"type\":\"CategoricalScale\"},{\"attributes\":{\"fill_color\":{\"value\":\"#e84d60\"},\"line_color\":{\"value\":\"#e84d60\"},\"top\":{\"field\":\"2017\"},\"width\":{\"value\":0.2},\"x\":{\"field\":\"fruits\",\"transform\":{\"id\":\"2517\",\"type\":\"Dodge\"}}},\"id\":\"2519\",\"type\":\"VBar\"},{\"attributes\":{},\"id\":\"2460\",\"type\":\"LinearScale\"},{\"attributes\":{\"fill_alpha\":{\"value\":0.1},\"fill_color\":{\"value\":\"#1f77b4\"},\"line_alpha\":{\"value\":0.1},\"line_color\":{\"value\":\"#1f77b4\"},\"top\":{\"field\":\"2017\"},\"width\":{\"value\":0.2},\"x\":{\"field\":\"fruits\",\"transform\":{\"id\":\"2517\",\"type\":\"Dodge\"}}},\"id\":\"2520\",\"type\":\"VBar\"},{\"attributes\":{\"source\":{\"id\":\"2452\",\"type\":\"ColumnDataSource\"}},\"id\":\"2491\",\"type\":\"CDSView\"},{\"attributes\":{\"data_source\":{\"id\":\"2452\",\"type\":\"ColumnDataSource\"},\"glyph\":{\"id\":\"2519\",\"type\":\"VBar\"},\"hover_glyph\":null,\"muted_glyph\":null,\"nonselection_glyph\":{\"id\":\"2520\",\"type\":\"VBar\"},\"selection_glyph\":null,\"view\":{\"id\":\"2522\",\"type\":\"CDSView\"}},\"id\":\"2521\",\"type\":\"GlyphRenderer\"},{\"attributes\":{\"plot\":null,\"text\":\"\"},\"id\":\"2493\",\"type\":\"Title\"}],\"root_ids\":[\"2453\"]},\"title\":\"Bokeh Application\",\"version\":\"1.0.2\"}};\n",
       "  var render_items = [{\"docid\":\"df87b80b-5a32-47ba-8472-f17a99c236d0\",\"roots\":{\"2453\":\"5a401fa0-4095-4eed-96b1-e67ee313f642\"}}];\n",
       "  root.Bokeh.embed.embed_items_notebook(docs_json, render_items);\n",
       "\n",
       "  }\n",
       "  if (root.Bokeh !== undefined) {\n",
       "    embed_document(root);\n",
       "  } else {\n",
       "    var attempts = 0;\n",
       "    var timer = setInterval(function(root) {\n",
       "      if (root.Bokeh !== undefined) {\n",
       "        embed_document(root);\n",
       "        clearInterval(timer);\n",
       "      }\n",
       "      attempts++;\n",
       "      if (attempts > 100) {\n",
       "        console.log(\"Bokeh: ERROR: Unable to run BokehJS code because BokehJS library is missing\");\n",
       "        clearInterval(timer);\n",
       "      }\n",
       "    }, 10, root)\n",
       "  }\n",
       "})(window);"
      ],
      "application/vnd.bokehjs_exec.v0+json": ""
     },
     "metadata": {
      "application/vnd.bokehjs_exec.v0+json": {
       "id": "2453"
      }
     },
     "output_type": "display_data"
    }
   ],
   "source": [
    "from bokeh.core.properties import value\n",
    "from bokeh.transform import dodge\n",
    "\n",
    "source = ColumnDataSource(data=data)\n",
    "\n",
    "p = figure(x_range=fruits, y_range=(0, 6),  # we can define ranges in both axis\n",
    "           plot_width=900, plot_height=500)\n",
    "\n",
    "p.vbar(x=dodge('fruits', -0.25, range=p.x_range), \n",
    "       top='2015', width=0.2, source=source, color=\"#c9d9d3\", legend=value(\"2015\"))\n",
    "\n",
    "p.vbar(x=dodge('fruits',  0.0,  range=p.x_range), \n",
    "       top='2016', width=0.2, source=source, color=\"#718dbf\", legend=value(\"2016\"))\n",
    "\n",
    "p.vbar(x=dodge('fruits',  0.25, range=p.x_range), \n",
    "       top='2017', width=0.2, source=source, color=\"#e84d60\", legend=value(\"2017\"))\n",
    "\n",
    "p.legend.location = \"top_left\"\n",
    "p.legend.orientation = \"horizontal\"\n",
    "\n",
    "p.xaxis.major_label_text_font_size = \"20pt\"\n",
    "p.yaxis.major_label_text_font_size = \"20pt\"\n",
    "\n",
    "show(p)"
   ]
  },
  {
   "cell_type": "markdown",
   "metadata": {
    "slideshow": {
     "slide_type": "subslide"
    }
   },
   "source": [
    "## Geometries"
   ]
  },
  {
   "cell_type": "code",
   "execution_count": 17,
   "metadata": {
    "slideshow": {
     "slide_type": "-"
    }
   },
   "outputs": [
    {
     "data": {
      "text/html": [
       "\n",
       "\n",
       "\n",
       "\n",
       "\n",
       "\n",
       "  <div class=\"bk-root\" id=\"ee25b5a2-5509-4576-a3fe-cd1dd190aec0\"></div>\n"
      ]
     },
     "metadata": {},
     "output_type": "display_data"
    },
    {
     "data": {
      "application/javascript": [
       "(function(root) {\n",
       "  function embed_document(root) {\n",
       "    \n",
       "  var docs_json = {\"df045fa2-76cd-445e-b05d-bdf2f60eaa6a\":{\"roots\":{\"references\":[{\"attributes\":{\"below\":[{\"id\":\"2695\",\"type\":\"LinearAxis\"}],\"left\":[{\"id\":\"2700\",\"type\":\"LinearAxis\"}],\"plot_height\":400,\"plot_width\":900,\"renderers\":[{\"id\":\"2695\",\"type\":\"LinearAxis\"},{\"id\":\"2699\",\"type\":\"Grid\"},{\"id\":\"2700\",\"type\":\"LinearAxis\"},{\"id\":\"2704\",\"type\":\"Grid\"},{\"id\":\"2713\",\"type\":\"BoxAnnotation\"},{\"id\":\"2723\",\"type\":\"GlyphRenderer\"}],\"title\":{\"id\":\"2825\",\"type\":\"Title\"},\"toolbar\":{\"id\":\"2711\",\"type\":\"Toolbar\"},\"x_range\":{\"id\":\"2687\",\"type\":\"DataRange1d\"},\"x_scale\":{\"id\":\"2691\",\"type\":\"LinearScale\"},\"y_range\":{\"id\":\"2689\",\"type\":\"DataRange1d\"},\"y_scale\":{\"id\":\"2693\",\"type\":\"LinearScale\"}},\"id\":\"2686\",\"subtype\":\"Figure\",\"type\":\"Plot\"},{\"attributes\":{},\"id\":\"2710\",\"type\":\"HelpTool\"},{\"attributes\":{},\"id\":\"2827\",\"type\":\"BasicTickFormatter\"},{\"attributes\":{\"bottom\":{\"field\":\"bottom\"},\"fill_alpha\":{\"value\":0.1},\"fill_color\":{\"value\":\"#1f77b4\"},\"left\":{\"field\":\"left\"},\"line_alpha\":{\"value\":0.1},\"line_color\":{\"value\":\"#1f77b4\"},\"right\":{\"field\":\"right\"},\"top\":{\"field\":\"top\"}},\"id\":\"2722\",\"type\":\"Quad\"},{\"attributes\":{\"callback\":null},\"id\":\"2689\",\"type\":\"DataRange1d\"},{\"attributes\":{\"bottom_units\":\"screen\",\"fill_alpha\":{\"value\":0.5},\"fill_color\":{\"value\":\"lightgrey\"},\"left_units\":\"screen\",\"level\":\"overlay\",\"line_alpha\":{\"value\":1.0},\"line_color\":{\"value\":\"black\"},\"line_dash\":[4,4],\"line_width\":{\"value\":2},\"plot\":null,\"render_mode\":\"css\",\"right_units\":\"screen\",\"top_units\":\"screen\"},\"id\":\"2713\",\"type\":\"BoxAnnotation\"},{\"attributes\":{\"data_source\":{\"id\":\"2720\",\"type\":\"ColumnDataSource\"},\"glyph\":{\"id\":\"2721\",\"type\":\"Quad\"},\"hover_glyph\":null,\"muted_glyph\":null,\"nonselection_glyph\":{\"id\":\"2722\",\"type\":\"Quad\"},\"selection_glyph\":null,\"view\":{\"id\":\"2724\",\"type\":\"CDSView\"}},\"id\":\"2723\",\"type\":\"GlyphRenderer\"},{\"attributes\":{},\"id\":\"2691\",\"type\":\"LinearScale\"},{\"attributes\":{\"plot\":null,\"text\":\"\"},\"id\":\"2825\",\"type\":\"Title\"},{\"attributes\":{},\"id\":\"2693\",\"type\":\"LinearScale\"},{\"attributes\":{\"overlay\":{\"id\":\"2713\",\"type\":\"BoxAnnotation\"}},\"id\":\"2707\",\"type\":\"BoxZoomTool\"},{\"attributes\":{\"callback\":null},\"id\":\"2687\",\"type\":\"DataRange1d\"},{\"attributes\":{\"formatter\":{\"id\":\"2829\",\"type\":\"BasicTickFormatter\"},\"plot\":{\"id\":\"2686\",\"subtype\":\"Figure\",\"type\":\"Plot\"},\"ticker\":{\"id\":\"2696\",\"type\":\"BasicTicker\"}},\"id\":\"2695\",\"type\":\"LinearAxis\"},{\"attributes\":{\"source\":{\"id\":\"2720\",\"type\":\"ColumnDataSource\"}},\"id\":\"2724\",\"type\":\"CDSView\"},{\"attributes\":{\"formatter\":{\"id\":\"2827\",\"type\":\"BasicTickFormatter\"},\"plot\":{\"id\":\"2686\",\"subtype\":\"Figure\",\"type\":\"Plot\"},\"ticker\":{\"id\":\"2701\",\"type\":\"BasicTicker\"}},\"id\":\"2700\",\"type\":\"LinearAxis\"},{\"attributes\":{},\"id\":\"2831\",\"type\":\"Selection\"},{\"attributes\":{},\"id\":\"2696\",\"type\":\"BasicTicker\"},{\"attributes\":{},\"id\":\"2832\",\"type\":\"UnionRenderers\"},{\"attributes\":{\"plot\":{\"id\":\"2686\",\"subtype\":\"Figure\",\"type\":\"Plot\"},\"ticker\":{\"id\":\"2696\",\"type\":\"BasicTicker\"}},\"id\":\"2699\",\"type\":\"Grid\"},{\"attributes\":{\"callback\":null,\"data\":{\"bottom\":[1,2,3],\"left\":[1,2,3],\"right\":[1.2,2.5,3.7],\"top\":[2,3,4]},\"selected\":{\"id\":\"2831\",\"type\":\"Selection\"},\"selection_policy\":{\"id\":\"2832\",\"type\":\"UnionRenderers\"}},\"id\":\"2720\",\"type\":\"ColumnDataSource\"},{\"attributes\":{},\"id\":\"2701\",\"type\":\"BasicTicker\"},{\"attributes\":{\"dimension\":1,\"plot\":{\"id\":\"2686\",\"subtype\":\"Figure\",\"type\":\"Plot\"},\"ticker\":{\"id\":\"2701\",\"type\":\"BasicTicker\"}},\"id\":\"2704\",\"type\":\"Grid\"},{\"attributes\":{\"bottom\":{\"field\":\"bottom\"},\"fill_color\":{\"value\":\"#1f77b4\"},\"left\":{\"field\":\"left\"},\"line_color\":{\"value\":\"#1f77b4\"},\"right\":{\"field\":\"right\"},\"top\":{\"field\":\"top\"}},\"id\":\"2721\",\"type\":\"Quad\"},{\"attributes\":{},\"id\":\"2829\",\"type\":\"BasicTickFormatter\"},{\"attributes\":{\"active_drag\":\"auto\",\"active_inspect\":\"auto\",\"active_multi\":null,\"active_scroll\":\"auto\",\"active_tap\":\"auto\",\"tools\":[{\"id\":\"2705\",\"type\":\"PanTool\"},{\"id\":\"2706\",\"type\":\"WheelZoomTool\"},{\"id\":\"2707\",\"type\":\"BoxZoomTool\"},{\"id\":\"2708\",\"type\":\"SaveTool\"},{\"id\":\"2709\",\"type\":\"ResetTool\"},{\"id\":\"2710\",\"type\":\"HelpTool\"}]},\"id\":\"2711\",\"type\":\"Toolbar\"},{\"attributes\":{},\"id\":\"2705\",\"type\":\"PanTool\"},{\"attributes\":{},\"id\":\"2706\",\"type\":\"WheelZoomTool\"},{\"attributes\":{},\"id\":\"2709\",\"type\":\"ResetTool\"},{\"attributes\":{},\"id\":\"2708\",\"type\":\"SaveTool\"}],\"root_ids\":[\"2686\"]},\"title\":\"Bokeh Application\",\"version\":\"1.0.2\"}};\n",
       "  var render_items = [{\"docid\":\"df045fa2-76cd-445e-b05d-bdf2f60eaa6a\",\"roots\":{\"2686\":\"ee25b5a2-5509-4576-a3fe-cd1dd190aec0\"}}];\n",
       "  root.Bokeh.embed.embed_items_notebook(docs_json, render_items);\n",
       "\n",
       "  }\n",
       "  if (root.Bokeh !== undefined) {\n",
       "    embed_document(root);\n",
       "  } else {\n",
       "    var attempts = 0;\n",
       "    var timer = setInterval(function(root) {\n",
       "      if (root.Bokeh !== undefined) {\n",
       "        embed_document(root);\n",
       "        clearInterval(timer);\n",
       "      }\n",
       "      attempts++;\n",
       "      if (attempts > 100) {\n",
       "        console.log(\"Bokeh: ERROR: Unable to run BokehJS code because BokehJS library is missing\");\n",
       "        clearInterval(timer);\n",
       "      }\n",
       "    }, 10, root)\n",
       "  }\n",
       "})(window);"
      ],
      "application/vnd.bokehjs_exec.v0+json": ""
     },
     "metadata": {
      "application/vnd.bokehjs_exec.v0+json": {
       "id": "2686"
      }
     },
     "output_type": "display_data"
    }
   ],
   "source": [
    "top=[2, 3, 4]\n",
    "bottom=[1, 2, 3]\n",
    "left=[1, 2, 3]\n",
    "right=[1.2, 2.5, 3.7]\n",
    "\n",
    "p = figure(plot_width=900, plot_height=400)\n",
    "\n",
    "p.quad(top=top, bottom=bottom, left=left, right=right)\n",
    "\n",
    "show(p)"
   ]
  },
  {
   "cell_type": "markdown",
   "metadata": {
    "slideshow": {
     "slide_type": "subslide"
    }
   },
   "source": [
    "## Geometries"
   ]
  },
  {
   "cell_type": "code",
   "execution_count": 18,
   "metadata": {
    "slideshow": {
     "slide_type": "-"
    }
   },
   "outputs": [
    {
     "data": {
      "text/html": [
       "\n",
       "\n",
       "\n",
       "\n",
       "\n",
       "\n",
       "  <div class=\"bk-root\" id=\"8c33e3dc-bcc2-40d0-8867-78aa9efc5092\"></div>\n"
      ]
     },
     "metadata": {},
     "output_type": "display_data"
    },
    {
     "data": {
      "application/javascript": [
       "(function(root) {\n",
       "  function embed_document(root) {\n",
       "    \n",
       "  var docs_json = {\"ff751f7e-6269-4ef4-882b-a40836ce0aaf\":{\"roots\":{\"references\":[{\"attributes\":{\"below\":[{\"id\":\"2896\",\"type\":\"LinearAxis\"}],\"left\":[{\"id\":\"2901\",\"type\":\"LinearAxis\"}],\"plot_height\":400,\"plot_width\":900,\"renderers\":[{\"id\":\"2896\",\"type\":\"LinearAxis\"},{\"id\":\"2900\",\"type\":\"Grid\"},{\"id\":\"2901\",\"type\":\"LinearAxis\"},{\"id\":\"2905\",\"type\":\"Grid\"},{\"id\":\"2914\",\"type\":\"BoxAnnotation\"},{\"id\":\"2924\",\"type\":\"GlyphRenderer\"}],\"title\":{\"id\":\"3035\",\"type\":\"Title\"},\"toolbar\":{\"id\":\"2912\",\"type\":\"Toolbar\"},\"x_range\":{\"id\":\"2888\",\"type\":\"DataRange1d\"},\"x_scale\":{\"id\":\"2892\",\"type\":\"LinearScale\"},\"y_range\":{\"id\":\"2890\",\"type\":\"DataRange1d\"},\"y_scale\":{\"id\":\"2894\",\"type\":\"LinearScale\"}},\"id\":\"2887\",\"subtype\":\"Figure\",\"type\":\"Plot\"},{\"attributes\":{\"callback\":null},\"id\":\"2888\",\"type\":\"DataRange1d\"},{\"attributes\":{\"fill_color\":{\"value\":\"#1f77b4\"},\"line_color\":{\"value\":\"#1f77b4\"},\"xs\":{\"field\":\"xs\"},\"ys\":{\"field\":\"ys\"}},\"id\":\"2922\",\"type\":\"Patches\"},{\"attributes\":{\"source\":{\"id\":\"2921\",\"type\":\"ColumnDataSource\"}},\"id\":\"2925\",\"type\":\"CDSView\"},{\"attributes\":{},\"id\":\"3039\",\"type\":\"BasicTickFormatter\"},{\"attributes\":{},\"id\":\"3041\",\"type\":\"Selection\"},{\"attributes\":{},\"id\":\"3042\",\"type\":\"UnionRenderers\"},{\"attributes\":{\"formatter\":{\"id\":\"3037\",\"type\":\"BasicTickFormatter\"},\"plot\":{\"id\":\"2887\",\"subtype\":\"Figure\",\"type\":\"Plot\"},\"ticker\":{\"id\":\"2902\",\"type\":\"BasicTicker\"}},\"id\":\"2901\",\"type\":\"LinearAxis\"},{\"attributes\":{},\"id\":\"2907\",\"type\":\"WheelZoomTool\"},{\"attributes\":{},\"id\":\"2897\",\"type\":\"BasicTicker\"},{\"attributes\":{\"plot\":{\"id\":\"2887\",\"subtype\":\"Figure\",\"type\":\"Plot\"},\"ticker\":{\"id\":\"2897\",\"type\":\"BasicTicker\"}},\"id\":\"2900\",\"type\":\"Grid\"},{\"attributes\":{\"dimension\":1,\"plot\":{\"id\":\"2887\",\"subtype\":\"Figure\",\"type\":\"Plot\"},\"ticker\":{\"id\":\"2902\",\"type\":\"BasicTicker\"}},\"id\":\"2905\",\"type\":\"Grid\"},{\"attributes\":{},\"id\":\"2902\",\"type\":\"BasicTicker\"},{\"attributes\":{},\"id\":\"2906\",\"type\":\"PanTool\"},{\"attributes\":{},\"id\":\"2892\",\"type\":\"LinearScale\"},{\"attributes\":{\"callback\":null,\"data\":{\"xs\":[[1,3,2],[3,4,6,6]],\"ys\":[[2,1,4],[4,7,8,5]]},\"selected\":{\"id\":\"3041\",\"type\":\"Selection\"},\"selection_policy\":{\"id\":\"3042\",\"type\":\"UnionRenderers\"}},\"id\":\"2921\",\"type\":\"ColumnDataSource\"},{\"attributes\":{\"callback\":null},\"id\":\"2890\",\"type\":\"DataRange1d\"},{\"attributes\":{\"plot\":null,\"text\":\"\"},\"id\":\"3035\",\"type\":\"Title\"},{\"attributes\":{},\"id\":\"3037\",\"type\":\"BasicTickFormatter\"},{\"attributes\":{},\"id\":\"2894\",\"type\":\"LinearScale\"},{\"attributes\":{},\"id\":\"2909\",\"type\":\"SaveTool\"},{\"attributes\":{},\"id\":\"2911\",\"type\":\"HelpTool\"},{\"attributes\":{\"active_drag\":\"auto\",\"active_inspect\":\"auto\",\"active_multi\":null,\"active_scroll\":\"auto\",\"active_tap\":\"auto\",\"tools\":[{\"id\":\"2906\",\"type\":\"PanTool\"},{\"id\":\"2907\",\"type\":\"WheelZoomTool\"},{\"id\":\"2908\",\"type\":\"BoxZoomTool\"},{\"id\":\"2909\",\"type\":\"SaveTool\"},{\"id\":\"2910\",\"type\":\"ResetTool\"},{\"id\":\"2911\",\"type\":\"HelpTool\"}]},\"id\":\"2912\",\"type\":\"Toolbar\"},{\"attributes\":{\"formatter\":{\"id\":\"3039\",\"type\":\"BasicTickFormatter\"},\"plot\":{\"id\":\"2887\",\"subtype\":\"Figure\",\"type\":\"Plot\"},\"ticker\":{\"id\":\"2897\",\"type\":\"BasicTicker\"}},\"id\":\"2896\",\"type\":\"LinearAxis\"},{\"attributes\":{\"overlay\":{\"id\":\"2914\",\"type\":\"BoxAnnotation\"}},\"id\":\"2908\",\"type\":\"BoxZoomTool\"},{\"attributes\":{\"fill_alpha\":{\"value\":0.1},\"fill_color\":{\"value\":\"#1f77b4\"},\"line_alpha\":{\"value\":0.1},\"line_color\":{\"value\":\"#1f77b4\"},\"xs\":{\"field\":\"xs\"},\"ys\":{\"field\":\"ys\"}},\"id\":\"2923\",\"type\":\"Patches\"},{\"attributes\":{},\"id\":\"2910\",\"type\":\"ResetTool\"},{\"attributes\":{\"bottom_units\":\"screen\",\"fill_alpha\":{\"value\":0.5},\"fill_color\":{\"value\":\"lightgrey\"},\"left_units\":\"screen\",\"level\":\"overlay\",\"line_alpha\":{\"value\":1.0},\"line_color\":{\"value\":\"black\"},\"line_dash\":[4,4],\"line_width\":{\"value\":2},\"plot\":null,\"render_mode\":\"css\",\"right_units\":\"screen\",\"top_units\":\"screen\"},\"id\":\"2914\",\"type\":\"BoxAnnotation\"},{\"attributes\":{\"data_source\":{\"id\":\"2921\",\"type\":\"ColumnDataSource\"},\"glyph\":{\"id\":\"2922\",\"type\":\"Patches\"},\"hover_glyph\":null,\"muted_glyph\":null,\"nonselection_glyph\":{\"id\":\"2923\",\"type\":\"Patches\"},\"selection_glyph\":null,\"view\":{\"id\":\"2925\",\"type\":\"CDSView\"}},\"id\":\"2924\",\"type\":\"GlyphRenderer\"}],\"root_ids\":[\"2887\"]},\"title\":\"Bokeh Application\",\"version\":\"1.0.2\"}};\n",
       "  var render_items = [{\"docid\":\"ff751f7e-6269-4ef4-882b-a40836ce0aaf\",\"roots\":{\"2887\":\"8c33e3dc-bcc2-40d0-8867-78aa9efc5092\"}}];\n",
       "  root.Bokeh.embed.embed_items_notebook(docs_json, render_items);\n",
       "\n",
       "  }\n",
       "  if (root.Bokeh !== undefined) {\n",
       "    embed_document(root);\n",
       "  } else {\n",
       "    var attempts = 0;\n",
       "    var timer = setInterval(function(root) {\n",
       "      if (root.Bokeh !== undefined) {\n",
       "        embed_document(root);\n",
       "        clearInterval(timer);\n",
       "      }\n",
       "      attempts++;\n",
       "      if (attempts > 100) {\n",
       "        console.log(\"Bokeh: ERROR: Unable to run BokehJS code because BokehJS library is missing\");\n",
       "        clearInterval(timer);\n",
       "      }\n",
       "    }, 10, root)\n",
       "  }\n",
       "})(window);"
      ],
      "application/vnd.bokehjs_exec.v0+json": ""
     },
     "metadata": {
      "application/vnd.bokehjs_exec.v0+json": {
       "id": "2887"
      }
     },
     "output_type": "display_data"
    }
   ],
   "source": [
    "x = [[1, 3, 2], [3, 4, 6, 6]]\n",
    "y = [[2, 1, 4], [4, 7, 8, 5]]\n",
    "\n",
    "p = figure(plot_width=900, plot_height=400)\n",
    "\n",
    "p.patches(x, y)\n",
    "\n",
    "show(p)"
   ]
  },
  {
   "cell_type": "markdown",
   "metadata": {
    "slideshow": {
     "slide_type": "slide"
    }
   },
   "source": [
    "# Multiple Glyphs "
   ]
  },
  {
   "cell_type": "code",
   "execution_count": 19,
   "metadata": {
    "scrolled": false,
    "slideshow": {
     "slide_type": "-"
    }
   },
   "outputs": [
    {
     "data": {
      "text/html": [
       "\n",
       "\n",
       "\n",
       "\n",
       "\n",
       "\n",
       "  <div class=\"bk-root\" id=\"ab15e31d-f6f8-4dc7-9b6f-67fa03e5f878\"></div>\n"
      ]
     },
     "metadata": {},
     "output_type": "display_data"
    },
    {
     "data": {
      "application/javascript": [
       "(function(root) {\n",
       "  function embed_document(root) {\n",
       "    \n",
       "  var docs_json = {\"2c4b3ae4-1c45-421c-ad01-10658595d584\":{\"roots\":{\"references\":[{\"attributes\":{\"below\":[{\"id\":\"3106\",\"type\":\"LinearAxis\"}],\"left\":[{\"id\":\"3111\",\"type\":\"LinearAxis\"}],\"plot_height\":400,\"plot_width\":900,\"renderers\":[{\"id\":\"3106\",\"type\":\"LinearAxis\"},{\"id\":\"3110\",\"type\":\"Grid\"},{\"id\":\"3111\",\"type\":\"LinearAxis\"},{\"id\":\"3115\",\"type\":\"Grid\"},{\"id\":\"3124\",\"type\":\"BoxAnnotation\"},{\"id\":\"3134\",\"type\":\"GlyphRenderer\"}],\"title\":{\"id\":\"3254\",\"type\":\"Title\"},\"toolbar\":{\"id\":\"3122\",\"type\":\"Toolbar\"},\"x_range\":{\"id\":\"3098\",\"type\":\"DataRange1d\"},\"x_scale\":{\"id\":\"3102\",\"type\":\"LinearScale\"},\"y_range\":{\"id\":\"3100\",\"type\":\"DataRange1d\"},\"y_scale\":{\"id\":\"3104\",\"type\":\"LinearScale\"}},\"id\":\"3097\",\"subtype\":\"Figure\",\"type\":\"Plot\"},{\"attributes\":{},\"id\":\"3102\",\"type\":\"LinearScale\"},{\"attributes\":{},\"id\":\"3104\",\"type\":\"LinearScale\"},{\"attributes\":{\"source\":{\"id\":\"3131\",\"type\":\"ColumnDataSource\"}},\"id\":\"3135\",\"type\":\"CDSView\"},{\"attributes\":{},\"id\":\"3261\",\"type\":\"UnionRenderers\"},{\"attributes\":{\"active_drag\":\"auto\",\"active_inspect\":\"auto\",\"active_multi\":null,\"active_scroll\":\"auto\",\"active_tap\":\"auto\",\"tools\":[{\"id\":\"3116\",\"type\":\"PanTool\"},{\"id\":\"3117\",\"type\":\"WheelZoomTool\"},{\"id\":\"3118\",\"type\":\"BoxZoomTool\"},{\"id\":\"3119\",\"type\":\"SaveTool\"},{\"id\":\"3120\",\"type\":\"ResetTool\"},{\"id\":\"3121\",\"type\":\"HelpTool\"}]},\"id\":\"3122\",\"type\":\"Toolbar\"},{\"attributes\":{},\"id\":\"3107\",\"type\":\"BasicTicker\"},{\"attributes\":{\"line_alpha\":0.1,\"line_color\":\"#1f77b4\",\"line_width\":4,\"x\":{\"field\":\"x\"},\"y\":{\"field\":\"y\"}},\"id\":\"3133\",\"type\":\"Line\"},{\"attributes\":{\"callback\":null,\"data\":{\"x\":[1,2,3,4,5],\"y\":[6,7,8,7,3]},\"selected\":{\"id\":\"3260\",\"type\":\"Selection\"},\"selection_policy\":{\"id\":\"3261\",\"type\":\"UnionRenderers\"}},\"id\":\"3131\",\"type\":\"ColumnDataSource\"},{\"attributes\":{},\"id\":\"3258\",\"type\":\"BasicTickFormatter\"},{\"attributes\":{\"plot\":null,\"text\":\"\"},\"id\":\"3254\",\"type\":\"Title\"},{\"attributes\":{\"callback\":null},\"id\":\"3098\",\"type\":\"DataRange1d\"},{\"attributes\":{\"dimension\":1,\"plot\":{\"id\":\"3097\",\"subtype\":\"Figure\",\"type\":\"Plot\"},\"ticker\":{\"id\":\"3112\",\"type\":\"BasicTicker\"}},\"id\":\"3115\",\"type\":\"Grid\"},{\"attributes\":{},\"id\":\"3119\",\"type\":\"SaveTool\"},{\"attributes\":{},\"id\":\"3117\",\"type\":\"WheelZoomTool\"},{\"attributes\":{\"plot\":{\"id\":\"3097\",\"subtype\":\"Figure\",\"type\":\"Plot\"},\"ticker\":{\"id\":\"3107\",\"type\":\"BasicTicker\"}},\"id\":\"3110\",\"type\":\"Grid\"},{\"attributes\":{\"overlay\":{\"id\":\"3124\",\"type\":\"BoxAnnotation\"}},\"id\":\"3118\",\"type\":\"BoxZoomTool\"},{\"attributes\":{\"callback\":null},\"id\":\"3100\",\"type\":\"DataRange1d\"},{\"attributes\":{\"formatter\":{\"id\":\"3256\",\"type\":\"BasicTickFormatter\"},\"plot\":{\"id\":\"3097\",\"subtype\":\"Figure\",\"type\":\"Plot\"},\"ticker\":{\"id\":\"3112\",\"type\":\"BasicTicker\"}},\"id\":\"3111\",\"type\":\"LinearAxis\"},{\"attributes\":{},\"id\":\"3120\",\"type\":\"ResetTool\"},{\"attributes\":{\"formatter\":{\"id\":\"3258\",\"type\":\"BasicTickFormatter\"},\"plot\":{\"id\":\"3097\",\"subtype\":\"Figure\",\"type\":\"Plot\"},\"ticker\":{\"id\":\"3107\",\"type\":\"BasicTicker\"}},\"id\":\"3106\",\"type\":\"LinearAxis\"},{\"attributes\":{},\"id\":\"3112\",\"type\":\"BasicTicker\"},{\"attributes\":{\"data_source\":{\"id\":\"3131\",\"type\":\"ColumnDataSource\"},\"glyph\":{\"id\":\"3132\",\"type\":\"Line\"},\"hover_glyph\":null,\"muted_glyph\":null,\"nonselection_glyph\":{\"id\":\"3133\",\"type\":\"Line\"},\"selection_glyph\":null,\"view\":{\"id\":\"3135\",\"type\":\"CDSView\"}},\"id\":\"3134\",\"type\":\"GlyphRenderer\"},{\"attributes\":{},\"id\":\"3260\",\"type\":\"Selection\"},{\"attributes\":{\"line_color\":\"#1f77b4\",\"line_width\":4,\"x\":{\"field\":\"x\"},\"y\":{\"field\":\"y\"}},\"id\":\"3132\",\"type\":\"Line\"},{\"attributes\":{},\"id\":\"3116\",\"type\":\"PanTool\"},{\"attributes\":{},\"id\":\"3256\",\"type\":\"BasicTickFormatter\"},{\"attributes\":{},\"id\":\"3121\",\"type\":\"HelpTool\"},{\"attributes\":{\"bottom_units\":\"screen\",\"fill_alpha\":{\"value\":0.5},\"fill_color\":{\"value\":\"lightgrey\"},\"left_units\":\"screen\",\"level\":\"overlay\",\"line_alpha\":{\"value\":1.0},\"line_color\":{\"value\":\"black\"},\"line_dash\":[4,4],\"line_width\":{\"value\":2},\"plot\":null,\"render_mode\":\"css\",\"right_units\":\"screen\",\"top_units\":\"screen\"},\"id\":\"3124\",\"type\":\"BoxAnnotation\"}],\"root_ids\":[\"3097\"]},\"title\":\"Bokeh Application\",\"version\":\"1.0.2\"}};\n",
       "  var render_items = [{\"docid\":\"2c4b3ae4-1c45-421c-ad01-10658595d584\",\"roots\":{\"3097\":\"ab15e31d-f6f8-4dc7-9b6f-67fa03e5f878\"}}];\n",
       "  root.Bokeh.embed.embed_items_notebook(docs_json, render_items);\n",
       "\n",
       "  }\n",
       "  if (root.Bokeh !== undefined) {\n",
       "    embed_document(root);\n",
       "  } else {\n",
       "    var attempts = 0;\n",
       "    var timer = setInterval(function(root) {\n",
       "      if (root.Bokeh !== undefined) {\n",
       "        embed_document(root);\n",
       "        clearInterval(timer);\n",
       "      }\n",
       "      attempts++;\n",
       "      if (attempts > 100) {\n",
       "        console.log(\"Bokeh: ERROR: Unable to run BokehJS code because BokehJS library is missing\");\n",
       "        clearInterval(timer);\n",
       "      }\n",
       "    }, 10, root)\n",
       "  }\n",
       "})(window);"
      ],
      "application/vnd.bokehjs_exec.v0+json": ""
     },
     "metadata": {
      "application/vnd.bokehjs_exec.v0+json": {
       "id": "3097"
      }
     },
     "output_type": "display_data"
    },
    {
     "data": {
      "text/html": [
       "\n",
       "\n",
       "\n",
       "\n",
       "\n",
       "\n",
       "  <div class=\"bk-root\" id=\"eaaaf9c5-ade0-4ac5-a15e-e84ed544d1a1\"></div>\n"
      ]
     },
     "metadata": {},
     "output_type": "display_data"
    },
    {
     "data": {
      "application/javascript": [
       "(function(root) {\n",
       "  function embed_document(root) {\n",
       "    \n",
       "  var docs_json = {\"024fd6c6-b3eb-417e-98f4-0fa0d645fb52\":{\"roots\":{\"references\":[{\"attributes\":{\"below\":[{\"id\":\"3106\",\"type\":\"LinearAxis\"}],\"left\":[{\"id\":\"3111\",\"type\":\"LinearAxis\"}],\"plot_height\":400,\"plot_width\":900,\"renderers\":[{\"id\":\"3106\",\"type\":\"LinearAxis\"},{\"id\":\"3110\",\"type\":\"Grid\"},{\"id\":\"3111\",\"type\":\"LinearAxis\"},{\"id\":\"3115\",\"type\":\"Grid\"},{\"id\":\"3124\",\"type\":\"BoxAnnotation\"},{\"id\":\"3134\",\"type\":\"GlyphRenderer\"},{\"id\":\"3319\",\"type\":\"GlyphRenderer\"}],\"title\":{\"id\":\"3254\",\"type\":\"Title\"},\"toolbar\":{\"id\":\"3122\",\"type\":\"Toolbar\"},\"x_range\":{\"id\":\"3098\",\"type\":\"DataRange1d\"},\"x_scale\":{\"id\":\"3102\",\"type\":\"LinearScale\"},\"y_range\":{\"id\":\"3100\",\"type\":\"DataRange1d\"},\"y_scale\":{\"id\":\"3104\",\"type\":\"LinearScale\"}},\"id\":\"3097\",\"subtype\":\"Figure\",\"type\":\"Plot\"},{\"attributes\":{\"data_source\":{\"id\":\"3316\",\"type\":\"ColumnDataSource\"},\"glyph\":{\"id\":\"3317\",\"type\":\"Circle\"},\"hover_glyph\":null,\"muted_glyph\":null,\"nonselection_glyph\":{\"id\":\"3318\",\"type\":\"Circle\"},\"selection_glyph\":null,\"view\":{\"id\":\"3320\",\"type\":\"CDSView\"}},\"id\":\"3319\",\"type\":\"GlyphRenderer\"},{\"attributes\":{},\"id\":\"3102\",\"type\":\"LinearScale\"},{\"attributes\":{},\"id\":\"3448\",\"type\":\"UnionRenderers\"},{\"attributes\":{},\"id\":\"3104\",\"type\":\"LinearScale\"},{\"attributes\":{\"source\":{\"id\":\"3131\",\"type\":\"ColumnDataSource\"}},\"id\":\"3135\",\"type\":\"CDSView\"},{\"attributes\":{\"source\":{\"id\":\"3316\",\"type\":\"ColumnDataSource\"}},\"id\":\"3320\",\"type\":\"CDSView\"},{\"attributes\":{},\"id\":\"3261\",\"type\":\"UnionRenderers\"},{\"attributes\":{\"fill_color\":{\"value\":\"white\"},\"line_color\":{\"value\":\"#1f77b4\"},\"size\":{\"units\":\"screen\",\"value\":15},\"x\":{\"field\":\"x\"},\"y\":{\"field\":\"y\"}},\"id\":\"3317\",\"type\":\"Circle\"},{\"attributes\":{\"active_drag\":\"auto\",\"active_inspect\":\"auto\",\"active_multi\":null,\"active_scroll\":\"auto\",\"active_tap\":\"auto\",\"tools\":[{\"id\":\"3116\",\"type\":\"PanTool\"},{\"id\":\"3117\",\"type\":\"WheelZoomTool\"},{\"id\":\"3118\",\"type\":\"BoxZoomTool\"},{\"id\":\"3119\",\"type\":\"SaveTool\"},{\"id\":\"3120\",\"type\":\"ResetTool\"},{\"id\":\"3121\",\"type\":\"HelpTool\"}]},\"id\":\"3122\",\"type\":\"Toolbar\"},{\"attributes\":{},\"id\":\"3107\",\"type\":\"BasicTicker\"},{\"attributes\":{\"line_alpha\":0.1,\"line_color\":\"#1f77b4\",\"line_width\":4,\"x\":{\"field\":\"x\"},\"y\":{\"field\":\"y\"}},\"id\":\"3133\",\"type\":\"Line\"},{\"attributes\":{\"callback\":null,\"data\":{\"x\":[1,2,3,4,5],\"y\":[6,7,8,7,3]},\"selected\":{\"id\":\"3260\",\"type\":\"Selection\"},\"selection_policy\":{\"id\":\"3261\",\"type\":\"UnionRenderers\"}},\"id\":\"3131\",\"type\":\"ColumnDataSource\"},{\"attributes\":{},\"id\":\"3258\",\"type\":\"BasicTickFormatter\"},{\"attributes\":{\"plot\":null,\"text\":\"\"},\"id\":\"3254\",\"type\":\"Title\"},{\"attributes\":{\"callback\":null},\"id\":\"3098\",\"type\":\"DataRange1d\"},{\"attributes\":{\"callback\":null,\"data\":{\"x\":[1,2,3,4,5],\"y\":[6,7,8,7,3]},\"selected\":{\"id\":\"3447\",\"type\":\"Selection\"},\"selection_policy\":{\"id\":\"3448\",\"type\":\"UnionRenderers\"}},\"id\":\"3316\",\"type\":\"ColumnDataSource\"},{\"attributes\":{\"dimension\":1,\"plot\":{\"id\":\"3097\",\"subtype\":\"Figure\",\"type\":\"Plot\"},\"ticker\":{\"id\":\"3112\",\"type\":\"BasicTicker\"}},\"id\":\"3115\",\"type\":\"Grid\"},{\"attributes\":{},\"id\":\"3119\",\"type\":\"SaveTool\"},{\"attributes\":{},\"id\":\"3117\",\"type\":\"WheelZoomTool\"},{\"attributes\":{\"plot\":{\"id\":\"3097\",\"subtype\":\"Figure\",\"type\":\"Plot\"},\"ticker\":{\"id\":\"3107\",\"type\":\"BasicTicker\"}},\"id\":\"3110\",\"type\":\"Grid\"},{\"attributes\":{\"fill_alpha\":{\"value\":0.1},\"fill_color\":{\"value\":\"#1f77b4\"},\"line_alpha\":{\"value\":0.1},\"line_color\":{\"value\":\"#1f77b4\"},\"size\":{\"units\":\"screen\",\"value\":15},\"x\":{\"field\":\"x\"},\"y\":{\"field\":\"y\"}},\"id\":\"3318\",\"type\":\"Circle\"},{\"attributes\":{\"overlay\":{\"id\":\"3124\",\"type\":\"BoxAnnotation\"}},\"id\":\"3118\",\"type\":\"BoxZoomTool\"},{\"attributes\":{\"callback\":null},\"id\":\"3100\",\"type\":\"DataRange1d\"},{\"attributes\":{\"formatter\":{\"id\":\"3256\",\"type\":\"BasicTickFormatter\"},\"plot\":{\"id\":\"3097\",\"subtype\":\"Figure\",\"type\":\"Plot\"},\"ticker\":{\"id\":\"3112\",\"type\":\"BasicTicker\"}},\"id\":\"3111\",\"type\":\"LinearAxis\"},{\"attributes\":{},\"id\":\"3120\",\"type\":\"ResetTool\"},{\"attributes\":{\"formatter\":{\"id\":\"3258\",\"type\":\"BasicTickFormatter\"},\"plot\":{\"id\":\"3097\",\"subtype\":\"Figure\",\"type\":\"Plot\"},\"ticker\":{\"id\":\"3107\",\"type\":\"BasicTicker\"}},\"id\":\"3106\",\"type\":\"LinearAxis\"},{\"attributes\":{},\"id\":\"3112\",\"type\":\"BasicTicker\"},{\"attributes\":{\"data_source\":{\"id\":\"3131\",\"type\":\"ColumnDataSource\"},\"glyph\":{\"id\":\"3132\",\"type\":\"Line\"},\"hover_glyph\":null,\"muted_glyph\":null,\"nonselection_glyph\":{\"id\":\"3133\",\"type\":\"Line\"},\"selection_glyph\":null,\"view\":{\"id\":\"3135\",\"type\":\"CDSView\"}},\"id\":\"3134\",\"type\":\"GlyphRenderer\"},{\"attributes\":{},\"id\":\"3260\",\"type\":\"Selection\"},{\"attributes\":{\"line_color\":\"#1f77b4\",\"line_width\":4,\"x\":{\"field\":\"x\"},\"y\":{\"field\":\"y\"}},\"id\":\"3132\",\"type\":\"Line\"},{\"attributes\":{},\"id\":\"3116\",\"type\":\"PanTool\"},{\"attributes\":{},\"id\":\"3256\",\"type\":\"BasicTickFormatter\"},{\"attributes\":{},\"id\":\"3447\",\"type\":\"Selection\"},{\"attributes\":{},\"id\":\"3121\",\"type\":\"HelpTool\"},{\"attributes\":{\"bottom_units\":\"screen\",\"fill_alpha\":{\"value\":0.5},\"fill_color\":{\"value\":\"lightgrey\"},\"left_units\":\"screen\",\"level\":\"overlay\",\"line_alpha\":{\"value\":1.0},\"line_color\":{\"value\":\"black\"},\"line_dash\":[4,4],\"line_width\":{\"value\":2},\"plot\":null,\"render_mode\":\"css\",\"right_units\":\"screen\",\"top_units\":\"screen\"},\"id\":\"3124\",\"type\":\"BoxAnnotation\"}],\"root_ids\":[\"3097\"]},\"title\":\"Bokeh Application\",\"version\":\"1.0.2\"}};\n",
       "  var render_items = [{\"docid\":\"024fd6c6-b3eb-417e-98f4-0fa0d645fb52\",\"roots\":{\"3097\":\"eaaaf9c5-ade0-4ac5-a15e-e84ed544d1a1\"}}];\n",
       "  root.Bokeh.embed.embed_items_notebook(docs_json, render_items);\n",
       "\n",
       "  }\n",
       "  if (root.Bokeh !== undefined) {\n",
       "    embed_document(root);\n",
       "  } else {\n",
       "    var attempts = 0;\n",
       "    var timer = setInterval(function(root) {\n",
       "      if (root.Bokeh !== undefined) {\n",
       "        embed_document(root);\n",
       "        clearInterval(timer);\n",
       "      }\n",
       "      attempts++;\n",
       "      if (attempts > 100) {\n",
       "        console.log(\"Bokeh: ERROR: Unable to run BokehJS code because BokehJS library is missing\");\n",
       "        clearInterval(timer);\n",
       "      }\n",
       "    }, 10, root)\n",
       "  }\n",
       "})(window);"
      ],
      "application/vnd.bokehjs_exec.v0+json": ""
     },
     "metadata": {
      "application/vnd.bokehjs_exec.v0+json": {
       "id": "3097"
      }
     },
     "output_type": "display_data"
    }
   ],
   "source": [
    "x = [1, 2, 3, 4, 5]\n",
    "y = [6, 7, 8, 7, 3]\n",
    "\n",
    "p = figure(plot_width=900, plot_height=400)\n",
    "\n",
    "# add both a line and circles on the same plot\n",
    "p.line(x, y, line_width=4)\n",
    "\n",
    "show(p) # show the results\n",
    "\n",
    "p.circle(x, y, fill_color=\"white\", size=15)\n",
    "show(p) # show the results\n"
   ]
  },
  {
   "cell_type": "code",
   "execution_count": 20,
   "metadata": {
    "slideshow": {
     "slide_type": "subslide"
    }
   },
   "outputs": [
    {
     "data": {
      "text/html": [
       "\n",
       "\n",
       "\n",
       "\n",
       "\n",
       "\n",
       "  <div class=\"bk-root\" id=\"d9fe78a1-4e2e-4f7e-a02c-366044717ef5\"></div>\n"
      ]
     },
     "metadata": {},
     "output_type": "display_data"
    },
    {
     "data": {
      "application/javascript": [
       "(function(root) {\n",
       "  function embed_document(root) {\n",
       "    \n",
       "  var docs_json = {\"eb866542-53b7-4357-9cf1-a53ef45b87be\":{\"roots\":{\"references\":[{\"attributes\":{\"below\":[{\"id\":\"3524\",\"type\":\"LinearAxis\"}],\"left\":[{\"id\":\"3529\",\"type\":\"LinearAxis\"}],\"plot_height\":400,\"plot_width\":900,\"renderers\":[{\"id\":\"3524\",\"type\":\"LinearAxis\"},{\"id\":\"3528\",\"type\":\"Grid\"},{\"id\":\"3529\",\"type\":\"LinearAxis\"},{\"id\":\"3533\",\"type\":\"Grid\"},{\"id\":\"3542\",\"type\":\"BoxAnnotation\"},{\"id\":\"3561\",\"type\":\"Legend\"},{\"id\":\"3552\",\"type\":\"GlyphRenderer\"},{\"id\":\"3566\",\"type\":\"GlyphRenderer\"},{\"id\":\"3580\",\"type\":\"GlyphRenderer\"},{\"id\":\"3597\",\"type\":\"GlyphRenderer\"},{\"id\":\"3616\",\"type\":\"GlyphRenderer\"}],\"title\":{\"id\":\"3555\",\"type\":\"Title\"},\"toolbar\":{\"id\":\"3540\",\"type\":\"Toolbar\"},\"x_range\":{\"id\":\"3516\",\"type\":\"DataRange1d\"},\"x_scale\":{\"id\":\"3520\",\"type\":\"LinearScale\"},\"y_range\":{\"id\":\"3518\",\"type\":\"DataRange1d\"},\"y_scale\":{\"id\":\"3522\",\"type\":\"LinearScale\"}},\"id\":\"3515\",\"subtype\":\"Figure\",\"type\":\"Plot\"},{\"attributes\":{\"formatter\":{\"id\":\"3559\",\"type\":\"BasicTickFormatter\"},\"plot\":{\"id\":\"3515\",\"subtype\":\"Figure\",\"type\":\"Plot\"},\"ticker\":{\"id\":\"3525\",\"type\":\"BasicTicker\"}},\"id\":\"3524\",\"type\":\"LinearAxis\"},{\"attributes\":{},\"id\":\"3592\",\"type\":\"UnionRenderers\"},{\"attributes\":{\"plot\":null,\"text\":\"\"},\"id\":\"3555\",\"type\":\"Title\"},{\"attributes\":{},\"id\":\"3520\",\"type\":\"LinearScale\"},{\"attributes\":{},\"id\":\"3525\",\"type\":\"BasicTicker\"},{\"attributes\":{\"label\":{\"value\":\"2*sin(x)\"},\"renderers\":[{\"id\":\"3580\",\"type\":\"GlyphRenderer\"}]},\"id\":\"3593\",\"type\":\"LegendItem\"},{\"attributes\":{},\"id\":\"3559\",\"type\":\"BasicTickFormatter\"},{\"attributes\":{},\"id\":\"3777\",\"type\":\"UnionRenderers\"},{\"attributes\":{\"plot\":{\"id\":\"3515\",\"subtype\":\"Figure\",\"type\":\"Plot\"},\"ticker\":{\"id\":\"3525\",\"type\":\"BasicTicker\"}},\"id\":\"3528\",\"type\":\"Grid\"},{\"attributes\":{\"callback\":null,\"data\":{\"x\":{\"__ndarray__\":\"AAAAAAAAAACRGkt8Vz/AP5EaS3xXP9A/2qdwOgNf2D+RGkt8Vz/gPzXhXVstT+Q/2qdwOgNf6D9+boMZ2W7sP5EaS3xXP/A/433Ua0JH8j814V1bLU/0P4dE50oYV/Y/2qdwOgNf+D8sC/op7mb6P35ugxnZbvw/0NEMCcR2/j+RGkt8Vz8AQDrMD/RMQwFA433Ua0JHAkCML5njN0sDQDXhXVstTwRA3pIi0yJTBUCHROdKGFcGQDD2q8INWwdA2qdwOgNfCECDWTWy+GIJQCwL+inuZgpA1by+oeNqC0B+boMZ2W4MQCcgSJHOcg1A0NEMCcR2DkB5g9GAuXoPQJEaS3xXPxBAZnMtOFLBEEA6zA/0TEMRQA8l8q9HxRFA433Ua0JHEkC41rYnPckSQIwvmeM3SxNAYYh7nzLNE0A14V1bLU8UQAo6QBco0RRA3pIi0yJTFUCz6wSPHdUVQIdE50oYVxZAXJ3JBhPZFkAw9qvCDVsXQAVPjn4I3RdA2qdwOgNfGECuAFP2/eAYQINZNbL4YhlAV7IXbvPkGUAsC/op7mYaQABk3OXo6BpA1by+oeNqG0CpFaFd3uwbQH5ugxnZbhxAUsdl1dPwHEAnIEiRznIdQPt4Kk3J9B1A0NEMCcR2HkCkKu/EvvgeQHmD0YC5eh9ATdyzPLT8H0CRGkt8Vz8gQPtGPNpUgCBAZnMtOFLBIEDQnx6WTwIhQDrMD/RMQyFApPgAUkqEIUAPJfKvR8UhQHlR4w1FBiJA433Ua0JHIkBNqsXJP4giQLjWtic9ySJAIgOohToKI0CML5njN0sjQPZbikE1jCNAYYh7nzLNI0DLtGz9Lw4kQDXhXVstTyRAoA1PuSqQJEAKOkAXKNEkQHRmMXUlEiVA3pIi0yJTJUBJvxMxIJQlQLPrBI8d1SVAHRj27BoWJkCHROdKGFcmQPJw2KgVmCZAXJ3JBhPZJkDGybpkEBonQDD2q8INWydAmyKdIAucJ0AFT45+CN0nQG97f9wFHihA2qdwOgNfKEBE1GGYAKAoQK4AU/b94ChAGC1EVPshKUA=\",\"dtype\":\"float64\",\"shape\":[100]},\"y\":{\"__ndarray__\":\"AAAAAAAAAADoxQO0RU7YP+dMxoI2HOg//C5K/vzW8T/Tua6vYlb3P+nH5xKndfw/AFIvb9iPAEBm8BjVpKACQNka5Ym2ZARADqEya8fUBUD+Gu1b6+oGQBHVYKmoogdAYgGEegr5B0DMzIX9rOwHQM+xeSHDfQdA1L6JxBWuBkB9BRBa/IAFQO0A3yZP+wNAeZ5rTFMjAkDe5Qz1oAAAQDnpZxcIOPs/tv7u/6/+9T/6iGdXvmrwP2wf+wVaJuU/5X710zFA0j+uSTsu9124v2QnUqkVVt6/o9Qx/NsL679m4Ulpoj7zvxQdiFoRqPi/bDUKCPCr/b/J7VIByxoBwPGhyyYpGQPAgTlCLtzIBMCuGkzd8SIGwAOBBKLYIQfAMzIqg3bBB8BzaxsFOv8HwKfUGL4k2gfAJ8c7bs9SB8BSNUOKZ2sGwCX1VkOmJwXAMfGzMMGMA8AkU27aVKEBwC4hWvuS2v6/DwQZ9WTz+b9lsKPjUaH0v8Yvs7GI9O2/YIF44Akr4r8GSRAz01rIvzJJEDPTWsg/aoF44Akr4j/QL7OxiPTtP1+wo+NRofQ/FAQZ9WTz+T8oIVr7ktr+PyVTbtpUoQFAMPGzMMGMA0Am9VZDpicFQFE1Q4pnawZAKMc7bs9SB0Cn1Bi+JNoHQHNrGwU6/wdANDIqg3bBB0ACgQSi2CEHQLAaTN3xIgZAfTlCLtzIBEDwocsmKRkDQMntUgHLGgFAcTUKCPCr/T8MHYhaEaj4P2HhSWmiPvM/pNQx/NsL6z99J1KpFVbeP/ZIOy73Xbg/+n710zFA0r9fH/sFWiblv+6IZ1e+avC/uv7u/6/+9b846WcXCDj7v9vlDPWgAADAfJ5rTFMjAsDuAN8mT/sDwH0FEFr8gAXA076JxBWuBsDQsXkhw30HwMzMhf2s7AfAYgGEegr5B8AS1WCpqKIHwPwa7Vvr6gbADqEya8fUBcDaGuWJtmQEwGnwGNWkoALA/VEvb9iPAMDpx+cSp3X8v9e5rq9iVve/8C5K/vzW8b/bTMaCNhzov+rFA7RFTti/CoqeTDl52rw=\",\"dtype\":\"float64\",\"shape\":[100]}},\"selected\":{\"id\":\"3776\",\"type\":\"Selection\"},\"selection_policy\":{\"id\":\"3777\",\"type\":\"UnionRenderers\"}},\"id\":\"3613\",\"type\":\"ColumnDataSource\"},{\"attributes\":{},\"id\":\"3610\",\"type\":\"Selection\"},{\"attributes\":{\"formatter\":{\"id\":\"3557\",\"type\":\"BasicTickFormatter\"},\"plot\":{\"id\":\"3515\",\"subtype\":\"Figure\",\"type\":\"Plot\"},\"ticker\":{\"id\":\"3530\",\"type\":\"BasicTicker\"}},\"id\":\"3529\",\"type\":\"LinearAxis\"},{\"attributes\":{\"fill_color\":{\"value\":null},\"line_color\":{\"value\":\"green\"},\"x\":{\"field\":\"x\"},\"y\":{\"field\":\"y\"}},\"id\":\"3595\",\"type\":\"Square\"},{\"attributes\":{\"items\":[{\"id\":\"3562\",\"type\":\"LegendItem\"},{\"id\":\"3593\",\"type\":\"LegendItem\"},{\"id\":\"3612\",\"type\":\"LegendItem\"}],\"plot\":{\"id\":\"3515\",\"subtype\":\"Figure\",\"type\":\"Plot\"}},\"id\":\"3561\",\"type\":\"Legend\"},{\"attributes\":{},\"id\":\"3530\",\"type\":\"BasicTicker\"},{\"attributes\":{\"fill_alpha\":{\"value\":0.1},\"fill_color\":{\"value\":\"#1f77b4\"},\"line_alpha\":{\"value\":0.1},\"line_color\":{\"value\":\"#1f77b4\"},\"x\":{\"field\":\"x\"},\"y\":{\"field\":\"y\"}},\"id\":\"3596\",\"type\":\"Square\"},{\"attributes\":{\"label\":{\"value\":\"sin(x)\"},\"renderers\":[{\"id\":\"3552\",\"type\":\"GlyphRenderer\"},{\"id\":\"3566\",\"type\":\"GlyphRenderer\"}]},\"id\":\"3562\",\"type\":\"LegendItem\"},{\"attributes\":{},\"id\":\"3522\",\"type\":\"LinearScale\"},{\"attributes\":{\"dimension\":1,\"plot\":{\"id\":\"3515\",\"subtype\":\"Figure\",\"type\":\"Plot\"},\"ticker\":{\"id\":\"3530\",\"type\":\"BasicTicker\"}},\"id\":\"3533\",\"type\":\"Grid\"},{\"attributes\":{\"data_source\":{\"id\":\"3594\",\"type\":\"ColumnDataSource\"},\"glyph\":{\"id\":\"3595\",\"type\":\"Square\"},\"hover_glyph\":null,\"muted_glyph\":null,\"nonselection_glyph\":{\"id\":\"3596\",\"type\":\"Square\"},\"selection_glyph\":null,\"view\":{\"id\":\"3598\",\"type\":\"CDSView\"}},\"id\":\"3597\",\"type\":\"GlyphRenderer\"},{\"attributes\":{\"callback\":null,\"data\":{\"x\":{\"__ndarray__\":\"AAAAAAAAAACRGkt8Vz/AP5EaS3xXP9A/2qdwOgNf2D+RGkt8Vz/gPzXhXVstT+Q/2qdwOgNf6D9+boMZ2W7sP5EaS3xXP/A/433Ua0JH8j814V1bLU/0P4dE50oYV/Y/2qdwOgNf+D8sC/op7mb6P35ugxnZbvw/0NEMCcR2/j+RGkt8Vz8AQDrMD/RMQwFA433Ua0JHAkCML5njN0sDQDXhXVstTwRA3pIi0yJTBUCHROdKGFcGQDD2q8INWwdA2qdwOgNfCECDWTWy+GIJQCwL+inuZgpA1by+oeNqC0B+boMZ2W4MQCcgSJHOcg1A0NEMCcR2DkB5g9GAuXoPQJEaS3xXPxBAZnMtOFLBEEA6zA/0TEMRQA8l8q9HxRFA433Ua0JHEkC41rYnPckSQIwvmeM3SxNAYYh7nzLNE0A14V1bLU8UQAo6QBco0RRA3pIi0yJTFUCz6wSPHdUVQIdE50oYVxZAXJ3JBhPZFkAw9qvCDVsXQAVPjn4I3RdA2qdwOgNfGECuAFP2/eAYQINZNbL4YhlAV7IXbvPkGUAsC/op7mYaQABk3OXo6BpA1by+oeNqG0CpFaFd3uwbQH5ugxnZbhxAUsdl1dPwHEAnIEiRznIdQPt4Kk3J9B1A0NEMCcR2HkCkKu/EvvgeQHmD0YC5eh9ATdyzPLT8H0CRGkt8Vz8gQPtGPNpUgCBAZnMtOFLBIEDQnx6WTwIhQDrMD/RMQyFApPgAUkqEIUAPJfKvR8UhQHlR4w1FBiJA433Ua0JHIkBNqsXJP4giQLjWtic9ySJAIgOohToKI0CML5njN0sjQPZbikE1jCNAYYh7nzLNI0DLtGz9Lw4kQDXhXVstTyRAoA1PuSqQJEAKOkAXKNEkQHRmMXUlEiVA3pIi0yJTJUBJvxMxIJQlQLPrBI8d1SVAHRj27BoWJkCHROdKGFcmQPJw2KgVmCZAXJ3JBhPZJkDGybpkEBonQDD2q8INWydAmyKdIAucJ0AFT45+CN0nQG97f9wFHihA2qdwOgNfKEBE1GGYAKAoQK4AU/b94ChAGC1EVPshKUA=\",\"dtype\":\"float64\",\"shape\":[100]},\"y\":{\"__ndarray__\":\"AAAAAAAAAADwgwJ4LjTQP5qI2QHPEuA/+5MNU1HJ5z8ZTT7q2B3vP0aFmgwa+fI/ABg/lCAV9j+IQCEcMdb4P3fOhmLzMPs/EyzujrQb/T/9Izwlj47+PxccgYyLg/8/g6xao7j2/z9mZrL8O+b/P7+X94FZUv8/xVNiW3I9/j9RB8Ai+6v8P5FWKYlppPo/oSg6uxkv+D/Th2bxK1b1PyZGRbpaJfI/8qg+VZVT7T/4C4p0qOPlP+UppLIiM9w/3FNHxZdVyD/J23zJpD6wv+3ENsZjOdS/wo12/ecH4r/dgWKM2Kjpv2MTsJELcPC/83ixWvXH87+358MBZM72v5eCD4nhdvm/rExY6Hq2+7+TIxAn7YP9vwSssILL1/6/70I4BJ6s/7/vOc8G+P7/vzTGy1KGzf+/3176khQZ/7/C8a4NiuT9vzGcHq/dNPy/l0FFlgER+r+FGZN4xoH3vx8WPFK3kfS/Cli7+O1M8b+HQNqEwoHrv9kfIiFb+OO/gKyggGI52L8EhrXMjDzAvyGGtcyMPMA/jqyggGI52D/gHyIhW/jjP39A2oTCges/DVi7+O1M8T8bFjxSt5H0P4cZk3jGgfc/lUFFlgER+j8ynB6v3TT8P8Hxrg2K5P0/4F76khQZ/z80xstShs3/P+85zwb4/v8/8EI4BJ6s/z8DrLCCy9f+P5UjECftg/0/p0xY6Hq2+z+Vgg+J4Xb5P7fnwwFkzvY/9nixWvXH8z9dE7CRC3DwP9eBYozYqOk/w412/ecH4j/+xDbGYznUP0/bfMmkPrA/+FNHxZdVyL/UKaSyIjPcv+gLinSo4+W/+Kg+VZVT7b8lRkW6WiXyv8+HZvErVvW/pig6uxkv+L+TVimJaaT6v1EHwCL7q/y/xFNiW3I9/r/Al/eBWVL/v2Zmsvw75v+/g6xao7j2/78YHIGMi4P/v/sjPCWPjv6/EyzujrQb/b94zoZi8zD7v4xAIRwx1vi//Bc/lCAV9r9GhZoMGvnyvx9NPurYHe+/65MNU1HJ57+SiNkBzxLgv/GDAnguNNC/B1wUMyam0bw=\",\"dtype\":\"float64\",\"shape\":[100]}},\"selected\":{\"id\":\"3610\",\"type\":\"Selection\"},\"selection_policy\":{\"id\":\"3611\",\"type\":\"UnionRenderers\"}},\"id\":\"3577\",\"type\":\"ColumnDataSource\"},{\"attributes\":{\"fill_alpha\":{\"value\":0.1},\"fill_color\":{\"value\":\"#1f77b4\"},\"line_alpha\":{\"value\":0.1},\"line_color\":{\"value\":\"#1f77b4\"},\"x\":{\"field\":\"x\"},\"y\":{\"field\":\"y\"}},\"id\":\"3551\",\"type\":\"Circle\"},{\"attributes\":{\"source\":{\"id\":\"3594\",\"type\":\"ColumnDataSource\"}},\"id\":\"3598\",\"type\":\"CDSView\"},{\"attributes\":{\"line_color\":\"#1f77b4\",\"x\":{\"field\":\"x\"},\"y\":{\"field\":\"y\"}},\"id\":\"3564\",\"type\":\"Line\"},{\"attributes\":{},\"id\":\"3776\",\"type\":\"Selection\"},{\"attributes\":{\"line_alpha\":0.1,\"line_color\":\"#1f77b4\",\"x\":{\"field\":\"x\"},\"y\":{\"field\":\"y\"}},\"id\":\"3565\",\"type\":\"Line\"},{\"attributes\":{\"callback\":null},\"id\":\"3516\",\"type\":\"DataRange1d\"},{\"attributes\":{},\"id\":\"3611\",\"type\":\"UnionRenderers\"},{\"attributes\":{\"active_drag\":\"auto\",\"active_inspect\":\"auto\",\"active_multi\":null,\"active_scroll\":\"auto\",\"active_tap\":\"auto\",\"tools\":[{\"id\":\"3534\",\"type\":\"PanTool\"},{\"id\":\"3535\",\"type\":\"WheelZoomTool\"},{\"id\":\"3536\",\"type\":\"BoxZoomTool\"},{\"id\":\"3537\",\"type\":\"SaveTool\"},{\"id\":\"3538\",\"type\":\"ResetTool\"},{\"id\":\"3539\",\"type\":\"HelpTool\"}]},\"id\":\"3540\",\"type\":\"Toolbar\"},{\"attributes\":{\"data_source\":{\"id\":\"3563\",\"type\":\"ColumnDataSource\"},\"glyph\":{\"id\":\"3564\",\"type\":\"Line\"},\"hover_glyph\":null,\"muted_glyph\":null,\"nonselection_glyph\":{\"id\":\"3565\",\"type\":\"Line\"},\"selection_glyph\":null,\"view\":{\"id\":\"3567\",\"type\":\"CDSView\"}},\"id\":\"3566\",\"type\":\"GlyphRenderer\"},{\"attributes\":{\"callback\":null},\"id\":\"3518\",\"type\":\"DataRange1d\"},{\"attributes\":{},\"id\":\"3534\",\"type\":\"PanTool\"},{\"attributes\":{\"label\":{\"value\":\"3*sin(x)\"},\"renderers\":[{\"id\":\"3597\",\"type\":\"GlyphRenderer\"},{\"id\":\"3616\",\"type\":\"GlyphRenderer\"}]},\"id\":\"3612\",\"type\":\"LegendItem\"},{\"attributes\":{\"source\":{\"id\":\"3563\",\"type\":\"ColumnDataSource\"}},\"id\":\"3567\",\"type\":\"CDSView\"},{\"attributes\":{},\"id\":\"3535\",\"type\":\"WheelZoomTool\"},{\"attributes\":{},\"id\":\"3575\",\"type\":\"Selection\"},{\"attributes\":{\"overlay\":{\"id\":\"3542\",\"type\":\"BoxAnnotation\"}},\"id\":\"3536\",\"type\":\"BoxZoomTool\"},{\"attributes\":{\"line_color\":\"green\",\"x\":{\"field\":\"x\"},\"y\":{\"field\":\"y\"}},\"id\":\"3614\",\"type\":\"Line\"},{\"attributes\":{},\"id\":\"3576\",\"type\":\"UnionRenderers\"},{\"attributes\":{},\"id\":\"3537\",\"type\":\"SaveTool\"},{\"attributes\":{\"callback\":null,\"data\":{\"x\":{\"__ndarray__\":\"AAAAAAAAAACRGkt8Vz/AP5EaS3xXP9A/2qdwOgNf2D+RGkt8Vz/gPzXhXVstT+Q/2qdwOgNf6D9+boMZ2W7sP5EaS3xXP/A/433Ua0JH8j814V1bLU/0P4dE50oYV/Y/2qdwOgNf+D8sC/op7mb6P35ugxnZbvw/0NEMCcR2/j+RGkt8Vz8AQDrMD/RMQwFA433Ua0JHAkCML5njN0sDQDXhXVstTwRA3pIi0yJTBUCHROdKGFcGQDD2q8INWwdA2qdwOgNfCECDWTWy+GIJQCwL+inuZgpA1by+oeNqC0B+boMZ2W4MQCcgSJHOcg1A0NEMCcR2DkB5g9GAuXoPQJEaS3xXPxBAZnMtOFLBEEA6zA/0TEMRQA8l8q9HxRFA433Ua0JHEkC41rYnPckSQIwvmeM3SxNAYYh7nzLNE0A14V1bLU8UQAo6QBco0RRA3pIi0yJTFUCz6wSPHdUVQIdE50oYVxZAXJ3JBhPZFkAw9qvCDVsXQAVPjn4I3RdA2qdwOgNfGECuAFP2/eAYQINZNbL4YhlAV7IXbvPkGUAsC/op7mYaQABk3OXo6BpA1by+oeNqG0CpFaFd3uwbQH5ugxnZbhxAUsdl1dPwHEAnIEiRznIdQPt4Kk3J9B1A0NEMCcR2HkCkKu/EvvgeQHmD0YC5eh9ATdyzPLT8H0CRGkt8Vz8gQPtGPNpUgCBAZnMtOFLBIEDQnx6WTwIhQDrMD/RMQyFApPgAUkqEIUAPJfKvR8UhQHlR4w1FBiJA433Ua0JHIkBNqsXJP4giQLjWtic9ySJAIgOohToKI0CML5njN0sjQPZbikE1jCNAYYh7nzLNI0DLtGz9Lw4kQDXhXVstTyRAoA1PuSqQJEAKOkAXKNEkQHRmMXUlEiVA3pIi0yJTJUBJvxMxIJQlQLPrBI8d1SVAHRj27BoWJkCHROdKGFcmQPJw2KgVmCZAXJ3JBhPZJkDGybpkEBonQDD2q8INWydAmyKdIAucJ0AFT45+CN0nQG97f9wFHihA2qdwOgNfKEBE1GGYAKAoQK4AU/b94ChAGC1EVPshKUA=\",\"dtype\":\"float64\",\"shape\":[100]},\"y\":{\"__ndarray__\":\"AAAAAAAAAADwgwJ4LjTAP5qI2QHPEtA/+5MNU1HJ1z8ZTT7q2B3fP0aFmgwa+eI/ABg/lCAV5j+IQCEcMdboP3fOhmLzMOs/EyzujrQb7T/9Izwlj47uPxccgYyLg+8/g6xao7j27z9mZrL8O+bvP7+X94FZUu8/xVNiW3I97j9RB8Ai+6vsP5FWKYlppOo/oSg6uxkv6D/Th2bxK1blPyZGRbpaJeI/8qg+VZVT3T/4C4p0qOPVP+UppLIiM8w/3FNHxZdVuD/J23zJpD6gv+3ENsZjOcS/wo12/ecH0r/dgWKM2KjZv2MTsJELcOC/83ixWvXH47+358MBZM7mv5eCD4nhdum/rExY6Hq267+TIxAn7YPtvwSssILL1+6/70I4BJ6s77/vOc8G+P7vvzTGy1KGze+/3176khQZ77/C8a4NiuTtvzGcHq/dNOy/l0FFlgER6r+FGZN4xoHnvx8WPFK3keS/Cli7+O1M4b+HQNqEwoHbv9kfIiFb+NO/gKyggGI5yL8EhrXMjDywvyGGtcyMPLA/jqyggGI5yD/gHyIhW/jTP39A2oTCgds/DVi7+O1M4T8bFjxSt5HkP4cZk3jGgec/lUFFlgER6j8ynB6v3TTsP8Hxrg2K5O0/4F76khQZ7z80xstShs3vP+85zwb4/u8/8EI4BJ6s7z8DrLCCy9fuP5UjECftg+0/p0xY6Hq26z+Vgg+J4XbpP7fnwwFkzuY/9nixWvXH4z9dE7CRC3DgP9eBYozYqNk/w412/ecH0j/+xDbGYznEP0/bfMmkPqA/+FNHxZdVuL/UKaSyIjPMv+gLinSo49W/+Kg+VZVT3b8lRkW6WiXiv8+HZvErVuW/pig6uxkv6L+TVimJaaTqv1EHwCL7q+y/xFNiW3I97r/Al/eBWVLvv2Zmsvw75u+/g6xao7j2778YHIGMi4Pvv/sjPCWPju6/EyzujrQb7b94zoZi8zDrv4xAIRwx1ui//Bc/lCAV5r9GhZoMGvnivx9NPurYHd+/65MNU1HJ17+SiNkBzxLQv/GDAnguNMC/B1wUMyamwbw=\",\"dtype\":\"float64\",\"shape\":[100]}},\"selected\":{\"id\":\"3575\",\"type\":\"Selection\"},\"selection_policy\":{\"id\":\"3576\",\"type\":\"UnionRenderers\"}},\"id\":\"3549\",\"type\":\"ColumnDataSource\"},{\"attributes\":{\"line_alpha\":0.1,\"line_color\":\"#1f77b4\",\"x\":{\"field\":\"x\"},\"y\":{\"field\":\"y\"}},\"id\":\"3615\",\"type\":\"Line\"},{\"attributes\":{\"callback\":null,\"data\":{\"x\":{\"__ndarray__\":\"AAAAAAAAAACRGkt8Vz/AP5EaS3xXP9A/2qdwOgNf2D+RGkt8Vz/gPzXhXVstT+Q/2qdwOgNf6D9+boMZ2W7sP5EaS3xXP/A/433Ua0JH8j814V1bLU/0P4dE50oYV/Y/2qdwOgNf+D8sC/op7mb6P35ugxnZbvw/0NEMCcR2/j+RGkt8Vz8AQDrMD/RMQwFA433Ua0JHAkCML5njN0sDQDXhXVstTwRA3pIi0yJTBUCHROdKGFcGQDD2q8INWwdA2qdwOgNfCECDWTWy+GIJQCwL+inuZgpA1by+oeNqC0B+boMZ2W4MQCcgSJHOcg1A0NEMCcR2DkB5g9GAuXoPQJEaS3xXPxBAZnMtOFLBEEA6zA/0TEMRQA8l8q9HxRFA433Ua0JHEkC41rYnPckSQIwvmeM3SxNAYYh7nzLNE0A14V1bLU8UQAo6QBco0RRA3pIi0yJTFUCz6wSPHdUVQIdE50oYVxZAXJ3JBhPZFkAw9qvCDVsXQAVPjn4I3RdA2qdwOgNfGECuAFP2/eAYQINZNbL4YhlAV7IXbvPkGUAsC/op7mYaQABk3OXo6BpA1by+oeNqG0CpFaFd3uwbQH5ugxnZbhxAUsdl1dPwHEAnIEiRznIdQPt4Kk3J9B1A0NEMCcR2HkCkKu/EvvgeQHmD0YC5eh9ATdyzPLT8H0CRGkt8Vz8gQPtGPNpUgCBAZnMtOFLBIEDQnx6WTwIhQDrMD/RMQyFApPgAUkqEIUAPJfKvR8UhQHlR4w1FBiJA433Ua0JHIkBNqsXJP4giQLjWtic9ySJAIgOohToKI0CML5njN0sjQPZbikE1jCNAYYh7nzLNI0DLtGz9Lw4kQDXhXVstTyRAoA1PuSqQJEAKOkAXKNEkQHRmMXUlEiVA3pIi0yJTJUBJvxMxIJQlQLPrBI8d1SVAHRj27BoWJkCHROdKGFcmQPJw2KgVmCZAXJ3JBhPZJkDGybpkEBonQDD2q8INWydAmyKdIAucJ0AFT45+CN0nQG97f9wFHihA2qdwOgNfKEBE1GGYAKAoQK4AU/b94ChAGC1EVPshKUA=\",\"dtype\":\"float64\",\"shape\":[100]},\"y\":{\"__ndarray__\":\"AAAAAAAAAADwgwJ4LjTAP5qI2QHPEtA/+5MNU1HJ1z8ZTT7q2B3fP0aFmgwa+eI/ABg/lCAV5j+IQCEcMdboP3fOhmLzMOs/EyzujrQb7T/9Izwlj47uPxccgYyLg+8/g6xao7j27z9mZrL8O+bvP7+X94FZUu8/xVNiW3I97j9RB8Ai+6vsP5FWKYlppOo/oSg6uxkv6D/Th2bxK1blPyZGRbpaJeI/8qg+VZVT3T/4C4p0qOPVP+UppLIiM8w/3FNHxZdVuD/J23zJpD6gv+3ENsZjOcS/wo12/ecH0r/dgWKM2KjZv2MTsJELcOC/83ixWvXH47+358MBZM7mv5eCD4nhdum/rExY6Hq267+TIxAn7YPtvwSssILL1+6/70I4BJ6s77/vOc8G+P7vvzTGy1KGze+/3176khQZ77/C8a4NiuTtvzGcHq/dNOy/l0FFlgER6r+FGZN4xoHnvx8WPFK3keS/Cli7+O1M4b+HQNqEwoHbv9kfIiFb+NO/gKyggGI5yL8EhrXMjDywvyGGtcyMPLA/jqyggGI5yD/gHyIhW/jTP39A2oTCgds/DVi7+O1M4T8bFjxSt5HkP4cZk3jGgec/lUFFlgER6j8ynB6v3TTsP8Hxrg2K5O0/4F76khQZ7z80xstShs3vP+85zwb4/u8/8EI4BJ6s7z8DrLCCy9fuP5UjECftg+0/p0xY6Hq26z+Vgg+J4XbpP7fnwwFkzuY/9nixWvXH4z9dE7CRC3DgP9eBYozYqNk/w412/ecH0j/+xDbGYznEP0/bfMmkPqA/+FNHxZdVuL/UKaSyIjPMv+gLinSo49W/+Kg+VZVT3b8lRkW6WiXiv8+HZvErVuW/pig6uxkv6L+TVimJaaTqv1EHwCL7q+y/xFNiW3I97r/Al/eBWVLvv2Zmsvw75u+/g6xao7j2778YHIGMi4Pvv/sjPCWPju6/EyzujrQb7b94zoZi8zDrv4xAIRwx1ui//Bc/lCAV5r9GhZoMGvnivx9NPurYHd+/65MNU1HJ17+SiNkBzxLQv/GDAnguNMC/B1wUMyamwbw=\",\"dtype\":\"float64\",\"shape\":[100]}},\"selected\":{\"id\":\"3591\",\"type\":\"Selection\"},\"selection_policy\":{\"id\":\"3592\",\"type\":\"UnionRenderers\"}},\"id\":\"3563\",\"type\":\"ColumnDataSource\"},{\"attributes\":{\"callback\":null,\"data\":{\"x\":{\"__ndarray__\":\"AAAAAAAAAACRGkt8Vz/AP5EaS3xXP9A/2qdwOgNf2D+RGkt8Vz/gPzXhXVstT+Q/2qdwOgNf6D9+boMZ2W7sP5EaS3xXP/A/433Ua0JH8j814V1bLU/0P4dE50oYV/Y/2qdwOgNf+D8sC/op7mb6P35ugxnZbvw/0NEMCcR2/j+RGkt8Vz8AQDrMD/RMQwFA433Ua0JHAkCML5njN0sDQDXhXVstTwRA3pIi0yJTBUCHROdKGFcGQDD2q8INWwdA2qdwOgNfCECDWTWy+GIJQCwL+inuZgpA1by+oeNqC0B+boMZ2W4MQCcgSJHOcg1A0NEMCcR2DkB5g9GAuXoPQJEaS3xXPxBAZnMtOFLBEEA6zA/0TEMRQA8l8q9HxRFA433Ua0JHEkC41rYnPckSQIwvmeM3SxNAYYh7nzLNE0A14V1bLU8UQAo6QBco0RRA3pIi0yJTFUCz6wSPHdUVQIdE50oYVxZAXJ3JBhPZFkAw9qvCDVsXQAVPjn4I3RdA2qdwOgNfGECuAFP2/eAYQINZNbL4YhlAV7IXbvPkGUAsC/op7mYaQABk3OXo6BpA1by+oeNqG0CpFaFd3uwbQH5ugxnZbhxAUsdl1dPwHEAnIEiRznIdQPt4Kk3J9B1A0NEMCcR2HkCkKu/EvvgeQHmD0YC5eh9ATdyzPLT8H0CRGkt8Vz8gQPtGPNpUgCBAZnMtOFLBIEDQnx6WTwIhQDrMD/RMQyFApPgAUkqEIUAPJfKvR8UhQHlR4w1FBiJA433Ua0JHIkBNqsXJP4giQLjWtic9ySJAIgOohToKI0CML5njN0sjQPZbikE1jCNAYYh7nzLNI0DLtGz9Lw4kQDXhXVstTyRAoA1PuSqQJEAKOkAXKNEkQHRmMXUlEiVA3pIi0yJTJUBJvxMxIJQlQLPrBI8d1SVAHRj27BoWJkCHROdKGFcmQPJw2KgVmCZAXJ3JBhPZJkDGybpkEBonQDD2q8INWydAmyKdIAucJ0AFT45+CN0nQG97f9wFHihA2qdwOgNfKEBE1GGYAKAoQK4AU/b94ChAGC1EVPshKUA=\",\"dtype\":\"float64\",\"shape\":[100]},\"y\":{\"__ndarray__\":\"AAAAAAAAAADoxQO0RU7YP+dMxoI2HOg//C5K/vzW8T/Tua6vYlb3P+nH5xKndfw/AFIvb9iPAEBm8BjVpKACQNka5Ym2ZARADqEya8fUBUD+Gu1b6+oGQBHVYKmoogdAYgGEegr5B0DMzIX9rOwHQM+xeSHDfQdA1L6JxBWuBkB9BRBa/IAFQO0A3yZP+wNAeZ5rTFMjAkDe5Qz1oAAAQDnpZxcIOPs/tv7u/6/+9T/6iGdXvmrwP2wf+wVaJuU/5X710zFA0j+uSTsu9124v2QnUqkVVt6/o9Qx/NsL679m4Ulpoj7zvxQdiFoRqPi/bDUKCPCr/b/J7VIByxoBwPGhyyYpGQPAgTlCLtzIBMCuGkzd8SIGwAOBBKLYIQfAMzIqg3bBB8BzaxsFOv8HwKfUGL4k2gfAJ8c7bs9SB8BSNUOKZ2sGwCX1VkOmJwXAMfGzMMGMA8AkU27aVKEBwC4hWvuS2v6/DwQZ9WTz+b9lsKPjUaH0v8Yvs7GI9O2/YIF44Akr4r8GSRAz01rIvzJJEDPTWsg/aoF44Akr4j/QL7OxiPTtP1+wo+NRofQ/FAQZ9WTz+T8oIVr7ktr+PyVTbtpUoQFAMPGzMMGMA0Am9VZDpicFQFE1Q4pnawZAKMc7bs9SB0Cn1Bi+JNoHQHNrGwU6/wdANDIqg3bBB0ACgQSi2CEHQLAaTN3xIgZAfTlCLtzIBEDwocsmKRkDQMntUgHLGgFAcTUKCPCr/T8MHYhaEaj4P2HhSWmiPvM/pNQx/NsL6z99J1KpFVbeP/ZIOy73Xbg/+n710zFA0r9fH/sFWiblv+6IZ1e+avC/uv7u/6/+9b846WcXCDj7v9vlDPWgAADAfJ5rTFMjAsDuAN8mT/sDwH0FEFr8gAXA076JxBWuBsDQsXkhw30HwMzMhf2s7AfAYgGEegr5B8AS1WCpqKIHwPwa7Vvr6gbADqEya8fUBcDaGuWJtmQEwGnwGNWkoALA/VEvb9iPAMDpx+cSp3X8v9e5rq9iVve/8C5K/vzW8b/bTMaCNhzov+rFA7RFTti/CoqeTDl52rw=\",\"dtype\":\"float64\",\"shape\":[100]}},\"selected\":{\"id\":\"3631\",\"type\":\"Selection\"},\"selection_policy\":{\"id\":\"3632\",\"type\":\"UnionRenderers\"}},\"id\":\"3594\",\"type\":\"ColumnDataSource\"},{\"attributes\":{},\"id\":\"3538\",\"type\":\"ResetTool\"},{\"attributes\":{\"line_color\":\"orange\",\"line_dash\":[4,4],\"line_width\":2,\"x\":{\"field\":\"x\"},\"y\":{\"field\":\"y\"}},\"id\":\"3578\",\"type\":\"Line\"},{\"attributes\":{\"data_source\":{\"id\":\"3613\",\"type\":\"ColumnDataSource\"},\"glyph\":{\"id\":\"3614\",\"type\":\"Line\"},\"hover_glyph\":null,\"muted_glyph\":null,\"nonselection_glyph\":{\"id\":\"3615\",\"type\":\"Line\"},\"selection_glyph\":null,\"view\":{\"id\":\"3617\",\"type\":\"CDSView\"}},\"id\":\"3616\",\"type\":\"GlyphRenderer\"},{\"attributes\":{},\"id\":\"3539\",\"type\":\"HelpTool\"},{\"attributes\":{\"line_alpha\":0.1,\"line_color\":\"#1f77b4\",\"line_dash\":[4,4],\"line_width\":2,\"x\":{\"field\":\"x\"},\"y\":{\"field\":\"y\"}},\"id\":\"3579\",\"type\":\"Line\"},{\"attributes\":{\"source\":{\"id\":\"3613\",\"type\":\"ColumnDataSource\"}},\"id\":\"3617\",\"type\":\"CDSView\"},{\"attributes\":{},\"id\":\"3557\",\"type\":\"BasicTickFormatter\"},{\"attributes\":{\"data_source\":{\"id\":\"3577\",\"type\":\"ColumnDataSource\"},\"glyph\":{\"id\":\"3578\",\"type\":\"Line\"},\"hover_glyph\":null,\"muted_glyph\":null,\"nonselection_glyph\":{\"id\":\"3579\",\"type\":\"Line\"},\"selection_glyph\":null,\"view\":{\"id\":\"3581\",\"type\":\"CDSView\"}},\"id\":\"3580\",\"type\":\"GlyphRenderer\"},{\"attributes\":{},\"id\":\"3631\",\"type\":\"Selection\"},{\"attributes\":{\"bottom_units\":\"screen\",\"fill_alpha\":{\"value\":0.5},\"fill_color\":{\"value\":\"lightgrey\"},\"left_units\":\"screen\",\"level\":\"overlay\",\"line_alpha\":{\"value\":1.0},\"line_color\":{\"value\":\"black\"},\"line_dash\":[4,4],\"line_width\":{\"value\":2},\"plot\":null,\"render_mode\":\"css\",\"right_units\":\"screen\",\"top_units\":\"screen\"},\"id\":\"3542\",\"type\":\"BoxAnnotation\"},{\"attributes\":{\"fill_color\":{\"value\":\"#1f77b4\"},\"line_color\":{\"value\":\"#1f77b4\"},\"x\":{\"field\":\"x\"},\"y\":{\"field\":\"y\"}},\"id\":\"3550\",\"type\":\"Circle\"},{\"attributes\":{\"source\":{\"id\":\"3577\",\"type\":\"ColumnDataSource\"}},\"id\":\"3581\",\"type\":\"CDSView\"},{\"attributes\":{},\"id\":\"3632\",\"type\":\"UnionRenderers\"},{\"attributes\":{\"data_source\":{\"id\":\"3549\",\"type\":\"ColumnDataSource\"},\"glyph\":{\"id\":\"3550\",\"type\":\"Circle\"},\"hover_glyph\":null,\"muted_glyph\":null,\"nonselection_glyph\":{\"id\":\"3551\",\"type\":\"Circle\"},\"selection_glyph\":null,\"view\":{\"id\":\"3553\",\"type\":\"CDSView\"}},\"id\":\"3552\",\"type\":\"GlyphRenderer\"},{\"attributes\":{},\"id\":\"3591\",\"type\":\"Selection\"},{\"attributes\":{\"source\":{\"id\":\"3549\",\"type\":\"ColumnDataSource\"}},\"id\":\"3553\",\"type\":\"CDSView\"}],\"root_ids\":[\"3515\"]},\"title\":\"Bokeh Application\",\"version\":\"1.0.2\"}};\n",
       "  var render_items = [{\"docid\":\"eb866542-53b7-4357-9cf1-a53ef45b87be\",\"roots\":{\"3515\":\"d9fe78a1-4e2e-4f7e-a02c-366044717ef5\"}}];\n",
       "  root.Bokeh.embed.embed_items_notebook(docs_json, render_items);\n",
       "\n",
       "  }\n",
       "  if (root.Bokeh !== undefined) {\n",
       "    embed_document(root);\n",
       "  } else {\n",
       "    var attempts = 0;\n",
       "    var timer = setInterval(function(root) {\n",
       "      if (root.Bokeh !== undefined) {\n",
       "        embed_document(root);\n",
       "        clearInterval(timer);\n",
       "      }\n",
       "      attempts++;\n",
       "      if (attempts > 100) {\n",
       "        console.log(\"Bokeh: ERROR: Unable to run BokehJS code because BokehJS library is missing\");\n",
       "        clearInterval(timer);\n",
       "      }\n",
       "    }, 10, root)\n",
       "  }\n",
       "})(window);"
      ],
      "application/vnd.bokehjs_exec.v0+json": ""
     },
     "metadata": {
      "application/vnd.bokehjs_exec.v0+json": {
       "id": "3515"
      }
     },
     "output_type": "display_data"
    }
   ],
   "source": [
    "import numpy as np\n",
    "\n",
    "x = np.linspace(0, 4*np.pi, 100)\n",
    "y = np.sin(x)\n",
    "\n",
    "p = figure(plot_width=900, plot_height=400)\n",
    "\n",
    "p.circle(x, y, legend=\"sin(x)\")\n",
    "p.line(x, y, legend=\"sin(x)\")\n",
    "\n",
    "p.line(x, 2*y, legend=\"2*sin(x)\",\n",
    "       line_dash=[4, 4], line_color=\"orange\", line_width=2)\n",
    "\n",
    "p.square(x, 3*y, legend=\"3*sin(x)\", fill_color=None, line_color=\"green\")\n",
    "p.line(x, 3*y, legend=\"3*sin(x)\", line_color=\"green\")\n",
    "\n",
    "show(p)"
   ]
  },
  {
   "cell_type": "markdown",
   "metadata": {
    "slideshow": {
     "slide_type": "slide"
    }
   },
   "source": [
    "# Some StyleSage charts\n",
    "## Real examples"
   ]
  },
  {
   "cell_type": "markdown",
   "metadata": {
    "slideshow": {
     "slide_type": "subslide"
    }
   },
   "source": [
    "<h1>Price Architecture</h1>\n",
    "<img src=\"images/price_architecture.png\" align=\"center\">"
   ]
  },
  {
   "cell_type": "markdown",
   "metadata": {
    "slideshow": {
     "slide_type": "subslide"
    }
   },
   "source": [
    "1st step: get the data from a json file"
   ]
  },
  {
   "cell_type": "code",
   "execution_count": 21,
   "metadata": {
    "slideshow": {
     "slide_type": "-"
    }
   },
   "outputs": [
    {
     "data": {
      "text/html": [
       "<div>\n",
       "<style scoped>\n",
       "    .dataframe tbody tr th:only-of-type {\n",
       "        vertical-align: middle;\n",
       "    }\n",
       "\n",
       "    .dataframe tbody tr th {\n",
       "        vertical-align: top;\n",
       "    }\n",
       "\n",
       "    .dataframe thead th {\n",
       "        text-align: right;\n",
       "    }\n",
       "</style>\n",
       "<table border=\"1\" class=\"dataframe\">\n",
       "  <thead>\n",
       "    <tr style=\"text-align: right;\">\n",
       "      <th></th>\n",
       "      <th>brand_count</th>\n",
       "      <th>country_name</th>\n",
       "      <th>level1_id</th>\n",
       "      <th>level2_id</th>\n",
       "      <th>original_price_bin</th>\n",
       "      <th>retailer</th>\n",
       "      <th>unique_product_count</th>\n",
       "      <th>unique_style_count</th>\n",
       "    </tr>\n",
       "  </thead>\n",
       "  <tbody>\n",
       "    <tr>\n",
       "      <th>0</th>\n",
       "      <td>4</td>\n",
       "      <td>USA</td>\n",
       "      <td>Clothing</td>\n",
       "      <td>Outerwear, Coats, Jackets</td>\n",
       "      <td>101-150</td>\n",
       "      <td>Webshop1</td>\n",
       "      <td>94</td>\n",
       "      <td>53</td>\n",
       "    </tr>\n",
       "    <tr>\n",
       "      <th>1</th>\n",
       "      <td>3</td>\n",
       "      <td>USA</td>\n",
       "      <td>Clothing</td>\n",
       "      <td>Outerwear, Coats, Jackets</td>\n",
       "      <td>151-200</td>\n",
       "      <td>Webshop1</td>\n",
       "      <td>35</td>\n",
       "      <td>28</td>\n",
       "    </tr>\n",
       "    <tr>\n",
       "      <th>2</th>\n",
       "      <td>4</td>\n",
       "      <td>USA</td>\n",
       "      <td>Clothing</td>\n",
       "      <td>Outerwear, Coats, Jackets</td>\n",
       "      <td>201-250</td>\n",
       "      <td>Webshop1</td>\n",
       "      <td>21</td>\n",
       "      <td>16</td>\n",
       "    </tr>\n",
       "    <tr>\n",
       "      <th>3</th>\n",
       "      <td>2</td>\n",
       "      <td>USA</td>\n",
       "      <td>Clothing</td>\n",
       "      <td>Outerwear, Coats, Jackets</td>\n",
       "      <td>251-300</td>\n",
       "      <td>Webshop1</td>\n",
       "      <td>8</td>\n",
       "      <td>8</td>\n",
       "    </tr>\n",
       "    <tr>\n",
       "      <th>4</th>\n",
       "      <td>1</td>\n",
       "      <td>USA</td>\n",
       "      <td>Clothing</td>\n",
       "      <td>Outerwear, Coats, Jackets</td>\n",
       "      <td>301-350</td>\n",
       "      <td>Webshop1</td>\n",
       "      <td>5</td>\n",
       "      <td>4</td>\n",
       "    </tr>\n",
       "  </tbody>\n",
       "</table>\n",
       "</div>"
      ],
      "text/plain": [
       "   brand_count country_name level1_id                  level2_id  \\\n",
       "0            4          USA  Clothing  Outerwear, Coats, Jackets   \n",
       "1            3          USA  Clothing  Outerwear, Coats, Jackets   \n",
       "2            4          USA  Clothing  Outerwear, Coats, Jackets   \n",
       "3            2          USA  Clothing  Outerwear, Coats, Jackets   \n",
       "4            1          USA  Clothing  Outerwear, Coats, Jackets   \n",
       "\n",
       "  original_price_bin  retailer  unique_product_count  unique_style_count  \n",
       "0            101-150  Webshop1                    94                  53  \n",
       "1            151-200  Webshop1                    35                  28  \n",
       "2            201-250  Webshop1                    21                  16  \n",
       "3            251-300  Webshop1                     8                   8  \n",
       "4            301-350  Webshop1                     5                   4  "
      ]
     },
     "execution_count": 21,
     "metadata": {},
     "output_type": "execute_result"
    }
   ],
   "source": [
    "import json\n",
    "import pandas as pd\n",
    "\n",
    "# open the json file\n",
    "file_name = './data/price_architecture.json'\n",
    "data = json.load(open(file_name))\n",
    "\n",
    "# load the data in a pandas dataframe\n",
    "df = pd.DataFrame(data['data']['marks'])\n",
    "df.head()"
   ]
  },
  {
   "cell_type": "markdown",
   "metadata": {
    "slideshow": {
     "slide_type": "subslide"
    }
   },
   "source": [
    "2nd step: build the circle chart"
   ]
  },
  {
   "cell_type": "code",
   "execution_count": 22,
   "metadata": {
    "slideshow": {
     "slide_type": "-"
    }
   },
   "outputs": [
    {
     "data": {
      "text/html": [
       "\n",
       "\n",
       "\n",
       "\n",
       "\n",
       "\n",
       "  <div class=\"bk-root\" id=\"8a21e82b-cb15-4475-827b-edf209adc30c\"></div>\n"
      ]
     },
     "metadata": {},
     "output_type": "display_data"
    },
    {
     "data": {
      "application/javascript": [
       "(function(root) {\n",
       "  function embed_document(root) {\n",
       "    \n",
       "  var docs_json = {\"91dc8886-9033-4277-bfae-8f22abb55768\":{\"roots\":{\"references\":[{\"attributes\":{\"below\":[{\"id\":\"3890\",\"type\":\"CategoricalAxis\"}],\"left\":[{\"id\":\"3894\",\"type\":\"CategoricalAxis\"}],\"plot_height\":500,\"plot_width\":900,\"renderers\":[{\"id\":\"3890\",\"type\":\"CategoricalAxis\"},{\"id\":\"3893\",\"type\":\"Grid\"},{\"id\":\"3894\",\"type\":\"CategoricalAxis\"},{\"id\":\"3897\",\"type\":\"Grid\"},{\"id\":\"3906\",\"type\":\"BoxAnnotation\"},{\"id\":\"3916\",\"type\":\"GlyphRenderer\"}],\"title\":{\"id\":\"4064\",\"type\":\"Title\"},\"toolbar\":{\"id\":\"3904\",\"type\":\"Toolbar\"},\"x_range\":{\"id\":\"3882\",\"type\":\"FactorRange\"},\"x_scale\":{\"id\":\"3886\",\"type\":\"CategoricalScale\"},\"y_range\":{\"id\":\"3884\",\"type\":\"FactorRange\"},\"y_scale\":{\"id\":\"3888\",\"type\":\"CategoricalScale\"}},\"id\":\"3881\",\"subtype\":\"Figure\",\"type\":\"Plot\"},{\"attributes\":{},\"id\":\"3899\",\"type\":\"WheelZoomTool\"},{\"attributes\":{\"overlay\":{\"id\":\"3906\",\"type\":\"BoxAnnotation\"}},\"id\":\"3900\",\"type\":\"BoxZoomTool\"},{\"attributes\":{},\"id\":\"3901\",\"type\":\"SaveTool\"},{\"attributes\":{},\"id\":\"3902\",\"type\":\"ResetTool\"},{\"attributes\":{\"callback\":null,\"factors\":[\"Outerwear, Coats, Jackets\",\"Pants & Leggings\",\"Shirts & Tops\",\"Shorts\",\"Sleepwear Underwear & Intimates\",\"Dresses\",\"Skirts & Skorts\",\"Tracksuits\"]},\"id\":\"3884\",\"type\":\"FactorRange\"},{\"attributes\":{},\"id\":\"3903\",\"type\":\"HelpTool\"},{\"attributes\":{\"callback\":null,\"factors\":[\"0-50\",\"51-100\",\"101-150\",\"151-200\",\"201-250\",\"251-300\",\"301-350\",\"351-400\",\"401-450\",\"451-500\",\"501-550\",\"551-600\",\"601-650\",\"651-700\",\"701-750\"]},\"id\":\"3882\",\"type\":\"FactorRange\"},{\"attributes\":{\"active_drag\":\"auto\",\"active_inspect\":\"auto\",\"active_multi\":null,\"active_scroll\":\"auto\",\"active_tap\":\"auto\",\"tools\":[{\"id\":\"3898\",\"type\":\"PanTool\"},{\"id\":\"3899\",\"type\":\"WheelZoomTool\"},{\"id\":\"3900\",\"type\":\"BoxZoomTool\"},{\"id\":\"3901\",\"type\":\"SaveTool\"},{\"id\":\"3902\",\"type\":\"ResetTool\"},{\"id\":\"3903\",\"type\":\"HelpTool\"}]},\"id\":\"3904\",\"type\":\"Toolbar\"},{\"attributes\":{\"bottom_units\":\"screen\",\"fill_alpha\":{\"value\":0.5},\"fill_color\":{\"value\":\"lightgrey\"},\"left_units\":\"screen\",\"level\":\"overlay\",\"line_alpha\":{\"value\":1.0},\"line_color\":{\"value\":\"black\"},\"line_dash\":[4,4],\"line_width\":{\"value\":2},\"plot\":null,\"render_mode\":\"css\",\"right_units\":\"screen\",\"top_units\":\"screen\"},\"id\":\"3906\",\"type\":\"BoxAnnotation\"},{\"attributes\":{},\"id\":\"3888\",\"type\":\"CategoricalScale\"},{\"attributes\":{\"source\":{\"id\":\"3880\",\"type\":\"ColumnDataSource\"}},\"id\":\"3917\",\"type\":\"CDSView\"},{\"attributes\":{\"formatter\":{\"id\":\"4068\",\"type\":\"CategoricalTickFormatter\"},\"plot\":{\"id\":\"3881\",\"subtype\":\"Figure\",\"type\":\"Plot\"},\"ticker\":{\"id\":\"3891\",\"type\":\"CategoricalTicker\"}},\"id\":\"3890\",\"type\":\"CategoricalAxis\"},{\"attributes\":{\"plot\":null,\"text\":\"\"},\"id\":\"4064\",\"type\":\"Title\"},{\"attributes\":{},\"id\":\"3891\",\"type\":\"CategoricalTicker\"},{\"attributes\":{},\"id\":\"4066\",\"type\":\"CategoricalTickFormatter\"},{\"attributes\":{\"plot\":{\"id\":\"3881\",\"subtype\":\"Figure\",\"type\":\"Plot\"},\"ticker\":{\"id\":\"3891\",\"type\":\"CategoricalTicker\"}},\"id\":\"3893\",\"type\":\"Grid\"},{\"attributes\":{},\"id\":\"4068\",\"type\":\"CategoricalTickFormatter\"},{\"attributes\":{\"formatter\":{\"id\":\"4066\",\"type\":\"CategoricalTickFormatter\"},\"plot\":{\"id\":\"3881\",\"subtype\":\"Figure\",\"type\":\"Plot\"},\"ticker\":{\"id\":\"3895\",\"type\":\"CategoricalTicker\"}},\"id\":\"3894\",\"type\":\"CategoricalAxis\"},{\"attributes\":{},\"id\":\"4070\",\"type\":\"Selection\"},{\"attributes\":{},\"id\":\"3895\",\"type\":\"CategoricalTicker\"},{\"attributes\":{},\"id\":\"4071\",\"type\":\"UnionRenderers\"},{\"attributes\":{\"dimension\":1,\"plot\":{\"id\":\"3881\",\"subtype\":\"Figure\",\"type\":\"Plot\"},\"ticker\":{\"id\":\"3895\",\"type\":\"CategoricalTicker\"}},\"id\":\"3897\",\"type\":\"Grid\"},{\"attributes\":{\"fill_alpha\":{\"value\":0.1},\"fill_color\":{\"value\":\"#1f77b4\"},\"line_alpha\":{\"value\":0.1},\"line_color\":{\"value\":\"#1f77b4\"},\"radius\":{\"units\":\"data\",\"value\":0.2},\"x\":{\"field\":\"original_price_bin\"},\"y\":{\"field\":\"level2_id\"}},\"id\":\"3915\",\"type\":\"Circle\"},{\"attributes\":{\"fill_alpha\":{\"value\":0.5},\"fill_color\":{\"value\":\"orange\"},\"line_color\":{\"value\":\"navy\"},\"radius\":{\"units\":\"data\",\"value\":0.2},\"x\":{\"field\":\"original_price_bin\"},\"y\":{\"field\":\"level2_id\"}},\"id\":\"3914\",\"type\":\"Circle\"},{\"attributes\":{\"callback\":null,\"data\":{\"brand_count\":[4,3,4,2,1,2,1,1,4,1,1,4,2,1,1,1,5,5,3,2,2,5,5,1,4,1,1,1,1,2,1,1,1,1,1,1],\"country_name\":[\"USA\",\"USA\",\"USA\",\"USA\",\"USA\",\"USA\",\"USA\",\"USA\",\"USA\",\"USA\",\"USA\",\"USA\",\"USA\",\"USA\",\"USA\",\"USA\",\"USA\",\"USA\",\"USA\",\"USA\",\"USA\",\"USA\",\"USA\",\"USA\",\"USA\",\"USA\",\"USA\",\"USA\",\"USA\",\"USA\",\"USA\",\"USA\",\"USA\",\"USA\",\"USA\",\"USA\"],\"index\":[0,1,2,3,4,5,6,7,8,9,10,11,12,13,14,15,16,17,18,19,20,21,22,23,24,25,26,27,28,29,30,31,32,33,34,35],\"level1_id\":[\"Clothing\",\"Clothing\",\"Clothing\",\"Clothing\",\"Clothing\",\"Clothing\",\"Clothing\",\"Clothing\",\"Clothing\",\"Clothing\",\"Clothing\",\"Clothing\",\"Clothing\",\"Clothing\",\"Clothing\",\"Clothing\",\"Clothing\",\"Clothing\",\"Clothing\",\"Clothing\",\"Clothing\",\"Clothing\",\"Clothing\",\"Clothing\",\"Clothing\",\"Clothing\",\"Clothing\",\"Clothing\",\"Clothing\",\"Clothing\",\"Clothing\",\"Clothing\",\"Clothing\",\"Clothing\",\"Clothing\",\"Clothing\"],\"level2_id\":[\"Outerwear, Coats, Jackets\",\"Outerwear, Coats, Jackets\",\"Outerwear, Coats, Jackets\",\"Outerwear, Coats, Jackets\",\"Outerwear, Coats, Jackets\",\"Outerwear, Coats, Jackets\",\"Outerwear, Coats, Jackets\",\"Outerwear, Coats, Jackets\",\"Outerwear, Coats, Jackets\",\"Outerwear, Coats, Jackets\",\"Outerwear, Coats, Jackets\",\"Pants & Leggings\",\"Pants & Leggings\",\"Pants & Leggings\",\"Pants & Leggings\",\"Pants & Leggings\",\"Pants & Leggings\",\"Shirts & Tops\",\"Shirts & Tops\",\"Shirts & Tops\",\"Shirts & Tops\",\"Shirts & Tops\",\"Shorts\",\"Shorts\",\"Shorts\",\"Sleepwear Underwear & Intimates\",\"Sleepwear Underwear & Intimates\",\"Dresses\",\"Dresses\",\"Dresses\",\"Skirts & Skorts\",\"Skirts & Skorts\",\"Skirts & Skorts\",\"Skirts & Skorts\",\"Tracksuits\",\"Tracksuits\"],\"original_price_bin\":[\"101-150\",\"151-200\",\"201-250\",\"251-300\",\"301-350\",\"351-400\",\"401-450\",\"451-500\",\"51-100\",\"551-600\",\"651-700\",\"0-50\",\"101-150\",\"151-200\",\"201-250\",\"251-300\",\"51-100\",\"0-50\",\"101-150\",\"151-200\",\"201-250\",\"51-100\",\"0-50\",\"101-150\",\"51-100\",\"0-50\",\"51-100\",\"0-50\",\"101-150\",\"51-100\",\"0-50\",\"101-150\",\"151-200\",\"51-100\",\"151-200\",\"201-250\"],\"retailer\":[\"Webshop1\",\"Webshop1\",\"Webshop1\",\"Webshop1\",\"Webshop1\",\"Webshop1\",\"Webshop1\",\"Webshop1\",\"Webshop1\",\"Webshop1\",\"Webshop1\",\"Webshop1\",\"Webshop1\",\"Webshop1\",\"Webshop1\",\"Webshop1\",\"Webshop1\",\"Webshop1\",\"Webshop1\",\"Webshop1\",\"Webshop1\",\"Webshop1\",\"Webshop1\",\"Webshop1\",\"Webshop1\",\"Webshop1\",\"Webshop1\",\"Webshop1\",\"Webshop1\",\"Webshop1\",\"Webshop1\",\"Webshop1\",\"Webshop1\",\"Webshop1\",\"Webshop1\",\"Webshop1\"],\"unique_product_count\":[94,35,21,8,5,4,2,4,168,2,2,94,56,16,2,2,438,2656,182,35,13,700,477,13,357,96,29,12,2,13,8,1,3,42,1,1],\"unique_style_count\":[53,28,16,8,4,3,2,3,91,1,2,39,36,11,1,2,232,902,107,28,3,298,153,11,157,42,10,8,1,6,1,1,2,13,1,1]},\"selected\":{\"id\":\"4070\",\"type\":\"Selection\"},\"selection_policy\":{\"id\":\"4071\",\"type\":\"UnionRenderers\"}},\"id\":\"3880\",\"type\":\"ColumnDataSource\"},{\"attributes\":{\"data_source\":{\"id\":\"3880\",\"type\":\"ColumnDataSource\"},\"glyph\":{\"id\":\"3914\",\"type\":\"Circle\"},\"hover_glyph\":null,\"muted_glyph\":null,\"nonselection_glyph\":{\"id\":\"3915\",\"type\":\"Circle\"},\"selection_glyph\":null,\"view\":{\"id\":\"3917\",\"type\":\"CDSView\"}},\"id\":\"3916\",\"type\":\"GlyphRenderer\"},{\"attributes\":{},\"id\":\"3898\",\"type\":\"PanTool\"},{\"attributes\":{},\"id\":\"3886\",\"type\":\"CategoricalScale\"}],\"root_ids\":[\"3881\"]},\"title\":\"Bokeh Application\",\"version\":\"1.0.2\"}};\n",
       "  var render_items = [{\"docid\":\"91dc8886-9033-4277-bfae-8f22abb55768\",\"roots\":{\"3881\":\"8a21e82b-cb15-4475-827b-edf209adc30c\"}}];\n",
       "  root.Bokeh.embed.embed_items_notebook(docs_json, render_items);\n",
       "\n",
       "  }\n",
       "  if (root.Bokeh !== undefined) {\n",
       "    embed_document(root);\n",
       "  } else {\n",
       "    var attempts = 0;\n",
       "    var timer = setInterval(function(root) {\n",
       "      if (root.Bokeh !== undefined) {\n",
       "        embed_document(root);\n",
       "        clearInterval(timer);\n",
       "      }\n",
       "      attempts++;\n",
       "      if (attempts > 100) {\n",
       "        console.log(\"Bokeh: ERROR: Unable to run BokehJS code because BokehJS library is missing\");\n",
       "        clearInterval(timer);\n",
       "      }\n",
       "    }, 10, root)\n",
       "  }\n",
       "})(window);"
      ],
      "application/vnd.bokehjs_exec.v0+json": ""
     },
     "metadata": {
      "application/vnd.bokehjs_exec.v0+json": {
       "id": "3881"
      }
     },
     "output_type": "display_data"
    }
   ],
   "source": [
    "from bokeh.models import ColumnDataSource\n",
    "\n",
    "source = ColumnDataSource(df)\n",
    "x_range = [mark['original_price_bin'] for mark in data['data']['columns']][:15]\n",
    "y_range = list(df.level2_id.unique())\n",
    "\n",
    "p = figure(plot_width=900, plot_height=500, x_range=x_range, y_range=y_range)\n",
    "\n",
    "# add a circle renderer with a radius, color, and alpha\n",
    "p.circle('original_price_bin', 'level2_id', \n",
    "         radius=0.2, line_color=\"navy\", fill_color=\"orange\", fill_alpha=0.5, source=source)\n",
    "\n",
    "show(p) # show the results"
   ]
  },
  {
   "cell_type": "markdown",
   "metadata": {
    "slideshow": {
     "slide_type": "subslide"
    }
   },
   "source": [
    "3rd step: convert to bubble chart - size is a dimension"
   ]
  },
  {
   "cell_type": "code",
   "execution_count": 23,
   "metadata": {
    "slideshow": {
     "slide_type": "-"
    }
   },
   "outputs": [
    {
     "data": {
      "text/html": [
       "\n",
       "\n",
       "\n",
       "\n",
       "\n",
       "\n",
       "  <div class=\"bk-root\" id=\"b56dd691-f605-44ad-bad4-ab994fcf8c4f\"></div>\n"
      ]
     },
     "metadata": {},
     "output_type": "display_data"
    },
    {
     "data": {
      "application/javascript": [
       "(function(root) {\n",
       "  function embed_document(root) {\n",
       "    \n",
       "  var docs_json = {\"0f365cfc-b2aa-4892-8173-5a386842394a\":{\"roots\":{\"references\":[{\"attributes\":{\"below\":[{\"id\":\"4135\",\"type\":\"CategoricalAxis\"}],\"left\":[{\"id\":\"4139\",\"type\":\"CategoricalAxis\"}],\"plot_height\":500,\"plot_width\":900,\"renderers\":[{\"id\":\"4135\",\"type\":\"CategoricalAxis\"},{\"id\":\"4138\",\"type\":\"Grid\"},{\"id\":\"4139\",\"type\":\"CategoricalAxis\"},{\"id\":\"4142\",\"type\":\"Grid\"},{\"id\":\"4151\",\"type\":\"BoxAnnotation\"},{\"id\":\"4161\",\"type\":\"GlyphRenderer\"}],\"title\":{\"id\":\"4318\",\"type\":\"Title\"},\"toolbar\":{\"id\":\"4149\",\"type\":\"Toolbar\"},\"x_range\":{\"id\":\"4127\",\"type\":\"FactorRange\"},\"x_scale\":{\"id\":\"4131\",\"type\":\"CategoricalScale\"},\"y_range\":{\"id\":\"4129\",\"type\":\"FactorRange\"},\"y_scale\":{\"id\":\"4133\",\"type\":\"CategoricalScale\"}},\"id\":\"4126\",\"subtype\":\"Figure\",\"type\":\"Plot\"},{\"attributes\":{},\"id\":\"4133\",\"type\":\"CategoricalScale\"},{\"attributes\":{\"callback\":null,\"factors\":[\"0-50\",\"51-100\",\"101-150\",\"151-200\",\"201-250\",\"251-300\",\"301-350\",\"351-400\",\"401-450\",\"451-500\",\"501-550\",\"551-600\",\"601-650\",\"651-700\",\"701-750\"]},\"id\":\"4127\",\"type\":\"FactorRange\"},{\"attributes\":{\"callback\":null,\"factors\":[\"Outerwear, Coats, Jackets\",\"Pants & Leggings\",\"Shirts & Tops\",\"Shorts\",\"Sleepwear Underwear & Intimates\",\"Dresses\",\"Skirts & Skorts\",\"Tracksuits\"]},\"id\":\"4129\",\"type\":\"FactorRange\"},{\"attributes\":{},\"id\":\"4131\",\"type\":\"CategoricalScale\"},{\"attributes\":{\"formatter\":{\"id\":\"4322\",\"type\":\"CategoricalTickFormatter\"},\"plot\":{\"id\":\"4126\",\"subtype\":\"Figure\",\"type\":\"Plot\"},\"ticker\":{\"id\":\"4136\",\"type\":\"CategoricalTicker\"}},\"id\":\"4135\",\"type\":\"CategoricalAxis\"},{\"attributes\":{},\"id\":\"4146\",\"type\":\"SaveTool\"},{\"attributes\":{\"fill_alpha\":{\"value\":0.5},\"fill_color\":{\"value\":\"orange\"},\"line_color\":{\"value\":\"navy\"},\"size\":{\"field\":\"unique_product_count\",\"units\":\"screen\"},\"x\":{\"field\":\"original_price_bin\"},\"y\":{\"field\":\"level2_id\"}},\"id\":\"4159\",\"type\":\"Circle\"},{\"attributes\":{},\"id\":\"4320\",\"type\":\"CategoricalTickFormatter\"},{\"attributes\":{\"fill_alpha\":{\"value\":0.1},\"fill_color\":{\"value\":\"#1f77b4\"},\"line_alpha\":{\"value\":0.1},\"line_color\":{\"value\":\"#1f77b4\"},\"size\":{\"field\":\"unique_product_count\",\"units\":\"screen\"},\"x\":{\"field\":\"original_price_bin\"},\"y\":{\"field\":\"level2_id\"}},\"id\":\"4160\",\"type\":\"Circle\"},{\"attributes\":{\"plot\":null,\"text\":\"\"},\"id\":\"4318\",\"type\":\"Title\"},{\"attributes\":{},\"id\":\"4136\",\"type\":\"CategoricalTicker\"},{\"attributes\":{},\"id\":\"4322\",\"type\":\"CategoricalTickFormatter\"},{\"attributes\":{\"plot\":{\"id\":\"4126\",\"subtype\":\"Figure\",\"type\":\"Plot\"},\"ticker\":{\"id\":\"4136\",\"type\":\"CategoricalTicker\"}},\"id\":\"4138\",\"type\":\"Grid\"},{\"attributes\":{\"source\":{\"id\":\"3880\",\"type\":\"ColumnDataSource\"}},\"id\":\"4162\",\"type\":\"CDSView\"},{\"attributes\":{\"formatter\":{\"id\":\"4320\",\"type\":\"CategoricalTickFormatter\"},\"plot\":{\"id\":\"4126\",\"subtype\":\"Figure\",\"type\":\"Plot\"},\"ticker\":{\"id\":\"4140\",\"type\":\"CategoricalTicker\"}},\"id\":\"4139\",\"type\":\"CategoricalAxis\"},{\"attributes\":{},\"id\":\"4140\",\"type\":\"CategoricalTicker\"},{\"attributes\":{\"bottom_units\":\"screen\",\"fill_alpha\":{\"value\":0.5},\"fill_color\":{\"value\":\"lightgrey\"},\"left_units\":\"screen\",\"level\":\"overlay\",\"line_alpha\":{\"value\":1.0},\"line_color\":{\"value\":\"black\"},\"line_dash\":[4,4],\"line_width\":{\"value\":2},\"plot\":null,\"render_mode\":\"css\",\"right_units\":\"screen\",\"top_units\":\"screen\"},\"id\":\"4151\",\"type\":\"BoxAnnotation\"},{\"attributes\":{\"active_drag\":\"auto\",\"active_inspect\":\"auto\",\"active_multi\":null,\"active_scroll\":\"auto\",\"active_tap\":\"auto\",\"tools\":[{\"id\":\"4143\",\"type\":\"PanTool\"},{\"id\":\"4144\",\"type\":\"WheelZoomTool\"},{\"id\":\"4145\",\"type\":\"BoxZoomTool\"},{\"id\":\"4146\",\"type\":\"SaveTool\"},{\"id\":\"4147\",\"type\":\"ResetTool\"},{\"id\":\"4148\",\"type\":\"HelpTool\"}]},\"id\":\"4149\",\"type\":\"Toolbar\"},{\"attributes\":{\"dimension\":1,\"plot\":{\"id\":\"4126\",\"subtype\":\"Figure\",\"type\":\"Plot\"},\"ticker\":{\"id\":\"4140\",\"type\":\"CategoricalTicker\"}},\"id\":\"4142\",\"type\":\"Grid\"},{\"attributes\":{},\"id\":\"4070\",\"type\":\"Selection\"},{\"attributes\":{},\"id\":\"4147\",\"type\":\"ResetTool\"},{\"attributes\":{\"data_source\":{\"id\":\"3880\",\"type\":\"ColumnDataSource\"},\"glyph\":{\"id\":\"4159\",\"type\":\"Circle\"},\"hover_glyph\":null,\"muted_glyph\":null,\"nonselection_glyph\":{\"id\":\"4160\",\"type\":\"Circle\"},\"selection_glyph\":null,\"view\":{\"id\":\"4162\",\"type\":\"CDSView\"}},\"id\":\"4161\",\"type\":\"GlyphRenderer\"},{\"attributes\":{},\"id\":\"4071\",\"type\":\"UnionRenderers\"},{\"attributes\":{},\"id\":\"4148\",\"type\":\"HelpTool\"},{\"attributes\":{},\"id\":\"4143\",\"type\":\"PanTool\"},{\"attributes\":{},\"id\":\"4144\",\"type\":\"WheelZoomTool\"},{\"attributes\":{\"callback\":null,\"data\":{\"brand_count\":[4,3,4,2,1,2,1,1,4,1,1,4,2,1,1,1,5,5,3,2,2,5,5,1,4,1,1,1,1,2,1,1,1,1,1,1],\"country_name\":[\"USA\",\"USA\",\"USA\",\"USA\",\"USA\",\"USA\",\"USA\",\"USA\",\"USA\",\"USA\",\"USA\",\"USA\",\"USA\",\"USA\",\"USA\",\"USA\",\"USA\",\"USA\",\"USA\",\"USA\",\"USA\",\"USA\",\"USA\",\"USA\",\"USA\",\"USA\",\"USA\",\"USA\",\"USA\",\"USA\",\"USA\",\"USA\",\"USA\",\"USA\",\"USA\",\"USA\"],\"index\":[0,1,2,3,4,5,6,7,8,9,10,11,12,13,14,15,16,17,18,19,20,21,22,23,24,25,26,27,28,29,30,31,32,33,34,35],\"level1_id\":[\"Clothing\",\"Clothing\",\"Clothing\",\"Clothing\",\"Clothing\",\"Clothing\",\"Clothing\",\"Clothing\",\"Clothing\",\"Clothing\",\"Clothing\",\"Clothing\",\"Clothing\",\"Clothing\",\"Clothing\",\"Clothing\",\"Clothing\",\"Clothing\",\"Clothing\",\"Clothing\",\"Clothing\",\"Clothing\",\"Clothing\",\"Clothing\",\"Clothing\",\"Clothing\",\"Clothing\",\"Clothing\",\"Clothing\",\"Clothing\",\"Clothing\",\"Clothing\",\"Clothing\",\"Clothing\",\"Clothing\",\"Clothing\"],\"level2_id\":[\"Outerwear, Coats, Jackets\",\"Outerwear, Coats, Jackets\",\"Outerwear, Coats, Jackets\",\"Outerwear, Coats, Jackets\",\"Outerwear, Coats, Jackets\",\"Outerwear, Coats, Jackets\",\"Outerwear, Coats, Jackets\",\"Outerwear, Coats, Jackets\",\"Outerwear, Coats, Jackets\",\"Outerwear, Coats, Jackets\",\"Outerwear, Coats, Jackets\",\"Pants & Leggings\",\"Pants & Leggings\",\"Pants & Leggings\",\"Pants & Leggings\",\"Pants & Leggings\",\"Pants & Leggings\",\"Shirts & Tops\",\"Shirts & Tops\",\"Shirts & Tops\",\"Shirts & Tops\",\"Shirts & Tops\",\"Shorts\",\"Shorts\",\"Shorts\",\"Sleepwear Underwear & Intimates\",\"Sleepwear Underwear & Intimates\",\"Dresses\",\"Dresses\",\"Dresses\",\"Skirts & Skorts\",\"Skirts & Skorts\",\"Skirts & Skorts\",\"Skirts & Skorts\",\"Tracksuits\",\"Tracksuits\"],\"original_price_bin\":[\"101-150\",\"151-200\",\"201-250\",\"251-300\",\"301-350\",\"351-400\",\"401-450\",\"451-500\",\"51-100\",\"551-600\",\"651-700\",\"0-50\",\"101-150\",\"151-200\",\"201-250\",\"251-300\",\"51-100\",\"0-50\",\"101-150\",\"151-200\",\"201-250\",\"51-100\",\"0-50\",\"101-150\",\"51-100\",\"0-50\",\"51-100\",\"0-50\",\"101-150\",\"51-100\",\"0-50\",\"101-150\",\"151-200\",\"51-100\",\"151-200\",\"201-250\"],\"retailer\":[\"Webshop1\",\"Webshop1\",\"Webshop1\",\"Webshop1\",\"Webshop1\",\"Webshop1\",\"Webshop1\",\"Webshop1\",\"Webshop1\",\"Webshop1\",\"Webshop1\",\"Webshop1\",\"Webshop1\",\"Webshop1\",\"Webshop1\",\"Webshop1\",\"Webshop1\",\"Webshop1\",\"Webshop1\",\"Webshop1\",\"Webshop1\",\"Webshop1\",\"Webshop1\",\"Webshop1\",\"Webshop1\",\"Webshop1\",\"Webshop1\",\"Webshop1\",\"Webshop1\",\"Webshop1\",\"Webshop1\",\"Webshop1\",\"Webshop1\",\"Webshop1\",\"Webshop1\",\"Webshop1\"],\"unique_product_count\":[94,35,21,8,5,4,2,4,168,2,2,94,56,16,2,2,438,2656,182,35,13,700,477,13,357,96,29,12,2,13,8,1,3,42,1,1],\"unique_style_count\":[53,28,16,8,4,3,2,3,91,1,2,39,36,11,1,2,232,902,107,28,3,298,153,11,157,42,10,8,1,6,1,1,2,13,1,1]},\"selected\":{\"id\":\"4070\",\"type\":\"Selection\"},\"selection_policy\":{\"id\":\"4071\",\"type\":\"UnionRenderers\"}},\"id\":\"3880\",\"type\":\"ColumnDataSource\"},{\"attributes\":{\"overlay\":{\"id\":\"4151\",\"type\":\"BoxAnnotation\"}},\"id\":\"4145\",\"type\":\"BoxZoomTool\"}],\"root_ids\":[\"4126\"]},\"title\":\"Bokeh Application\",\"version\":\"1.0.2\"}};\n",
       "  var render_items = [{\"docid\":\"0f365cfc-b2aa-4892-8173-5a386842394a\",\"roots\":{\"4126\":\"b56dd691-f605-44ad-bad4-ab994fcf8c4f\"}}];\n",
       "  root.Bokeh.embed.embed_items_notebook(docs_json, render_items);\n",
       "\n",
       "  }\n",
       "  if (root.Bokeh !== undefined) {\n",
       "    embed_document(root);\n",
       "  } else {\n",
       "    var attempts = 0;\n",
       "    var timer = setInterval(function(root) {\n",
       "      if (root.Bokeh !== undefined) {\n",
       "        embed_document(root);\n",
       "        clearInterval(timer);\n",
       "      }\n",
       "      attempts++;\n",
       "      if (attempts > 100) {\n",
       "        console.log(\"Bokeh: ERROR: Unable to run BokehJS code because BokehJS library is missing\");\n",
       "        clearInterval(timer);\n",
       "      }\n",
       "    }, 10, root)\n",
       "  }\n",
       "})(window);"
      ],
      "application/vnd.bokehjs_exec.v0+json": ""
     },
     "metadata": {
      "application/vnd.bokehjs_exec.v0+json": {
       "id": "4126"
      }
     },
     "output_type": "display_data"
    }
   ],
   "source": [
    "p = figure(plot_width=900, plot_height=500, x_range=x_range, y_range=y_range)\n",
    "\n",
    "# using size instead of radius\n",
    "p.circle('original_price_bin', 'level2_id', \n",
    "         size='unique_product_count', line_color=\"navy\", fill_color=\"orange\", fill_alpha=0.5, source=source)\n",
    "\n",
    "show(p)"
   ]
  },
  {
   "cell_type": "markdown",
   "metadata": {
    "slideshow": {
     "slide_type": "subslide"
    }
   },
   "source": [
    "4th step: normalize the data by row"
   ]
  },
  {
   "cell_type": "code",
   "execution_count": 24,
   "metadata": {
    "slideshow": {
     "slide_type": "-"
    }
   },
   "outputs": [
    {
     "data": {
      "text/html": [
       "<div>\n",
       "<style scoped>\n",
       "    .dataframe tbody tr th:only-of-type {\n",
       "        vertical-align: middle;\n",
       "    }\n",
       "\n",
       "    .dataframe tbody tr th {\n",
       "        vertical-align: top;\n",
       "    }\n",
       "\n",
       "    .dataframe thead th {\n",
       "        text-align: right;\n",
       "    }\n",
       "</style>\n",
       "<table border=\"1\" class=\"dataframe\">\n",
       "  <thead>\n",
       "    <tr style=\"text-align: right;\">\n",
       "      <th></th>\n",
       "      <th>brand_count</th>\n",
       "      <th>country_name</th>\n",
       "      <th>level1_id</th>\n",
       "      <th>level2_id</th>\n",
       "      <th>original_price_bin</th>\n",
       "      <th>retailer</th>\n",
       "      <th>unique_product_count</th>\n",
       "      <th>unique_style_count</th>\n",
       "      <th>max_value</th>\n",
       "      <th>norm</th>\n",
       "    </tr>\n",
       "  </thead>\n",
       "  <tbody>\n",
       "    <tr>\n",
       "      <th>0</th>\n",
       "      <td>4</td>\n",
       "      <td>USA</td>\n",
       "      <td>Clothing</td>\n",
       "      <td>Outerwear, Coats, Jackets</td>\n",
       "      <td>101-150</td>\n",
       "      <td>Webshop1</td>\n",
       "      <td>94</td>\n",
       "      <td>53</td>\n",
       "      <td>168</td>\n",
       "      <td>19.583333</td>\n",
       "    </tr>\n",
       "    <tr>\n",
       "      <th>1</th>\n",
       "      <td>3</td>\n",
       "      <td>USA</td>\n",
       "      <td>Clothing</td>\n",
       "      <td>Outerwear, Coats, Jackets</td>\n",
       "      <td>151-200</td>\n",
       "      <td>Webshop1</td>\n",
       "      <td>35</td>\n",
       "      <td>28</td>\n",
       "      <td>168</td>\n",
       "      <td>7.291667</td>\n",
       "    </tr>\n",
       "    <tr>\n",
       "      <th>2</th>\n",
       "      <td>4</td>\n",
       "      <td>USA</td>\n",
       "      <td>Clothing</td>\n",
       "      <td>Outerwear, Coats, Jackets</td>\n",
       "      <td>201-250</td>\n",
       "      <td>Webshop1</td>\n",
       "      <td>21</td>\n",
       "      <td>16</td>\n",
       "      <td>168</td>\n",
       "      <td>4.375000</td>\n",
       "    </tr>\n",
       "    <tr>\n",
       "      <th>3</th>\n",
       "      <td>2</td>\n",
       "      <td>USA</td>\n",
       "      <td>Clothing</td>\n",
       "      <td>Outerwear, Coats, Jackets</td>\n",
       "      <td>251-300</td>\n",
       "      <td>Webshop1</td>\n",
       "      <td>8</td>\n",
       "      <td>8</td>\n",
       "      <td>168</td>\n",
       "      <td>1.666667</td>\n",
       "    </tr>\n",
       "    <tr>\n",
       "      <th>4</th>\n",
       "      <td>1</td>\n",
       "      <td>USA</td>\n",
       "      <td>Clothing</td>\n",
       "      <td>Outerwear, Coats, Jackets</td>\n",
       "      <td>301-350</td>\n",
       "      <td>Webshop1</td>\n",
       "      <td>5</td>\n",
       "      <td>4</td>\n",
       "      <td>168</td>\n",
       "      <td>1.041667</td>\n",
       "    </tr>\n",
       "  </tbody>\n",
       "</table>\n",
       "</div>"
      ],
      "text/plain": [
       "   brand_count country_name level1_id                  level2_id  \\\n",
       "0            4          USA  Clothing  Outerwear, Coats, Jackets   \n",
       "1            3          USA  Clothing  Outerwear, Coats, Jackets   \n",
       "2            4          USA  Clothing  Outerwear, Coats, Jackets   \n",
       "3            2          USA  Clothing  Outerwear, Coats, Jackets   \n",
       "4            1          USA  Clothing  Outerwear, Coats, Jackets   \n",
       "\n",
       "  original_price_bin  retailer  unique_product_count  unique_style_count  \\\n",
       "0            101-150  Webshop1                    94                  53   \n",
       "1            151-200  Webshop1                    35                  28   \n",
       "2            201-250  Webshop1                    21                  16   \n",
       "3            251-300  Webshop1                     8                   8   \n",
       "4            301-350  Webshop1                     5                   4   \n",
       "\n",
       "   max_value       norm  \n",
       "0        168  19.583333  \n",
       "1        168   7.291667  \n",
       "2        168   4.375000  \n",
       "3        168   1.666667  \n",
       "4        168   1.041667  "
      ]
     },
     "execution_count": 24,
     "metadata": {},
     "output_type": "execute_result"
    }
   ],
   "source": [
    "# calculating max values by category (row in our chart)\n",
    "df_max_values = df.groupby('level2_id').max().reset_index()\n",
    "max_values_dict = df_max_values.to_dict('records')\n",
    "max_values_dict = {row['level2_id']: row['unique_product_count'] for row in max_values_dict}\n",
    "\n",
    "# calculating the normalized value by row\n",
    "df['max_value'] = df.level2_id.apply(max_values_dict.get)\n",
    "df['norm'] = df['unique_product_count'] / df['max_value'] * 35\n",
    "df.head(5)"
   ]
  },
  {
   "cell_type": "markdown",
   "metadata": {
    "slideshow": {
     "slide_type": "subslide"
    }
   },
   "source": [
    "5th step: drawing normalized data"
   ]
  },
  {
   "cell_type": "code",
   "execution_count": 25,
   "metadata": {
    "slideshow": {
     "slide_type": "-"
    }
   },
   "outputs": [
    {
     "data": {
      "text/html": [
       "\n",
       "\n",
       "\n",
       "\n",
       "\n",
       "\n",
       "  <div class=\"bk-root\" id=\"b86523c3-7a93-43ee-8395-bfb6178a09a5\"></div>\n"
      ]
     },
     "metadata": {},
     "output_type": "display_data"
    },
    {
     "data": {
      "application/javascript": [
       "(function(root) {\n",
       "  function embed_document(root) {\n",
       "    \n",
       "  var docs_json = {\"c9bd8e80-4a3f-4c9e-ae8c-1eb2018db7a1\":{\"roots\":{\"references\":[{\"attributes\":{\"below\":[{\"id\":\"4390\",\"type\":\"CategoricalAxis\"}],\"left\":[{\"id\":\"4394\",\"type\":\"CategoricalAxis\"}],\"plot_height\":400,\"plot_width\":900,\"renderers\":[{\"id\":\"4390\",\"type\":\"CategoricalAxis\"},{\"id\":\"4393\",\"type\":\"Grid\"},{\"id\":\"4394\",\"type\":\"CategoricalAxis\"},{\"id\":\"4397\",\"type\":\"Grid\"},{\"id\":\"4406\",\"type\":\"BoxAnnotation\"},{\"id\":\"4416\",\"type\":\"GlyphRenderer\"}],\"title\":{\"id\":\"4582\",\"type\":\"Title\"},\"toolbar\":{\"id\":\"4404\",\"type\":\"Toolbar\"},\"x_range\":{\"id\":\"4382\",\"type\":\"FactorRange\"},\"x_scale\":{\"id\":\"4386\",\"type\":\"CategoricalScale\"},\"y_range\":{\"id\":\"4384\",\"type\":\"FactorRange\"},\"y_scale\":{\"id\":\"4388\",\"type\":\"CategoricalScale\"}},\"id\":\"4381\",\"subtype\":\"Figure\",\"type\":\"Plot\"},{\"attributes\":{\"formatter\":{\"id\":\"4586\",\"type\":\"CategoricalTickFormatter\"},\"plot\":{\"id\":\"4381\",\"subtype\":\"Figure\",\"type\":\"Plot\"},\"ticker\":{\"id\":\"4391\",\"type\":\"CategoricalTicker\"}},\"id\":\"4390\",\"type\":\"CategoricalAxis\"},{\"attributes\":{},\"id\":\"4386\",\"type\":\"CategoricalScale\"},{\"attributes\":{},\"id\":\"4399\",\"type\":\"WheelZoomTool\"},{\"attributes\":{\"overlay\":{\"id\":\"4406\",\"type\":\"BoxAnnotation\"}},\"id\":\"4400\",\"type\":\"BoxZoomTool\"},{\"attributes\":{},\"id\":\"4401\",\"type\":\"SaveTool\"},{\"attributes\":{\"formatter\":{\"id\":\"4584\",\"type\":\"CategoricalTickFormatter\"},\"plot\":{\"id\":\"4381\",\"subtype\":\"Figure\",\"type\":\"Plot\"},\"ticker\":{\"id\":\"4395\",\"type\":\"CategoricalTicker\"}},\"id\":\"4394\",\"type\":\"CategoricalAxis\"},{\"attributes\":{},\"id\":\"4402\",\"type\":\"ResetTool\"},{\"attributes\":{},\"id\":\"4388\",\"type\":\"CategoricalScale\"},{\"attributes\":{},\"id\":\"4403\",\"type\":\"HelpTool\"},{\"attributes\":{\"active_drag\":\"auto\",\"active_inspect\":\"auto\",\"active_multi\":null,\"active_scroll\":\"auto\",\"active_tap\":\"auto\",\"tools\":[{\"id\":\"4398\",\"type\":\"PanTool\"},{\"id\":\"4399\",\"type\":\"WheelZoomTool\"},{\"id\":\"4400\",\"type\":\"BoxZoomTool\"},{\"id\":\"4401\",\"type\":\"SaveTool\"},{\"id\":\"4402\",\"type\":\"ResetTool\"},{\"id\":\"4403\",\"type\":\"HelpTool\"}]},\"id\":\"4404\",\"type\":\"Toolbar\"},{\"attributes\":{\"bottom_units\":\"screen\",\"fill_alpha\":{\"value\":0.5},\"fill_color\":{\"value\":\"lightgrey\"},\"left_units\":\"screen\",\"level\":\"overlay\",\"line_alpha\":{\"value\":1.0},\"line_color\":{\"value\":\"black\"},\"line_dash\":[4,4],\"line_width\":{\"value\":2},\"plot\":null,\"render_mode\":\"css\",\"right_units\":\"screen\",\"top_units\":\"screen\"},\"id\":\"4406\",\"type\":\"BoxAnnotation\"},{\"attributes\":{},\"id\":\"4398\",\"type\":\"PanTool\"},{\"attributes\":{},\"id\":\"4586\",\"type\":\"CategoricalTickFormatter\"},{\"attributes\":{\"source\":{\"id\":\"4380\",\"type\":\"ColumnDataSource\"}},\"id\":\"4417\",\"type\":\"CDSView\"},{\"attributes\":{\"plot\":{\"id\":\"4381\",\"subtype\":\"Figure\",\"type\":\"Plot\"},\"ticker\":{\"id\":\"4391\",\"type\":\"CategoricalTicker\"}},\"id\":\"4393\",\"type\":\"Grid\"},{\"attributes\":{\"plot\":null,\"text\":\"\"},\"id\":\"4582\",\"type\":\"Title\"},{\"attributes\":{\"fill_alpha\":{\"value\":0.1},\"fill_color\":{\"value\":\"#1f77b4\"},\"line_alpha\":{\"value\":0.1},\"line_color\":{\"value\":\"#1f77b4\"},\"size\":{\"field\":\"norm\",\"units\":\"screen\"},\"x\":{\"field\":\"original_price_bin\"},\"y\":{\"field\":\"level2_id\"}},\"id\":\"4415\",\"type\":\"Circle\"},{\"attributes\":{},\"id\":\"4395\",\"type\":\"CategoricalTicker\"},{\"attributes\":{},\"id\":\"4584\",\"type\":\"CategoricalTickFormatter\"},{\"attributes\":{\"dimension\":1,\"plot\":{\"id\":\"4381\",\"subtype\":\"Figure\",\"type\":\"Plot\"},\"ticker\":{\"id\":\"4395\",\"type\":\"CategoricalTicker\"}},\"id\":\"4397\",\"type\":\"Grid\"},{\"attributes\":{},\"id\":\"4588\",\"type\":\"Selection\"},{\"attributes\":{\"callback\":null,\"data\":{\"brand_count\":[4,3,4,2,1,2,1,1,4,1,1,4,2,1,1,1,5,5,3,2,2,5,5,1,4,1,1,1,1,2,1,1,1,1,1,1],\"country_name\":[\"USA\",\"USA\",\"USA\",\"USA\",\"USA\",\"USA\",\"USA\",\"USA\",\"USA\",\"USA\",\"USA\",\"USA\",\"USA\",\"USA\",\"USA\",\"USA\",\"USA\",\"USA\",\"USA\",\"USA\",\"USA\",\"USA\",\"USA\",\"USA\",\"USA\",\"USA\",\"USA\",\"USA\",\"USA\",\"USA\",\"USA\",\"USA\",\"USA\",\"USA\",\"USA\",\"USA\"],\"index\":[0,1,2,3,4,5,6,7,8,9,10,11,12,13,14,15,16,17,18,19,20,21,22,23,24,25,26,27,28,29,30,31,32,33,34,35],\"level1_id\":[\"Clothing\",\"Clothing\",\"Clothing\",\"Clothing\",\"Clothing\",\"Clothing\",\"Clothing\",\"Clothing\",\"Clothing\",\"Clothing\",\"Clothing\",\"Clothing\",\"Clothing\",\"Clothing\",\"Clothing\",\"Clothing\",\"Clothing\",\"Clothing\",\"Clothing\",\"Clothing\",\"Clothing\",\"Clothing\",\"Clothing\",\"Clothing\",\"Clothing\",\"Clothing\",\"Clothing\",\"Clothing\",\"Clothing\",\"Clothing\",\"Clothing\",\"Clothing\",\"Clothing\",\"Clothing\",\"Clothing\",\"Clothing\"],\"level2_id\":[\"Outerwear, Coats, Jackets\",\"Outerwear, Coats, Jackets\",\"Outerwear, Coats, Jackets\",\"Outerwear, Coats, Jackets\",\"Outerwear, Coats, Jackets\",\"Outerwear, Coats, Jackets\",\"Outerwear, Coats, Jackets\",\"Outerwear, Coats, Jackets\",\"Outerwear, Coats, Jackets\",\"Outerwear, Coats, Jackets\",\"Outerwear, Coats, Jackets\",\"Pants & Leggings\",\"Pants & Leggings\",\"Pants & Leggings\",\"Pants & Leggings\",\"Pants & Leggings\",\"Pants & Leggings\",\"Shirts & Tops\",\"Shirts & Tops\",\"Shirts & Tops\",\"Shirts & Tops\",\"Shirts & Tops\",\"Shorts\",\"Shorts\",\"Shorts\",\"Sleepwear Underwear & Intimates\",\"Sleepwear Underwear & Intimates\",\"Dresses\",\"Dresses\",\"Dresses\",\"Skirts & Skorts\",\"Skirts & Skorts\",\"Skirts & Skorts\",\"Skirts & Skorts\",\"Tracksuits\",\"Tracksuits\"],\"max_value\":[168,168,168,168,168,168,168,168,168,168,168,438,438,438,438,438,438,2656,2656,2656,2656,2656,477,477,477,96,96,13,13,13,42,42,42,42,1,1],\"norm\":{\"__ndarray__\":\"VVVVVVWVM0CrqqqqqiodQAAAAAAAgBFAqqqqqqqq+j+qqqqqqqrwP6qqqqqqquo/qqqqqqqq2j+qqqqqqqrqPwAAAAAAgEFAqqqqqqqq2j+qqqqqqqraP7sg7IKwCx5AZB6SeUjmEUBORzkd5XT0P05HOR3ldMQ/Tkc5HeV0xD8AAAAAAIBBQAAAAAAAgEFAKeGNps4vA0A+5LJioITdPwlvNHV+7cU/p86vPeRyIkAAAAAAAIBBQHGRJQIshu4/99qIdekxOkAAAAAAAIBBQFVVVVVVJSVAdmIndmInQECe2Imd2IkVQAAAAAAAgEFAqqqqqqqqGkCqqqqqqqrqPwAAAAAAAARAAAAAAACAQUAAAAAAAIBBQAAAAAAAgEFA\",\"dtype\":\"float64\",\"shape\":[36]},\"original_price_bin\":[\"101-150\",\"151-200\",\"201-250\",\"251-300\",\"301-350\",\"351-400\",\"401-450\",\"451-500\",\"51-100\",\"551-600\",\"651-700\",\"0-50\",\"101-150\",\"151-200\",\"201-250\",\"251-300\",\"51-100\",\"0-50\",\"101-150\",\"151-200\",\"201-250\",\"51-100\",\"0-50\",\"101-150\",\"51-100\",\"0-50\",\"51-100\",\"0-50\",\"101-150\",\"51-100\",\"0-50\",\"101-150\",\"151-200\",\"51-100\",\"151-200\",\"201-250\"],\"retailer\":[\"Webshop1\",\"Webshop1\",\"Webshop1\",\"Webshop1\",\"Webshop1\",\"Webshop1\",\"Webshop1\",\"Webshop1\",\"Webshop1\",\"Webshop1\",\"Webshop1\",\"Webshop1\",\"Webshop1\",\"Webshop1\",\"Webshop1\",\"Webshop1\",\"Webshop1\",\"Webshop1\",\"Webshop1\",\"Webshop1\",\"Webshop1\",\"Webshop1\",\"Webshop1\",\"Webshop1\",\"Webshop1\",\"Webshop1\",\"Webshop1\",\"Webshop1\",\"Webshop1\",\"Webshop1\",\"Webshop1\",\"Webshop1\",\"Webshop1\",\"Webshop1\",\"Webshop1\",\"Webshop1\"],\"unique_product_count\":[94,35,21,8,5,4,2,4,168,2,2,94,56,16,2,2,438,2656,182,35,13,700,477,13,357,96,29,12,2,13,8,1,3,42,1,1],\"unique_style_count\":[53,28,16,8,4,3,2,3,91,1,2,39,36,11,1,2,232,902,107,28,3,298,153,11,157,42,10,8,1,6,1,1,2,13,1,1]},\"selected\":{\"id\":\"4588\",\"type\":\"Selection\"},\"selection_policy\":{\"id\":\"4589\",\"type\":\"UnionRenderers\"}},\"id\":\"4380\",\"type\":\"ColumnDataSource\"},{\"attributes\":{},\"id\":\"4391\",\"type\":\"CategoricalTicker\"},{\"attributes\":{},\"id\":\"4589\",\"type\":\"UnionRenderers\"},{\"attributes\":{\"fill_alpha\":{\"value\":0.5},\"fill_color\":{\"value\":\"orange\"},\"line_color\":{\"value\":\"navy\"},\"size\":{\"field\":\"norm\",\"units\":\"screen\"},\"x\":{\"field\":\"original_price_bin\"},\"y\":{\"field\":\"level2_id\"}},\"id\":\"4414\",\"type\":\"Circle\"},{\"attributes\":{\"callback\":null,\"factors\":[\"Outerwear, Coats, Jackets\",\"Pants & Leggings\",\"Shirts & Tops\",\"Shorts\",\"Sleepwear Underwear & Intimates\",\"Dresses\",\"Skirts & Skorts\",\"Tracksuits\"]},\"id\":\"4384\",\"type\":\"FactorRange\"},{\"attributes\":{\"callback\":null,\"factors\":[\"0-50\",\"51-100\",\"101-150\",\"151-200\",\"201-250\",\"251-300\",\"301-350\",\"351-400\",\"401-450\",\"451-500\",\"501-550\",\"551-600\",\"601-650\",\"651-700\",\"701-750\"]},\"id\":\"4382\",\"type\":\"FactorRange\"},{\"attributes\":{\"data_source\":{\"id\":\"4380\",\"type\":\"ColumnDataSource\"},\"glyph\":{\"id\":\"4414\",\"type\":\"Circle\"},\"hover_glyph\":null,\"muted_glyph\":null,\"nonselection_glyph\":{\"id\":\"4415\",\"type\":\"Circle\"},\"selection_glyph\":null,\"view\":{\"id\":\"4417\",\"type\":\"CDSView\"}},\"id\":\"4416\",\"type\":\"GlyphRenderer\"}],\"root_ids\":[\"4381\"]},\"title\":\"Bokeh Application\",\"version\":\"1.0.2\"}};\n",
       "  var render_items = [{\"docid\":\"c9bd8e80-4a3f-4c9e-ae8c-1eb2018db7a1\",\"roots\":{\"4381\":\"b86523c3-7a93-43ee-8395-bfb6178a09a5\"}}];\n",
       "  root.Bokeh.embed.embed_items_notebook(docs_json, render_items);\n",
       "\n",
       "  }\n",
       "  if (root.Bokeh !== undefined) {\n",
       "    embed_document(root);\n",
       "  } else {\n",
       "    var attempts = 0;\n",
       "    var timer = setInterval(function(root) {\n",
       "      if (root.Bokeh !== undefined) {\n",
       "        embed_document(root);\n",
       "        clearInterval(timer);\n",
       "      }\n",
       "      attempts++;\n",
       "      if (attempts > 100) {\n",
       "        console.log(\"Bokeh: ERROR: Unable to run BokehJS code because BokehJS library is missing\");\n",
       "        clearInterval(timer);\n",
       "      }\n",
       "    }, 10, root)\n",
       "  }\n",
       "})(window);"
      ],
      "application/vnd.bokehjs_exec.v0+json": ""
     },
     "metadata": {
      "application/vnd.bokehjs_exec.v0+json": {
       "id": "4381"
      }
     },
     "output_type": "display_data"
    }
   ],
   "source": [
    "source = ColumnDataSource(df)\n",
    "\n",
    "# create a new plot with default tools, using figure\n",
    "p = figure(plot_width=900, plot_height=400, x_range=x_range, y_range=y_range)\n",
    "\n",
    "# add a circle renderer with a radius, color, and alpha\n",
    "p.circle('original_price_bin', 'level2_id', size='norm', \n",
    "         line_color=\"navy\", fill_color=\"orange\", fill_alpha=0.5, source=source)\n",
    "\n",
    "show(p) # show the results"
   ]
  },
  {
   "cell_type": "markdown",
   "metadata": {
    "slideshow": {
     "slide_type": "subslide"
    }
   },
   "source": [
    "6th step: "
   ]
  },
  {
   "cell_type": "code",
   "execution_count": 26,
   "metadata": {
    "scrolled": false,
    "slideshow": {
     "slide_type": "-"
    }
   },
   "outputs": [
    {
     "data": {
      "text/html": [
       "\n",
       "\n",
       "\n",
       "\n",
       "\n",
       "\n",
       "  <div class=\"bk-root\" id=\"f69f36dd-5a17-4bc5-9107-02d0e82c5222\"></div>\n"
      ]
     },
     "metadata": {},
     "output_type": "display_data"
    },
    {
     "data": {
      "application/javascript": [
       "(function(root) {\n",
       "  function embed_document(root) {\n",
       "    \n",
       "  var docs_json = {\"7a9c59e9-61f6-4450-ae63-088782d18bbe\":{\"roots\":{\"references\":[{\"attributes\":{\"below\":[{\"id\":\"4654\",\"type\":\"CategoricalAxis\"}],\"left\":[{\"id\":\"4658\",\"type\":\"CategoricalAxis\"}],\"plot_height\":400,\"plot_width\":900,\"renderers\":[{\"id\":\"4654\",\"type\":\"CategoricalAxis\"},{\"id\":\"4657\",\"type\":\"Grid\"},{\"id\":\"4658\",\"type\":\"CategoricalAxis\"},{\"id\":\"4661\",\"type\":\"Grid\"},{\"id\":\"4664\",\"type\":\"PolyAnnotation\"},{\"id\":\"4671\",\"type\":\"GlyphRenderer\"}],\"title\":{\"id\":\"4846\",\"type\":\"Title\"},\"toolbar\":{\"id\":\"4663\",\"type\":\"Toolbar\"},\"x_range\":{\"id\":\"4646\",\"type\":\"FactorRange\"},\"x_scale\":{\"id\":\"4650\",\"type\":\"CategoricalScale\"},\"y_range\":{\"id\":\"4648\",\"type\":\"FactorRange\"},\"y_scale\":{\"id\":\"4652\",\"type\":\"CategoricalScale\"}},\"id\":\"4645\",\"subtype\":\"Figure\",\"type\":\"Plot\"},{\"attributes\":{\"callback\":null,\"factors\":[\"0-50\",\"51-100\",\"101-150\",\"151-200\",\"201-250\",\"251-300\",\"301-350\",\"351-400\",\"401-450\",\"451-500\",\"501-550\",\"551-600\",\"601-650\",\"651-700\",\"701-750\"]},\"id\":\"4646\",\"type\":\"FactorRange\"},{\"attributes\":{\"fill_alpha\":{\"value\":0.5},\"fill_color\":{\"value\":\"lightgrey\"},\"level\":\"overlay\",\"line_alpha\":{\"value\":1.0},\"line_color\":{\"value\":\"black\"},\"line_dash\":[4,4],\"line_width\":{\"value\":2},\"plot\":null,\"xs_units\":\"screen\",\"ys_units\":\"screen\"},\"id\":\"4664\",\"type\":\"PolyAnnotation\"},{\"attributes\":{\"fill_alpha\":{\"value\":0.1},\"fill_color\":{\"value\":\"#1f77b4\"},\"line_alpha\":{\"value\":0.1},\"line_color\":{\"value\":\"#1f77b4\"},\"size\":{\"field\":\"norm\",\"units\":\"screen\"},\"x\":{\"field\":\"original_price_bin\"},\"y\":{\"field\":\"level2_id\"}},\"id\":\"4670\",\"type\":\"Circle\"},{\"attributes\":{\"data_source\":{\"id\":\"4380\",\"type\":\"ColumnDataSource\"},\"glyph\":{\"id\":\"4669\",\"type\":\"Circle\"},\"hover_glyph\":null,\"muted_glyph\":null,\"nonselection_glyph\":{\"id\":\"4670\",\"type\":\"Circle\"},\"selection_glyph\":null,\"view\":{\"id\":\"4672\",\"type\":\"CDSView\"}},\"id\":\"4671\",\"type\":\"GlyphRenderer\"},{\"attributes\":{\"source\":{\"id\":\"4380\",\"type\":\"ColumnDataSource\"}},\"id\":\"4672\",\"type\":\"CDSView\"},{\"attributes\":{},\"id\":\"4650\",\"type\":\"CategoricalScale\"},{\"attributes\":{\"formatter\":{\"id\":\"4848\",\"type\":\"CategoricalTickFormatter\"},\"plot\":{\"id\":\"4645\",\"subtype\":\"Figure\",\"type\":\"Plot\"},\"ticker\":{\"id\":\"4659\",\"type\":\"CategoricalTicker\"}},\"id\":\"4658\",\"type\":\"CategoricalAxis\"},{\"attributes\":{\"plot\":null,\"text\":\"\"},\"id\":\"4846\",\"type\":\"Title\"},{\"attributes\":{\"callback\":null,\"factors\":[\"Outerwear, Coats, Jackets\",\"Pants & Leggings\",\"Shirts & Tops\",\"Shorts\",\"Sleepwear Underwear & Intimates\",\"Dresses\",\"Skirts & Skorts\",\"Tracksuits\"]},\"id\":\"4648\",\"type\":\"FactorRange\"},{\"attributes\":{\"callback\":null,\"overlay\":{\"id\":\"4664\",\"type\":\"PolyAnnotation\"}},\"id\":\"4662\",\"type\":\"LassoSelectTool\"},{\"attributes\":{},\"id\":\"4848\",\"type\":\"CategoricalTickFormatter\"},{\"attributes\":{},\"id\":\"4850\",\"type\":\"CategoricalTickFormatter\"},{\"attributes\":{\"plot\":{\"id\":\"4645\",\"subtype\":\"Figure\",\"type\":\"Plot\"},\"ticker\":{\"id\":\"4655\",\"type\":\"CategoricalTicker\"}},\"id\":\"4657\",\"type\":\"Grid\"},{\"attributes\":{\"active_drag\":\"auto\",\"active_inspect\":\"auto\",\"active_multi\":null,\"active_scroll\":\"auto\",\"active_tap\":\"auto\",\"tools\":[{\"id\":\"4644\",\"type\":\"HoverTool\"},{\"id\":\"4662\",\"type\":\"LassoSelectTool\"}]},\"id\":\"4663\",\"type\":\"Toolbar\"},{\"attributes\":{},\"id\":\"4588\",\"type\":\"Selection\"},{\"attributes\":{},\"id\":\"4659\",\"type\":\"CategoricalTicker\"},{\"attributes\":{\"callback\":null,\"tooltips\":[[\"# products\",\"@unique_product_count\"],[\"# styles\",\"@unique_style_count\"]]},\"id\":\"4644\",\"type\":\"HoverTool\"},{\"attributes\":{\"fill_alpha\":{\"value\":0.5},\"fill_color\":{\"value\":\"orange\"},\"line_color\":{\"value\":\"navy\"},\"size\":{\"field\":\"norm\",\"units\":\"screen\"},\"x\":{\"field\":\"original_price_bin\"},\"y\":{\"field\":\"level2_id\"}},\"id\":\"4669\",\"type\":\"Circle\"},{\"attributes\":{\"callback\":null,\"data\":{\"brand_count\":[4,3,4,2,1,2,1,1,4,1,1,4,2,1,1,1,5,5,3,2,2,5,5,1,4,1,1,1,1,2,1,1,1,1,1,1],\"country_name\":[\"USA\",\"USA\",\"USA\",\"USA\",\"USA\",\"USA\",\"USA\",\"USA\",\"USA\",\"USA\",\"USA\",\"USA\",\"USA\",\"USA\",\"USA\",\"USA\",\"USA\",\"USA\",\"USA\",\"USA\",\"USA\",\"USA\",\"USA\",\"USA\",\"USA\",\"USA\",\"USA\",\"USA\",\"USA\",\"USA\",\"USA\",\"USA\",\"USA\",\"USA\",\"USA\",\"USA\"],\"index\":[0,1,2,3,4,5,6,7,8,9,10,11,12,13,14,15,16,17,18,19,20,21,22,23,24,25,26,27,28,29,30,31,32,33,34,35],\"level1_id\":[\"Clothing\",\"Clothing\",\"Clothing\",\"Clothing\",\"Clothing\",\"Clothing\",\"Clothing\",\"Clothing\",\"Clothing\",\"Clothing\",\"Clothing\",\"Clothing\",\"Clothing\",\"Clothing\",\"Clothing\",\"Clothing\",\"Clothing\",\"Clothing\",\"Clothing\",\"Clothing\",\"Clothing\",\"Clothing\",\"Clothing\",\"Clothing\",\"Clothing\",\"Clothing\",\"Clothing\",\"Clothing\",\"Clothing\",\"Clothing\",\"Clothing\",\"Clothing\",\"Clothing\",\"Clothing\",\"Clothing\",\"Clothing\"],\"level2_id\":[\"Outerwear, Coats, Jackets\",\"Outerwear, Coats, Jackets\",\"Outerwear, Coats, Jackets\",\"Outerwear, Coats, Jackets\",\"Outerwear, Coats, Jackets\",\"Outerwear, Coats, Jackets\",\"Outerwear, Coats, Jackets\",\"Outerwear, Coats, Jackets\",\"Outerwear, Coats, Jackets\",\"Outerwear, Coats, Jackets\",\"Outerwear, Coats, Jackets\",\"Pants & Leggings\",\"Pants & Leggings\",\"Pants & Leggings\",\"Pants & Leggings\",\"Pants & Leggings\",\"Pants & Leggings\",\"Shirts & Tops\",\"Shirts & Tops\",\"Shirts & Tops\",\"Shirts & Tops\",\"Shirts & Tops\",\"Shorts\",\"Shorts\",\"Shorts\",\"Sleepwear Underwear & Intimates\",\"Sleepwear Underwear & Intimates\",\"Dresses\",\"Dresses\",\"Dresses\",\"Skirts & Skorts\",\"Skirts & Skorts\",\"Skirts & Skorts\",\"Skirts & Skorts\",\"Tracksuits\",\"Tracksuits\"],\"max_value\":[168,168,168,168,168,168,168,168,168,168,168,438,438,438,438,438,438,2656,2656,2656,2656,2656,477,477,477,96,96,13,13,13,42,42,42,42,1,1],\"norm\":{\"__ndarray__\":\"VVVVVVWVM0CrqqqqqiodQAAAAAAAgBFAqqqqqqqq+j+qqqqqqqrwP6qqqqqqquo/qqqqqqqq2j+qqqqqqqrqPwAAAAAAgEFAqqqqqqqq2j+qqqqqqqraP7sg7IKwCx5AZB6SeUjmEUBORzkd5XT0P05HOR3ldMQ/Tkc5HeV0xD8AAAAAAIBBQAAAAAAAgEFAKeGNps4vA0A+5LJioITdPwlvNHV+7cU/p86vPeRyIkAAAAAAAIBBQHGRJQIshu4/99qIdekxOkAAAAAAAIBBQFVVVVVVJSVAdmIndmInQECe2Imd2IkVQAAAAAAAgEFAqqqqqqqqGkCqqqqqqqrqPwAAAAAAAARAAAAAAACAQUAAAAAAAIBBQAAAAAAAgEFA\",\"dtype\":\"float64\",\"shape\":[36]},\"original_price_bin\":[\"101-150\",\"151-200\",\"201-250\",\"251-300\",\"301-350\",\"351-400\",\"401-450\",\"451-500\",\"51-100\",\"551-600\",\"651-700\",\"0-50\",\"101-150\",\"151-200\",\"201-250\",\"251-300\",\"51-100\",\"0-50\",\"101-150\",\"151-200\",\"201-250\",\"51-100\",\"0-50\",\"101-150\",\"51-100\",\"0-50\",\"51-100\",\"0-50\",\"101-150\",\"51-100\",\"0-50\",\"101-150\",\"151-200\",\"51-100\",\"151-200\",\"201-250\"],\"retailer\":[\"Webshop1\",\"Webshop1\",\"Webshop1\",\"Webshop1\",\"Webshop1\",\"Webshop1\",\"Webshop1\",\"Webshop1\",\"Webshop1\",\"Webshop1\",\"Webshop1\",\"Webshop1\",\"Webshop1\",\"Webshop1\",\"Webshop1\",\"Webshop1\",\"Webshop1\",\"Webshop1\",\"Webshop1\",\"Webshop1\",\"Webshop1\",\"Webshop1\",\"Webshop1\",\"Webshop1\",\"Webshop1\",\"Webshop1\",\"Webshop1\",\"Webshop1\",\"Webshop1\",\"Webshop1\",\"Webshop1\",\"Webshop1\",\"Webshop1\",\"Webshop1\",\"Webshop1\",\"Webshop1\"],\"unique_product_count\":[94,35,21,8,5,4,2,4,168,2,2,94,56,16,2,2,438,2656,182,35,13,700,477,13,357,96,29,12,2,13,8,1,3,42,1,1],\"unique_style_count\":[53,28,16,8,4,3,2,3,91,1,2,39,36,11,1,2,232,902,107,28,3,298,153,11,157,42,10,8,1,6,1,1,2,13,1,1]},\"selected\":{\"id\":\"4588\",\"type\":\"Selection\"},\"selection_policy\":{\"id\":\"4589\",\"type\":\"UnionRenderers\"}},\"id\":\"4380\",\"type\":\"ColumnDataSource\"},{\"attributes\":{},\"id\":\"4589\",\"type\":\"UnionRenderers\"},{\"attributes\":{},\"id\":\"4655\",\"type\":\"CategoricalTicker\"},{\"attributes\":{},\"id\":\"4652\",\"type\":\"CategoricalScale\"},{\"attributes\":{\"formatter\":{\"id\":\"4850\",\"type\":\"CategoricalTickFormatter\"},\"major_label_orientation\":0.7853981633974483,\"plot\":{\"id\":\"4645\",\"subtype\":\"Figure\",\"type\":\"Plot\"},\"ticker\":{\"id\":\"4655\",\"type\":\"CategoricalTicker\"}},\"id\":\"4654\",\"type\":\"CategoricalAxis\"},{\"attributes\":{\"dimension\":1,\"plot\":{\"id\":\"4645\",\"subtype\":\"Figure\",\"type\":\"Plot\"},\"ticker\":{\"id\":\"4659\",\"type\":\"CategoricalTicker\"}},\"id\":\"4661\",\"type\":\"Grid\"}],\"root_ids\":[\"4645\"]},\"title\":\"Bokeh Application\",\"version\":\"1.0.2\"}};\n",
       "  var render_items = [{\"docid\":\"7a9c59e9-61f6-4450-ae63-088782d18bbe\",\"roots\":{\"4645\":\"f69f36dd-5a17-4bc5-9107-02d0e82c5222\"}}];\n",
       "  root.Bokeh.embed.embed_items_notebook(docs_json, render_items);\n",
       "\n",
       "  }\n",
       "  if (root.Bokeh !== undefined) {\n",
       "    embed_document(root);\n",
       "  } else {\n",
       "    var attempts = 0;\n",
       "    var timer = setInterval(function(root) {\n",
       "      if (root.Bokeh !== undefined) {\n",
       "        embed_document(root);\n",
       "        clearInterval(timer);\n",
       "      }\n",
       "      attempts++;\n",
       "      if (attempts > 100) {\n",
       "        console.log(\"Bokeh: ERROR: Unable to run BokehJS code because BokehJS library is missing\");\n",
       "        clearInterval(timer);\n",
       "      }\n",
       "    }, 10, root)\n",
       "  }\n",
       "})(window);"
      ],
      "application/vnd.bokehjs_exec.v0+json": ""
     },
     "metadata": {
      "application/vnd.bokehjs_exec.v0+json": {
       "id": "4645"
      }
     },
     "output_type": "display_data"
    }
   ],
   "source": [
    "from bokeh.models import HoverTool\n",
    "from math import pi\n",
    "\n",
    "hover = HoverTool(\n",
    "        tooltips=[\n",
    "            (\"# products\", \"@unique_product_count\"),\n",
    "            (\"# styles\", \"@unique_style_count\"),\n",
    "        ]\n",
    "    )\n",
    "\n",
    "p = figure(plot_width=900, plot_height=400, x_range=x_range, y_range=y_range, \n",
    "           tools=[hover, 'lasso_select'])\n",
    "\n",
    "# add a circle renderer with a radius, color, and alpha\n",
    "p.circle('original_price_bin', 'level2_id', \n",
    "         size='norm', line_color=\"navy\", fill_color=\"orange\", fill_alpha=0.5, source=source)\n",
    "p.xaxis.major_label_orientation = pi/4\n",
    "\n",
    "show(p) # show the results"
   ]
  },
  {
   "cell_type": "markdown",
   "metadata": {
    "slideshow": {
     "slide_type": "subslide"
    }
   },
   "source": [
    "<h1>Historic data</h1>\n",
    "<img src=\"images/historical_chart.png\" align=\"center\">\n"
   ]
  },
  {
   "cell_type": "markdown",
   "metadata": {
    "slideshow": {
     "slide_type": "subslide"
    }
   },
   "source": [
    "Step 1: Get the data"
   ]
  },
  {
   "cell_type": "code",
   "execution_count": 27,
   "metadata": {
    "slideshow": {
     "slide_type": "-"
    }
   },
   "outputs": [
    {
     "data": {
      "text/plain": [
       "[{'product_count': 4366.0,\n",
       "  'price_date': datetime.datetime(2014, 9, 9, 0, 0),\n",
       "  'is_historic_gap': False},\n",
       " {'product_count': 4299.0,\n",
       "  'price_date': datetime.datetime(2014, 9, 10, 0, 0),\n",
       "  'is_historic_gap': False},\n",
       " {'product_count': 4299.0,\n",
       "  'price_date': datetime.datetime(2014, 9, 11, 0, 0),\n",
       "  'is_historic_gap': False}]"
      ]
     },
     "execution_count": 27,
     "metadata": {},
     "output_type": "execute_result"
    }
   ],
   "source": [
    "import json\n",
    "import pandas as pd\n",
    "from datetime import datetime\n",
    "\n",
    "from pprint import pprint\n",
    "\n",
    "data = json.load(open('./data/historic_webshop.json'))\n",
    "hist_data = data['historic_data']\n",
    "\n",
    "for data_point in hist_data:\n",
    "    data_point['price_date'] = datetime.strptime(data_point['price_date'], '%Y-%m-%d')\n",
    "\n",
    "hist_data[:3]"
   ]
  },
  {
   "cell_type": "markdown",
   "metadata": {
    "slideshow": {
     "slide_type": "subslide"
    }
   },
   "source": [
    "Step 2: first approach"
   ]
  },
  {
   "cell_type": "code",
   "execution_count": 28,
   "metadata": {
    "slideshow": {
     "slide_type": "-"
    }
   },
   "outputs": [
    {
     "data": {
      "text/html": [
       "\n",
       "\n",
       "\n",
       "\n",
       "\n",
       "\n",
       "  <div class=\"bk-root\" id=\"b43571cb-4121-4128-9b47-7cb348414a02\"></div>\n"
      ]
     },
     "metadata": {},
     "output_type": "display_data"
    },
    {
     "data": {
      "application/javascript": [
       "(function(root) {\n",
       "  function embed_document(root) {\n",
       "    \n",
       "  var docs_json = {\"e4d0324e-57ec-4f00-8bc1-4168f5df13f9\":{\"roots\":{\"references\":[{\"attributes\":{\"below\":[{\"id\":\"4920\",\"type\":\"LinearAxis\"}],\"left\":[{\"id\":\"4925\",\"type\":\"LinearAxis\"}],\"plot_height\":400,\"plot_width\":800,\"renderers\":[{\"id\":\"4920\",\"type\":\"LinearAxis\"},{\"id\":\"4924\",\"type\":\"Grid\"},{\"id\":\"4925\",\"type\":\"LinearAxis\"},{\"id\":\"4929\",\"type\":\"Grid\"},{\"id\":\"4938\",\"type\":\"BoxAnnotation\"},{\"id\":\"4948\",\"type\":\"GlyphRenderer\"}],\"title\":{\"id\":\"4909\",\"type\":\"Title\"},\"toolbar\":{\"id\":\"4936\",\"type\":\"Toolbar\"},\"x_range\":{\"id\":\"4912\",\"type\":\"DataRange1d\"},\"x_scale\":{\"id\":\"4916\",\"type\":\"LinearScale\"},\"y_range\":{\"id\":\"4914\",\"type\":\"DataRange1d\"},\"y_scale\":{\"id\":\"4918\",\"type\":\"LinearScale\"}},\"id\":\"4910\",\"subtype\":\"Figure\",\"type\":\"Plot\"},{\"attributes\":{},\"id\":\"4926\",\"type\":\"BasicTicker\"},{\"attributes\":{},\"id\":\"4934\",\"type\":\"ResetTool\"},{\"attributes\":{},\"id\":\"4933\",\"type\":\"SaveTool\"},{\"attributes\":{\"overlay\":{\"id\":\"4938\",\"type\":\"BoxAnnotation\"}},\"id\":\"4932\",\"type\":\"BoxZoomTool\"},{\"attributes\":{},\"id\":\"4931\",\"type\":\"WheelZoomTool\"},{\"attributes\":{\"plot\":{\"id\":\"4910\",\"subtype\":\"Figure\",\"type\":\"Plot\"},\"ticker\":{\"id\":\"4921\",\"type\":\"BasicTicker\"}},\"id\":\"4924\",\"type\":\"Grid\"},{\"attributes\":{\"plot\":null,\"text\":\"Webshop X - Historic chart\"},\"id\":\"4909\",\"type\":\"Title\"},{\"attributes\":{},\"id\":\"4930\",\"type\":\"PanTool\"},{\"attributes\":{\"active_drag\":\"auto\",\"active_inspect\":\"auto\",\"active_multi\":null,\"active_scroll\":\"auto\",\"active_tap\":\"auto\",\"tools\":[{\"id\":\"4930\",\"type\":\"PanTool\"},{\"id\":\"4931\",\"type\":\"WheelZoomTool\"},{\"id\":\"4932\",\"type\":\"BoxZoomTool\"},{\"id\":\"4933\",\"type\":\"SaveTool\"},{\"id\":\"4934\",\"type\":\"ResetTool\"},{\"id\":\"4935\",\"type\":\"HelpTool\"}]},\"id\":\"4936\",\"type\":\"Toolbar\"},{\"attributes\":{},\"id\":\"5133\",\"type\":\"BasicTickFormatter\"},{\"attributes\":{\"line_alpha\":0.1,\"line_color\":\"#1f77b4\",\"line_width\":2,\"x\":{\"field\":\"price_date\"},\"y\":{\"field\":\"product_count\"}},\"id\":\"4947\",\"type\":\"Line\"},{\"attributes\":{\"formatter\":{\"id\":\"5133\",\"type\":\"BasicTickFormatter\"},\"plot\":{\"id\":\"4910\",\"subtype\":\"Figure\",\"type\":\"Plot\"},\"ticker\":{\"id\":\"4926\",\"type\":\"BasicTicker\"}},\"id\":\"4925\",\"type\":\"LinearAxis\"},{\"attributes\":{},\"id\":\"4918\",\"type\":\"LinearScale\"},{\"attributes\":{\"line_color\":\"#1f77b4\",\"line_width\":2,\"x\":{\"field\":\"price_date\"},\"y\":{\"field\":\"product_count\"}},\"id\":\"4946\",\"type\":\"Line\"},{\"attributes\":{},\"id\":\"5135\",\"type\":\"BasicTickFormatter\"},{\"attributes\":{\"formatter\":{\"id\":\"5135\",\"type\":\"BasicTickFormatter\"},\"major_label_orientation\":1,\"major_label_text_font_size\":{\"value\":\"10pt\"},\"plot\":{\"id\":\"4910\",\"subtype\":\"Figure\",\"type\":\"Plot\"},\"ticker\":{\"id\":\"4921\",\"type\":\"BasicTicker\"}},\"id\":\"4920\",\"type\":\"LinearAxis\"},{\"attributes\":{},\"id\":\"5138\",\"type\":\"UnionRenderers\"},{\"attributes\":{},\"id\":\"4935\",\"type\":\"HelpTool\"},{\"attributes\":{\"dimension\":1,\"plot\":{\"id\":\"4910\",\"subtype\":\"Figure\",\"type\":\"Plot\"},\"ticker\":{\"id\":\"4926\",\"type\":\"BasicTicker\"}},\"id\":\"4929\",\"type\":\"Grid\"},{\"attributes\":{\"callback\":null},\"id\":\"4912\",\"type\":\"DataRange1d\"},{\"attributes\":{},\"id\":\"5137\",\"type\":\"Selection\"},{\"attributes\":{\"source\":{\"id\":\"4908\",\"type\":\"ColumnDataSource\"}},\"id\":\"4949\",\"type\":\"CDSView\"},{\"attributes\":{\"callback\":null,\"data\":{\"price_date\":[1410220800000.0,1410307200000.0,1410393600000.0,1410480000000.0,1410566400000.0,1410652800000.0,1410739200000.0,1410825600000.0,1410912000000.0,1410998400000.0,1411084800000.0,1411171200000.0,1411257600000.0,1411344000000.0,1411430400000.0,1411516800000.0,1411603200000.0,1411689600000.0,1411776000000.0,1411862400000.0,1411948800000.0,1412035200000.0,1412121600000.0,1412208000000.0,1412294400000.0,1412380800000.0,1412467200000.0,1412553600000.0,1412640000000.0,1412726400000.0,1412812800000.0,1412899200000.0,1412985600000.0,1413072000000.0,1413158400000.0,1413244800000.0,1413331200000.0,1413417600000.0,1413504000000.0,1413590400000.0,1413676800000.0,1413763200000.0,1413849600000.0,1413936000000.0,1414022400000.0,1414108800000.0,1414195200000.0,1414281600000.0,1414368000000.0,1414454400000.0,1414540800000.0,1414627200000.0,1414713600000.0,1414800000000.0,1414886400000.0,1414972800000.0,1415059200000.0,1415145600000.0,1415232000000.0,1415318400000.0,1415404800000.0,1415491200000.0,1415577600000.0,1415664000000.0,1415750400000.0,1415836800000.0,1415923200000.0,1416009600000.0,1416096000000.0,1416182400000.0,1416268800000.0,1416355200000.0,1416441600000.0,1416528000000.0,1416614400000.0,1416700800000.0,1416787200000.0,1416873600000.0,1416960000000.0,1417046400000.0,1417132800000.0,1417219200000.0,1417305600000.0,1417392000000.0,1417478400000.0,1417564800000.0,1417651200000.0,1417737600000.0,1417824000000.0,1417910400000.0,1417996800000.0,1418083200000.0,1418169600000.0,1418256000000.0,1418342400000.0,1418428800000.0,1418515200000.0,1418601600000.0,1418688000000.0,1418774400000.0,1418860800000.0,1418947200000.0,1419033600000.0,1419120000000.0,1419206400000.0,1419292800000.0,1419379200000.0,1419465600000.0,1419552000000.0,1419638400000.0,1419724800000.0,1419811200000.0,1419897600000.0,1419984000000.0,1420070400000.0,1420156800000.0,1420243200000.0,1420329600000.0,1420416000000.0,1420502400000.0,1420588800000.0,1420675200000.0,1420761600000.0,1420848000000.0,1420934400000.0,1421020800000.0,1421107200000.0,1421193600000.0,1421280000000.0,1421366400000.0,1421452800000.0,1421539200000.0,1421625600000.0,1421712000000.0,1421798400000.0,1421884800000.0,1421971200000.0,1422057600000.0,1422144000000.0,1422230400000.0,1422316800000.0,1422403200000.0,1422489600000.0,1422576000000.0,1422662400000.0,1422748800000.0,1422835200000.0,1422921600000.0,1423008000000.0,1423094400000.0,1423180800000.0,1423267200000.0,1423353600000.0,1423440000000.0,1423526400000.0,1423612800000.0,1423699200000.0,1423785600000.0,1423872000000.0,1423958400000.0,1424044800000.0,1424131200000.0,1424217600000.0,1424304000000.0,1424390400000.0,1424476800000.0,1424563200000.0,1424649600000.0,1424736000000.0,1424822400000.0,1424908800000.0,1424995200000.0,1425081600000.0,1425168000000.0,1425254400000.0,1425340800000.0,1425427200000.0,1425513600000.0,1425600000000.0,1425686400000.0,1425772800000.0,1425859200000.0,1425945600000.0,1426032000000.0,1426118400000.0,1426204800000.0,1426291200000.0,1426377600000.0,1426464000000.0,1426550400000.0,1426636800000.0,1426723200000.0,1426809600000.0,1426896000000.0,1426982400000.0,1427068800000.0,1427155200000.0,1427241600000.0,1427328000000.0,1427414400000.0,1427500800000.0,1427587200000.0,1427673600000.0,1427760000000.0,1427846400000.0,1427932800000.0,1428019200000.0,1428105600000.0,1428192000000.0,1428278400000.0,1428364800000.0,1428451200000.0,1428537600000.0,1428624000000.0,1428710400000.0,1428796800000.0,1428883200000.0,1428969600000.0,1429056000000.0,1429142400000.0,1429228800000.0,1429315200000.0,1429401600000.0,1429488000000.0,1429574400000.0,1429660800000.0,1429747200000.0,1429833600000.0,1429920000000.0,1430006400000.0,1430092800000.0,1430179200000.0,1430265600000.0,1430352000000.0,1430438400000.0,1430524800000.0,1430611200000.0,1430697600000.0,1430784000000.0,1430870400000.0,1430956800000.0,1431043200000.0,1431129600000.0,1431216000000.0,1431302400000.0,1431388800000.0,1431475200000.0,1431561600000.0,1431648000000.0,1431734400000.0,1431820800000.0,1431907200000.0,1431993600000.0,1432080000000.0,1432166400000.0,1432252800000.0,1432339200000.0,1432425600000.0,1432512000000.0,1432598400000.0,1432684800000.0,1432771200000.0,1432857600000.0,1432944000000.0,1433030400000.0,1433116800000.0,1433203200000.0,1433289600000.0,1433376000000.0,1433462400000.0,1433548800000.0,1433635200000.0,1433721600000.0,1433808000000.0,1433894400000.0,1433980800000.0,1434067200000.0,1434153600000.0,1434240000000.0,1434326400000.0,1434412800000.0,1434499200000.0,1434585600000.0,1434672000000.0,1434758400000.0,1434844800000.0,1434931200000.0,1435017600000.0,1435104000000.0,1435190400000.0,1435276800000.0,1435363200000.0,1435449600000.0,1435536000000.0,1435622400000.0,1435708800000.0,1435795200000.0,1435881600000.0,1435968000000.0,1436054400000.0,1436140800000.0,1436227200000.0,1436313600000.0,1436400000000.0,1436486400000.0,1436572800000.0,1436659200000.0,1436745600000.0,1436832000000.0,1436918400000.0,1437004800000.0,1437091200000.0,1437177600000.0,1437264000000.0,1437350400000.0,1437436800000.0,1437523200000.0,1437609600000.0,1437696000000.0,1437782400000.0,1437868800000.0,1437955200000.0,1438041600000.0,1438128000000.0,1438214400000.0,1438300800000.0,1438387200000.0,1438473600000.0,1438560000000.0,1438646400000.0,1438732800000.0,1438819200000.0,1438905600000.0,1438992000000.0,1439078400000.0,1439164800000.0,1439251200000.0,1439337600000.0,1439424000000.0,1439510400000.0,1439596800000.0,1439683200000.0,1439769600000.0,1439856000000.0,1439942400000.0,1440028800000.0,1440115200000.0,1440201600000.0,1440288000000.0,1440374400000.0,1440460800000.0,1440547200000.0,1440633600000.0,1440720000000.0,1440806400000.0,1440892800000.0,1440979200000.0,1441065600000.0,1441152000000.0,1441238400000.0,1441324800000.0,1441411200000.0,1441497600000.0,1441584000000.0,1441670400000.0,1441756800000.0,1441843200000.0,1441929600000.0,1442016000000.0,1442102400000.0,1442188800000.0,1442275200000.0,1442361600000.0,1442448000000.0,1442534400000.0,1442620800000.0,1442707200000.0,1442793600000.0,1442880000000.0,1442966400000.0,1443052800000.0,1443139200000.0,1443225600000.0,1443312000000.0,1443398400000.0,1443484800000.0,1443571200000.0,1443657600000.0,1443744000000.0,1443830400000.0,1443916800000.0,1444003200000.0,1444089600000.0,1444176000000.0,1444262400000.0,1444348800000.0,1444435200000.0,1444521600000.0,1444608000000.0,1444694400000.0,1444780800000.0,1444867200000.0,1444953600000.0,1445040000000.0,1445126400000.0,1445212800000.0,1445299200000.0,1445385600000.0,1445472000000.0,1445558400000.0,1445644800000.0,1445731200000.0,1445817600000.0,1445904000000.0,1445990400000.0,1446076800000.0,1446163200000.0,1446249600000.0,1446336000000.0,1446422400000.0,1446508800000.0,1446595200000.0,1446681600000.0,1446768000000.0,1446854400000.0,1446940800000.0,1447027200000.0,1447113600000.0,1447200000000.0,1447286400000.0,1447372800000.0,1447459200000.0,1447545600000.0,1447632000000.0,1447718400000.0,1447804800000.0,1447891200000.0,1447977600000.0,1448064000000.0,1448150400000.0,1448236800000.0,1448323200000.0,1448409600000.0,1448496000000.0,1448582400000.0,1448668800000.0,1448755200000.0,1448841600000.0,1448928000000.0,1449014400000.0,1449100800000.0,1449187200000.0,1449273600000.0,1449360000000.0,1449446400000.0,1449532800000.0,1449619200000.0,1449705600000.0,1449792000000.0,1449878400000.0,1449964800000.0,1450051200000.0,1450137600000.0,1450224000000.0,1450310400000.0,1450396800000.0,1450483200000.0,1450569600000.0,1450656000000.0,1450742400000.0,1450828800000.0,1450915200000.0,1451001600000.0,1451088000000.0,1451174400000.0,1451260800000.0,1451347200000.0,1451433600000.0,1451520000000.0,1451606400000.0,1451692800000.0,1451779200000.0,1451865600000.0,1451952000000.0,1452038400000.0,1452124800000.0,1452211200000.0,1452297600000.0,1452384000000.0,1452470400000.0,1452556800000.0,1452643200000.0,1452729600000.0,1452816000000.0,1452902400000.0,1452988800000.0,1453075200000.0,1453161600000.0,1453248000000.0,1453334400000.0,1453420800000.0,1453507200000.0,1453593600000.0,1453680000000.0,1453766400000.0,1453852800000.0,1453939200000.0,1454025600000.0,1454112000000.0,1454198400000.0,1454284800000.0,1454371200000.0,1454457600000.0,1454544000000.0,1454630400000.0,1454716800000.0,1454803200000.0,1454889600000.0,1454976000000.0,1455062400000.0,1455148800000.0,1455235200000.0,1455321600000.0,1455408000000.0,1455494400000.0,1455580800000.0,1455667200000.0,1455753600000.0,1455840000000.0,1455926400000.0,1456012800000.0,1456099200000.0,1456185600000.0,1456272000000.0,1456358400000.0,1456444800000.0,1456531200000.0,1456617600000.0,1456704000000.0,1456790400000.0,1456876800000.0,1456963200000.0,1457049600000.0,1457136000000.0,1457222400000.0,1457308800000.0,1457395200000.0,1457481600000.0,1457568000000.0,1457654400000.0,1457740800000.0,1457827200000.0,1457913600000.0,1458000000000.0,1458086400000.0,1458172800000.0,1458259200000.0,1458345600000.0,1458432000000.0,1458518400000.0,1458604800000.0,1458691200000.0,1458777600000.0,1458864000000.0,1458950400000.0,1459036800000.0,1459123200000.0,1459209600000.0,1459296000000.0,1459382400000.0,1459468800000.0,1459555200000.0,1459641600000.0,1459728000000.0,1459814400000.0,1459900800000.0,1459987200000.0,1460073600000.0,1460160000000.0,1460246400000.0,1460332800000.0,1460419200000.0,1460505600000.0,1460592000000.0,1460678400000.0,1460764800000.0,1460851200000.0,1460937600000.0,1461024000000.0,1461110400000.0,1461196800000.0,1461283200000.0,1461369600000.0,1461456000000.0,1461542400000.0,1461628800000.0,1461715200000.0,1461801600000.0,1461888000000.0,1461974400000.0,1462060800000.0,1462147200000.0,1462233600000.0,1462320000000.0,1462406400000.0,1462492800000.0,1462579200000.0,1462665600000.0,1462752000000.0,1462838400000.0,1462924800000.0,1463011200000.0,1463097600000.0,1463184000000.0,1463270400000.0,1463356800000.0,1463443200000.0,1463529600000.0,1463616000000.0,1463702400000.0,1463788800000.0,1463875200000.0,1463961600000.0,1464048000000.0,1464134400000.0,1464220800000.0,1464307200000.0,1464393600000.0,1464480000000.0,1464566400000.0,1464652800000.0,1464739200000.0,1464825600000.0,1464912000000.0,1464998400000.0,1465084800000.0,1465171200000.0,1465257600000.0,1465344000000.0,1465430400000.0,1465516800000.0,1465603200000.0,1465689600000.0,1465776000000.0,1465862400000.0,1465948800000.0,1466035200000.0,1466121600000.0,1466208000000.0,1466294400000.0,1466380800000.0,1466467200000.0,1466553600000.0,1466640000000.0,1466726400000.0,1466812800000.0,1466899200000.0,1466985600000.0,1467072000000.0,1467158400000.0,1467244800000.0,1467331200000.0,1467417600000.0,1467504000000.0,1467590400000.0,1467676800000.0,1467763200000.0,1467849600000.0,1467936000000.0,1468022400000.0,1468108800000.0,1468195200000.0,1468281600000.0,1468368000000.0,1468454400000.0,1468540800000.0,1468627200000.0,1468713600000.0,1468800000000.0,1468886400000.0,1468972800000.0,1469059200000.0,1469145600000.0,1469232000000.0,1469318400000.0,1469404800000.0,1469491200000.0,1469577600000.0,1469664000000.0,1469750400000.0,1469836800000.0,1469923200000.0,1470009600000.0,1470096000000.0,1470182400000.0,1470268800000.0,1470355200000.0,1470441600000.0,1470528000000.0,1470614400000.0,1470700800000.0,1470787200000.0,1470873600000.0,1470960000000.0,1471046400000.0,1471132800000.0,1471219200000.0,1471305600000.0,1471392000000.0,1471478400000.0,1471564800000.0,1471651200000.0,1471737600000.0,1471824000000.0,1471910400000.0,1471996800000.0,1472083200000.0,1472169600000.0,1472256000000.0,1472342400000.0,1472428800000.0,1472515200000.0,1472601600000.0,1472688000000.0,1472774400000.0,1472860800000.0,1472947200000.0,1473033600000.0,1473120000000.0,1473206400000.0,1473292800000.0,1473379200000.0,1473465600000.0,1473552000000.0,1473638400000.0,1473724800000.0,1473811200000.0,1473897600000.0,1473984000000.0,1474070400000.0,1474156800000.0,1474243200000.0,1474329600000.0,1474416000000.0,1474502400000.0,1474588800000.0,1474675200000.0,1474761600000.0,1474848000000.0,1474934400000.0,1475020800000.0,1475107200000.0,1475193600000.0,1475280000000.0,1475366400000.0,1475452800000.0,1475539200000.0,1475625600000.0,1475712000000.0,1475798400000.0,1475884800000.0,1475971200000.0,1476057600000.0,1476144000000.0,1476230400000.0,1476316800000.0,1476403200000.0,1476489600000.0,1476576000000.0,1476662400000.0,1476748800000.0,1476835200000.0,1476921600000.0,1477008000000.0,1477094400000.0,1477180800000.0,1477267200000.0,1477353600000.0,1477440000000.0,1477526400000.0,1477612800000.0,1477699200000.0,1477785600000.0,1477872000000.0,1477958400000.0,1478044800000.0,1478131200000.0,1478217600000.0,1478304000000.0,1478390400000.0,1478476800000.0,1478563200000.0,1478649600000.0,1478736000000.0,1478822400000.0,1478908800000.0,1478995200000.0,1479081600000.0,1479168000000.0,1479254400000.0,1479340800000.0,1479427200000.0,1479513600000.0,1479600000000.0,1479686400000.0,1479772800000.0,1479859200000.0,1479945600000.0,1480032000000.0,1480118400000.0,1480204800000.0,1480291200000.0,1480377600000.0,1480464000000.0,1480550400000.0,1480636800000.0,1480723200000.0,1480809600000.0,1480896000000.0,1480982400000.0,1481068800000.0,1481155200000.0,1481241600000.0,1481328000000.0,1481414400000.0,1481500800000.0,1481587200000.0,1481673600000.0,1481760000000.0,1481846400000.0,1481932800000.0,1482019200000.0,1482105600000.0,1482192000000.0,1482278400000.0,1482364800000.0,1482451200000.0,1482537600000.0,1482624000000.0,1482710400000.0,1482796800000.0,1482883200000.0,1482969600000.0,1483056000000.0,1483142400000.0,1483228800000.0,1483315200000.0,1483401600000.0,1483488000000.0,1483574400000.0,1483660800000.0,1483747200000.0,1483833600000.0,1483920000000.0,1484006400000.0,1484092800000.0,1484179200000.0,1484265600000.0,1484352000000.0,1484438400000.0,1484524800000.0,1484611200000.0,1484697600000.0,1484784000000.0,1484870400000.0,1484956800000.0,1485043200000.0,1485129600000.0,1485216000000.0,1485302400000.0,1485388800000.0,1485475200000.0,1485561600000.0,1485648000000.0,1485734400000.0,1485820800000.0,1485907200000.0,1485993600000.0,1486080000000.0,1486166400000.0,1486252800000.0,1486339200000.0,1486425600000.0,1486512000000.0,1486598400000.0,1486684800000.0,1486771200000.0,1486857600000.0,1486944000000.0,1487030400000.0,1487116800000.0,1487203200000.0,1487289600000.0,1487376000000.0,1487462400000.0,1487548800000.0,1487635200000.0,1487721600000.0,1487808000000.0,1487894400000.0,1487980800000.0,1488067200000.0,1488153600000.0,1488240000000.0,1488326400000.0,1488412800000.0,1488499200000.0,1488585600000.0,1488672000000.0,1488758400000.0,1488844800000.0,1488931200000.0,1489017600000.0,1489104000000.0,1489190400000.0,1489276800000.0,1489363200000.0,1489449600000.0,1489536000000.0,1489622400000.0,1489708800000.0,1489795200000.0,1489881600000.0,1489968000000.0,1490054400000.0,1490140800000.0,1490227200000.0,1490313600000.0,1490400000000.0,1490486400000.0,1490572800000.0,1490659200000.0,1490745600000.0,1490832000000.0,1490918400000.0,1491004800000.0,1491091200000.0,1491177600000.0,1491264000000.0,1491350400000.0,1491436800000.0,1491523200000.0,1491609600000.0,1491696000000.0,1491782400000.0,1491868800000.0,1491955200000.0,1492041600000.0,1492128000000.0,1492214400000.0,1492300800000.0,1492387200000.0,1492473600000.0,1492560000000.0,1492646400000.0,1492732800000.0,1492819200000.0,1492905600000.0,1492992000000.0,1493078400000.0,1493164800000.0,1493251200000.0,1493337600000.0,1493424000000.0,1493510400000.0,1493596800000.0,1493683200000.0,1493769600000.0,1493856000000.0,1493942400000.0,1494028800000.0,1494115200000.0,1494201600000.0,1494288000000.0,1494374400000.0,1494460800000.0,1494547200000.0,1494633600000.0,1494720000000.0,1494806400000.0,1494892800000.0,1494979200000.0,1495065600000.0,1495152000000.0,1495238400000.0,1495324800000.0,1495411200000.0,1495497600000.0,1495584000000.0,1495670400000.0,1495756800000.0,1495843200000.0,1495929600000.0,1496016000000.0,1496102400000.0,1496188800000.0,1496275200000.0,1496361600000.0,1496448000000.0,1496534400000.0,1496620800000.0,1496707200000.0,1496793600000.0,1496880000000.0,1496966400000.0,1497052800000.0,1497139200000.0,1497225600000.0,1497312000000.0,1497398400000.0,1497484800000.0,1497571200000.0,1497657600000.0,1497744000000.0,1497830400000.0,1497916800000.0,1498003200000.0,1498089600000.0,1498176000000.0,1498262400000.0,1498348800000.0,1498435200000.0,1498521600000.0,1498608000000.0,1498694400000.0,1498780800000.0,1498867200000.0,1498953600000.0,1499040000000.0,1499126400000.0,1499212800000.0,1499299200000.0,1499385600000.0,1499472000000.0,1499558400000.0,1499644800000.0,1499731200000.0,1499817600000.0,1499904000000.0,1499990400000.0,1500076800000.0,1500163200000.0,1500249600000.0,1500336000000.0,1500422400000.0,1500508800000.0,1500595200000.0,1500681600000.0,1500768000000.0,1500854400000.0,1500940800000.0,1501027200000.0,1501113600000.0,1501200000000.0,1501286400000.0,1501372800000.0,1501459200000.0,1501545600000.0,1501632000000.0,1501718400000.0,1501804800000.0,1501891200000.0,1501977600000.0,1502064000000.0,1502150400000.0,1502236800000.0,1502323200000.0,1502409600000.0,1502496000000.0,1502582400000.0,1502668800000.0,1502755200000.0,1502841600000.0,1502928000000.0,1503014400000.0,1503100800000.0,1503187200000.0,1503273600000.0,1503360000000.0,1503446400000.0,1503532800000.0,1503619200000.0,1503705600000.0,1503792000000.0,1503878400000.0,1503964800000.0,1504051200000.0,1504137600000.0,1504224000000.0,1504310400000.0,1504396800000.0,1504483200000.0,1504569600000.0,1504656000000.0,1504742400000.0,1504828800000.0,1504915200000.0,1505001600000.0,1505088000000.0,1505174400000.0,1505260800000.0,1505347200000.0,1505433600000.0,1505520000000.0,1505606400000.0,1505692800000.0,1505779200000.0,1505865600000.0,1505952000000.0,1506038400000.0,1506124800000.0,1506211200000.0,1506297600000.0,1506384000000.0,1506470400000.0,1506556800000.0,1506643200000.0,1506729600000.0,1506816000000.0,1506902400000.0,1506988800000.0,1507075200000.0,1507161600000.0,1507248000000.0,1507334400000.0,1507420800000.0,1507507200000.0,1507593600000.0,1507680000000.0,1507766400000.0,1507852800000.0,1507939200000.0,1508025600000.0,1508112000000.0,1508198400000.0,1508284800000.0,1508371200000.0,1508457600000.0,1508544000000.0,1508630400000.0,1508716800000.0,1508803200000.0,1508889600000.0,1508976000000.0,1509062400000.0,1509148800000.0,1509235200000.0,1509321600000.0,1509408000000.0,1509494400000.0,1509580800000.0,1509667200000.0,1509753600000.0,1509840000000.0,1509926400000.0,1510012800000.0,1510099200000.0,1510185600000.0,1510272000000.0,1510358400000.0,1510444800000.0,1510531200000.0,1510617600000.0,1510704000000.0,1510790400000.0,1510876800000.0,1510963200000.0,1511049600000.0,1511136000000.0,1511222400000.0,1511308800000.0,1511395200000.0,1511481600000.0,1511568000000.0,1511654400000.0,1511740800000.0,1511827200000.0,1511913600000.0,1512000000000.0,1512086400000.0,1512172800000.0,1512259200000.0,1512345600000.0,1512432000000.0,1512518400000.0,1512604800000.0,1512691200000.0,1512777600000.0,1512864000000.0,1512950400000.0,1513036800000.0,1513123200000.0,1513209600000.0,1513296000000.0,1513382400000.0,1513468800000.0,1513555200000.0,1513641600000.0,1513728000000.0,1513814400000.0,1513900800000.0,1513987200000.0,1514073600000.0,1514160000000.0,1514246400000.0,1514332800000.0,1514419200000.0,1514505600000.0,1514592000000.0,1514678400000.0,1514764800000.0,1514851200000.0,1514937600000.0,1515024000000.0,1515110400000.0,1515196800000.0,1515283200000.0,1515369600000.0,1515456000000.0,1515542400000.0,1515628800000.0,1515715200000.0,1515801600000.0,1515888000000.0,1515974400000.0,1516060800000.0,1516147200000.0,1516233600000.0,1516320000000.0,1516406400000.0,1516492800000.0,1516579200000.0,1516665600000.0,1516752000000.0,1516838400000.0,1516924800000.0,1517011200000.0,1517097600000.0,1517184000000.0,1517270400000.0,1517356800000.0,1517443200000.0,1517529600000.0,1517616000000.0,1517702400000.0,1517788800000.0,1517875200000.0,1517961600000.0,1518048000000.0,1518134400000.0,1518220800000.0,1518307200000.0,1518393600000.0,1518480000000.0,1518566400000.0,1518652800000.0,1518739200000.0,1518825600000.0,1518912000000.0,1518998400000.0,1519084800000.0,1519171200000.0,1519257600000.0,1519344000000.0,1519430400000.0,1519516800000.0,1519603200000.0,1519689600000.0,1519776000000.0,1519862400000.0,1519948800000.0,1520035200000.0,1520121600000.0,1520208000000.0,1520294400000.0,1520380800000.0,1520467200000.0,1520553600000.0,1520640000000.0,1520726400000.0,1520812800000.0,1520899200000.0,1520985600000.0,1521072000000.0,1521158400000.0,1521244800000.0,1521331200000.0,1521417600000.0,1521504000000.0,1521590400000.0,1521676800000.0,1521763200000.0,1521849600000.0,1521936000000.0,1522022400000.0,1522108800000.0,1522195200000.0,1522281600000.0,1522368000000.0,1522454400000.0,1522540800000.0,1522627200000.0,1522713600000.0,1522800000000.0,1522886400000.0,1522972800000.0,1523059200000.0,1523145600000.0,1523232000000.0,1523318400000.0,1523404800000.0],\"product_count\":[4366.0,4299.0,4299.0,4299.0,4299.0,4299.0,4299.0,4299.0,4627.0,4603.0,4771.0,4742.0,4742.0,4742.0,4742.0,4742.0,5013.0,4981.0,4981.0,4981.0,4981.0,5146.0,-5000,-5000,-5000,-5000,-5000,-5000,-5000,-5000,-5000,-5000,-5000,-5000,-5000,-5000,-5000,-5000,5324.0,5541.0,5531.0,5630.0,5619.0,5628.0,5599.0,5527.0,5527.0,5527.0,5527.0,-5000,-5000,-5000,-5000,-5000,-5000,5741.0,5888.0,5835.0,5835.0,5848.0,5989.0,5880.0,5996.0,5955.0,5955.0,5958.0,6072.0,5961.0,5961.0,6043.0,5995.0,6103.0,6020.0,6020.0,6048.0,6199.0,6160.0,6393.0,5753.0,5753.0,5732.0,5460.0,5460.0,5218.0,5121.0,5077.0,5077.0,5277.0,5208.0,5208.0,5549.0,5485.0,5485.0,5842.0,5333.0,6264.0,6072.0,6072.0,6681.0,6457.0,6457.0,6585.0,6672.0,6613.0,6753.0,6602.0,6602.0,6873.0,-5000,-5000,-5000,-5000,-5000,-5000,-5000,-5000,-5000,-5000,-5000,-5000,-5000,-5000,-5000,-5000,-5000,-5000,-5000,-5000,-5000,-5000,-5000,-5000,-5000,-5000,-5000,-5000,-5000,-5000,-5000,-5000,-5000,-5000,-5000,-5000,-5000,2208.0,2184.0,2184.0,2452.0,1801.0,1798.0,2026.0,1883.0,1883.0,2062.0,1921.0,1921.0,2244.0,2202.0,2202.0,2381.0,2296.0,2296.0,3284.0,3263.0,3263.0,3480.0,3368.0,3368.0,3444.0,3452.0,3449.0,3722.0,3653.0,3653.0,3653.0,3855.0,3813.0,3813.0,3978.0,3941.0,3941.0,4111.0,4070.0,4070.0,4257.0,4232.0,4232.0,4387.0,4211.0,4211.0,4437.0,4401.0,4401.0,4510.0,4513.0,4509.0,4653.0,348.0,-5000,-5000,-5000,-5000,6043.0,6425.0,6457.0,6408.0,6494.0,6414.0,6414.0,6471.0,6264.0,6264.0,6264.0,6474.0,6569.0,6530.0,6695.0,6624.0,6623.0,6848.0,6742.0,6715.0,6942.0,6710.0,6807.0,6587.0,6587.0,6587.0,7021.0,6451.0,6468.0,6464.0,6804.0,6596.0,6596.0,6596.0,7248.0,7017.0,7017.0,7017.0,7017.0,7017.0,7451.0,7052.0,7052.0,7359.0,7162.0,7162.0,7405.0,7232.0,7232.0,7232.0,7296.0,7242.0,7700.0,7355.0,7355.0,7550.0,7405.0,7405.0,7835.0,7590.0,7590.0,7720.0,7888.0,7683.0,7683.0,7941.0,7796.0,7796.0,8062.0,7737.0,7737.0,7907.0,7036.0,7036.0,7689.0,7515.0,7515.0,8007.0,6707.0,6707.0,7866.0,6549.0,6549.0,6908.0,6184.0,6184.0,6551.0,5879.0,5879.0,6459.0,5681.0,5681.0,6082.0,5049.0,5049.0,5561.0,4923.0,4923.0,5417.0,4435.0,4435.0,-5000,-5000,-5000,-5000,-5000,-5000,4434.0,3773.0,3773.0,4167.0,-5000,-5000,-5000,-5000,-5000,4258.0,-5000,-5000,-5000,-5000,-5000,3799.0,3799.0,3799.0,3799.0,3799.0,5045.0,4093.0,4559.0,4183.0,4183.0,4461.0,4260.0,4260.0,4623.0,4421.0,4421.0,4672.0,4507.0,4507.0,4905.0,4494.0,4494.0,4852.0,4700.0,4700.0,5062.0,4733.0,4733.0,5066.0,4909.0,4909.0,5216.0,5250.0,5178.0,5164.0,5164.0,5476.0,5357.0,5572.0,5481.0,5481.0,5738.0,5607.0,5607.0,5786.0,5518.0,5469.0,5469.0,5832.0,5722.0,5978.0,5817.0,5817.0,5817.0,6127.0,6037.0,6344.0,6212.0,6212.0,6529.0,-5000,-5000,-5000,-5000,-5000,-5000,-5000,-5000,-5000,-5000,-5000,-5000,-5000,-5000,6999.0,7071.0,7037.0,7298.0,7103.0,7103.0,7103.0,7373.0,7302.0,7289.0,7726.0,7533.0,7533.0,7852.0,7610.0,7610.0,7888.0,7769.0,7788.0,8226.0,8094.0,8093.0,8386.0,8029.0,8029.0,8054.0,8343.0,8146.0,8480.0,8078.0,8078.0,8078.0,8595.0,8108.0,8108.0,8593.0,9266.0,9281.0,9540.0,9416.0,9416.0,9457.0,9394.0,9620.0,7917.0,7917.0,7917.0,8061.0,7643.0,8705.0,-5000,-5000,-5000,-5000,-5000,-5000,-5000,-5000,-5000,-5000,-5000,-5000,-5000,-5000,-5000,-5000,-5000,-5000,-5000,-5000,-5000,8894.0,8781.0,7376.0,7411.0,7521.0,5861.0,5861.0,5939.0,5630.0,5612.0,5344.0,5202.0,5002.0,5448.0,4942.0,5161.0,4709.0,4977.0,4330.0,4424.0,4199.0,4393.0,4048.0,4895.0,3603.0,3603.0,-5000,-5000,-5000,-5000,-5000,-5000,3463.0,3714.0,3199.0,-5000,-5000,-5000,-5000,-5000,-5000,-5000,4124.0,4453.0,4365.0,4384.0,4024.0,3980.0,4070.0,4312.0,4344.0,4107.0,3950.0,4197.0,4176.0,4202.0,4400.0,5008.0,4900.0,4259.0,4344.0,4547.0,4754.0,4534.0,4643.0,4912.0,4818.0,4899.0,4920.0,5075.0,5169.0,5159.0,5331.0,5140.0,5165.0,5397.0,5285.0,5312.0,5464.0,5604.0,5600.0,5606.0,5748.0,-5000,-5000,-5000,-5000,-5000,-5000,-5000,-5000,-5000,-5000,-5000,-5000,-5000,-5000,-5000,-5000,-5000,-5000,-5000,-5000,-5000,-5000,-5000,-5000,-5000,-5000,-5000,-5000,-5000,-5000,-5000,-5000,2252.0,2300.0,2452.0,2511.0,2693.0,2848.0,2879.0,2832.0,2864.0,3001.0,3047.0,3066.0,3173.0,3189.0,3157.0,3244.0,3327.0,3386.0,3413.0,3374.0,3676.0,3612.0,3635.0,3727.0,3785.0,3801.0,3955.0,3994.0,4012.0,3942.0,4081.0,4067.0,-5000,-5000,-5000,-5000,-5000,-5000,-5000,4347.0,4268.0,4599.0,4595.0,4566.0,4627.0,4604.0,4715.0,4845.0,4845.0,4727.0,4780.0,-5000,-5000,-5000,-5000,-5000,-5000,-5000,-5000,-5000,-5000,-5000,-5000,-5000,-5000,-5000,-5000,-5000,-5000,-5000,-5000,6735.0,6568.0,6766.0,6627.0,6661.0,6503.0,6283.0,5770.0,5695.0,5607.0,5951.0,6245.0,-5000,-5000,-5000,-5000,-5000,-5000,-5000,2203.0,2054.0,1727.0,1988.0,2704.0,2453.0,-5000,-5000,-5000,-5000,-5000,-5000,-5000,-5000,-5000,3103.0,3418.0,2854.0,2585.0,2585.0,3331.0,3285.0,3182.0,3168.0,3598.0,3763.0,4069.0,3459.0,4029.0,3657.0,3464.0,3270.0,3270.0,3270.0,3270.0,3981.0,4134.0,3981.0,4085.0,4131.0,4308.0,4399.0,4496.0,4571.0,4580.0,4578.0,4733.0,4803.0,4915.0,5069.0,5120.0,5106.0,5057.0,5129.0,5284.0,5517.0,5554.0,5556.0,5558.0,5484.0,5532.0,5646.0,5837.0,5943.0,5959.0,5959.0,6063.0,6008.0,6076.0,6185.0,6267.0,6263.0,6248.0,6339.0,6359.0,6431.0,6572.0,6609.0,6662.0,6697.0,6750.0,6820.0,6787.0,6933.0,6953.0,6952.0,6965.0,7053.0,7079.0,7192.0,7199.0,7348.0,7319.0,7217.0,7391.0,7442.0,7518.0,7754.0,7738.0,7788.0,7721.0,7835.0,7903.0,8023.0,8178.0,8238.0,8238.0,8273.0,8262.0,8385.0,8395.0,8571.0,8573.0,8590.0,8574.0,8592.0,8637.0,8705.0,8844.0,8870.0,8891.0,8890.0,8898.0,8850.0,9166.0,9185.0,9242.0,9249.0,9311.0,9380.0,9389.0,-5000,-5000,-5000,-5000,-5000,-5000,-5000,-5000,-5000,-5000,-5000,-5000,-5000,-5000,-5000,-5000,-5000,11343.0,11013.0,10843.0,10782.0,10741.0,10922.0,10979.0,10899.0,10900.0,10972.0,11214.0,11207.0,-5000,-5000,-5000,-5000,-5000,-5000,9346.0,8659.0,8731.0,8533.0,9227.0,9101.0,8816.0,8422.0,8429.0,8090.0,8010.0,7321.0,7206.0,7466.0,7371.0,7472.0,7262.0,7022.0,6339.0,6041.0,6036.0,6235.0,6223.0,6710.0,6002.0,5093.0,5059.0,5166.0,5206.0,5640.0,5603.0,4924.0,4924.0,4924.0,5533.0,5535.0,5761.0,5885.0,5272.0,5259.0,5099.0,5431.0,5495.0,6028.0,5040.0,5170.0,5200.0,5280.0,5032.0,5347.0,5409.0,5387.0,5343.0,5254.0,5617.0,5450.0,5377.0,5839.0,5877.0,5772.0,5909.0,5857.0,5794.0,5908.0,6145.0,6242.0,6251.0,6244.0,6303.0,6378.0,6481.0,6642.0,6559.0,6466.0,6478.0,6613.0,6666.0,6701.0,6744.0,6493.0,6495.0,6585.0,6672.0,6721.0,6761.0,6874.0,7055.0,7066.0,7036.0,7077.0,7138.0,7042.0,7151.0,7890.0,8017.0,8006.0,8071.0,8025.0,8112.0,8210.0,8256.0,8259.0,8189.0,8316.0,8372.0,8398.0,8671.0,8714.0,8747.0,8763.0,8776.0,8806.0,8802.0,8962.0,8976.0,8689.0,8689.0,8689.0,8689.0,8689.0,9324.0,9283.0,9148.0,9423.0,9207.0,9207.0,9207.0,9207.0,9207.0,9207.0,9207.0,9802.0,9694.0,9884.0,9725.0,10095.0,9906.0,10040.0,9622.0,9622.0,9622.0,9622.0,9622.0,9622.0,9622.0,10098.0,10012.0,10141.0,9915.0,10466.0,10235.0,10424.0,10257.0,10411.0,10216.0,10216.0,10540.0,10351.0,10585.0,10373.0,10505.0,10392.0,10635.0,9484.0,10622.0,10468.0,10764.0,10570.0,10989.0,10702.0,10960.0,10658.0,10865.0,10573.0,10706.0,9374.0,9915.0,8582.0,8822.0,7748.0,7748.0,7748.0,8149.0,6940.0,7380.0,6692.0,6955.0,6246.0,6246.0,6246.0,7019.0,6129.0,6524.0,5978.0,6394.0,6188.0,7741.0,6116.0,7493.0,6433.0,6748.0,5417.0,5836.0,5264.0,6231.0,5479.0,6525.0,5788.0,6481.0,6122.0,7020.0,6234.0,7743.0,5997.0,6239.0,5965.0,5965.0,6964.0,5905.0,6562.0,5945.0,6183.0,6017.0,6301.0,6192.0,7261.0,6675.0,7088.0,6674.0,7296.0,6688.0,6796.0,6610.0,7056.0,6924.0,7059.0,6992.0,7277.0,7183.0,7669.0,7553.0,7849.0,7570.0,7845.0,7786.0,8115.0,7914.0,7914.0,8310.0,8194.0,8398.0,8335.0,8538.0,8480.0,8863.0,8784.0,8964.0,8902.0,9097.0,8969.0,8969.0,8969.0,9351.0,9272.0,9608.0,9370.0,9370.0,9370.0,9370.0,9370.0,9370.0,9370.0,10195.0,10105.0,10569.0,10438.0,10560.0,10449.0,10672.0,10569.0,10569.0,11036.0,10897.0,11089.0,10978.0,11240.0,11174.0,-5000,-5000,-5000,-5000,-5000,-5000,-5000,-5000,-5000,-5000,-5000,-5000,-5000,-5000,-5000,-5000,-5000,-5000,11179.0,11179.0,12646.0,12372.0,12372.0,12372.0,12372.0,12372.0,12372.0,13184.0,13073.0,13333.0,13249.0,13472.0,13365.0,13491.0,13409.0,13679.0,13535.0,13761.0,13589.0,13750.0,13654.0,13845.0,13378.0,13449.0,12386.0,11909.0,11845.0,12210.0,12122.0,13024.0,12840.0,14244.0,13922.0,14214.0,14002.0,14104.0,14026.0,14729.0,14180.0,14368.0,13116.0,14081.0,13887.0,14473.0,14109.0,14433.0,14134.0,14302.0,14067.0,14321.0,14040.0,14380.0,14092.0,14362.0,14063.0,14132.0,10094.0,10094.0,10094.0,10094.0,10094.0,10094.0,10094.0,10094.0,10094.0,10094.0,10355.0,9360.0,9722.0,9224.0,9718.0,9103.0,10263.0,8409.0,8771.0,7916.0,8217.0,7721.0,8959.0,6917.0,7433.0,6453.0,6924.0,6466.0,7336.0,6582.0,8174.0,5937.0,6521.0,5870.0,6248.0,6077.0,7334.0,7181.0,5869.0,6223.0,5711.0,6148.0,5511.0,5511.0,5511.0,6610.0,5838.0,6246.0,5911.0,6322.0,5856.0,6408.0,5916.0,6037.0,5963.0,6335.0,6227.0,6807.0,6171.0,6466.0,6410.0,6765.0,6683.0,7162.0,6916.0,7368.0,7033.0,7142.0,7081.0,7274.0,7209.0,7465.0,7408.0,7806.0,7714.0,7904.0,7863.0,8179.0,8061.0,8530.0,8295.0,8430.0,8348.0,8548.0,8501.0,8714.0,8577.0,8961.0,8830.0,9055.0,8947.0,8947.0,8947.0,9564.0,9383.0,9526.0,9416.0,9219.0,9219.0,9219.0,9663.0,9495.0,9726.0,9616.0,9882.0,9855.0,10093.0]},\"selected\":{\"id\":\"5137\",\"type\":\"Selection\"},\"selection_policy\":{\"id\":\"5138\",\"type\":\"UnionRenderers\"}},\"id\":\"4908\",\"type\":\"ColumnDataSource\"},{\"attributes\":{},\"id\":\"4921\",\"type\":\"BasicTicker\"},{\"attributes\":{\"bottom_units\":\"screen\",\"fill_alpha\":{\"value\":0.5},\"fill_color\":{\"value\":\"lightgrey\"},\"left_units\":\"screen\",\"level\":\"overlay\",\"line_alpha\":{\"value\":1.0},\"line_color\":{\"value\":\"black\"},\"line_dash\":[4,4],\"line_width\":{\"value\":2},\"plot\":null,\"render_mode\":\"css\",\"right_units\":\"screen\",\"top_units\":\"screen\"},\"id\":\"4938\",\"type\":\"BoxAnnotation\"},{\"attributes\":{},\"id\":\"4916\",\"type\":\"LinearScale\"},{\"attributes\":{\"callback\":null},\"id\":\"4914\",\"type\":\"DataRange1d\"},{\"attributes\":{\"data_source\":{\"id\":\"4908\",\"type\":\"ColumnDataSource\"},\"glyph\":{\"id\":\"4946\",\"type\":\"Line\"},\"hover_glyph\":null,\"muted_glyph\":null,\"nonselection_glyph\":{\"id\":\"4947\",\"type\":\"Line\"},\"selection_glyph\":null,\"view\":{\"id\":\"4949\",\"type\":\"CDSView\"}},\"id\":\"4948\",\"type\":\"GlyphRenderer\"}],\"root_ids\":[\"4910\"]},\"title\":\"Bokeh Application\",\"version\":\"1.0.2\"}};\n",
       "  var render_items = [{\"docid\":\"e4d0324e-57ec-4f00-8bc1-4168f5df13f9\",\"roots\":{\"4910\":\"b43571cb-4121-4128-9b47-7cb348414a02\"}}];\n",
       "  root.Bokeh.embed.embed_items_notebook(docs_json, render_items);\n",
       "\n",
       "  }\n",
       "  if (root.Bokeh !== undefined) {\n",
       "    embed_document(root);\n",
       "  } else {\n",
       "    var attempts = 0;\n",
       "    var timer = setInterval(function(root) {\n",
       "      if (root.Bokeh !== undefined) {\n",
       "        embed_document(root);\n",
       "        clearInterval(timer);\n",
       "      }\n",
       "      attempts++;\n",
       "      if (attempts > 100) {\n",
       "        console.log(\"Bokeh: ERROR: Unable to run BokehJS code because BokehJS library is missing\");\n",
       "        clearInterval(timer);\n",
       "      }\n",
       "    }, 10, root)\n",
       "  }\n",
       "})(window);"
      ],
      "application/vnd.bokehjs_exec.v0+json": ""
     },
     "metadata": {
      "application/vnd.bokehjs_exec.v0+json": {
       "id": "4910"
      }
     },
     "output_type": "display_data"
    }
   ],
   "source": [
    "source = ColumnDataSource(data=dict(\n",
    "    price_date=[data_point['price_date'] for data_point in hist_data],\n",
    "    product_count=[data_point['product_count'] for data_point in hist_data],\n",
    "))\n",
    "\n",
    "# create a new plot (with a title) using figure\n",
    "p = figure(plot_width=800, plot_height=400, title=\"Webshop X - Historic chart\")\n",
    "\n",
    "# add a line renderer\n",
    "p.line('price_date', 'product_count', line_width=2, source=source)\n",
    "\n",
    "p.xaxis.major_label_text_font_size = \"10pt\"\n",
    "p.xaxis.major_label_orientation = 1\n",
    "\n",
    "show(p) # show the results"
   ]
  },
  {
   "cell_type": "markdown",
   "metadata": {
    "slideshow": {
     "slide_type": "subslide"
    }
   },
   "source": [
    "Step 3: configure date format"
   ]
  },
  {
   "cell_type": "code",
   "execution_count": 29,
   "metadata": {
    "slideshow": {
     "slide_type": "-"
    }
   },
   "outputs": [
    {
     "data": {
      "text/html": [
       "\n",
       "\n",
       "\n",
       "\n",
       "\n",
       "\n",
       "  <div class=\"bk-root\" id=\"b8c6aaa4-8bd5-4121-89b5-80ee3270fc1c\"></div>\n"
      ]
     },
     "metadata": {},
     "output_type": "display_data"
    },
    {
     "data": {
      "application/javascript": [
       "(function(root) {\n",
       "  function embed_document(root) {\n",
       "    \n",
       "  var docs_json = {\"e2514e89-f503-46cc-839b-412a7d1d3b2c\":{\"roots\":{\"references\":[{\"attributes\":{\"below\":[{\"id\":\"5198\",\"type\":\"DatetimeAxis\"}],\"left\":[{\"id\":\"5203\",\"type\":\"LinearAxis\"}],\"plot_height\":400,\"plot_width\":800,\"renderers\":[{\"id\":\"5198\",\"type\":\"DatetimeAxis\"},{\"id\":\"5202\",\"type\":\"Grid\"},{\"id\":\"5203\",\"type\":\"LinearAxis\"},{\"id\":\"5207\",\"type\":\"Grid\"},{\"id\":\"5216\",\"type\":\"BoxAnnotation\"},{\"id\":\"5226\",\"type\":\"GlyphRenderer\"}],\"title\":{\"id\":\"5187\",\"type\":\"Title\"},\"toolbar\":{\"id\":\"5214\",\"type\":\"Toolbar\"},\"x_range\":{\"id\":\"5190\",\"type\":\"DataRange1d\"},\"x_scale\":{\"id\":\"5194\",\"type\":\"LinearScale\"},\"y_range\":{\"id\":\"5192\",\"type\":\"DataRange1d\"},\"y_scale\":{\"id\":\"5196\",\"type\":\"LinearScale\"}},\"id\":\"5188\",\"subtype\":\"Figure\",\"type\":\"Plot\"},{\"attributes\":{\"callback\":null},\"id\":\"5190\",\"type\":\"DataRange1d\"},{\"attributes\":{\"months\":[0,4,8]},\"id\":\"5432\",\"type\":\"MonthsTicker\"},{\"attributes\":{},\"id\":\"5212\",\"type\":\"ResetTool\"},{\"attributes\":{\"months\":[0,6]},\"id\":\"5433\",\"type\":\"MonthsTicker\"},{\"attributes\":{},\"id\":\"5213\",\"type\":\"HelpTool\"},{\"attributes\":{\"formatter\":{\"id\":\"5421\",\"type\":\"DatetimeTickFormatter\"},\"major_label_orientation\":1,\"major_label_text_font_size\":{\"value\":\"10pt\"},\"plot\":{\"id\":\"5188\",\"subtype\":\"Figure\",\"type\":\"Plot\"},\"ticker\":{\"id\":\"5199\",\"type\":\"DatetimeTicker\"}},\"id\":\"5198\",\"type\":\"DatetimeAxis\"},{\"attributes\":{},\"id\":\"5434\",\"type\":\"YearsTicker\"},{\"attributes\":{\"overlay\":{\"id\":\"5216\",\"type\":\"BoxAnnotation\"}},\"id\":\"5210\",\"type\":\"BoxZoomTool\"},{\"attributes\":{\"active_drag\":\"auto\",\"active_inspect\":\"auto\",\"active_multi\":null,\"active_scroll\":\"auto\",\"active_tap\":\"auto\",\"tools\":[{\"id\":\"5208\",\"type\":\"PanTool\"},{\"id\":\"5209\",\"type\":\"WheelZoomTool\"},{\"id\":\"5210\",\"type\":\"BoxZoomTool\"},{\"id\":\"5211\",\"type\":\"SaveTool\"},{\"id\":\"5212\",\"type\":\"ResetTool\"},{\"id\":\"5213\",\"type\":\"HelpTool\"}]},\"id\":\"5214\",\"type\":\"Toolbar\"},{\"attributes\":{},\"id\":\"5194\",\"type\":\"LinearScale\"},{\"attributes\":{\"bottom_units\":\"screen\",\"fill_alpha\":{\"value\":0.5},\"fill_color\":{\"value\":\"lightgrey\"},\"left_units\":\"screen\",\"level\":\"overlay\",\"line_alpha\":{\"value\":1.0},\"line_color\":{\"value\":\"black\"},\"line_dash\":[4,4],\"line_width\":{\"value\":2},\"plot\":null,\"render_mode\":\"css\",\"right_units\":\"screen\",\"top_units\":\"screen\"},\"id\":\"5216\",\"type\":\"BoxAnnotation\"},{\"attributes\":{},\"id\":\"5211\",\"type\":\"SaveTool\"},{\"attributes\":{},\"id\":\"5419\",\"type\":\"BasicTickFormatter\"},{\"attributes\":{\"plot\":null,\"text\":\"Zara - Historic chart\"},\"id\":\"5187\",\"type\":\"Title\"},{\"attributes\":{\"data_source\":{\"id\":\"4908\",\"type\":\"ColumnDataSource\"},\"glyph\":{\"id\":\"5224\",\"type\":\"Line\"},\"hover_glyph\":null,\"muted_glyph\":null,\"nonselection_glyph\":{\"id\":\"5225\",\"type\":\"Line\"},\"selection_glyph\":null,\"view\":{\"id\":\"5227\",\"type\":\"CDSView\"}},\"id\":\"5226\",\"type\":\"GlyphRenderer\"},{\"attributes\":{},\"id\":\"5209\",\"type\":\"WheelZoomTool\"},{\"attributes\":{\"source\":{\"id\":\"4908\",\"type\":\"ColumnDataSource\"}},\"id\":\"5227\",\"type\":\"CDSView\"},{\"attributes\":{},\"id\":\"5421\",\"type\":\"DatetimeTickFormatter\"},{\"attributes\":{\"mantissas\":[1,2,5],\"max_interval\":500.0,\"num_minor_ticks\":0},\"id\":\"5423\",\"type\":\"AdaptiveTicker\"},{\"attributes\":{\"line_alpha\":0.1,\"line_color\":\"#1f77b4\",\"line_width\":2,\"x\":{\"field\":\"price_date\"},\"y\":{\"field\":\"product_count\"}},\"id\":\"5225\",\"type\":\"Line\"},{\"attributes\":{},\"id\":\"5138\",\"type\":\"UnionRenderers\"},{\"attributes\":{\"dimension\":1,\"plot\":{\"id\":\"5188\",\"subtype\":\"Figure\",\"type\":\"Plot\"},\"ticker\":{\"id\":\"5204\",\"type\":\"BasicTicker\"}},\"id\":\"5207\",\"type\":\"Grid\"},{\"attributes\":{\"base\":60,\"mantissas\":[1,2,5,10,15,20,30],\"max_interval\":1800000.0,\"min_interval\":1000.0,\"num_minor_ticks\":0},\"id\":\"5424\",\"type\":\"AdaptiveTicker\"},{\"attributes\":{\"plot\":{\"id\":\"5188\",\"subtype\":\"Figure\",\"type\":\"Plot\"},\"ticker\":{\"id\":\"5199\",\"type\":\"DatetimeTicker\"}},\"id\":\"5202\",\"type\":\"Grid\"},{\"attributes\":{},\"id\":\"5196\",\"type\":\"LinearScale\"},{\"attributes\":{\"base\":24,\"mantissas\":[1,2,4,6,8,12],\"max_interval\":43200000.0,\"min_interval\":3600000.0,\"num_minor_ticks\":0},\"id\":\"5425\",\"type\":\"AdaptiveTicker\"},{\"attributes\":{\"days\":[1,2,3,4,5,6,7,8,9,10,11,12,13,14,15,16,17,18,19,20,21,22,23,24,25,26,27,28,29,30,31]},\"id\":\"5426\",\"type\":\"DaysTicker\"},{\"attributes\":{\"num_minor_ticks\":5,\"tickers\":[{\"id\":\"5423\",\"type\":\"AdaptiveTicker\"},{\"id\":\"5424\",\"type\":\"AdaptiveTicker\"},{\"id\":\"5425\",\"type\":\"AdaptiveTicker\"},{\"id\":\"5426\",\"type\":\"DaysTicker\"},{\"id\":\"5427\",\"type\":\"DaysTicker\"},{\"id\":\"5428\",\"type\":\"DaysTicker\"},{\"id\":\"5429\",\"type\":\"DaysTicker\"},{\"id\":\"5430\",\"type\":\"MonthsTicker\"},{\"id\":\"5431\",\"type\":\"MonthsTicker\"},{\"id\":\"5432\",\"type\":\"MonthsTicker\"},{\"id\":\"5433\",\"type\":\"MonthsTicker\"},{\"id\":\"5434\",\"type\":\"YearsTicker\"}]},\"id\":\"5199\",\"type\":\"DatetimeTicker\"},{\"attributes\":{\"days\":[1,4,7,10,13,16,19,22,25,28]},\"id\":\"5427\",\"type\":\"DaysTicker\"},{\"attributes\":{},\"id\":\"5204\",\"type\":\"BasicTicker\"},{\"attributes\":{\"callback\":null,\"data\":{\"price_date\":[1410220800000.0,1410307200000.0,1410393600000.0,1410480000000.0,1410566400000.0,1410652800000.0,1410739200000.0,1410825600000.0,1410912000000.0,1410998400000.0,1411084800000.0,1411171200000.0,1411257600000.0,1411344000000.0,1411430400000.0,1411516800000.0,1411603200000.0,1411689600000.0,1411776000000.0,1411862400000.0,1411948800000.0,1412035200000.0,1412121600000.0,1412208000000.0,1412294400000.0,1412380800000.0,1412467200000.0,1412553600000.0,1412640000000.0,1412726400000.0,1412812800000.0,1412899200000.0,1412985600000.0,1413072000000.0,1413158400000.0,1413244800000.0,1413331200000.0,1413417600000.0,1413504000000.0,1413590400000.0,1413676800000.0,1413763200000.0,1413849600000.0,1413936000000.0,1414022400000.0,1414108800000.0,1414195200000.0,1414281600000.0,1414368000000.0,1414454400000.0,1414540800000.0,1414627200000.0,1414713600000.0,1414800000000.0,1414886400000.0,1414972800000.0,1415059200000.0,1415145600000.0,1415232000000.0,1415318400000.0,1415404800000.0,1415491200000.0,1415577600000.0,1415664000000.0,1415750400000.0,1415836800000.0,1415923200000.0,1416009600000.0,1416096000000.0,1416182400000.0,1416268800000.0,1416355200000.0,1416441600000.0,1416528000000.0,1416614400000.0,1416700800000.0,1416787200000.0,1416873600000.0,1416960000000.0,1417046400000.0,1417132800000.0,1417219200000.0,1417305600000.0,1417392000000.0,1417478400000.0,1417564800000.0,1417651200000.0,1417737600000.0,1417824000000.0,1417910400000.0,1417996800000.0,1418083200000.0,1418169600000.0,1418256000000.0,1418342400000.0,1418428800000.0,1418515200000.0,1418601600000.0,1418688000000.0,1418774400000.0,1418860800000.0,1418947200000.0,1419033600000.0,1419120000000.0,1419206400000.0,1419292800000.0,1419379200000.0,1419465600000.0,1419552000000.0,1419638400000.0,1419724800000.0,1419811200000.0,1419897600000.0,1419984000000.0,1420070400000.0,1420156800000.0,1420243200000.0,1420329600000.0,1420416000000.0,1420502400000.0,1420588800000.0,1420675200000.0,1420761600000.0,1420848000000.0,1420934400000.0,1421020800000.0,1421107200000.0,1421193600000.0,1421280000000.0,1421366400000.0,1421452800000.0,1421539200000.0,1421625600000.0,1421712000000.0,1421798400000.0,1421884800000.0,1421971200000.0,1422057600000.0,1422144000000.0,1422230400000.0,1422316800000.0,1422403200000.0,1422489600000.0,1422576000000.0,1422662400000.0,1422748800000.0,1422835200000.0,1422921600000.0,1423008000000.0,1423094400000.0,1423180800000.0,1423267200000.0,1423353600000.0,1423440000000.0,1423526400000.0,1423612800000.0,1423699200000.0,1423785600000.0,1423872000000.0,1423958400000.0,1424044800000.0,1424131200000.0,1424217600000.0,1424304000000.0,1424390400000.0,1424476800000.0,1424563200000.0,1424649600000.0,1424736000000.0,1424822400000.0,1424908800000.0,1424995200000.0,1425081600000.0,1425168000000.0,1425254400000.0,1425340800000.0,1425427200000.0,1425513600000.0,1425600000000.0,1425686400000.0,1425772800000.0,1425859200000.0,1425945600000.0,1426032000000.0,1426118400000.0,1426204800000.0,1426291200000.0,1426377600000.0,1426464000000.0,1426550400000.0,1426636800000.0,1426723200000.0,1426809600000.0,1426896000000.0,1426982400000.0,1427068800000.0,1427155200000.0,1427241600000.0,1427328000000.0,1427414400000.0,1427500800000.0,1427587200000.0,1427673600000.0,1427760000000.0,1427846400000.0,1427932800000.0,1428019200000.0,1428105600000.0,1428192000000.0,1428278400000.0,1428364800000.0,1428451200000.0,1428537600000.0,1428624000000.0,1428710400000.0,1428796800000.0,1428883200000.0,1428969600000.0,1429056000000.0,1429142400000.0,1429228800000.0,1429315200000.0,1429401600000.0,1429488000000.0,1429574400000.0,1429660800000.0,1429747200000.0,1429833600000.0,1429920000000.0,1430006400000.0,1430092800000.0,1430179200000.0,1430265600000.0,1430352000000.0,1430438400000.0,1430524800000.0,1430611200000.0,1430697600000.0,1430784000000.0,1430870400000.0,1430956800000.0,1431043200000.0,1431129600000.0,1431216000000.0,1431302400000.0,1431388800000.0,1431475200000.0,1431561600000.0,1431648000000.0,1431734400000.0,1431820800000.0,1431907200000.0,1431993600000.0,1432080000000.0,1432166400000.0,1432252800000.0,1432339200000.0,1432425600000.0,1432512000000.0,1432598400000.0,1432684800000.0,1432771200000.0,1432857600000.0,1432944000000.0,1433030400000.0,1433116800000.0,1433203200000.0,1433289600000.0,1433376000000.0,1433462400000.0,1433548800000.0,1433635200000.0,1433721600000.0,1433808000000.0,1433894400000.0,1433980800000.0,1434067200000.0,1434153600000.0,1434240000000.0,1434326400000.0,1434412800000.0,1434499200000.0,1434585600000.0,1434672000000.0,1434758400000.0,1434844800000.0,1434931200000.0,1435017600000.0,1435104000000.0,1435190400000.0,1435276800000.0,1435363200000.0,1435449600000.0,1435536000000.0,1435622400000.0,1435708800000.0,1435795200000.0,1435881600000.0,1435968000000.0,1436054400000.0,1436140800000.0,1436227200000.0,1436313600000.0,1436400000000.0,1436486400000.0,1436572800000.0,1436659200000.0,1436745600000.0,1436832000000.0,1436918400000.0,1437004800000.0,1437091200000.0,1437177600000.0,1437264000000.0,1437350400000.0,1437436800000.0,1437523200000.0,1437609600000.0,1437696000000.0,1437782400000.0,1437868800000.0,1437955200000.0,1438041600000.0,1438128000000.0,1438214400000.0,1438300800000.0,1438387200000.0,1438473600000.0,1438560000000.0,1438646400000.0,1438732800000.0,1438819200000.0,1438905600000.0,1438992000000.0,1439078400000.0,1439164800000.0,1439251200000.0,1439337600000.0,1439424000000.0,1439510400000.0,1439596800000.0,1439683200000.0,1439769600000.0,1439856000000.0,1439942400000.0,1440028800000.0,1440115200000.0,1440201600000.0,1440288000000.0,1440374400000.0,1440460800000.0,1440547200000.0,1440633600000.0,1440720000000.0,1440806400000.0,1440892800000.0,1440979200000.0,1441065600000.0,1441152000000.0,1441238400000.0,1441324800000.0,1441411200000.0,1441497600000.0,1441584000000.0,1441670400000.0,1441756800000.0,1441843200000.0,1441929600000.0,1442016000000.0,1442102400000.0,1442188800000.0,1442275200000.0,1442361600000.0,1442448000000.0,1442534400000.0,1442620800000.0,1442707200000.0,1442793600000.0,1442880000000.0,1442966400000.0,1443052800000.0,1443139200000.0,1443225600000.0,1443312000000.0,1443398400000.0,1443484800000.0,1443571200000.0,1443657600000.0,1443744000000.0,1443830400000.0,1443916800000.0,1444003200000.0,1444089600000.0,1444176000000.0,1444262400000.0,1444348800000.0,1444435200000.0,1444521600000.0,1444608000000.0,1444694400000.0,1444780800000.0,1444867200000.0,1444953600000.0,1445040000000.0,1445126400000.0,1445212800000.0,1445299200000.0,1445385600000.0,1445472000000.0,1445558400000.0,1445644800000.0,1445731200000.0,1445817600000.0,1445904000000.0,1445990400000.0,1446076800000.0,1446163200000.0,1446249600000.0,1446336000000.0,1446422400000.0,1446508800000.0,1446595200000.0,1446681600000.0,1446768000000.0,1446854400000.0,1446940800000.0,1447027200000.0,1447113600000.0,1447200000000.0,1447286400000.0,1447372800000.0,1447459200000.0,1447545600000.0,1447632000000.0,1447718400000.0,1447804800000.0,1447891200000.0,1447977600000.0,1448064000000.0,1448150400000.0,1448236800000.0,1448323200000.0,1448409600000.0,1448496000000.0,1448582400000.0,1448668800000.0,1448755200000.0,1448841600000.0,1448928000000.0,1449014400000.0,1449100800000.0,1449187200000.0,1449273600000.0,1449360000000.0,1449446400000.0,1449532800000.0,1449619200000.0,1449705600000.0,1449792000000.0,1449878400000.0,1449964800000.0,1450051200000.0,1450137600000.0,1450224000000.0,1450310400000.0,1450396800000.0,1450483200000.0,1450569600000.0,1450656000000.0,1450742400000.0,1450828800000.0,1450915200000.0,1451001600000.0,1451088000000.0,1451174400000.0,1451260800000.0,1451347200000.0,1451433600000.0,1451520000000.0,1451606400000.0,1451692800000.0,1451779200000.0,1451865600000.0,1451952000000.0,1452038400000.0,1452124800000.0,1452211200000.0,1452297600000.0,1452384000000.0,1452470400000.0,1452556800000.0,1452643200000.0,1452729600000.0,1452816000000.0,1452902400000.0,1452988800000.0,1453075200000.0,1453161600000.0,1453248000000.0,1453334400000.0,1453420800000.0,1453507200000.0,1453593600000.0,1453680000000.0,1453766400000.0,1453852800000.0,1453939200000.0,1454025600000.0,1454112000000.0,1454198400000.0,1454284800000.0,1454371200000.0,1454457600000.0,1454544000000.0,1454630400000.0,1454716800000.0,1454803200000.0,1454889600000.0,1454976000000.0,1455062400000.0,1455148800000.0,1455235200000.0,1455321600000.0,1455408000000.0,1455494400000.0,1455580800000.0,1455667200000.0,1455753600000.0,1455840000000.0,1455926400000.0,1456012800000.0,1456099200000.0,1456185600000.0,1456272000000.0,1456358400000.0,1456444800000.0,1456531200000.0,1456617600000.0,1456704000000.0,1456790400000.0,1456876800000.0,1456963200000.0,1457049600000.0,1457136000000.0,1457222400000.0,1457308800000.0,1457395200000.0,1457481600000.0,1457568000000.0,1457654400000.0,1457740800000.0,1457827200000.0,1457913600000.0,1458000000000.0,1458086400000.0,1458172800000.0,1458259200000.0,1458345600000.0,1458432000000.0,1458518400000.0,1458604800000.0,1458691200000.0,1458777600000.0,1458864000000.0,1458950400000.0,1459036800000.0,1459123200000.0,1459209600000.0,1459296000000.0,1459382400000.0,1459468800000.0,1459555200000.0,1459641600000.0,1459728000000.0,1459814400000.0,1459900800000.0,1459987200000.0,1460073600000.0,1460160000000.0,1460246400000.0,1460332800000.0,1460419200000.0,1460505600000.0,1460592000000.0,1460678400000.0,1460764800000.0,1460851200000.0,1460937600000.0,1461024000000.0,1461110400000.0,1461196800000.0,1461283200000.0,1461369600000.0,1461456000000.0,1461542400000.0,1461628800000.0,1461715200000.0,1461801600000.0,1461888000000.0,1461974400000.0,1462060800000.0,1462147200000.0,1462233600000.0,1462320000000.0,1462406400000.0,1462492800000.0,1462579200000.0,1462665600000.0,1462752000000.0,1462838400000.0,1462924800000.0,1463011200000.0,1463097600000.0,1463184000000.0,1463270400000.0,1463356800000.0,1463443200000.0,1463529600000.0,1463616000000.0,1463702400000.0,1463788800000.0,1463875200000.0,1463961600000.0,1464048000000.0,1464134400000.0,1464220800000.0,1464307200000.0,1464393600000.0,1464480000000.0,1464566400000.0,1464652800000.0,1464739200000.0,1464825600000.0,1464912000000.0,1464998400000.0,1465084800000.0,1465171200000.0,1465257600000.0,1465344000000.0,1465430400000.0,1465516800000.0,1465603200000.0,1465689600000.0,1465776000000.0,1465862400000.0,1465948800000.0,1466035200000.0,1466121600000.0,1466208000000.0,1466294400000.0,1466380800000.0,1466467200000.0,1466553600000.0,1466640000000.0,1466726400000.0,1466812800000.0,1466899200000.0,1466985600000.0,1467072000000.0,1467158400000.0,1467244800000.0,1467331200000.0,1467417600000.0,1467504000000.0,1467590400000.0,1467676800000.0,1467763200000.0,1467849600000.0,1467936000000.0,1468022400000.0,1468108800000.0,1468195200000.0,1468281600000.0,1468368000000.0,1468454400000.0,1468540800000.0,1468627200000.0,1468713600000.0,1468800000000.0,1468886400000.0,1468972800000.0,1469059200000.0,1469145600000.0,1469232000000.0,1469318400000.0,1469404800000.0,1469491200000.0,1469577600000.0,1469664000000.0,1469750400000.0,1469836800000.0,1469923200000.0,1470009600000.0,1470096000000.0,1470182400000.0,1470268800000.0,1470355200000.0,1470441600000.0,1470528000000.0,1470614400000.0,1470700800000.0,1470787200000.0,1470873600000.0,1470960000000.0,1471046400000.0,1471132800000.0,1471219200000.0,1471305600000.0,1471392000000.0,1471478400000.0,1471564800000.0,1471651200000.0,1471737600000.0,1471824000000.0,1471910400000.0,1471996800000.0,1472083200000.0,1472169600000.0,1472256000000.0,1472342400000.0,1472428800000.0,1472515200000.0,1472601600000.0,1472688000000.0,1472774400000.0,1472860800000.0,1472947200000.0,1473033600000.0,1473120000000.0,1473206400000.0,1473292800000.0,1473379200000.0,1473465600000.0,1473552000000.0,1473638400000.0,1473724800000.0,1473811200000.0,1473897600000.0,1473984000000.0,1474070400000.0,1474156800000.0,1474243200000.0,1474329600000.0,1474416000000.0,1474502400000.0,1474588800000.0,1474675200000.0,1474761600000.0,1474848000000.0,1474934400000.0,1475020800000.0,1475107200000.0,1475193600000.0,1475280000000.0,1475366400000.0,1475452800000.0,1475539200000.0,1475625600000.0,1475712000000.0,1475798400000.0,1475884800000.0,1475971200000.0,1476057600000.0,1476144000000.0,1476230400000.0,1476316800000.0,1476403200000.0,1476489600000.0,1476576000000.0,1476662400000.0,1476748800000.0,1476835200000.0,1476921600000.0,1477008000000.0,1477094400000.0,1477180800000.0,1477267200000.0,1477353600000.0,1477440000000.0,1477526400000.0,1477612800000.0,1477699200000.0,1477785600000.0,1477872000000.0,1477958400000.0,1478044800000.0,1478131200000.0,1478217600000.0,1478304000000.0,1478390400000.0,1478476800000.0,1478563200000.0,1478649600000.0,1478736000000.0,1478822400000.0,1478908800000.0,1478995200000.0,1479081600000.0,1479168000000.0,1479254400000.0,1479340800000.0,1479427200000.0,1479513600000.0,1479600000000.0,1479686400000.0,1479772800000.0,1479859200000.0,1479945600000.0,1480032000000.0,1480118400000.0,1480204800000.0,1480291200000.0,1480377600000.0,1480464000000.0,1480550400000.0,1480636800000.0,1480723200000.0,1480809600000.0,1480896000000.0,1480982400000.0,1481068800000.0,1481155200000.0,1481241600000.0,1481328000000.0,1481414400000.0,1481500800000.0,1481587200000.0,1481673600000.0,1481760000000.0,1481846400000.0,1481932800000.0,1482019200000.0,1482105600000.0,1482192000000.0,1482278400000.0,1482364800000.0,1482451200000.0,1482537600000.0,1482624000000.0,1482710400000.0,1482796800000.0,1482883200000.0,1482969600000.0,1483056000000.0,1483142400000.0,1483228800000.0,1483315200000.0,1483401600000.0,1483488000000.0,1483574400000.0,1483660800000.0,1483747200000.0,1483833600000.0,1483920000000.0,1484006400000.0,1484092800000.0,1484179200000.0,1484265600000.0,1484352000000.0,1484438400000.0,1484524800000.0,1484611200000.0,1484697600000.0,1484784000000.0,1484870400000.0,1484956800000.0,1485043200000.0,1485129600000.0,1485216000000.0,1485302400000.0,1485388800000.0,1485475200000.0,1485561600000.0,1485648000000.0,1485734400000.0,1485820800000.0,1485907200000.0,1485993600000.0,1486080000000.0,1486166400000.0,1486252800000.0,1486339200000.0,1486425600000.0,1486512000000.0,1486598400000.0,1486684800000.0,1486771200000.0,1486857600000.0,1486944000000.0,1487030400000.0,1487116800000.0,1487203200000.0,1487289600000.0,1487376000000.0,1487462400000.0,1487548800000.0,1487635200000.0,1487721600000.0,1487808000000.0,1487894400000.0,1487980800000.0,1488067200000.0,1488153600000.0,1488240000000.0,1488326400000.0,1488412800000.0,1488499200000.0,1488585600000.0,1488672000000.0,1488758400000.0,1488844800000.0,1488931200000.0,1489017600000.0,1489104000000.0,1489190400000.0,1489276800000.0,1489363200000.0,1489449600000.0,1489536000000.0,1489622400000.0,1489708800000.0,1489795200000.0,1489881600000.0,1489968000000.0,1490054400000.0,1490140800000.0,1490227200000.0,1490313600000.0,1490400000000.0,1490486400000.0,1490572800000.0,1490659200000.0,1490745600000.0,1490832000000.0,1490918400000.0,1491004800000.0,1491091200000.0,1491177600000.0,1491264000000.0,1491350400000.0,1491436800000.0,1491523200000.0,1491609600000.0,1491696000000.0,1491782400000.0,1491868800000.0,1491955200000.0,1492041600000.0,1492128000000.0,1492214400000.0,1492300800000.0,1492387200000.0,1492473600000.0,1492560000000.0,1492646400000.0,1492732800000.0,1492819200000.0,1492905600000.0,1492992000000.0,1493078400000.0,1493164800000.0,1493251200000.0,1493337600000.0,1493424000000.0,1493510400000.0,1493596800000.0,1493683200000.0,1493769600000.0,1493856000000.0,1493942400000.0,1494028800000.0,1494115200000.0,1494201600000.0,1494288000000.0,1494374400000.0,1494460800000.0,1494547200000.0,1494633600000.0,1494720000000.0,1494806400000.0,1494892800000.0,1494979200000.0,1495065600000.0,1495152000000.0,1495238400000.0,1495324800000.0,1495411200000.0,1495497600000.0,1495584000000.0,1495670400000.0,1495756800000.0,1495843200000.0,1495929600000.0,1496016000000.0,1496102400000.0,1496188800000.0,1496275200000.0,1496361600000.0,1496448000000.0,1496534400000.0,1496620800000.0,1496707200000.0,1496793600000.0,1496880000000.0,1496966400000.0,1497052800000.0,1497139200000.0,1497225600000.0,1497312000000.0,1497398400000.0,1497484800000.0,1497571200000.0,1497657600000.0,1497744000000.0,1497830400000.0,1497916800000.0,1498003200000.0,1498089600000.0,1498176000000.0,1498262400000.0,1498348800000.0,1498435200000.0,1498521600000.0,1498608000000.0,1498694400000.0,1498780800000.0,1498867200000.0,1498953600000.0,1499040000000.0,1499126400000.0,1499212800000.0,1499299200000.0,1499385600000.0,1499472000000.0,1499558400000.0,1499644800000.0,1499731200000.0,1499817600000.0,1499904000000.0,1499990400000.0,1500076800000.0,1500163200000.0,1500249600000.0,1500336000000.0,1500422400000.0,1500508800000.0,1500595200000.0,1500681600000.0,1500768000000.0,1500854400000.0,1500940800000.0,1501027200000.0,1501113600000.0,1501200000000.0,1501286400000.0,1501372800000.0,1501459200000.0,1501545600000.0,1501632000000.0,1501718400000.0,1501804800000.0,1501891200000.0,1501977600000.0,1502064000000.0,1502150400000.0,1502236800000.0,1502323200000.0,1502409600000.0,1502496000000.0,1502582400000.0,1502668800000.0,1502755200000.0,1502841600000.0,1502928000000.0,1503014400000.0,1503100800000.0,1503187200000.0,1503273600000.0,1503360000000.0,1503446400000.0,1503532800000.0,1503619200000.0,1503705600000.0,1503792000000.0,1503878400000.0,1503964800000.0,1504051200000.0,1504137600000.0,1504224000000.0,1504310400000.0,1504396800000.0,1504483200000.0,1504569600000.0,1504656000000.0,1504742400000.0,1504828800000.0,1504915200000.0,1505001600000.0,1505088000000.0,1505174400000.0,1505260800000.0,1505347200000.0,1505433600000.0,1505520000000.0,1505606400000.0,1505692800000.0,1505779200000.0,1505865600000.0,1505952000000.0,1506038400000.0,1506124800000.0,1506211200000.0,1506297600000.0,1506384000000.0,1506470400000.0,1506556800000.0,1506643200000.0,1506729600000.0,1506816000000.0,1506902400000.0,1506988800000.0,1507075200000.0,1507161600000.0,1507248000000.0,1507334400000.0,1507420800000.0,1507507200000.0,1507593600000.0,1507680000000.0,1507766400000.0,1507852800000.0,1507939200000.0,1508025600000.0,1508112000000.0,1508198400000.0,1508284800000.0,1508371200000.0,1508457600000.0,1508544000000.0,1508630400000.0,1508716800000.0,1508803200000.0,1508889600000.0,1508976000000.0,1509062400000.0,1509148800000.0,1509235200000.0,1509321600000.0,1509408000000.0,1509494400000.0,1509580800000.0,1509667200000.0,1509753600000.0,1509840000000.0,1509926400000.0,1510012800000.0,1510099200000.0,1510185600000.0,1510272000000.0,1510358400000.0,1510444800000.0,1510531200000.0,1510617600000.0,1510704000000.0,1510790400000.0,1510876800000.0,1510963200000.0,1511049600000.0,1511136000000.0,1511222400000.0,1511308800000.0,1511395200000.0,1511481600000.0,1511568000000.0,1511654400000.0,1511740800000.0,1511827200000.0,1511913600000.0,1512000000000.0,1512086400000.0,1512172800000.0,1512259200000.0,1512345600000.0,1512432000000.0,1512518400000.0,1512604800000.0,1512691200000.0,1512777600000.0,1512864000000.0,1512950400000.0,1513036800000.0,1513123200000.0,1513209600000.0,1513296000000.0,1513382400000.0,1513468800000.0,1513555200000.0,1513641600000.0,1513728000000.0,1513814400000.0,1513900800000.0,1513987200000.0,1514073600000.0,1514160000000.0,1514246400000.0,1514332800000.0,1514419200000.0,1514505600000.0,1514592000000.0,1514678400000.0,1514764800000.0,1514851200000.0,1514937600000.0,1515024000000.0,1515110400000.0,1515196800000.0,1515283200000.0,1515369600000.0,1515456000000.0,1515542400000.0,1515628800000.0,1515715200000.0,1515801600000.0,1515888000000.0,1515974400000.0,1516060800000.0,1516147200000.0,1516233600000.0,1516320000000.0,1516406400000.0,1516492800000.0,1516579200000.0,1516665600000.0,1516752000000.0,1516838400000.0,1516924800000.0,1517011200000.0,1517097600000.0,1517184000000.0,1517270400000.0,1517356800000.0,1517443200000.0,1517529600000.0,1517616000000.0,1517702400000.0,1517788800000.0,1517875200000.0,1517961600000.0,1518048000000.0,1518134400000.0,1518220800000.0,1518307200000.0,1518393600000.0,1518480000000.0,1518566400000.0,1518652800000.0,1518739200000.0,1518825600000.0,1518912000000.0,1518998400000.0,1519084800000.0,1519171200000.0,1519257600000.0,1519344000000.0,1519430400000.0,1519516800000.0,1519603200000.0,1519689600000.0,1519776000000.0,1519862400000.0,1519948800000.0,1520035200000.0,1520121600000.0,1520208000000.0,1520294400000.0,1520380800000.0,1520467200000.0,1520553600000.0,1520640000000.0,1520726400000.0,1520812800000.0,1520899200000.0,1520985600000.0,1521072000000.0,1521158400000.0,1521244800000.0,1521331200000.0,1521417600000.0,1521504000000.0,1521590400000.0,1521676800000.0,1521763200000.0,1521849600000.0,1521936000000.0,1522022400000.0,1522108800000.0,1522195200000.0,1522281600000.0,1522368000000.0,1522454400000.0,1522540800000.0,1522627200000.0,1522713600000.0,1522800000000.0,1522886400000.0,1522972800000.0,1523059200000.0,1523145600000.0,1523232000000.0,1523318400000.0,1523404800000.0],\"product_count\":[4366.0,4299.0,4299.0,4299.0,4299.0,4299.0,4299.0,4299.0,4627.0,4603.0,4771.0,4742.0,4742.0,4742.0,4742.0,4742.0,5013.0,4981.0,4981.0,4981.0,4981.0,5146.0,-5000,-5000,-5000,-5000,-5000,-5000,-5000,-5000,-5000,-5000,-5000,-5000,-5000,-5000,-5000,-5000,5324.0,5541.0,5531.0,5630.0,5619.0,5628.0,5599.0,5527.0,5527.0,5527.0,5527.0,-5000,-5000,-5000,-5000,-5000,-5000,5741.0,5888.0,5835.0,5835.0,5848.0,5989.0,5880.0,5996.0,5955.0,5955.0,5958.0,6072.0,5961.0,5961.0,6043.0,5995.0,6103.0,6020.0,6020.0,6048.0,6199.0,6160.0,6393.0,5753.0,5753.0,5732.0,5460.0,5460.0,5218.0,5121.0,5077.0,5077.0,5277.0,5208.0,5208.0,5549.0,5485.0,5485.0,5842.0,5333.0,6264.0,6072.0,6072.0,6681.0,6457.0,6457.0,6585.0,6672.0,6613.0,6753.0,6602.0,6602.0,6873.0,-5000,-5000,-5000,-5000,-5000,-5000,-5000,-5000,-5000,-5000,-5000,-5000,-5000,-5000,-5000,-5000,-5000,-5000,-5000,-5000,-5000,-5000,-5000,-5000,-5000,-5000,-5000,-5000,-5000,-5000,-5000,-5000,-5000,-5000,-5000,-5000,-5000,2208.0,2184.0,2184.0,2452.0,1801.0,1798.0,2026.0,1883.0,1883.0,2062.0,1921.0,1921.0,2244.0,2202.0,2202.0,2381.0,2296.0,2296.0,3284.0,3263.0,3263.0,3480.0,3368.0,3368.0,3444.0,3452.0,3449.0,3722.0,3653.0,3653.0,3653.0,3855.0,3813.0,3813.0,3978.0,3941.0,3941.0,4111.0,4070.0,4070.0,4257.0,4232.0,4232.0,4387.0,4211.0,4211.0,4437.0,4401.0,4401.0,4510.0,4513.0,4509.0,4653.0,348.0,-5000,-5000,-5000,-5000,6043.0,6425.0,6457.0,6408.0,6494.0,6414.0,6414.0,6471.0,6264.0,6264.0,6264.0,6474.0,6569.0,6530.0,6695.0,6624.0,6623.0,6848.0,6742.0,6715.0,6942.0,6710.0,6807.0,6587.0,6587.0,6587.0,7021.0,6451.0,6468.0,6464.0,6804.0,6596.0,6596.0,6596.0,7248.0,7017.0,7017.0,7017.0,7017.0,7017.0,7451.0,7052.0,7052.0,7359.0,7162.0,7162.0,7405.0,7232.0,7232.0,7232.0,7296.0,7242.0,7700.0,7355.0,7355.0,7550.0,7405.0,7405.0,7835.0,7590.0,7590.0,7720.0,7888.0,7683.0,7683.0,7941.0,7796.0,7796.0,8062.0,7737.0,7737.0,7907.0,7036.0,7036.0,7689.0,7515.0,7515.0,8007.0,6707.0,6707.0,7866.0,6549.0,6549.0,6908.0,6184.0,6184.0,6551.0,5879.0,5879.0,6459.0,5681.0,5681.0,6082.0,5049.0,5049.0,5561.0,4923.0,4923.0,5417.0,4435.0,4435.0,-5000,-5000,-5000,-5000,-5000,-5000,4434.0,3773.0,3773.0,4167.0,-5000,-5000,-5000,-5000,-5000,4258.0,-5000,-5000,-5000,-5000,-5000,3799.0,3799.0,3799.0,3799.0,3799.0,5045.0,4093.0,4559.0,4183.0,4183.0,4461.0,4260.0,4260.0,4623.0,4421.0,4421.0,4672.0,4507.0,4507.0,4905.0,4494.0,4494.0,4852.0,4700.0,4700.0,5062.0,4733.0,4733.0,5066.0,4909.0,4909.0,5216.0,5250.0,5178.0,5164.0,5164.0,5476.0,5357.0,5572.0,5481.0,5481.0,5738.0,5607.0,5607.0,5786.0,5518.0,5469.0,5469.0,5832.0,5722.0,5978.0,5817.0,5817.0,5817.0,6127.0,6037.0,6344.0,6212.0,6212.0,6529.0,-5000,-5000,-5000,-5000,-5000,-5000,-5000,-5000,-5000,-5000,-5000,-5000,-5000,-5000,6999.0,7071.0,7037.0,7298.0,7103.0,7103.0,7103.0,7373.0,7302.0,7289.0,7726.0,7533.0,7533.0,7852.0,7610.0,7610.0,7888.0,7769.0,7788.0,8226.0,8094.0,8093.0,8386.0,8029.0,8029.0,8054.0,8343.0,8146.0,8480.0,8078.0,8078.0,8078.0,8595.0,8108.0,8108.0,8593.0,9266.0,9281.0,9540.0,9416.0,9416.0,9457.0,9394.0,9620.0,7917.0,7917.0,7917.0,8061.0,7643.0,8705.0,-5000,-5000,-5000,-5000,-5000,-5000,-5000,-5000,-5000,-5000,-5000,-5000,-5000,-5000,-5000,-5000,-5000,-5000,-5000,-5000,-5000,8894.0,8781.0,7376.0,7411.0,7521.0,5861.0,5861.0,5939.0,5630.0,5612.0,5344.0,5202.0,5002.0,5448.0,4942.0,5161.0,4709.0,4977.0,4330.0,4424.0,4199.0,4393.0,4048.0,4895.0,3603.0,3603.0,-5000,-5000,-5000,-5000,-5000,-5000,3463.0,3714.0,3199.0,-5000,-5000,-5000,-5000,-5000,-5000,-5000,4124.0,4453.0,4365.0,4384.0,4024.0,3980.0,4070.0,4312.0,4344.0,4107.0,3950.0,4197.0,4176.0,4202.0,4400.0,5008.0,4900.0,4259.0,4344.0,4547.0,4754.0,4534.0,4643.0,4912.0,4818.0,4899.0,4920.0,5075.0,5169.0,5159.0,5331.0,5140.0,5165.0,5397.0,5285.0,5312.0,5464.0,5604.0,5600.0,5606.0,5748.0,-5000,-5000,-5000,-5000,-5000,-5000,-5000,-5000,-5000,-5000,-5000,-5000,-5000,-5000,-5000,-5000,-5000,-5000,-5000,-5000,-5000,-5000,-5000,-5000,-5000,-5000,-5000,-5000,-5000,-5000,-5000,-5000,2252.0,2300.0,2452.0,2511.0,2693.0,2848.0,2879.0,2832.0,2864.0,3001.0,3047.0,3066.0,3173.0,3189.0,3157.0,3244.0,3327.0,3386.0,3413.0,3374.0,3676.0,3612.0,3635.0,3727.0,3785.0,3801.0,3955.0,3994.0,4012.0,3942.0,4081.0,4067.0,-5000,-5000,-5000,-5000,-5000,-5000,-5000,4347.0,4268.0,4599.0,4595.0,4566.0,4627.0,4604.0,4715.0,4845.0,4845.0,4727.0,4780.0,-5000,-5000,-5000,-5000,-5000,-5000,-5000,-5000,-5000,-5000,-5000,-5000,-5000,-5000,-5000,-5000,-5000,-5000,-5000,-5000,6735.0,6568.0,6766.0,6627.0,6661.0,6503.0,6283.0,5770.0,5695.0,5607.0,5951.0,6245.0,-5000,-5000,-5000,-5000,-5000,-5000,-5000,2203.0,2054.0,1727.0,1988.0,2704.0,2453.0,-5000,-5000,-5000,-5000,-5000,-5000,-5000,-5000,-5000,3103.0,3418.0,2854.0,2585.0,2585.0,3331.0,3285.0,3182.0,3168.0,3598.0,3763.0,4069.0,3459.0,4029.0,3657.0,3464.0,3270.0,3270.0,3270.0,3270.0,3981.0,4134.0,3981.0,4085.0,4131.0,4308.0,4399.0,4496.0,4571.0,4580.0,4578.0,4733.0,4803.0,4915.0,5069.0,5120.0,5106.0,5057.0,5129.0,5284.0,5517.0,5554.0,5556.0,5558.0,5484.0,5532.0,5646.0,5837.0,5943.0,5959.0,5959.0,6063.0,6008.0,6076.0,6185.0,6267.0,6263.0,6248.0,6339.0,6359.0,6431.0,6572.0,6609.0,6662.0,6697.0,6750.0,6820.0,6787.0,6933.0,6953.0,6952.0,6965.0,7053.0,7079.0,7192.0,7199.0,7348.0,7319.0,7217.0,7391.0,7442.0,7518.0,7754.0,7738.0,7788.0,7721.0,7835.0,7903.0,8023.0,8178.0,8238.0,8238.0,8273.0,8262.0,8385.0,8395.0,8571.0,8573.0,8590.0,8574.0,8592.0,8637.0,8705.0,8844.0,8870.0,8891.0,8890.0,8898.0,8850.0,9166.0,9185.0,9242.0,9249.0,9311.0,9380.0,9389.0,-5000,-5000,-5000,-5000,-5000,-5000,-5000,-5000,-5000,-5000,-5000,-5000,-5000,-5000,-5000,-5000,-5000,11343.0,11013.0,10843.0,10782.0,10741.0,10922.0,10979.0,10899.0,10900.0,10972.0,11214.0,11207.0,-5000,-5000,-5000,-5000,-5000,-5000,9346.0,8659.0,8731.0,8533.0,9227.0,9101.0,8816.0,8422.0,8429.0,8090.0,8010.0,7321.0,7206.0,7466.0,7371.0,7472.0,7262.0,7022.0,6339.0,6041.0,6036.0,6235.0,6223.0,6710.0,6002.0,5093.0,5059.0,5166.0,5206.0,5640.0,5603.0,4924.0,4924.0,4924.0,5533.0,5535.0,5761.0,5885.0,5272.0,5259.0,5099.0,5431.0,5495.0,6028.0,5040.0,5170.0,5200.0,5280.0,5032.0,5347.0,5409.0,5387.0,5343.0,5254.0,5617.0,5450.0,5377.0,5839.0,5877.0,5772.0,5909.0,5857.0,5794.0,5908.0,6145.0,6242.0,6251.0,6244.0,6303.0,6378.0,6481.0,6642.0,6559.0,6466.0,6478.0,6613.0,6666.0,6701.0,6744.0,6493.0,6495.0,6585.0,6672.0,6721.0,6761.0,6874.0,7055.0,7066.0,7036.0,7077.0,7138.0,7042.0,7151.0,7890.0,8017.0,8006.0,8071.0,8025.0,8112.0,8210.0,8256.0,8259.0,8189.0,8316.0,8372.0,8398.0,8671.0,8714.0,8747.0,8763.0,8776.0,8806.0,8802.0,8962.0,8976.0,8689.0,8689.0,8689.0,8689.0,8689.0,9324.0,9283.0,9148.0,9423.0,9207.0,9207.0,9207.0,9207.0,9207.0,9207.0,9207.0,9802.0,9694.0,9884.0,9725.0,10095.0,9906.0,10040.0,9622.0,9622.0,9622.0,9622.0,9622.0,9622.0,9622.0,10098.0,10012.0,10141.0,9915.0,10466.0,10235.0,10424.0,10257.0,10411.0,10216.0,10216.0,10540.0,10351.0,10585.0,10373.0,10505.0,10392.0,10635.0,9484.0,10622.0,10468.0,10764.0,10570.0,10989.0,10702.0,10960.0,10658.0,10865.0,10573.0,10706.0,9374.0,9915.0,8582.0,8822.0,7748.0,7748.0,7748.0,8149.0,6940.0,7380.0,6692.0,6955.0,6246.0,6246.0,6246.0,7019.0,6129.0,6524.0,5978.0,6394.0,6188.0,7741.0,6116.0,7493.0,6433.0,6748.0,5417.0,5836.0,5264.0,6231.0,5479.0,6525.0,5788.0,6481.0,6122.0,7020.0,6234.0,7743.0,5997.0,6239.0,5965.0,5965.0,6964.0,5905.0,6562.0,5945.0,6183.0,6017.0,6301.0,6192.0,7261.0,6675.0,7088.0,6674.0,7296.0,6688.0,6796.0,6610.0,7056.0,6924.0,7059.0,6992.0,7277.0,7183.0,7669.0,7553.0,7849.0,7570.0,7845.0,7786.0,8115.0,7914.0,7914.0,8310.0,8194.0,8398.0,8335.0,8538.0,8480.0,8863.0,8784.0,8964.0,8902.0,9097.0,8969.0,8969.0,8969.0,9351.0,9272.0,9608.0,9370.0,9370.0,9370.0,9370.0,9370.0,9370.0,9370.0,10195.0,10105.0,10569.0,10438.0,10560.0,10449.0,10672.0,10569.0,10569.0,11036.0,10897.0,11089.0,10978.0,11240.0,11174.0,-5000,-5000,-5000,-5000,-5000,-5000,-5000,-5000,-5000,-5000,-5000,-5000,-5000,-5000,-5000,-5000,-5000,-5000,11179.0,11179.0,12646.0,12372.0,12372.0,12372.0,12372.0,12372.0,12372.0,13184.0,13073.0,13333.0,13249.0,13472.0,13365.0,13491.0,13409.0,13679.0,13535.0,13761.0,13589.0,13750.0,13654.0,13845.0,13378.0,13449.0,12386.0,11909.0,11845.0,12210.0,12122.0,13024.0,12840.0,14244.0,13922.0,14214.0,14002.0,14104.0,14026.0,14729.0,14180.0,14368.0,13116.0,14081.0,13887.0,14473.0,14109.0,14433.0,14134.0,14302.0,14067.0,14321.0,14040.0,14380.0,14092.0,14362.0,14063.0,14132.0,10094.0,10094.0,10094.0,10094.0,10094.0,10094.0,10094.0,10094.0,10094.0,10094.0,10355.0,9360.0,9722.0,9224.0,9718.0,9103.0,10263.0,8409.0,8771.0,7916.0,8217.0,7721.0,8959.0,6917.0,7433.0,6453.0,6924.0,6466.0,7336.0,6582.0,8174.0,5937.0,6521.0,5870.0,6248.0,6077.0,7334.0,7181.0,5869.0,6223.0,5711.0,6148.0,5511.0,5511.0,5511.0,6610.0,5838.0,6246.0,5911.0,6322.0,5856.0,6408.0,5916.0,6037.0,5963.0,6335.0,6227.0,6807.0,6171.0,6466.0,6410.0,6765.0,6683.0,7162.0,6916.0,7368.0,7033.0,7142.0,7081.0,7274.0,7209.0,7465.0,7408.0,7806.0,7714.0,7904.0,7863.0,8179.0,8061.0,8530.0,8295.0,8430.0,8348.0,8548.0,8501.0,8714.0,8577.0,8961.0,8830.0,9055.0,8947.0,8947.0,8947.0,9564.0,9383.0,9526.0,9416.0,9219.0,9219.0,9219.0,9663.0,9495.0,9726.0,9616.0,9882.0,9855.0,10093.0]},\"selected\":{\"id\":\"5137\",\"type\":\"Selection\"},\"selection_policy\":{\"id\":\"5138\",\"type\":\"UnionRenderers\"}},\"id\":\"4908\",\"type\":\"ColumnDataSource\"},{\"attributes\":{\"days\":[1,8,15,22]},\"id\":\"5428\",\"type\":\"DaysTicker\"},{\"attributes\":{\"line_color\":\"#1f77b4\",\"line_width\":2,\"x\":{\"field\":\"price_date\"},\"y\":{\"field\":\"product_count\"}},\"id\":\"5224\",\"type\":\"Line\"},{\"attributes\":{},\"id\":\"5208\",\"type\":\"PanTool\"},{\"attributes\":{\"days\":[1,15]},\"id\":\"5429\",\"type\":\"DaysTicker\"},{\"attributes\":{\"formatter\":{\"id\":\"5419\",\"type\":\"BasicTickFormatter\"},\"plot\":{\"id\":\"5188\",\"subtype\":\"Figure\",\"type\":\"Plot\"},\"ticker\":{\"id\":\"5204\",\"type\":\"BasicTicker\"}},\"id\":\"5203\",\"type\":\"LinearAxis\"},{\"attributes\":{\"months\":[0,1,2,3,4,5,6,7,8,9,10,11]},\"id\":\"5430\",\"type\":\"MonthsTicker\"},{\"attributes\":{\"callback\":null},\"id\":\"5192\",\"type\":\"DataRange1d\"},{\"attributes\":{},\"id\":\"5137\",\"type\":\"Selection\"},{\"attributes\":{\"months\":[0,2,4,6,8,10]},\"id\":\"5431\",\"type\":\"MonthsTicker\"}],\"root_ids\":[\"5188\"]},\"title\":\"Bokeh Application\",\"version\":\"1.0.2\"}};\n",
       "  var render_items = [{\"docid\":\"e2514e89-f503-46cc-839b-412a7d1d3b2c\",\"roots\":{\"5188\":\"b8c6aaa4-8bd5-4121-89b5-80ee3270fc1c\"}}];\n",
       "  root.Bokeh.embed.embed_items_notebook(docs_json, render_items);\n",
       "\n",
       "  }\n",
       "  if (root.Bokeh !== undefined) {\n",
       "    embed_document(root);\n",
       "  } else {\n",
       "    var attempts = 0;\n",
       "    var timer = setInterval(function(root) {\n",
       "      if (root.Bokeh !== undefined) {\n",
       "        embed_document(root);\n",
       "        clearInterval(timer);\n",
       "      }\n",
       "      attempts++;\n",
       "      if (attempts > 100) {\n",
       "        console.log(\"Bokeh: ERROR: Unable to run BokehJS code because BokehJS library is missing\");\n",
       "        clearInterval(timer);\n",
       "      }\n",
       "    }, 10, root)\n",
       "  }\n",
       "})(window);"
      ],
      "application/vnd.bokehjs_exec.v0+json": ""
     },
     "metadata": {
      "application/vnd.bokehjs_exec.v0+json": {
       "id": "5188"
      }
     },
     "output_type": "display_data"
    }
   ],
   "source": [
    "p = figure(plot_width=800, plot_height=400, x_axis_type='datetime', title=\"Zara - Historic chart\")\n",
    "\n",
    "p.line('price_date', 'product_count', line_width=2, source=source)\n",
    "\n",
    "p.xaxis.major_label_text_font_size = \"10pt\"\n",
    "p.xaxis.major_label_orientation = 1\n",
    "\n",
    "show(p) # show the results"
   ]
  },
  {
   "cell_type": "markdown",
   "metadata": {
    "slideshow": {
     "slide_type": "subslide"
    }
   },
   "source": [
    "Step 4: Remove the holes"
   ]
  },
  {
   "cell_type": "code",
   "execution_count": 30,
   "metadata": {
    "scrolled": false,
    "slideshow": {
     "slide_type": "-"
    }
   },
   "outputs": [
    {
     "data": {
      "text/html": [
       "\n",
       "\n",
       "\n",
       "\n",
       "\n",
       "\n",
       "  <div class=\"bk-root\" id=\"1f7d7d76-5b6b-40e6-8d37-21aa1ee9d94b\"></div>\n"
      ]
     },
     "metadata": {},
     "output_type": "display_data"
    },
    {
     "data": {
      "application/javascript": [
       "(function(root) {\n",
       "  function embed_document(root) {\n",
       "    \n",
       "  var docs_json = {\"92586df4-d581-45fc-b855-469f6c1a33ed\":{\"roots\":{\"references\":[{\"attributes\":{\"below\":[{\"id\":\"5569\",\"type\":\"DatetimeAxis\"}],\"left\":[{\"id\":\"5574\",\"type\":\"LinearAxis\"}],\"plot_height\":400,\"plot_width\":800,\"renderers\":[{\"id\":\"5569\",\"type\":\"DatetimeAxis\"},{\"id\":\"5573\",\"type\":\"Grid\"},{\"id\":\"5574\",\"type\":\"LinearAxis\"},{\"id\":\"5578\",\"type\":\"Grid\"},{\"id\":\"5587\",\"type\":\"BoxAnnotation\"},{\"id\":\"5597\",\"type\":\"GlyphRenderer\"}],\"title\":{\"id\":\"5558\",\"type\":\"Title\"},\"toolbar\":{\"id\":\"5585\",\"type\":\"Toolbar\"},\"x_range\":{\"id\":\"5561\",\"type\":\"DataRange1d\"},\"x_scale\":{\"id\":\"5565\",\"type\":\"LinearScale\"},\"y_range\":{\"id\":\"5563\",\"type\":\"DataRange1d\"},\"y_scale\":{\"id\":\"5567\",\"type\":\"LinearScale\"}},\"id\":\"5559\",\"subtype\":\"Figure\",\"type\":\"Plot\"},{\"attributes\":{},\"id\":\"5579\",\"type\":\"PanTool\"},{\"attributes\":{\"months\":[0,2,4,6,8,10]},\"id\":\"5822\",\"type\":\"MonthsTicker\"},{\"attributes\":{\"base\":60,\"mantissas\":[1,2,5,10,15,20,30],\"max_interval\":1800000.0,\"min_interval\":1000.0,\"num_minor_ticks\":0},\"id\":\"5815\",\"type\":\"AdaptiveTicker\"},{\"attributes\":{},\"id\":\"5580\",\"type\":\"WheelZoomTool\"},{\"attributes\":{\"months\":[0,4,8]},\"id\":\"5823\",\"type\":\"MonthsTicker\"},{\"attributes\":{\"overlay\":{\"id\":\"5587\",\"type\":\"BoxAnnotation\"}},\"id\":\"5581\",\"type\":\"BoxZoomTool\"},{\"attributes\":{\"months\":[0,6]},\"id\":\"5824\",\"type\":\"MonthsTicker\"},{\"attributes\":{},\"id\":\"5582\",\"type\":\"SaveTool\"},{\"attributes\":{},\"id\":\"5825\",\"type\":\"YearsTicker\"},{\"attributes\":{},\"id\":\"5583\",\"type\":\"ResetTool\"},{\"attributes\":{},\"id\":\"5826\",\"type\":\"Selection\"},{\"attributes\":{\"line_alpha\":0.1,\"line_color\":\"#1f77b4\",\"line_width\":2,\"x\":{\"field\":\"price_date\"},\"y\":{\"field\":\"product_count\"}},\"id\":\"5596\",\"type\":\"Line\"},{\"attributes\":{},\"id\":\"5584\",\"type\":\"HelpTool\"},{\"attributes\":{\"plot\":null,\"text\":\"Webshop X - Historic chart\"},\"id\":\"5558\",\"type\":\"Title\"},{\"attributes\":{},\"id\":\"5827\",\"type\":\"UnionRenderers\"},{\"attributes\":{\"callback\":null},\"id\":\"5561\",\"type\":\"DataRange1d\"},{\"attributes\":{\"callback\":null},\"id\":\"5563\",\"type\":\"DataRange1d\"},{\"attributes\":{\"bottom_units\":\"screen\",\"fill_alpha\":{\"value\":0.5},\"fill_color\":{\"value\":\"lightgrey\"},\"left_units\":\"screen\",\"level\":\"overlay\",\"line_alpha\":{\"value\":1.0},\"line_color\":{\"value\":\"black\"},\"line_dash\":[4,4],\"line_width\":{\"value\":2},\"plot\":null,\"render_mode\":\"css\",\"right_units\":\"screen\",\"top_units\":\"screen\"},\"id\":\"5587\",\"type\":\"BoxAnnotation\"},{\"attributes\":{},\"id\":\"5565\",\"type\":\"LinearScale\"},{\"attributes\":{\"data_source\":{\"id\":\"5557\",\"type\":\"ColumnDataSource\"},\"glyph\":{\"id\":\"5595\",\"type\":\"Line\"},\"hover_glyph\":null,\"muted_glyph\":null,\"nonselection_glyph\":{\"id\":\"5596\",\"type\":\"Line\"},\"selection_glyph\":null,\"view\":{\"id\":\"5598\",\"type\":\"CDSView\"}},\"id\":\"5597\",\"type\":\"GlyphRenderer\"},{\"attributes\":{},\"id\":\"5567\",\"type\":\"LinearScale\"},{\"attributes\":{\"source\":{\"id\":\"5557\",\"type\":\"ColumnDataSource\"}},\"id\":\"5598\",\"type\":\"CDSView\"},{\"attributes\":{\"formatter\":{\"id\":\"5812\",\"type\":\"DatetimeTickFormatter\"},\"plot\":{\"id\":\"5559\",\"subtype\":\"Figure\",\"type\":\"Plot\"},\"ticker\":{\"id\":\"5570\",\"type\":\"DatetimeTicker\"}},\"id\":\"5569\",\"type\":\"DatetimeAxis\"},{\"attributes\":{\"num_minor_ticks\":5,\"tickers\":[{\"id\":\"5814\",\"type\":\"AdaptiveTicker\"},{\"id\":\"5815\",\"type\":\"AdaptiveTicker\"},{\"id\":\"5816\",\"type\":\"AdaptiveTicker\"},{\"id\":\"5817\",\"type\":\"DaysTicker\"},{\"id\":\"5818\",\"type\":\"DaysTicker\"},{\"id\":\"5819\",\"type\":\"DaysTicker\"},{\"id\":\"5820\",\"type\":\"DaysTicker\"},{\"id\":\"5821\",\"type\":\"MonthsTicker\"},{\"id\":\"5822\",\"type\":\"MonthsTicker\"},{\"id\":\"5823\",\"type\":\"MonthsTicker\"},{\"id\":\"5824\",\"type\":\"MonthsTicker\"},{\"id\":\"5825\",\"type\":\"YearsTicker\"}]},\"id\":\"5570\",\"type\":\"DatetimeTicker\"},{\"attributes\":{},\"id\":\"5812\",\"type\":\"DatetimeTickFormatter\"},{\"attributes\":{\"callback\":null,\"data\":{\"price_date\":[1410220800000.0,1410307200000.0,1410393600000.0,1410480000000.0,1410566400000.0,1410652800000.0,1410739200000.0,1410825600000.0,1410912000000.0,1410998400000.0,1411084800000.0,1411171200000.0,1411257600000.0,1411344000000.0,1411430400000.0,1411516800000.0,1411603200000.0,1411689600000.0,1411776000000.0,1411862400000.0,1411948800000.0,1412035200000.0,1413504000000.0,1413590400000.0,1413676800000.0,1413763200000.0,1413849600000.0,1413936000000.0,1414022400000.0,1414108800000.0,1414195200000.0,1414281600000.0,1414368000000.0,1414972800000.0,1415059200000.0,1415145600000.0,1415232000000.0,1415318400000.0,1415404800000.0,1415491200000.0,1415577600000.0,1415664000000.0,1415750400000.0,1415836800000.0,1415923200000.0,1416009600000.0,1416096000000.0,1416182400000.0,1416268800000.0,1416355200000.0,1416441600000.0,1416528000000.0,1416614400000.0,1416700800000.0,1416787200000.0,1416873600000.0,1416960000000.0,1417046400000.0,1417132800000.0,1417219200000.0,1417305600000.0,1417392000000.0,1417478400000.0,1417564800000.0,1417651200000.0,1417737600000.0,1417824000000.0,1417910400000.0,1417996800000.0,1418083200000.0,1418169600000.0,1418256000000.0,1418342400000.0,1418428800000.0,1418515200000.0,1418601600000.0,1418688000000.0,1418774400000.0,1418860800000.0,1418947200000.0,1419033600000.0,1419120000000.0,1419206400000.0,1419292800000.0,1419379200000.0,1419465600000.0,1422748800000.0,1422835200000.0,1422921600000.0,1423008000000.0,1423094400000.0,1423180800000.0,1423267200000.0,1423353600000.0,1423440000000.0,1423526400000.0,1423612800000.0,1423699200000.0,1423785600000.0,1423872000000.0,1423958400000.0,1424044800000.0,1424131200000.0,1424217600000.0,1424304000000.0,1424390400000.0,1424476800000.0,1424563200000.0,1424649600000.0,1424736000000.0,1424822400000.0,1424908800000.0,1424995200000.0,1425081600000.0,1425168000000.0,1425254400000.0,1425340800000.0,1425427200000.0,1425513600000.0,1425600000000.0,1425686400000.0,1425772800000.0,1425859200000.0,1425945600000.0,1426032000000.0,1426118400000.0,1426204800000.0,1426291200000.0,1426377600000.0,1426464000000.0,1426550400000.0,1426636800000.0,1426723200000.0,1426809600000.0,1426896000000.0,1426982400000.0,1427068800000.0,1427155200000.0,1427241600000.0,1427328000000.0,1427760000000.0,1427846400000.0,1427932800000.0,1428019200000.0,1428105600000.0,1428192000000.0,1428278400000.0,1428364800000.0,1428451200000.0,1428537600000.0,1428624000000.0,1428710400000.0,1428796800000.0,1428883200000.0,1428969600000.0,1429056000000.0,1429142400000.0,1429228800000.0,1429315200000.0,1429401600000.0,1429488000000.0,1429574400000.0,1429660800000.0,1429747200000.0,1429833600000.0,1429920000000.0,1430006400000.0,1430092800000.0,1430179200000.0,1430265600000.0,1430352000000.0,1430438400000.0,1430524800000.0,1430611200000.0,1430697600000.0,1430784000000.0,1430870400000.0,1430956800000.0,1431043200000.0,1431129600000.0,1431216000000.0,1431302400000.0,1431388800000.0,1431475200000.0,1431561600000.0,1431648000000.0,1431734400000.0,1431820800000.0,1431907200000.0,1431993600000.0,1432080000000.0,1432166400000.0,1432252800000.0,1432339200000.0,1432425600000.0,1432512000000.0,1432598400000.0,1432684800000.0,1432771200000.0,1432857600000.0,1432944000000.0,1433030400000.0,1433116800000.0,1433203200000.0,1433289600000.0,1433376000000.0,1433462400000.0,1433548800000.0,1433635200000.0,1433721600000.0,1433808000000.0,1433894400000.0,1433980800000.0,1434067200000.0,1434153600000.0,1434240000000.0,1434326400000.0,1434412800000.0,1434499200000.0,1434585600000.0,1434672000000.0,1434758400000.0,1434844800000.0,1434931200000.0,1435017600000.0,1435104000000.0,1435190400000.0,1435276800000.0,1435363200000.0,1435449600000.0,1435536000000.0,1435622400000.0,1435708800000.0,1435795200000.0,1435881600000.0,1435968000000.0,1436054400000.0,1436140800000.0,1436227200000.0,1436313600000.0,1436400000000.0,1437004800000.0,1437091200000.0,1437177600000.0,1437264000000.0,1437782400000.0,1438300800000.0,1438387200000.0,1438473600000.0,1438560000000.0,1438646400000.0,1438732800000.0,1438819200000.0,1438905600000.0,1438992000000.0,1439078400000.0,1439164800000.0,1439251200000.0,1439337600000.0,1439424000000.0,1439510400000.0,1439596800000.0,1439683200000.0,1439769600000.0,1439856000000.0,1439942400000.0,1440028800000.0,1440115200000.0,1440201600000.0,1440288000000.0,1440374400000.0,1440460800000.0,1440547200000.0,1440633600000.0,1440720000000.0,1440806400000.0,1440892800000.0,1440979200000.0,1441065600000.0,1441152000000.0,1441238400000.0,1441324800000.0,1441411200000.0,1441497600000.0,1441584000000.0,1441670400000.0,1441756800000.0,1441843200000.0,1441929600000.0,1442016000000.0,1442102400000.0,1442188800000.0,1442275200000.0,1442361600000.0,1442448000000.0,1442534400000.0,1442620800000.0,1442707200000.0,1442793600000.0,1442880000000.0,1442966400000.0,1443052800000.0,1443139200000.0,1443225600000.0,1443312000000.0,1443398400000.0,1444694400000.0,1444780800000.0,1444867200000.0,1444953600000.0,1445040000000.0,1445126400000.0,1445212800000.0,1445299200000.0,1445385600000.0,1445472000000.0,1445558400000.0,1445644800000.0,1445731200000.0,1445817600000.0,1445904000000.0,1445990400000.0,1446076800000.0,1446163200000.0,1446249600000.0,1446336000000.0,1446422400000.0,1446508800000.0,1446595200000.0,1446681600000.0,1446768000000.0,1446854400000.0,1446940800000.0,1447027200000.0,1447113600000.0,1447200000000.0,1447286400000.0,1447372800000.0,1447459200000.0,1447545600000.0,1447632000000.0,1447718400000.0,1447804800000.0,1447891200000.0,1447977600000.0,1448064000000.0,1448150400000.0,1448236800000.0,1448323200000.0,1448409600000.0,1448496000000.0,1448582400000.0,1448668800000.0,1448755200000.0,1448841600000.0,1448928000000.0,1450828800000.0,1450915200000.0,1451001600000.0,1451088000000.0,1451174400000.0,1451260800000.0,1451347200000.0,1451433600000.0,1451520000000.0,1451606400000.0,1451692800000.0,1451779200000.0,1451865600000.0,1451952000000.0,1452038400000.0,1452124800000.0,1452211200000.0,1452297600000.0,1452384000000.0,1452470400000.0,1452556800000.0,1452643200000.0,1452729600000.0,1452816000000.0,1452902400000.0,1452988800000.0,1453593600000.0,1453680000000.0,1453766400000.0,1454457600000.0,1454544000000.0,1454630400000.0,1454716800000.0,1454803200000.0,1454889600000.0,1454976000000.0,1455062400000.0,1455148800000.0,1455235200000.0,1455321600000.0,1455408000000.0,1455494400000.0,1455580800000.0,1455667200000.0,1455753600000.0,1455840000000.0,1455926400000.0,1456012800000.0,1456099200000.0,1456185600000.0,1456272000000.0,1456358400000.0,1456444800000.0,1456531200000.0,1456617600000.0,1456704000000.0,1456790400000.0,1456876800000.0,1456963200000.0,1457049600000.0,1457136000000.0,1457222400000.0,1457308800000.0,1457395200000.0,1457481600000.0,1457568000000.0,1457654400000.0,1457740800000.0,1457827200000.0,1457913600000.0,1460764800000.0,1460851200000.0,1460937600000.0,1461024000000.0,1461110400000.0,1461196800000.0,1461283200000.0,1461369600000.0,1461456000000.0,1461542400000.0,1461628800000.0,1461715200000.0,1461801600000.0,1461888000000.0,1461974400000.0,1462060800000.0,1462147200000.0,1462233600000.0,1462320000000.0,1462406400000.0,1462492800000.0,1462579200000.0,1462665600000.0,1462752000000.0,1462838400000.0,1462924800000.0,1463011200000.0,1463097600000.0,1463184000000.0,1463270400000.0,1463356800000.0,1463443200000.0,1464134400000.0,1464220800000.0,1464307200000.0,1464393600000.0,1464480000000.0,1464566400000.0,1464652800000.0,1464739200000.0,1464825600000.0,1464912000000.0,1464998400000.0,1465084800000.0,1466899200000.0,1466985600000.0,1467072000000.0,1467158400000.0,1467244800000.0,1467331200000.0,1467417600000.0,1467504000000.0,1467590400000.0,1467676800000.0,1467763200000.0,1467849600000.0,1468540800000.0,1468627200000.0,1468713600000.0,1468800000000.0,1468886400000.0,1468972800000.0,1469836800000.0,1469923200000.0,1470009600000.0,1470096000000.0,1470182400000.0,1470268800000.0,1470355200000.0,1470441600000.0,1470528000000.0,1470614400000.0,1470700800000.0,1470787200000.0,1470873600000.0,1470960000000.0,1471046400000.0,1471132800000.0,1471219200000.0,1471305600000.0,1471392000000.0,1471478400000.0,1471564800000.0,1471651200000.0,1471737600000.0,1471824000000.0,1471910400000.0,1471996800000.0,1472083200000.0,1472169600000.0,1472256000000.0,1472342400000.0,1472428800000.0,1472515200000.0,1472601600000.0,1472688000000.0,1472774400000.0,1472860800000.0,1472947200000.0,1473033600000.0,1473120000000.0,1473206400000.0,1473292800000.0,1473379200000.0,1473465600000.0,1473552000000.0,1473638400000.0,1473724800000.0,1473811200000.0,1473897600000.0,1473984000000.0,1474070400000.0,1474156800000.0,1474243200000.0,1474329600000.0,1474416000000.0,1474502400000.0,1474588800000.0,1474675200000.0,1474761600000.0,1474848000000.0,1474934400000.0,1475020800000.0,1475107200000.0,1475193600000.0,1475280000000.0,1475366400000.0,1475452800000.0,1475539200000.0,1475625600000.0,1475712000000.0,1475798400000.0,1475884800000.0,1475971200000.0,1476057600000.0,1476144000000.0,1476230400000.0,1476316800000.0,1476403200000.0,1476489600000.0,1476576000000.0,1476662400000.0,1476748800000.0,1476835200000.0,1476921600000.0,1477008000000.0,1477094400000.0,1477180800000.0,1477267200000.0,1477353600000.0,1477440000000.0,1477526400000.0,1477612800000.0,1477699200000.0,1477785600000.0,1477872000000.0,1477958400000.0,1478044800000.0,1478131200000.0,1478217600000.0,1478304000000.0,1478390400000.0,1478476800000.0,1478563200000.0,1478649600000.0,1478736000000.0,1478822400000.0,1478908800000.0,1478995200000.0,1479081600000.0,1479168000000.0,1479254400000.0,1479340800000.0,1479427200000.0,1479513600000.0,1479600000000.0,1479686400000.0,1479772800000.0,1481328000000.0,1481414400000.0,1481500800000.0,1481587200000.0,1481673600000.0,1481760000000.0,1481846400000.0,1481932800000.0,1482019200000.0,1482105600000.0,1482192000000.0,1482278400000.0,1482883200000.0,1482969600000.0,1483056000000.0,1483142400000.0,1483228800000.0,1483315200000.0,1483401600000.0,1483488000000.0,1483574400000.0,1483660800000.0,1483747200000.0,1483833600000.0,1483920000000.0,1484006400000.0,1484092800000.0,1484179200000.0,1484265600000.0,1484352000000.0,1484438400000.0,1484524800000.0,1484611200000.0,1484697600000.0,1484784000000.0,1484870400000.0,1484956800000.0,1485043200000.0,1485129600000.0,1485216000000.0,1485302400000.0,1485388800000.0,1485475200000.0,1485561600000.0,1485648000000.0,1485734400000.0,1485820800000.0,1485907200000.0,1485993600000.0,1486080000000.0,1486166400000.0,1486252800000.0,1486339200000.0,1486425600000.0,1486512000000.0,1486598400000.0,1486684800000.0,1486771200000.0,1486857600000.0,1486944000000.0,1487030400000.0,1487116800000.0,1487203200000.0,1487289600000.0,1487376000000.0,1487462400000.0,1487548800000.0,1487635200000.0,1487721600000.0,1487808000000.0,1487894400000.0,1487980800000.0,1488067200000.0,1488153600000.0,1488240000000.0,1488326400000.0,1488412800000.0,1488499200000.0,1488585600000.0,1488672000000.0,1488758400000.0,1488844800000.0,1488931200000.0,1489017600000.0,1489104000000.0,1489190400000.0,1489276800000.0,1489363200000.0,1489449600000.0,1489536000000.0,1489622400000.0,1489708800000.0,1489795200000.0,1489881600000.0,1489968000000.0,1490054400000.0,1490140800000.0,1490227200000.0,1490313600000.0,1490400000000.0,1490486400000.0,1490572800000.0,1490659200000.0,1490745600000.0,1490832000000.0,1490918400000.0,1491004800000.0,1491091200000.0,1491177600000.0,1491264000000.0,1491350400000.0,1491436800000.0,1491523200000.0,1491609600000.0,1491696000000.0,1491782400000.0,1491868800000.0,1491955200000.0,1492041600000.0,1492128000000.0,1492214400000.0,1492300800000.0,1492387200000.0,1492473600000.0,1492560000000.0,1492646400000.0,1492732800000.0,1492819200000.0,1492905600000.0,1492992000000.0,1493078400000.0,1493164800000.0,1493251200000.0,1493337600000.0,1493424000000.0,1493510400000.0,1493596800000.0,1493683200000.0,1493769600000.0,1493856000000.0,1493942400000.0,1494028800000.0,1494115200000.0,1494201600000.0,1494288000000.0,1494374400000.0,1494460800000.0,1494547200000.0,1494633600000.0,1494720000000.0,1494806400000.0,1494892800000.0,1494979200000.0,1495065600000.0,1495152000000.0,1495238400000.0,1495324800000.0,1495411200000.0,1495497600000.0,1495584000000.0,1495670400000.0,1495756800000.0,1495843200000.0,1495929600000.0,1496016000000.0,1496102400000.0,1496188800000.0,1496275200000.0,1496361600000.0,1496448000000.0,1496534400000.0,1496620800000.0,1496707200000.0,1496793600000.0,1496880000000.0,1496966400000.0,1497052800000.0,1497139200000.0,1497225600000.0,1497312000000.0,1497398400000.0,1497484800000.0,1497571200000.0,1497657600000.0,1497744000000.0,1497830400000.0,1497916800000.0,1498003200000.0,1498089600000.0,1498176000000.0,1498262400000.0,1498348800000.0,1498435200000.0,1498521600000.0,1498608000000.0,1498694400000.0,1498780800000.0,1498867200000.0,1498953600000.0,1499040000000.0,1499126400000.0,1499212800000.0,1499299200000.0,1499385600000.0,1499472000000.0,1499558400000.0,1499644800000.0,1499731200000.0,1499817600000.0,1499904000000.0,1499990400000.0,1500076800000.0,1500163200000.0,1500249600000.0,1500336000000.0,1500422400000.0,1500508800000.0,1500595200000.0,1500681600000.0,1500768000000.0,1500854400000.0,1500940800000.0,1501027200000.0,1501113600000.0,1501200000000.0,1501286400000.0,1501372800000.0,1501459200000.0,1501545600000.0,1501632000000.0,1501718400000.0,1501804800000.0,1501891200000.0,1501977600000.0,1502064000000.0,1502150400000.0,1502236800000.0,1502323200000.0,1502409600000.0,1502496000000.0,1502582400000.0,1502668800000.0,1502755200000.0,1502841600000.0,1502928000000.0,1503014400000.0,1503100800000.0,1503187200000.0,1503273600000.0,1503360000000.0,1503446400000.0,1503532800000.0,1503619200000.0,1503705600000.0,1503792000000.0,1503878400000.0,1503964800000.0,1504051200000.0,1504137600000.0,1504224000000.0,1504310400000.0,1504396800000.0,1504483200000.0,1504569600000.0,1504656000000.0,1504742400000.0,1504828800000.0,1504915200000.0,1505001600000.0,1505088000000.0,1505174400000.0,1505260800000.0,1505347200000.0,1505433600000.0,1505520000000.0,1505606400000.0,1505692800000.0,1505779200000.0,1505865600000.0,1505952000000.0,1506038400000.0,1506124800000.0,1506211200000.0,1506297600000.0,1506384000000.0,1506470400000.0,1506556800000.0,1506643200000.0,1506729600000.0,1506816000000.0,1506902400000.0,1506988800000.0,1507075200000.0,1507161600000.0,1507248000000.0,1507334400000.0,1507420800000.0,1507507200000.0,1507593600000.0,1509235200000.0,1509321600000.0,1509408000000.0,1509494400000.0,1509580800000.0,1509667200000.0,1509753600000.0,1509840000000.0,1509926400000.0,1510012800000.0,1510099200000.0,1510185600000.0,1510272000000.0,1510358400000.0,1510444800000.0,1510531200000.0,1510617600000.0,1510704000000.0,1510790400000.0,1510876800000.0,1510963200000.0,1511049600000.0,1511136000000.0,1511222400000.0,1511308800000.0,1511395200000.0,1511481600000.0,1511568000000.0,1511654400000.0,1511740800000.0,1511827200000.0,1511913600000.0,1512000000000.0,1512086400000.0,1512172800000.0,1512259200000.0,1512345600000.0,1512432000000.0,1512518400000.0,1512604800000.0,1512691200000.0,1512777600000.0,1512864000000.0,1512950400000.0,1513036800000.0,1513123200000.0,1513209600000.0,1513296000000.0,1513382400000.0,1513468800000.0,1513555200000.0,1513641600000.0,1513728000000.0,1513814400000.0,1513900800000.0,1513987200000.0,1514073600000.0,1514160000000.0,1514246400000.0,1514332800000.0,1514419200000.0,1514505600000.0,1514592000000.0,1514678400000.0,1514764800000.0,1514851200000.0,1514937600000.0,1515024000000.0,1515110400000.0,1515196800000.0,1515283200000.0,1515369600000.0,1515456000000.0,1515542400000.0,1515628800000.0,1515715200000.0,1515801600000.0,1515888000000.0,1515974400000.0,1516060800000.0,1516147200000.0,1516233600000.0,1516320000000.0,1516406400000.0,1516492800000.0,1516579200000.0,1516665600000.0,1516752000000.0,1516838400000.0,1516924800000.0,1517011200000.0,1517097600000.0,1517184000000.0,1517270400000.0,1517356800000.0,1517443200000.0,1517529600000.0,1517616000000.0,1517702400000.0,1517788800000.0,1517875200000.0,1517961600000.0,1518048000000.0,1518134400000.0,1518220800000.0,1518307200000.0,1518393600000.0,1518480000000.0,1518566400000.0,1518652800000.0,1518739200000.0,1518825600000.0,1518912000000.0,1518998400000.0,1519084800000.0,1519171200000.0,1519257600000.0,1519344000000.0,1519430400000.0,1519516800000.0,1519603200000.0,1519689600000.0,1519776000000.0,1519862400000.0,1519948800000.0,1520035200000.0,1520121600000.0,1520208000000.0,1520294400000.0,1520380800000.0,1520467200000.0,1520553600000.0,1520640000000.0,1520726400000.0,1520812800000.0,1520899200000.0,1520985600000.0,1521072000000.0,1521158400000.0,1521244800000.0,1521331200000.0,1521417600000.0,1521504000000.0,1521590400000.0,1521676800000.0,1521763200000.0,1521849600000.0,1521936000000.0,1522022400000.0,1522108800000.0,1522195200000.0,1522281600000.0,1522368000000.0,1522454400000.0,1522540800000.0,1522627200000.0,1522713600000.0,1522800000000.0,1522886400000.0,1522972800000.0,1523059200000.0,1523145600000.0,1523232000000.0,1523318400000.0,1523404800000.0],\"product_count\":[4366.0,4299.0,4299.0,4299.0,4299.0,4299.0,4299.0,4299.0,4627.0,4603.0,4771.0,4742.0,4742.0,4742.0,4742.0,4742.0,5013.0,4981.0,4981.0,4981.0,4981.0,5146.0,5324.0,5541.0,5531.0,5630.0,5619.0,5628.0,5599.0,5527.0,5527.0,5527.0,5527.0,5741.0,5888.0,5835.0,5835.0,5848.0,5989.0,5880.0,5996.0,5955.0,5955.0,5958.0,6072.0,5961.0,5961.0,6043.0,5995.0,6103.0,6020.0,6020.0,6048.0,6199.0,6160.0,6393.0,5753.0,5753.0,5732.0,5460.0,5460.0,5218.0,5121.0,5077.0,5077.0,5277.0,5208.0,5208.0,5549.0,5485.0,5485.0,5842.0,5333.0,6264.0,6072.0,6072.0,6681.0,6457.0,6457.0,6585.0,6672.0,6613.0,6753.0,6602.0,6602.0,6873.0,2208.0,2184.0,2184.0,2452.0,1801.0,1798.0,2026.0,1883.0,1883.0,2062.0,1921.0,1921.0,2244.0,2202.0,2202.0,2381.0,2296.0,2296.0,3284.0,3263.0,3263.0,3480.0,3368.0,3368.0,3444.0,3452.0,3449.0,3722.0,3653.0,3653.0,3653.0,3855.0,3813.0,3813.0,3978.0,3941.0,3941.0,4111.0,4070.0,4070.0,4257.0,4232.0,4232.0,4387.0,4211.0,4211.0,4437.0,4401.0,4401.0,4510.0,4513.0,4509.0,4653.0,348.0,6043.0,6425.0,6457.0,6408.0,6494.0,6414.0,6414.0,6471.0,6264.0,6264.0,6264.0,6474.0,6569.0,6530.0,6695.0,6624.0,6623.0,6848.0,6742.0,6715.0,6942.0,6710.0,6807.0,6587.0,6587.0,6587.0,7021.0,6451.0,6468.0,6464.0,6804.0,6596.0,6596.0,6596.0,7248.0,7017.0,7017.0,7017.0,7017.0,7017.0,7451.0,7052.0,7052.0,7359.0,7162.0,7162.0,7405.0,7232.0,7232.0,7232.0,7296.0,7242.0,7700.0,7355.0,7355.0,7550.0,7405.0,7405.0,7835.0,7590.0,7590.0,7720.0,7888.0,7683.0,7683.0,7941.0,7796.0,7796.0,8062.0,7737.0,7737.0,7907.0,7036.0,7036.0,7689.0,7515.0,7515.0,8007.0,6707.0,6707.0,7866.0,6549.0,6549.0,6908.0,6184.0,6184.0,6551.0,5879.0,5879.0,6459.0,5681.0,5681.0,6082.0,5049.0,5049.0,5561.0,4923.0,4923.0,5417.0,4435.0,4435.0,4434.0,3773.0,3773.0,4167.0,4258.0,3799.0,3799.0,3799.0,3799.0,3799.0,5045.0,4093.0,4559.0,4183.0,4183.0,4461.0,4260.0,4260.0,4623.0,4421.0,4421.0,4672.0,4507.0,4507.0,4905.0,4494.0,4494.0,4852.0,4700.0,4700.0,5062.0,4733.0,4733.0,5066.0,4909.0,4909.0,5216.0,5250.0,5178.0,5164.0,5164.0,5476.0,5357.0,5572.0,5481.0,5481.0,5738.0,5607.0,5607.0,5786.0,5518.0,5469.0,5469.0,5832.0,5722.0,5978.0,5817.0,5817.0,5817.0,6127.0,6037.0,6344.0,6212.0,6212.0,6529.0,6999.0,7071.0,7037.0,7298.0,7103.0,7103.0,7103.0,7373.0,7302.0,7289.0,7726.0,7533.0,7533.0,7852.0,7610.0,7610.0,7888.0,7769.0,7788.0,8226.0,8094.0,8093.0,8386.0,8029.0,8029.0,8054.0,8343.0,8146.0,8480.0,8078.0,8078.0,8078.0,8595.0,8108.0,8108.0,8593.0,9266.0,9281.0,9540.0,9416.0,9416.0,9457.0,9394.0,9620.0,7917.0,7917.0,7917.0,8061.0,7643.0,8705.0,8894.0,8781.0,7376.0,7411.0,7521.0,5861.0,5861.0,5939.0,5630.0,5612.0,5344.0,5202.0,5002.0,5448.0,4942.0,5161.0,4709.0,4977.0,4330.0,4424.0,4199.0,4393.0,4048.0,4895.0,3603.0,3603.0,3463.0,3714.0,3199.0,4124.0,4453.0,4365.0,4384.0,4024.0,3980.0,4070.0,4312.0,4344.0,4107.0,3950.0,4197.0,4176.0,4202.0,4400.0,5008.0,4900.0,4259.0,4344.0,4547.0,4754.0,4534.0,4643.0,4912.0,4818.0,4899.0,4920.0,5075.0,5169.0,5159.0,5331.0,5140.0,5165.0,5397.0,5285.0,5312.0,5464.0,5604.0,5600.0,5606.0,5748.0,2252.0,2300.0,2452.0,2511.0,2693.0,2848.0,2879.0,2832.0,2864.0,3001.0,3047.0,3066.0,3173.0,3189.0,3157.0,3244.0,3327.0,3386.0,3413.0,3374.0,3676.0,3612.0,3635.0,3727.0,3785.0,3801.0,3955.0,3994.0,4012.0,3942.0,4081.0,4067.0,4347.0,4268.0,4599.0,4595.0,4566.0,4627.0,4604.0,4715.0,4845.0,4845.0,4727.0,4780.0,6735.0,6568.0,6766.0,6627.0,6661.0,6503.0,6283.0,5770.0,5695.0,5607.0,5951.0,6245.0,2203.0,2054.0,1727.0,1988.0,2704.0,2453.0,3103.0,3418.0,2854.0,2585.0,2585.0,3331.0,3285.0,3182.0,3168.0,3598.0,3763.0,4069.0,3459.0,4029.0,3657.0,3464.0,3270.0,3270.0,3270.0,3270.0,3981.0,4134.0,3981.0,4085.0,4131.0,4308.0,4399.0,4496.0,4571.0,4580.0,4578.0,4733.0,4803.0,4915.0,5069.0,5120.0,5106.0,5057.0,5129.0,5284.0,5517.0,5554.0,5556.0,5558.0,5484.0,5532.0,5646.0,5837.0,5943.0,5959.0,5959.0,6063.0,6008.0,6076.0,6185.0,6267.0,6263.0,6248.0,6339.0,6359.0,6431.0,6572.0,6609.0,6662.0,6697.0,6750.0,6820.0,6787.0,6933.0,6953.0,6952.0,6965.0,7053.0,7079.0,7192.0,7199.0,7348.0,7319.0,7217.0,7391.0,7442.0,7518.0,7754.0,7738.0,7788.0,7721.0,7835.0,7903.0,8023.0,8178.0,8238.0,8238.0,8273.0,8262.0,8385.0,8395.0,8571.0,8573.0,8590.0,8574.0,8592.0,8637.0,8705.0,8844.0,8870.0,8891.0,8890.0,8898.0,8850.0,9166.0,9185.0,9242.0,9249.0,9311.0,9380.0,9389.0,11343.0,11013.0,10843.0,10782.0,10741.0,10922.0,10979.0,10899.0,10900.0,10972.0,11214.0,11207.0,9346.0,8659.0,8731.0,8533.0,9227.0,9101.0,8816.0,8422.0,8429.0,8090.0,8010.0,7321.0,7206.0,7466.0,7371.0,7472.0,7262.0,7022.0,6339.0,6041.0,6036.0,6235.0,6223.0,6710.0,6002.0,5093.0,5059.0,5166.0,5206.0,5640.0,5603.0,4924.0,4924.0,4924.0,5533.0,5535.0,5761.0,5885.0,5272.0,5259.0,5099.0,5431.0,5495.0,6028.0,5040.0,5170.0,5200.0,5280.0,5032.0,5347.0,5409.0,5387.0,5343.0,5254.0,5617.0,5450.0,5377.0,5839.0,5877.0,5772.0,5909.0,5857.0,5794.0,5908.0,6145.0,6242.0,6251.0,6244.0,6303.0,6378.0,6481.0,6642.0,6559.0,6466.0,6478.0,6613.0,6666.0,6701.0,6744.0,6493.0,6495.0,6585.0,6672.0,6721.0,6761.0,6874.0,7055.0,7066.0,7036.0,7077.0,7138.0,7042.0,7151.0,7890.0,8017.0,8006.0,8071.0,8025.0,8112.0,8210.0,8256.0,8259.0,8189.0,8316.0,8372.0,8398.0,8671.0,8714.0,8747.0,8763.0,8776.0,8806.0,8802.0,8962.0,8976.0,8689.0,8689.0,8689.0,8689.0,8689.0,9324.0,9283.0,9148.0,9423.0,9207.0,9207.0,9207.0,9207.0,9207.0,9207.0,9207.0,9802.0,9694.0,9884.0,9725.0,10095.0,9906.0,10040.0,9622.0,9622.0,9622.0,9622.0,9622.0,9622.0,9622.0,10098.0,10012.0,10141.0,9915.0,10466.0,10235.0,10424.0,10257.0,10411.0,10216.0,10216.0,10540.0,10351.0,10585.0,10373.0,10505.0,10392.0,10635.0,9484.0,10622.0,10468.0,10764.0,10570.0,10989.0,10702.0,10960.0,10658.0,10865.0,10573.0,10706.0,9374.0,9915.0,8582.0,8822.0,7748.0,7748.0,7748.0,8149.0,6940.0,7380.0,6692.0,6955.0,6246.0,6246.0,6246.0,7019.0,6129.0,6524.0,5978.0,6394.0,6188.0,7741.0,6116.0,7493.0,6433.0,6748.0,5417.0,5836.0,5264.0,6231.0,5479.0,6525.0,5788.0,6481.0,6122.0,7020.0,6234.0,7743.0,5997.0,6239.0,5965.0,5965.0,6964.0,5905.0,6562.0,5945.0,6183.0,6017.0,6301.0,6192.0,7261.0,6675.0,7088.0,6674.0,7296.0,6688.0,6796.0,6610.0,7056.0,6924.0,7059.0,6992.0,7277.0,7183.0,7669.0,7553.0,7849.0,7570.0,7845.0,7786.0,8115.0,7914.0,7914.0,8310.0,8194.0,8398.0,8335.0,8538.0,8480.0,8863.0,8784.0,8964.0,8902.0,9097.0,8969.0,8969.0,8969.0,9351.0,9272.0,9608.0,9370.0,9370.0,9370.0,9370.0,9370.0,9370.0,9370.0,10195.0,10105.0,10569.0,10438.0,10560.0,10449.0,10672.0,10569.0,10569.0,11036.0,10897.0,11089.0,10978.0,11240.0,11174.0,11179.0,11179.0,12646.0,12372.0,12372.0,12372.0,12372.0,12372.0,12372.0,13184.0,13073.0,13333.0,13249.0,13472.0,13365.0,13491.0,13409.0,13679.0,13535.0,13761.0,13589.0,13750.0,13654.0,13845.0,13378.0,13449.0,12386.0,11909.0,11845.0,12210.0,12122.0,13024.0,12840.0,14244.0,13922.0,14214.0,14002.0,14104.0,14026.0,14729.0,14180.0,14368.0,13116.0,14081.0,13887.0,14473.0,14109.0,14433.0,14134.0,14302.0,14067.0,14321.0,14040.0,14380.0,14092.0,14362.0,14063.0,14132.0,10094.0,10094.0,10094.0,10094.0,10094.0,10094.0,10094.0,10094.0,10094.0,10094.0,10355.0,9360.0,9722.0,9224.0,9718.0,9103.0,10263.0,8409.0,8771.0,7916.0,8217.0,7721.0,8959.0,6917.0,7433.0,6453.0,6924.0,6466.0,7336.0,6582.0,8174.0,5937.0,6521.0,5870.0,6248.0,6077.0,7334.0,7181.0,5869.0,6223.0,5711.0,6148.0,5511.0,5511.0,5511.0,6610.0,5838.0,6246.0,5911.0,6322.0,5856.0,6408.0,5916.0,6037.0,5963.0,6335.0,6227.0,6807.0,6171.0,6466.0,6410.0,6765.0,6683.0,7162.0,6916.0,7368.0,7033.0,7142.0,7081.0,7274.0,7209.0,7465.0,7408.0,7806.0,7714.0,7904.0,7863.0,8179.0,8061.0,8530.0,8295.0,8430.0,8348.0,8548.0,8501.0,8714.0,8577.0,8961.0,8830.0,9055.0,8947.0,8947.0,8947.0,9564.0,9383.0,9526.0,9416.0,9219.0,9219.0,9219.0,9663.0,9495.0,9726.0,9616.0,9882.0,9855.0,10093.0]},\"selected\":{\"id\":\"5826\",\"type\":\"Selection\"},\"selection_policy\":{\"id\":\"5827\",\"type\":\"UnionRenderers\"}},\"id\":\"5557\",\"type\":\"ColumnDataSource\"},{\"attributes\":{\"plot\":{\"id\":\"5559\",\"subtype\":\"Figure\",\"type\":\"Plot\"},\"ticker\":{\"id\":\"5570\",\"type\":\"DatetimeTicker\"}},\"id\":\"5573\",\"type\":\"Grid\"},{\"attributes\":{\"mantissas\":[1,2,5],\"max_interval\":500.0,\"num_minor_ticks\":0},\"id\":\"5814\",\"type\":\"AdaptiveTicker\"},{\"attributes\":{\"base\":24,\"mantissas\":[1,2,4,6,8,12],\"max_interval\":43200000.0,\"min_interval\":3600000.0,\"num_minor_ticks\":0},\"id\":\"5816\",\"type\":\"AdaptiveTicker\"},{\"attributes\":{\"formatter\":{\"id\":\"5810\",\"type\":\"BasicTickFormatter\"},\"plot\":{\"id\":\"5559\",\"subtype\":\"Figure\",\"type\":\"Plot\"},\"ticker\":{\"id\":\"5575\",\"type\":\"BasicTicker\"}},\"id\":\"5574\",\"type\":\"LinearAxis\"},{\"attributes\":{\"days\":[1,2,3,4,5,6,7,8,9,10,11,12,13,14,15,16,17,18,19,20,21,22,23,24,25,26,27,28,29,30,31]},\"id\":\"5817\",\"type\":\"DaysTicker\"},{\"attributes\":{},\"id\":\"5575\",\"type\":\"BasicTicker\"},{\"attributes\":{\"days\":[1,4,7,10,13,16,19,22,25,28]},\"id\":\"5818\",\"type\":\"DaysTicker\"},{\"attributes\":{\"dimension\":1,\"plot\":{\"id\":\"5559\",\"subtype\":\"Figure\",\"type\":\"Plot\"},\"ticker\":{\"id\":\"5575\",\"type\":\"BasicTicker\"}},\"id\":\"5578\",\"type\":\"Grid\"},{\"attributes\":{\"days\":[1,8,15,22]},\"id\":\"5819\",\"type\":\"DaysTicker\"},{\"attributes\":{\"days\":[1,15]},\"id\":\"5820\",\"type\":\"DaysTicker\"},{\"attributes\":{\"line_color\":\"#1f77b4\",\"line_width\":2,\"x\":{\"field\":\"price_date\"},\"y\":{\"field\":\"product_count\"}},\"id\":\"5595\",\"type\":\"Line\"},{\"attributes\":{\"months\":[0,1,2,3,4,5,6,7,8,9,10,11]},\"id\":\"5821\",\"type\":\"MonthsTicker\"},{\"attributes\":{},\"id\":\"5810\",\"type\":\"BasicTickFormatter\"},{\"attributes\":{\"active_drag\":\"auto\",\"active_inspect\":\"auto\",\"active_multi\":null,\"active_scroll\":\"auto\",\"active_tap\":\"auto\",\"tools\":[{\"id\":\"5579\",\"type\":\"PanTool\"},{\"id\":\"5580\",\"type\":\"WheelZoomTool\"},{\"id\":\"5581\",\"type\":\"BoxZoomTool\"},{\"id\":\"5582\",\"type\":\"SaveTool\"},{\"id\":\"5583\",\"type\":\"ResetTool\"},{\"id\":\"5584\",\"type\":\"HelpTool\"}]},\"id\":\"5585\",\"type\":\"Toolbar\"}],\"root_ids\":[\"5559\"]},\"title\":\"Bokeh Application\",\"version\":\"1.0.2\"}};\n",
       "  var render_items = [{\"docid\":\"92586df4-d581-45fc-b855-469f6c1a33ed\",\"roots\":{\"5559\":\"1f7d7d76-5b6b-40e6-8d37-21aa1ee9d94b\"}}];\n",
       "  root.Bokeh.embed.embed_items_notebook(docs_json, render_items);\n",
       "\n",
       "  }\n",
       "  if (root.Bokeh !== undefined) {\n",
       "    embed_document(root);\n",
       "  } else {\n",
       "    var attempts = 0;\n",
       "    var timer = setInterval(function(root) {\n",
       "      if (root.Bokeh !== undefined) {\n",
       "        embed_document(root);\n",
       "        clearInterval(timer);\n",
       "      }\n",
       "      attempts++;\n",
       "      if (attempts > 100) {\n",
       "        console.log(\"Bokeh: ERROR: Unable to run BokehJS code because BokehJS library is missing\");\n",
       "        clearInterval(timer);\n",
       "      }\n",
       "    }, 10, root)\n",
       "  }\n",
       "})(window);"
      ],
      "application/vnd.bokehjs_exec.v0+json": ""
     },
     "metadata": {
      "application/vnd.bokehjs_exec.v0+json": {
       "id": "5559"
      }
     },
     "output_type": "display_data"
    }
   ],
   "source": [
    "source = ColumnDataSource(data=dict(\n",
    "    price_date=[data_point['price_date'] for data_point in hist_data if data_point['is_historic_gap'] is False],\n",
    "    product_count=[data_point['product_count'] for data_point in hist_data if data_point['is_historic_gap'] is False],\n",
    "))\n",
    "\n",
    "p = figure(plot_width=800, plot_height=400, x_axis_type='datetime', title=\"Webshop X - Historic chart\")\n",
    "p.line('price_date', 'product_count', line_width=2, source=source)\n",
    "\n",
    "show(p) # show the results"
   ]
  },
  {
   "cell_type": "markdown",
   "metadata": {
    "slideshow": {
     "slide_type": "subslide"
    }
   },
   "source": [
    "Step 5: drawing lines and areas"
   ]
  },
  {
   "cell_type": "code",
   "execution_count": 31,
   "metadata": {
    "slideshow": {
     "slide_type": "-"
    }
   },
   "outputs": [
    {
     "data": {
      "text/html": [
       "\n",
       "\n",
       "\n",
       "\n",
       "\n",
       "\n",
       "  <div class=\"bk-root\" id=\"709b3847-66c5-499a-9a82-5ade0a95cf21\"></div>\n"
      ]
     },
     "metadata": {},
     "output_type": "display_data"
    },
    {
     "data": {
      "application/javascript": [
       "(function(root) {\n",
       "  function embed_document(root) {\n",
       "    \n",
       "  var docs_json = {\"d9dafb09-b21e-4a1b-84c7-f221d7d01f2c\":{\"roots\":{\"references\":[{\"attributes\":{\"below\":[{\"id\":\"5959\",\"type\":\"DatetimeAxis\"}],\"left\":[{\"id\":\"5964\",\"type\":\"LinearAxis\"}],\"plot_height\":400,\"plot_width\":800,\"renderers\":[{\"id\":\"5959\",\"type\":\"DatetimeAxis\"},{\"id\":\"5963\",\"type\":\"Grid\"},{\"id\":\"5964\",\"type\":\"LinearAxis\"},{\"id\":\"5968\",\"type\":\"Grid\"},{\"id\":\"5977\",\"type\":\"BoxAnnotation\"},{\"id\":\"5987\",\"type\":\"GlyphRenderer\"},{\"id\":\"5989\",\"type\":\"Span\"}],\"title\":{\"id\":\"5948\",\"type\":\"Title\"},\"toolbar\":{\"id\":\"5975\",\"type\":\"Toolbar\"},\"x_range\":{\"id\":\"5951\",\"type\":\"DataRange1d\"},\"x_scale\":{\"id\":\"5955\",\"type\":\"LinearScale\"},\"y_range\":{\"id\":\"5953\",\"type\":\"DataRange1d\"},\"y_scale\":{\"id\":\"5957\",\"type\":\"LinearScale\"}},\"id\":\"5949\",\"subtype\":\"Figure\",\"type\":\"Plot\"},{\"attributes\":{\"num_minor_ticks\":5,\"tickers\":[{\"id\":\"6225\",\"type\":\"AdaptiveTicker\"},{\"id\":\"6226\",\"type\":\"AdaptiveTicker\"},{\"id\":\"6227\",\"type\":\"AdaptiveTicker\"},{\"id\":\"6228\",\"type\":\"DaysTicker\"},{\"id\":\"6229\",\"type\":\"DaysTicker\"},{\"id\":\"6230\",\"type\":\"DaysTicker\"},{\"id\":\"6231\",\"type\":\"DaysTicker\"},{\"id\":\"6232\",\"type\":\"MonthsTicker\"},{\"id\":\"6233\",\"type\":\"MonthsTicker\"},{\"id\":\"6234\",\"type\":\"MonthsTicker\"},{\"id\":\"6235\",\"type\":\"MonthsTicker\"},{\"id\":\"6236\",\"type\":\"YearsTicker\"}]},\"id\":\"5960\",\"type\":\"DatetimeTicker\"},{\"attributes\":{\"formatter\":{\"id\":\"6223\",\"type\":\"DatetimeTickFormatter\"},\"plot\":{\"id\":\"5949\",\"subtype\":\"Figure\",\"type\":\"Plot\"},\"ticker\":{\"id\":\"5960\",\"type\":\"DatetimeTicker\"}},\"id\":\"5959\",\"type\":\"DatetimeAxis\"},{\"attributes\":{\"base\":24,\"mantissas\":[1,2,4,6,8,12],\"max_interval\":43200000.0,\"min_interval\":3600000.0,\"num_minor_ticks\":0},\"id\":\"6227\",\"type\":\"AdaptiveTicker\"},{\"attributes\":{},\"id\":\"5957\",\"type\":\"LinearScale\"},{\"attributes\":{\"days\":[1,2,3,4,5,6,7,8,9,10,11,12,13,14,15,16,17,18,19,20,21,22,23,24,25,26,27,28,29,30,31]},\"id\":\"6228\",\"type\":\"DaysTicker\"},{\"attributes\":{},\"id\":\"5955\",\"type\":\"LinearScale\"},{\"attributes\":{\"days\":[1,4,7,10,13,16,19,22,25,28]},\"id\":\"6229\",\"type\":\"DaysTicker\"},{\"attributes\":{\"callback\":null},\"id\":\"5953\",\"type\":\"DataRange1d\"},{\"attributes\":{},\"id\":\"5826\",\"type\":\"Selection\"},{\"attributes\":{\"days\":[1,8,15,22]},\"id\":\"6230\",\"type\":\"DaysTicker\"},{\"attributes\":{},\"id\":\"5827\",\"type\":\"UnionRenderers\"},{\"attributes\":{\"mantissas\":[1,2,5],\"max_interval\":500.0,\"num_minor_ticks\":0},\"id\":\"6225\",\"type\":\"AdaptiveTicker\"},{\"attributes\":{\"days\":[1,15]},\"id\":\"6231\",\"type\":\"DaysTicker\"},{\"attributes\":{\"base\":60,\"mantissas\":[1,2,5,10,15,20,30],\"max_interval\":1800000.0,\"min_interval\":1000.0,\"num_minor_ticks\":0},\"id\":\"6226\",\"type\":\"AdaptiveTicker\"},{\"attributes\":{\"months\":[0,1,2,3,4,5,6,7,8,9,10,11]},\"id\":\"6232\",\"type\":\"MonthsTicker\"},{\"attributes\":{},\"id\":\"6221\",\"type\":\"BasicTickFormatter\"},{\"attributes\":{\"months\":[0,2,4,6,8,10]},\"id\":\"6233\",\"type\":\"MonthsTicker\"},{\"attributes\":{},\"id\":\"5969\",\"type\":\"PanTool\"},{\"attributes\":{\"active_drag\":\"auto\",\"active_inspect\":\"auto\",\"active_multi\":null,\"active_scroll\":\"auto\",\"active_tap\":\"auto\",\"tools\":[{\"id\":\"5969\",\"type\":\"PanTool\"},{\"id\":\"5970\",\"type\":\"WheelZoomTool\"},{\"id\":\"5971\",\"type\":\"BoxZoomTool\"},{\"id\":\"5972\",\"type\":\"SaveTool\"},{\"id\":\"5973\",\"type\":\"ResetTool\"},{\"id\":\"5974\",\"type\":\"HelpTool\"}]},\"id\":\"5975\",\"type\":\"Toolbar\"},{\"attributes\":{\"months\":[0,4,8]},\"id\":\"6234\",\"type\":\"MonthsTicker\"},{\"attributes\":{},\"id\":\"5970\",\"type\":\"WheelZoomTool\"},{\"attributes\":{\"source\":{\"id\":\"5557\",\"type\":\"ColumnDataSource\"}},\"id\":\"5988\",\"type\":\"CDSView\"},{\"attributes\":{\"overlay\":{\"id\":\"5977\",\"type\":\"BoxAnnotation\"}},\"id\":\"5971\",\"type\":\"BoxZoomTool\"},{\"attributes\":{\"months\":[0,6]},\"id\":\"6235\",\"type\":\"MonthsTicker\"},{\"attributes\":{\"callback\":null},\"id\":\"5951\",\"type\":\"DataRange1d\"},{\"attributes\":{\"line_color\":\"#1f77b4\",\"line_width\":2,\"x\":{\"field\":\"price_date\"},\"y\":{\"field\":\"product_count\"}},\"id\":\"5985\",\"type\":\"Line\"},{\"attributes\":{},\"id\":\"6236\",\"type\":\"YearsTicker\"},{\"attributes\":{\"line_color\":{\"value\":\"purple\"},\"location\":7000,\"plot\":{\"id\":\"5949\",\"subtype\":\"Figure\",\"type\":\"Plot\"}},\"id\":\"5989\",\"type\":\"Span\"},{\"attributes\":{},\"id\":\"5972\",\"type\":\"SaveTool\"},{\"attributes\":{\"callback\":null,\"data\":{\"price_date\":[1410220800000.0,1410307200000.0,1410393600000.0,1410480000000.0,1410566400000.0,1410652800000.0,1410739200000.0,1410825600000.0,1410912000000.0,1410998400000.0,1411084800000.0,1411171200000.0,1411257600000.0,1411344000000.0,1411430400000.0,1411516800000.0,1411603200000.0,1411689600000.0,1411776000000.0,1411862400000.0,1411948800000.0,1412035200000.0,1413504000000.0,1413590400000.0,1413676800000.0,1413763200000.0,1413849600000.0,1413936000000.0,1414022400000.0,1414108800000.0,1414195200000.0,1414281600000.0,1414368000000.0,1414972800000.0,1415059200000.0,1415145600000.0,1415232000000.0,1415318400000.0,1415404800000.0,1415491200000.0,1415577600000.0,1415664000000.0,1415750400000.0,1415836800000.0,1415923200000.0,1416009600000.0,1416096000000.0,1416182400000.0,1416268800000.0,1416355200000.0,1416441600000.0,1416528000000.0,1416614400000.0,1416700800000.0,1416787200000.0,1416873600000.0,1416960000000.0,1417046400000.0,1417132800000.0,1417219200000.0,1417305600000.0,1417392000000.0,1417478400000.0,1417564800000.0,1417651200000.0,1417737600000.0,1417824000000.0,1417910400000.0,1417996800000.0,1418083200000.0,1418169600000.0,1418256000000.0,1418342400000.0,1418428800000.0,1418515200000.0,1418601600000.0,1418688000000.0,1418774400000.0,1418860800000.0,1418947200000.0,1419033600000.0,1419120000000.0,1419206400000.0,1419292800000.0,1419379200000.0,1419465600000.0,1422748800000.0,1422835200000.0,1422921600000.0,1423008000000.0,1423094400000.0,1423180800000.0,1423267200000.0,1423353600000.0,1423440000000.0,1423526400000.0,1423612800000.0,1423699200000.0,1423785600000.0,1423872000000.0,1423958400000.0,1424044800000.0,1424131200000.0,1424217600000.0,1424304000000.0,1424390400000.0,1424476800000.0,1424563200000.0,1424649600000.0,1424736000000.0,1424822400000.0,1424908800000.0,1424995200000.0,1425081600000.0,1425168000000.0,1425254400000.0,1425340800000.0,1425427200000.0,1425513600000.0,1425600000000.0,1425686400000.0,1425772800000.0,1425859200000.0,1425945600000.0,1426032000000.0,1426118400000.0,1426204800000.0,1426291200000.0,1426377600000.0,1426464000000.0,1426550400000.0,1426636800000.0,1426723200000.0,1426809600000.0,1426896000000.0,1426982400000.0,1427068800000.0,1427155200000.0,1427241600000.0,1427328000000.0,1427760000000.0,1427846400000.0,1427932800000.0,1428019200000.0,1428105600000.0,1428192000000.0,1428278400000.0,1428364800000.0,1428451200000.0,1428537600000.0,1428624000000.0,1428710400000.0,1428796800000.0,1428883200000.0,1428969600000.0,1429056000000.0,1429142400000.0,1429228800000.0,1429315200000.0,1429401600000.0,1429488000000.0,1429574400000.0,1429660800000.0,1429747200000.0,1429833600000.0,1429920000000.0,1430006400000.0,1430092800000.0,1430179200000.0,1430265600000.0,1430352000000.0,1430438400000.0,1430524800000.0,1430611200000.0,1430697600000.0,1430784000000.0,1430870400000.0,1430956800000.0,1431043200000.0,1431129600000.0,1431216000000.0,1431302400000.0,1431388800000.0,1431475200000.0,1431561600000.0,1431648000000.0,1431734400000.0,1431820800000.0,1431907200000.0,1431993600000.0,1432080000000.0,1432166400000.0,1432252800000.0,1432339200000.0,1432425600000.0,1432512000000.0,1432598400000.0,1432684800000.0,1432771200000.0,1432857600000.0,1432944000000.0,1433030400000.0,1433116800000.0,1433203200000.0,1433289600000.0,1433376000000.0,1433462400000.0,1433548800000.0,1433635200000.0,1433721600000.0,1433808000000.0,1433894400000.0,1433980800000.0,1434067200000.0,1434153600000.0,1434240000000.0,1434326400000.0,1434412800000.0,1434499200000.0,1434585600000.0,1434672000000.0,1434758400000.0,1434844800000.0,1434931200000.0,1435017600000.0,1435104000000.0,1435190400000.0,1435276800000.0,1435363200000.0,1435449600000.0,1435536000000.0,1435622400000.0,1435708800000.0,1435795200000.0,1435881600000.0,1435968000000.0,1436054400000.0,1436140800000.0,1436227200000.0,1436313600000.0,1436400000000.0,1437004800000.0,1437091200000.0,1437177600000.0,1437264000000.0,1437782400000.0,1438300800000.0,1438387200000.0,1438473600000.0,1438560000000.0,1438646400000.0,1438732800000.0,1438819200000.0,1438905600000.0,1438992000000.0,1439078400000.0,1439164800000.0,1439251200000.0,1439337600000.0,1439424000000.0,1439510400000.0,1439596800000.0,1439683200000.0,1439769600000.0,1439856000000.0,1439942400000.0,1440028800000.0,1440115200000.0,1440201600000.0,1440288000000.0,1440374400000.0,1440460800000.0,1440547200000.0,1440633600000.0,1440720000000.0,1440806400000.0,1440892800000.0,1440979200000.0,1441065600000.0,1441152000000.0,1441238400000.0,1441324800000.0,1441411200000.0,1441497600000.0,1441584000000.0,1441670400000.0,1441756800000.0,1441843200000.0,1441929600000.0,1442016000000.0,1442102400000.0,1442188800000.0,1442275200000.0,1442361600000.0,1442448000000.0,1442534400000.0,1442620800000.0,1442707200000.0,1442793600000.0,1442880000000.0,1442966400000.0,1443052800000.0,1443139200000.0,1443225600000.0,1443312000000.0,1443398400000.0,1444694400000.0,1444780800000.0,1444867200000.0,1444953600000.0,1445040000000.0,1445126400000.0,1445212800000.0,1445299200000.0,1445385600000.0,1445472000000.0,1445558400000.0,1445644800000.0,1445731200000.0,1445817600000.0,1445904000000.0,1445990400000.0,1446076800000.0,1446163200000.0,1446249600000.0,1446336000000.0,1446422400000.0,1446508800000.0,1446595200000.0,1446681600000.0,1446768000000.0,1446854400000.0,1446940800000.0,1447027200000.0,1447113600000.0,1447200000000.0,1447286400000.0,1447372800000.0,1447459200000.0,1447545600000.0,1447632000000.0,1447718400000.0,1447804800000.0,1447891200000.0,1447977600000.0,1448064000000.0,1448150400000.0,1448236800000.0,1448323200000.0,1448409600000.0,1448496000000.0,1448582400000.0,1448668800000.0,1448755200000.0,1448841600000.0,1448928000000.0,1450828800000.0,1450915200000.0,1451001600000.0,1451088000000.0,1451174400000.0,1451260800000.0,1451347200000.0,1451433600000.0,1451520000000.0,1451606400000.0,1451692800000.0,1451779200000.0,1451865600000.0,1451952000000.0,1452038400000.0,1452124800000.0,1452211200000.0,1452297600000.0,1452384000000.0,1452470400000.0,1452556800000.0,1452643200000.0,1452729600000.0,1452816000000.0,1452902400000.0,1452988800000.0,1453593600000.0,1453680000000.0,1453766400000.0,1454457600000.0,1454544000000.0,1454630400000.0,1454716800000.0,1454803200000.0,1454889600000.0,1454976000000.0,1455062400000.0,1455148800000.0,1455235200000.0,1455321600000.0,1455408000000.0,1455494400000.0,1455580800000.0,1455667200000.0,1455753600000.0,1455840000000.0,1455926400000.0,1456012800000.0,1456099200000.0,1456185600000.0,1456272000000.0,1456358400000.0,1456444800000.0,1456531200000.0,1456617600000.0,1456704000000.0,1456790400000.0,1456876800000.0,1456963200000.0,1457049600000.0,1457136000000.0,1457222400000.0,1457308800000.0,1457395200000.0,1457481600000.0,1457568000000.0,1457654400000.0,1457740800000.0,1457827200000.0,1457913600000.0,1460764800000.0,1460851200000.0,1460937600000.0,1461024000000.0,1461110400000.0,1461196800000.0,1461283200000.0,1461369600000.0,1461456000000.0,1461542400000.0,1461628800000.0,1461715200000.0,1461801600000.0,1461888000000.0,1461974400000.0,1462060800000.0,1462147200000.0,1462233600000.0,1462320000000.0,1462406400000.0,1462492800000.0,1462579200000.0,1462665600000.0,1462752000000.0,1462838400000.0,1462924800000.0,1463011200000.0,1463097600000.0,1463184000000.0,1463270400000.0,1463356800000.0,1463443200000.0,1464134400000.0,1464220800000.0,1464307200000.0,1464393600000.0,1464480000000.0,1464566400000.0,1464652800000.0,1464739200000.0,1464825600000.0,1464912000000.0,1464998400000.0,1465084800000.0,1466899200000.0,1466985600000.0,1467072000000.0,1467158400000.0,1467244800000.0,1467331200000.0,1467417600000.0,1467504000000.0,1467590400000.0,1467676800000.0,1467763200000.0,1467849600000.0,1468540800000.0,1468627200000.0,1468713600000.0,1468800000000.0,1468886400000.0,1468972800000.0,1469836800000.0,1469923200000.0,1470009600000.0,1470096000000.0,1470182400000.0,1470268800000.0,1470355200000.0,1470441600000.0,1470528000000.0,1470614400000.0,1470700800000.0,1470787200000.0,1470873600000.0,1470960000000.0,1471046400000.0,1471132800000.0,1471219200000.0,1471305600000.0,1471392000000.0,1471478400000.0,1471564800000.0,1471651200000.0,1471737600000.0,1471824000000.0,1471910400000.0,1471996800000.0,1472083200000.0,1472169600000.0,1472256000000.0,1472342400000.0,1472428800000.0,1472515200000.0,1472601600000.0,1472688000000.0,1472774400000.0,1472860800000.0,1472947200000.0,1473033600000.0,1473120000000.0,1473206400000.0,1473292800000.0,1473379200000.0,1473465600000.0,1473552000000.0,1473638400000.0,1473724800000.0,1473811200000.0,1473897600000.0,1473984000000.0,1474070400000.0,1474156800000.0,1474243200000.0,1474329600000.0,1474416000000.0,1474502400000.0,1474588800000.0,1474675200000.0,1474761600000.0,1474848000000.0,1474934400000.0,1475020800000.0,1475107200000.0,1475193600000.0,1475280000000.0,1475366400000.0,1475452800000.0,1475539200000.0,1475625600000.0,1475712000000.0,1475798400000.0,1475884800000.0,1475971200000.0,1476057600000.0,1476144000000.0,1476230400000.0,1476316800000.0,1476403200000.0,1476489600000.0,1476576000000.0,1476662400000.0,1476748800000.0,1476835200000.0,1476921600000.0,1477008000000.0,1477094400000.0,1477180800000.0,1477267200000.0,1477353600000.0,1477440000000.0,1477526400000.0,1477612800000.0,1477699200000.0,1477785600000.0,1477872000000.0,1477958400000.0,1478044800000.0,1478131200000.0,1478217600000.0,1478304000000.0,1478390400000.0,1478476800000.0,1478563200000.0,1478649600000.0,1478736000000.0,1478822400000.0,1478908800000.0,1478995200000.0,1479081600000.0,1479168000000.0,1479254400000.0,1479340800000.0,1479427200000.0,1479513600000.0,1479600000000.0,1479686400000.0,1479772800000.0,1481328000000.0,1481414400000.0,1481500800000.0,1481587200000.0,1481673600000.0,1481760000000.0,1481846400000.0,1481932800000.0,1482019200000.0,1482105600000.0,1482192000000.0,1482278400000.0,1482883200000.0,1482969600000.0,1483056000000.0,1483142400000.0,1483228800000.0,1483315200000.0,1483401600000.0,1483488000000.0,1483574400000.0,1483660800000.0,1483747200000.0,1483833600000.0,1483920000000.0,1484006400000.0,1484092800000.0,1484179200000.0,1484265600000.0,1484352000000.0,1484438400000.0,1484524800000.0,1484611200000.0,1484697600000.0,1484784000000.0,1484870400000.0,1484956800000.0,1485043200000.0,1485129600000.0,1485216000000.0,1485302400000.0,1485388800000.0,1485475200000.0,1485561600000.0,1485648000000.0,1485734400000.0,1485820800000.0,1485907200000.0,1485993600000.0,1486080000000.0,1486166400000.0,1486252800000.0,1486339200000.0,1486425600000.0,1486512000000.0,1486598400000.0,1486684800000.0,1486771200000.0,1486857600000.0,1486944000000.0,1487030400000.0,1487116800000.0,1487203200000.0,1487289600000.0,1487376000000.0,1487462400000.0,1487548800000.0,1487635200000.0,1487721600000.0,1487808000000.0,1487894400000.0,1487980800000.0,1488067200000.0,1488153600000.0,1488240000000.0,1488326400000.0,1488412800000.0,1488499200000.0,1488585600000.0,1488672000000.0,1488758400000.0,1488844800000.0,1488931200000.0,1489017600000.0,1489104000000.0,1489190400000.0,1489276800000.0,1489363200000.0,1489449600000.0,1489536000000.0,1489622400000.0,1489708800000.0,1489795200000.0,1489881600000.0,1489968000000.0,1490054400000.0,1490140800000.0,1490227200000.0,1490313600000.0,1490400000000.0,1490486400000.0,1490572800000.0,1490659200000.0,1490745600000.0,1490832000000.0,1490918400000.0,1491004800000.0,1491091200000.0,1491177600000.0,1491264000000.0,1491350400000.0,1491436800000.0,1491523200000.0,1491609600000.0,1491696000000.0,1491782400000.0,1491868800000.0,1491955200000.0,1492041600000.0,1492128000000.0,1492214400000.0,1492300800000.0,1492387200000.0,1492473600000.0,1492560000000.0,1492646400000.0,1492732800000.0,1492819200000.0,1492905600000.0,1492992000000.0,1493078400000.0,1493164800000.0,1493251200000.0,1493337600000.0,1493424000000.0,1493510400000.0,1493596800000.0,1493683200000.0,1493769600000.0,1493856000000.0,1493942400000.0,1494028800000.0,1494115200000.0,1494201600000.0,1494288000000.0,1494374400000.0,1494460800000.0,1494547200000.0,1494633600000.0,1494720000000.0,1494806400000.0,1494892800000.0,1494979200000.0,1495065600000.0,1495152000000.0,1495238400000.0,1495324800000.0,1495411200000.0,1495497600000.0,1495584000000.0,1495670400000.0,1495756800000.0,1495843200000.0,1495929600000.0,1496016000000.0,1496102400000.0,1496188800000.0,1496275200000.0,1496361600000.0,1496448000000.0,1496534400000.0,1496620800000.0,1496707200000.0,1496793600000.0,1496880000000.0,1496966400000.0,1497052800000.0,1497139200000.0,1497225600000.0,1497312000000.0,1497398400000.0,1497484800000.0,1497571200000.0,1497657600000.0,1497744000000.0,1497830400000.0,1497916800000.0,1498003200000.0,1498089600000.0,1498176000000.0,1498262400000.0,1498348800000.0,1498435200000.0,1498521600000.0,1498608000000.0,1498694400000.0,1498780800000.0,1498867200000.0,1498953600000.0,1499040000000.0,1499126400000.0,1499212800000.0,1499299200000.0,1499385600000.0,1499472000000.0,1499558400000.0,1499644800000.0,1499731200000.0,1499817600000.0,1499904000000.0,1499990400000.0,1500076800000.0,1500163200000.0,1500249600000.0,1500336000000.0,1500422400000.0,1500508800000.0,1500595200000.0,1500681600000.0,1500768000000.0,1500854400000.0,1500940800000.0,1501027200000.0,1501113600000.0,1501200000000.0,1501286400000.0,1501372800000.0,1501459200000.0,1501545600000.0,1501632000000.0,1501718400000.0,1501804800000.0,1501891200000.0,1501977600000.0,1502064000000.0,1502150400000.0,1502236800000.0,1502323200000.0,1502409600000.0,1502496000000.0,1502582400000.0,1502668800000.0,1502755200000.0,1502841600000.0,1502928000000.0,1503014400000.0,1503100800000.0,1503187200000.0,1503273600000.0,1503360000000.0,1503446400000.0,1503532800000.0,1503619200000.0,1503705600000.0,1503792000000.0,1503878400000.0,1503964800000.0,1504051200000.0,1504137600000.0,1504224000000.0,1504310400000.0,1504396800000.0,1504483200000.0,1504569600000.0,1504656000000.0,1504742400000.0,1504828800000.0,1504915200000.0,1505001600000.0,1505088000000.0,1505174400000.0,1505260800000.0,1505347200000.0,1505433600000.0,1505520000000.0,1505606400000.0,1505692800000.0,1505779200000.0,1505865600000.0,1505952000000.0,1506038400000.0,1506124800000.0,1506211200000.0,1506297600000.0,1506384000000.0,1506470400000.0,1506556800000.0,1506643200000.0,1506729600000.0,1506816000000.0,1506902400000.0,1506988800000.0,1507075200000.0,1507161600000.0,1507248000000.0,1507334400000.0,1507420800000.0,1507507200000.0,1507593600000.0,1509235200000.0,1509321600000.0,1509408000000.0,1509494400000.0,1509580800000.0,1509667200000.0,1509753600000.0,1509840000000.0,1509926400000.0,1510012800000.0,1510099200000.0,1510185600000.0,1510272000000.0,1510358400000.0,1510444800000.0,1510531200000.0,1510617600000.0,1510704000000.0,1510790400000.0,1510876800000.0,1510963200000.0,1511049600000.0,1511136000000.0,1511222400000.0,1511308800000.0,1511395200000.0,1511481600000.0,1511568000000.0,1511654400000.0,1511740800000.0,1511827200000.0,1511913600000.0,1512000000000.0,1512086400000.0,1512172800000.0,1512259200000.0,1512345600000.0,1512432000000.0,1512518400000.0,1512604800000.0,1512691200000.0,1512777600000.0,1512864000000.0,1512950400000.0,1513036800000.0,1513123200000.0,1513209600000.0,1513296000000.0,1513382400000.0,1513468800000.0,1513555200000.0,1513641600000.0,1513728000000.0,1513814400000.0,1513900800000.0,1513987200000.0,1514073600000.0,1514160000000.0,1514246400000.0,1514332800000.0,1514419200000.0,1514505600000.0,1514592000000.0,1514678400000.0,1514764800000.0,1514851200000.0,1514937600000.0,1515024000000.0,1515110400000.0,1515196800000.0,1515283200000.0,1515369600000.0,1515456000000.0,1515542400000.0,1515628800000.0,1515715200000.0,1515801600000.0,1515888000000.0,1515974400000.0,1516060800000.0,1516147200000.0,1516233600000.0,1516320000000.0,1516406400000.0,1516492800000.0,1516579200000.0,1516665600000.0,1516752000000.0,1516838400000.0,1516924800000.0,1517011200000.0,1517097600000.0,1517184000000.0,1517270400000.0,1517356800000.0,1517443200000.0,1517529600000.0,1517616000000.0,1517702400000.0,1517788800000.0,1517875200000.0,1517961600000.0,1518048000000.0,1518134400000.0,1518220800000.0,1518307200000.0,1518393600000.0,1518480000000.0,1518566400000.0,1518652800000.0,1518739200000.0,1518825600000.0,1518912000000.0,1518998400000.0,1519084800000.0,1519171200000.0,1519257600000.0,1519344000000.0,1519430400000.0,1519516800000.0,1519603200000.0,1519689600000.0,1519776000000.0,1519862400000.0,1519948800000.0,1520035200000.0,1520121600000.0,1520208000000.0,1520294400000.0,1520380800000.0,1520467200000.0,1520553600000.0,1520640000000.0,1520726400000.0,1520812800000.0,1520899200000.0,1520985600000.0,1521072000000.0,1521158400000.0,1521244800000.0,1521331200000.0,1521417600000.0,1521504000000.0,1521590400000.0,1521676800000.0,1521763200000.0,1521849600000.0,1521936000000.0,1522022400000.0,1522108800000.0,1522195200000.0,1522281600000.0,1522368000000.0,1522454400000.0,1522540800000.0,1522627200000.0,1522713600000.0,1522800000000.0,1522886400000.0,1522972800000.0,1523059200000.0,1523145600000.0,1523232000000.0,1523318400000.0,1523404800000.0],\"product_count\":[4366.0,4299.0,4299.0,4299.0,4299.0,4299.0,4299.0,4299.0,4627.0,4603.0,4771.0,4742.0,4742.0,4742.0,4742.0,4742.0,5013.0,4981.0,4981.0,4981.0,4981.0,5146.0,5324.0,5541.0,5531.0,5630.0,5619.0,5628.0,5599.0,5527.0,5527.0,5527.0,5527.0,5741.0,5888.0,5835.0,5835.0,5848.0,5989.0,5880.0,5996.0,5955.0,5955.0,5958.0,6072.0,5961.0,5961.0,6043.0,5995.0,6103.0,6020.0,6020.0,6048.0,6199.0,6160.0,6393.0,5753.0,5753.0,5732.0,5460.0,5460.0,5218.0,5121.0,5077.0,5077.0,5277.0,5208.0,5208.0,5549.0,5485.0,5485.0,5842.0,5333.0,6264.0,6072.0,6072.0,6681.0,6457.0,6457.0,6585.0,6672.0,6613.0,6753.0,6602.0,6602.0,6873.0,2208.0,2184.0,2184.0,2452.0,1801.0,1798.0,2026.0,1883.0,1883.0,2062.0,1921.0,1921.0,2244.0,2202.0,2202.0,2381.0,2296.0,2296.0,3284.0,3263.0,3263.0,3480.0,3368.0,3368.0,3444.0,3452.0,3449.0,3722.0,3653.0,3653.0,3653.0,3855.0,3813.0,3813.0,3978.0,3941.0,3941.0,4111.0,4070.0,4070.0,4257.0,4232.0,4232.0,4387.0,4211.0,4211.0,4437.0,4401.0,4401.0,4510.0,4513.0,4509.0,4653.0,348.0,6043.0,6425.0,6457.0,6408.0,6494.0,6414.0,6414.0,6471.0,6264.0,6264.0,6264.0,6474.0,6569.0,6530.0,6695.0,6624.0,6623.0,6848.0,6742.0,6715.0,6942.0,6710.0,6807.0,6587.0,6587.0,6587.0,7021.0,6451.0,6468.0,6464.0,6804.0,6596.0,6596.0,6596.0,7248.0,7017.0,7017.0,7017.0,7017.0,7017.0,7451.0,7052.0,7052.0,7359.0,7162.0,7162.0,7405.0,7232.0,7232.0,7232.0,7296.0,7242.0,7700.0,7355.0,7355.0,7550.0,7405.0,7405.0,7835.0,7590.0,7590.0,7720.0,7888.0,7683.0,7683.0,7941.0,7796.0,7796.0,8062.0,7737.0,7737.0,7907.0,7036.0,7036.0,7689.0,7515.0,7515.0,8007.0,6707.0,6707.0,7866.0,6549.0,6549.0,6908.0,6184.0,6184.0,6551.0,5879.0,5879.0,6459.0,5681.0,5681.0,6082.0,5049.0,5049.0,5561.0,4923.0,4923.0,5417.0,4435.0,4435.0,4434.0,3773.0,3773.0,4167.0,4258.0,3799.0,3799.0,3799.0,3799.0,3799.0,5045.0,4093.0,4559.0,4183.0,4183.0,4461.0,4260.0,4260.0,4623.0,4421.0,4421.0,4672.0,4507.0,4507.0,4905.0,4494.0,4494.0,4852.0,4700.0,4700.0,5062.0,4733.0,4733.0,5066.0,4909.0,4909.0,5216.0,5250.0,5178.0,5164.0,5164.0,5476.0,5357.0,5572.0,5481.0,5481.0,5738.0,5607.0,5607.0,5786.0,5518.0,5469.0,5469.0,5832.0,5722.0,5978.0,5817.0,5817.0,5817.0,6127.0,6037.0,6344.0,6212.0,6212.0,6529.0,6999.0,7071.0,7037.0,7298.0,7103.0,7103.0,7103.0,7373.0,7302.0,7289.0,7726.0,7533.0,7533.0,7852.0,7610.0,7610.0,7888.0,7769.0,7788.0,8226.0,8094.0,8093.0,8386.0,8029.0,8029.0,8054.0,8343.0,8146.0,8480.0,8078.0,8078.0,8078.0,8595.0,8108.0,8108.0,8593.0,9266.0,9281.0,9540.0,9416.0,9416.0,9457.0,9394.0,9620.0,7917.0,7917.0,7917.0,8061.0,7643.0,8705.0,8894.0,8781.0,7376.0,7411.0,7521.0,5861.0,5861.0,5939.0,5630.0,5612.0,5344.0,5202.0,5002.0,5448.0,4942.0,5161.0,4709.0,4977.0,4330.0,4424.0,4199.0,4393.0,4048.0,4895.0,3603.0,3603.0,3463.0,3714.0,3199.0,4124.0,4453.0,4365.0,4384.0,4024.0,3980.0,4070.0,4312.0,4344.0,4107.0,3950.0,4197.0,4176.0,4202.0,4400.0,5008.0,4900.0,4259.0,4344.0,4547.0,4754.0,4534.0,4643.0,4912.0,4818.0,4899.0,4920.0,5075.0,5169.0,5159.0,5331.0,5140.0,5165.0,5397.0,5285.0,5312.0,5464.0,5604.0,5600.0,5606.0,5748.0,2252.0,2300.0,2452.0,2511.0,2693.0,2848.0,2879.0,2832.0,2864.0,3001.0,3047.0,3066.0,3173.0,3189.0,3157.0,3244.0,3327.0,3386.0,3413.0,3374.0,3676.0,3612.0,3635.0,3727.0,3785.0,3801.0,3955.0,3994.0,4012.0,3942.0,4081.0,4067.0,4347.0,4268.0,4599.0,4595.0,4566.0,4627.0,4604.0,4715.0,4845.0,4845.0,4727.0,4780.0,6735.0,6568.0,6766.0,6627.0,6661.0,6503.0,6283.0,5770.0,5695.0,5607.0,5951.0,6245.0,2203.0,2054.0,1727.0,1988.0,2704.0,2453.0,3103.0,3418.0,2854.0,2585.0,2585.0,3331.0,3285.0,3182.0,3168.0,3598.0,3763.0,4069.0,3459.0,4029.0,3657.0,3464.0,3270.0,3270.0,3270.0,3270.0,3981.0,4134.0,3981.0,4085.0,4131.0,4308.0,4399.0,4496.0,4571.0,4580.0,4578.0,4733.0,4803.0,4915.0,5069.0,5120.0,5106.0,5057.0,5129.0,5284.0,5517.0,5554.0,5556.0,5558.0,5484.0,5532.0,5646.0,5837.0,5943.0,5959.0,5959.0,6063.0,6008.0,6076.0,6185.0,6267.0,6263.0,6248.0,6339.0,6359.0,6431.0,6572.0,6609.0,6662.0,6697.0,6750.0,6820.0,6787.0,6933.0,6953.0,6952.0,6965.0,7053.0,7079.0,7192.0,7199.0,7348.0,7319.0,7217.0,7391.0,7442.0,7518.0,7754.0,7738.0,7788.0,7721.0,7835.0,7903.0,8023.0,8178.0,8238.0,8238.0,8273.0,8262.0,8385.0,8395.0,8571.0,8573.0,8590.0,8574.0,8592.0,8637.0,8705.0,8844.0,8870.0,8891.0,8890.0,8898.0,8850.0,9166.0,9185.0,9242.0,9249.0,9311.0,9380.0,9389.0,11343.0,11013.0,10843.0,10782.0,10741.0,10922.0,10979.0,10899.0,10900.0,10972.0,11214.0,11207.0,9346.0,8659.0,8731.0,8533.0,9227.0,9101.0,8816.0,8422.0,8429.0,8090.0,8010.0,7321.0,7206.0,7466.0,7371.0,7472.0,7262.0,7022.0,6339.0,6041.0,6036.0,6235.0,6223.0,6710.0,6002.0,5093.0,5059.0,5166.0,5206.0,5640.0,5603.0,4924.0,4924.0,4924.0,5533.0,5535.0,5761.0,5885.0,5272.0,5259.0,5099.0,5431.0,5495.0,6028.0,5040.0,5170.0,5200.0,5280.0,5032.0,5347.0,5409.0,5387.0,5343.0,5254.0,5617.0,5450.0,5377.0,5839.0,5877.0,5772.0,5909.0,5857.0,5794.0,5908.0,6145.0,6242.0,6251.0,6244.0,6303.0,6378.0,6481.0,6642.0,6559.0,6466.0,6478.0,6613.0,6666.0,6701.0,6744.0,6493.0,6495.0,6585.0,6672.0,6721.0,6761.0,6874.0,7055.0,7066.0,7036.0,7077.0,7138.0,7042.0,7151.0,7890.0,8017.0,8006.0,8071.0,8025.0,8112.0,8210.0,8256.0,8259.0,8189.0,8316.0,8372.0,8398.0,8671.0,8714.0,8747.0,8763.0,8776.0,8806.0,8802.0,8962.0,8976.0,8689.0,8689.0,8689.0,8689.0,8689.0,9324.0,9283.0,9148.0,9423.0,9207.0,9207.0,9207.0,9207.0,9207.0,9207.0,9207.0,9802.0,9694.0,9884.0,9725.0,10095.0,9906.0,10040.0,9622.0,9622.0,9622.0,9622.0,9622.0,9622.0,9622.0,10098.0,10012.0,10141.0,9915.0,10466.0,10235.0,10424.0,10257.0,10411.0,10216.0,10216.0,10540.0,10351.0,10585.0,10373.0,10505.0,10392.0,10635.0,9484.0,10622.0,10468.0,10764.0,10570.0,10989.0,10702.0,10960.0,10658.0,10865.0,10573.0,10706.0,9374.0,9915.0,8582.0,8822.0,7748.0,7748.0,7748.0,8149.0,6940.0,7380.0,6692.0,6955.0,6246.0,6246.0,6246.0,7019.0,6129.0,6524.0,5978.0,6394.0,6188.0,7741.0,6116.0,7493.0,6433.0,6748.0,5417.0,5836.0,5264.0,6231.0,5479.0,6525.0,5788.0,6481.0,6122.0,7020.0,6234.0,7743.0,5997.0,6239.0,5965.0,5965.0,6964.0,5905.0,6562.0,5945.0,6183.0,6017.0,6301.0,6192.0,7261.0,6675.0,7088.0,6674.0,7296.0,6688.0,6796.0,6610.0,7056.0,6924.0,7059.0,6992.0,7277.0,7183.0,7669.0,7553.0,7849.0,7570.0,7845.0,7786.0,8115.0,7914.0,7914.0,8310.0,8194.0,8398.0,8335.0,8538.0,8480.0,8863.0,8784.0,8964.0,8902.0,9097.0,8969.0,8969.0,8969.0,9351.0,9272.0,9608.0,9370.0,9370.0,9370.0,9370.0,9370.0,9370.0,9370.0,10195.0,10105.0,10569.0,10438.0,10560.0,10449.0,10672.0,10569.0,10569.0,11036.0,10897.0,11089.0,10978.0,11240.0,11174.0,11179.0,11179.0,12646.0,12372.0,12372.0,12372.0,12372.0,12372.0,12372.0,13184.0,13073.0,13333.0,13249.0,13472.0,13365.0,13491.0,13409.0,13679.0,13535.0,13761.0,13589.0,13750.0,13654.0,13845.0,13378.0,13449.0,12386.0,11909.0,11845.0,12210.0,12122.0,13024.0,12840.0,14244.0,13922.0,14214.0,14002.0,14104.0,14026.0,14729.0,14180.0,14368.0,13116.0,14081.0,13887.0,14473.0,14109.0,14433.0,14134.0,14302.0,14067.0,14321.0,14040.0,14380.0,14092.0,14362.0,14063.0,14132.0,10094.0,10094.0,10094.0,10094.0,10094.0,10094.0,10094.0,10094.0,10094.0,10094.0,10355.0,9360.0,9722.0,9224.0,9718.0,9103.0,10263.0,8409.0,8771.0,7916.0,8217.0,7721.0,8959.0,6917.0,7433.0,6453.0,6924.0,6466.0,7336.0,6582.0,8174.0,5937.0,6521.0,5870.0,6248.0,6077.0,7334.0,7181.0,5869.0,6223.0,5711.0,6148.0,5511.0,5511.0,5511.0,6610.0,5838.0,6246.0,5911.0,6322.0,5856.0,6408.0,5916.0,6037.0,5963.0,6335.0,6227.0,6807.0,6171.0,6466.0,6410.0,6765.0,6683.0,7162.0,6916.0,7368.0,7033.0,7142.0,7081.0,7274.0,7209.0,7465.0,7408.0,7806.0,7714.0,7904.0,7863.0,8179.0,8061.0,8530.0,8295.0,8430.0,8348.0,8548.0,8501.0,8714.0,8577.0,8961.0,8830.0,9055.0,8947.0,8947.0,8947.0,9564.0,9383.0,9526.0,9416.0,9219.0,9219.0,9219.0,9663.0,9495.0,9726.0,9616.0,9882.0,9855.0,10093.0]},\"selected\":{\"id\":\"5826\",\"type\":\"Selection\"},\"selection_policy\":{\"id\":\"5827\",\"type\":\"UnionRenderers\"}},\"id\":\"5557\",\"type\":\"ColumnDataSource\"},{\"attributes\":{\"plot\":null,\"text\":\"Webshop X - Historic chart\"},\"id\":\"5948\",\"type\":\"Title\"},{\"attributes\":{},\"id\":\"5973\",\"type\":\"ResetTool\"},{\"attributes\":{\"plot\":{\"id\":\"5949\",\"subtype\":\"Figure\",\"type\":\"Plot\"},\"ticker\":{\"id\":\"5960\",\"type\":\"DatetimeTicker\"}},\"id\":\"5963\",\"type\":\"Grid\"},{\"attributes\":{},\"id\":\"5974\",\"type\":\"HelpTool\"},{\"attributes\":{\"formatter\":{\"id\":\"6221\",\"type\":\"BasicTickFormatter\"},\"plot\":{\"id\":\"5949\",\"subtype\":\"Figure\",\"type\":\"Plot\"},\"ticker\":{\"id\":\"5965\",\"type\":\"BasicTicker\"}},\"id\":\"5964\",\"type\":\"LinearAxis\"},{\"attributes\":{\"line_alpha\":0.1,\"line_color\":\"#1f77b4\",\"line_width\":2,\"x\":{\"field\":\"price_date\"},\"y\":{\"field\":\"product_count\"}},\"id\":\"5986\",\"type\":\"Line\"},{\"attributes\":{\"bottom_units\":\"screen\",\"fill_alpha\":{\"value\":0.5},\"fill_color\":{\"value\":\"lightgrey\"},\"left_units\":\"screen\",\"level\":\"overlay\",\"line_alpha\":{\"value\":1.0},\"line_color\":{\"value\":\"black\"},\"line_dash\":[4,4],\"line_width\":{\"value\":2},\"plot\":null,\"render_mode\":\"css\",\"right_units\":\"screen\",\"top_units\":\"screen\"},\"id\":\"5977\",\"type\":\"BoxAnnotation\"},{\"attributes\":{},\"id\":\"5965\",\"type\":\"BasicTicker\"},{\"attributes\":{\"dimension\":1,\"plot\":{\"id\":\"5949\",\"subtype\":\"Figure\",\"type\":\"Plot\"},\"ticker\":{\"id\":\"5965\",\"type\":\"BasicTicker\"}},\"id\":\"5968\",\"type\":\"Grid\"},{\"attributes\":{\"data_source\":{\"id\":\"5557\",\"type\":\"ColumnDataSource\"},\"glyph\":{\"id\":\"5985\",\"type\":\"Line\"},\"hover_glyph\":null,\"muted_glyph\":null,\"nonselection_glyph\":{\"id\":\"5986\",\"type\":\"Line\"},\"selection_glyph\":null,\"view\":{\"id\":\"5988\",\"type\":\"CDSView\"}},\"id\":\"5987\",\"type\":\"GlyphRenderer\"},{\"attributes\":{},\"id\":\"6223\",\"type\":\"DatetimeTickFormatter\"}],\"root_ids\":[\"5949\"]},\"title\":\"Bokeh Application\",\"version\":\"1.0.2\"}};\n",
       "  var render_items = [{\"docid\":\"d9dafb09-b21e-4a1b-84c7-f221d7d01f2c\",\"roots\":{\"5949\":\"709b3847-66c5-499a-9a82-5ade0a95cf21\"}}];\n",
       "  root.Bokeh.embed.embed_items_notebook(docs_json, render_items);\n",
       "\n",
       "  }\n",
       "  if (root.Bokeh !== undefined) {\n",
       "    embed_document(root);\n",
       "  } else {\n",
       "    var attempts = 0;\n",
       "    var timer = setInterval(function(root) {\n",
       "      if (root.Bokeh !== undefined) {\n",
       "        embed_document(root);\n",
       "        clearInterval(timer);\n",
       "      }\n",
       "      attempts++;\n",
       "      if (attempts > 100) {\n",
       "        console.log(\"Bokeh: ERROR: Unable to run BokehJS code because BokehJS library is missing\");\n",
       "        clearInterval(timer);\n",
       "      }\n",
       "    }, 10, root)\n",
       "  }\n",
       "})(window);"
      ],
      "application/vnd.bokehjs_exec.v0+json": ""
     },
     "metadata": {
      "application/vnd.bokehjs_exec.v0+json": {
       "id": "5949"
      }
     },
     "output_type": "display_data"
    }
   ],
   "source": [
    "from bokeh.models.annotations import BoxAnnotation, Span\n",
    "\n",
    "p = figure(plot_width=800, plot_height=400, x_axis_type='datetime', title=\"Webshop X - Historic chart\")\n",
    "p.line('price_date', 'product_count', line_width=2, source=source)\n",
    "\n",
    "# horizontal line\n",
    "line = Span(location=7000, dimension='width', line_color='purple', line_width=1)\n",
    "p.add_layout(line)\n",
    "\n",
    "show(p) # show the results"
   ]
  },
  {
   "cell_type": "code",
   "execution_count": 32,
   "metadata": {
    "slideshow": {
     "slide_type": "subslide"
    }
   },
   "outputs": [
    {
     "data": {
      "text/html": [
       "\n",
       "\n",
       "\n",
       "\n",
       "\n",
       "\n",
       "  <div class=\"bk-root\" id=\"b5fff9c1-9212-48d1-9291-6240d4e6f319\"></div>\n"
      ]
     },
     "metadata": {},
     "output_type": "display_data"
    },
    {
     "data": {
      "application/javascript": [
       "(function(root) {\n",
       "  function embed_document(root) {\n",
       "    \n",
       "  var docs_json = {\"afc29caa-7344-4817-a98f-b4e76a43f60f\":{\"roots\":{\"references\":[{\"attributes\":{\"below\":[{\"id\":\"6370\",\"type\":\"DatetimeAxis\"}],\"left\":[{\"id\":\"6375\",\"type\":\"LinearAxis\"}],\"plot_height\":400,\"plot_width\":800,\"renderers\":[{\"id\":\"6370\",\"type\":\"DatetimeAxis\"},{\"id\":\"6374\",\"type\":\"Grid\"},{\"id\":\"6375\",\"type\":\"LinearAxis\"},{\"id\":\"6379\",\"type\":\"Grid\"},{\"id\":\"6388\",\"type\":\"BoxAnnotation\"},{\"id\":\"6398\",\"type\":\"GlyphRenderer\"},{\"id\":\"6400\",\"type\":\"BoxAnnotation\"},{\"id\":\"6401\",\"type\":\"BoxAnnotation\"}],\"title\":{\"id\":\"6359\",\"type\":\"Title\"},\"toolbar\":{\"id\":\"6386\",\"type\":\"Toolbar\"},\"x_range\":{\"id\":\"6362\",\"type\":\"DataRange1d\"},\"x_scale\":{\"id\":\"6366\",\"type\":\"LinearScale\"},\"y_range\":{\"id\":\"6364\",\"type\":\"DataRange1d\"},\"y_scale\":{\"id\":\"6368\",\"type\":\"LinearScale\"}},\"id\":\"6360\",\"subtype\":\"Figure\",\"type\":\"Plot\"},{\"attributes\":{\"days\":[1,4,7,10,13,16,19,22,25,28]},\"id\":\"6661\",\"type\":\"DaysTicker\"},{\"attributes\":{\"line_color\":\"#1f77b4\",\"line_width\":2,\"x\":{\"field\":\"price_date\"},\"y\":{\"field\":\"product_count\"}},\"id\":\"6396\",\"type\":\"Line\"},{\"attributes\":{\"plot\":null,\"text\":\"Webshop X - Historic chart\"},\"id\":\"6359\",\"type\":\"Title\"},{\"attributes\":{\"days\":[1,8,15,22]},\"id\":\"6662\",\"type\":\"DaysTicker\"},{\"attributes\":{\"active_drag\":\"auto\",\"active_inspect\":\"auto\",\"active_multi\":null,\"active_scroll\":\"auto\",\"active_tap\":\"auto\",\"tools\":[{\"id\":\"6380\",\"type\":\"PanTool\"},{\"id\":\"6381\",\"type\":\"WheelZoomTool\"},{\"id\":\"6382\",\"type\":\"BoxZoomTool\"},{\"id\":\"6383\",\"type\":\"SaveTool\"},{\"id\":\"6384\",\"type\":\"ResetTool\"},{\"id\":\"6385\",\"type\":\"HelpTool\"}]},\"id\":\"6386\",\"type\":\"Toolbar\"},{\"attributes\":{},\"id\":\"6380\",\"type\":\"PanTool\"},{\"attributes\":{\"days\":[1,15]},\"id\":\"6663\",\"type\":\"DaysTicker\"},{\"attributes\":{\"callback\":null},\"id\":\"6362\",\"type\":\"DataRange1d\"},{\"attributes\":{},\"id\":\"6381\",\"type\":\"WheelZoomTool\"},{\"attributes\":{\"callback\":null},\"id\":\"6364\",\"type\":\"DataRange1d\"},{\"attributes\":{\"months\":[0,1,2,3,4,5,6,7,8,9,10,11]},\"id\":\"6664\",\"type\":\"MonthsTicker\"},{\"attributes\":{\"overlay\":{\"id\":\"6388\",\"type\":\"BoxAnnotation\"}},\"id\":\"6382\",\"type\":\"BoxZoomTool\"},{\"attributes\":{\"months\":[0,2,4,6,8,10]},\"id\":\"6665\",\"type\":\"MonthsTicker\"},{\"attributes\":{},\"id\":\"5826\",\"type\":\"Selection\"},{\"attributes\":{},\"id\":\"6366\",\"type\":\"LinearScale\"},{\"attributes\":{},\"id\":\"6383\",\"type\":\"SaveTool\"},{\"attributes\":{\"months\":[0,4,8]},\"id\":\"6666\",\"type\":\"MonthsTicker\"},{\"attributes\":{},\"id\":\"5827\",\"type\":\"UnionRenderers\"},{\"attributes\":{},\"id\":\"6384\",\"type\":\"ResetTool\"},{\"attributes\":{\"bottom\":11000,\"fill_alpha\":{\"value\":0.1},\"fill_color\":{\"value\":\"olive\"},\"plot\":{\"id\":\"6360\",\"subtype\":\"Figure\",\"type\":\"Plot\"}},\"id\":\"6400\",\"type\":\"BoxAnnotation\"},{\"attributes\":{\"months\":[0,6]},\"id\":\"6667\",\"type\":\"MonthsTicker\"},{\"attributes\":{},\"id\":\"6385\",\"type\":\"HelpTool\"},{\"attributes\":{},\"id\":\"6668\",\"type\":\"YearsTicker\"},{\"attributes\":{\"line_alpha\":0.1,\"line_color\":\"#1f77b4\",\"line_width\":2,\"x\":{\"field\":\"price_date\"},\"y\":{\"field\":\"product_count\"}},\"id\":\"6397\",\"type\":\"Line\"},{\"attributes\":{\"bottom_units\":\"screen\",\"fill_alpha\":{\"value\":0.5},\"fill_color\":{\"value\":\"lightgrey\"},\"left_units\":\"screen\",\"level\":\"overlay\",\"line_alpha\":{\"value\":1.0},\"line_color\":{\"value\":\"black\"},\"line_dash\":[4,4],\"line_width\":{\"value\":2},\"plot\":null,\"render_mode\":\"css\",\"right_units\":\"screen\",\"top_units\":\"screen\"},\"id\":\"6388\",\"type\":\"BoxAnnotation\"},{\"attributes\":{},\"id\":\"6653\",\"type\":\"BasicTickFormatter\"},{\"attributes\":{\"data_source\":{\"id\":\"5557\",\"type\":\"ColumnDataSource\"},\"glyph\":{\"id\":\"6396\",\"type\":\"Line\"},\"hover_glyph\":null,\"muted_glyph\":null,\"nonselection_glyph\":{\"id\":\"6397\",\"type\":\"Line\"},\"selection_glyph\":null,\"view\":{\"id\":\"6399\",\"type\":\"CDSView\"}},\"id\":\"6398\",\"type\":\"GlyphRenderer\"},{\"attributes\":{\"source\":{\"id\":\"5557\",\"type\":\"ColumnDataSource\"}},\"id\":\"6399\",\"type\":\"CDSView\"},{\"attributes\":{\"callback\":null,\"data\":{\"price_date\":[1410220800000.0,1410307200000.0,1410393600000.0,1410480000000.0,1410566400000.0,1410652800000.0,1410739200000.0,1410825600000.0,1410912000000.0,1410998400000.0,1411084800000.0,1411171200000.0,1411257600000.0,1411344000000.0,1411430400000.0,1411516800000.0,1411603200000.0,1411689600000.0,1411776000000.0,1411862400000.0,1411948800000.0,1412035200000.0,1413504000000.0,1413590400000.0,1413676800000.0,1413763200000.0,1413849600000.0,1413936000000.0,1414022400000.0,1414108800000.0,1414195200000.0,1414281600000.0,1414368000000.0,1414972800000.0,1415059200000.0,1415145600000.0,1415232000000.0,1415318400000.0,1415404800000.0,1415491200000.0,1415577600000.0,1415664000000.0,1415750400000.0,1415836800000.0,1415923200000.0,1416009600000.0,1416096000000.0,1416182400000.0,1416268800000.0,1416355200000.0,1416441600000.0,1416528000000.0,1416614400000.0,1416700800000.0,1416787200000.0,1416873600000.0,1416960000000.0,1417046400000.0,1417132800000.0,1417219200000.0,1417305600000.0,1417392000000.0,1417478400000.0,1417564800000.0,1417651200000.0,1417737600000.0,1417824000000.0,1417910400000.0,1417996800000.0,1418083200000.0,1418169600000.0,1418256000000.0,1418342400000.0,1418428800000.0,1418515200000.0,1418601600000.0,1418688000000.0,1418774400000.0,1418860800000.0,1418947200000.0,1419033600000.0,1419120000000.0,1419206400000.0,1419292800000.0,1419379200000.0,1419465600000.0,1422748800000.0,1422835200000.0,1422921600000.0,1423008000000.0,1423094400000.0,1423180800000.0,1423267200000.0,1423353600000.0,1423440000000.0,1423526400000.0,1423612800000.0,1423699200000.0,1423785600000.0,1423872000000.0,1423958400000.0,1424044800000.0,1424131200000.0,1424217600000.0,1424304000000.0,1424390400000.0,1424476800000.0,1424563200000.0,1424649600000.0,1424736000000.0,1424822400000.0,1424908800000.0,1424995200000.0,1425081600000.0,1425168000000.0,1425254400000.0,1425340800000.0,1425427200000.0,1425513600000.0,1425600000000.0,1425686400000.0,1425772800000.0,1425859200000.0,1425945600000.0,1426032000000.0,1426118400000.0,1426204800000.0,1426291200000.0,1426377600000.0,1426464000000.0,1426550400000.0,1426636800000.0,1426723200000.0,1426809600000.0,1426896000000.0,1426982400000.0,1427068800000.0,1427155200000.0,1427241600000.0,1427328000000.0,1427760000000.0,1427846400000.0,1427932800000.0,1428019200000.0,1428105600000.0,1428192000000.0,1428278400000.0,1428364800000.0,1428451200000.0,1428537600000.0,1428624000000.0,1428710400000.0,1428796800000.0,1428883200000.0,1428969600000.0,1429056000000.0,1429142400000.0,1429228800000.0,1429315200000.0,1429401600000.0,1429488000000.0,1429574400000.0,1429660800000.0,1429747200000.0,1429833600000.0,1429920000000.0,1430006400000.0,1430092800000.0,1430179200000.0,1430265600000.0,1430352000000.0,1430438400000.0,1430524800000.0,1430611200000.0,1430697600000.0,1430784000000.0,1430870400000.0,1430956800000.0,1431043200000.0,1431129600000.0,1431216000000.0,1431302400000.0,1431388800000.0,1431475200000.0,1431561600000.0,1431648000000.0,1431734400000.0,1431820800000.0,1431907200000.0,1431993600000.0,1432080000000.0,1432166400000.0,1432252800000.0,1432339200000.0,1432425600000.0,1432512000000.0,1432598400000.0,1432684800000.0,1432771200000.0,1432857600000.0,1432944000000.0,1433030400000.0,1433116800000.0,1433203200000.0,1433289600000.0,1433376000000.0,1433462400000.0,1433548800000.0,1433635200000.0,1433721600000.0,1433808000000.0,1433894400000.0,1433980800000.0,1434067200000.0,1434153600000.0,1434240000000.0,1434326400000.0,1434412800000.0,1434499200000.0,1434585600000.0,1434672000000.0,1434758400000.0,1434844800000.0,1434931200000.0,1435017600000.0,1435104000000.0,1435190400000.0,1435276800000.0,1435363200000.0,1435449600000.0,1435536000000.0,1435622400000.0,1435708800000.0,1435795200000.0,1435881600000.0,1435968000000.0,1436054400000.0,1436140800000.0,1436227200000.0,1436313600000.0,1436400000000.0,1437004800000.0,1437091200000.0,1437177600000.0,1437264000000.0,1437782400000.0,1438300800000.0,1438387200000.0,1438473600000.0,1438560000000.0,1438646400000.0,1438732800000.0,1438819200000.0,1438905600000.0,1438992000000.0,1439078400000.0,1439164800000.0,1439251200000.0,1439337600000.0,1439424000000.0,1439510400000.0,1439596800000.0,1439683200000.0,1439769600000.0,1439856000000.0,1439942400000.0,1440028800000.0,1440115200000.0,1440201600000.0,1440288000000.0,1440374400000.0,1440460800000.0,1440547200000.0,1440633600000.0,1440720000000.0,1440806400000.0,1440892800000.0,1440979200000.0,1441065600000.0,1441152000000.0,1441238400000.0,1441324800000.0,1441411200000.0,1441497600000.0,1441584000000.0,1441670400000.0,1441756800000.0,1441843200000.0,1441929600000.0,1442016000000.0,1442102400000.0,1442188800000.0,1442275200000.0,1442361600000.0,1442448000000.0,1442534400000.0,1442620800000.0,1442707200000.0,1442793600000.0,1442880000000.0,1442966400000.0,1443052800000.0,1443139200000.0,1443225600000.0,1443312000000.0,1443398400000.0,1444694400000.0,1444780800000.0,1444867200000.0,1444953600000.0,1445040000000.0,1445126400000.0,1445212800000.0,1445299200000.0,1445385600000.0,1445472000000.0,1445558400000.0,1445644800000.0,1445731200000.0,1445817600000.0,1445904000000.0,1445990400000.0,1446076800000.0,1446163200000.0,1446249600000.0,1446336000000.0,1446422400000.0,1446508800000.0,1446595200000.0,1446681600000.0,1446768000000.0,1446854400000.0,1446940800000.0,1447027200000.0,1447113600000.0,1447200000000.0,1447286400000.0,1447372800000.0,1447459200000.0,1447545600000.0,1447632000000.0,1447718400000.0,1447804800000.0,1447891200000.0,1447977600000.0,1448064000000.0,1448150400000.0,1448236800000.0,1448323200000.0,1448409600000.0,1448496000000.0,1448582400000.0,1448668800000.0,1448755200000.0,1448841600000.0,1448928000000.0,1450828800000.0,1450915200000.0,1451001600000.0,1451088000000.0,1451174400000.0,1451260800000.0,1451347200000.0,1451433600000.0,1451520000000.0,1451606400000.0,1451692800000.0,1451779200000.0,1451865600000.0,1451952000000.0,1452038400000.0,1452124800000.0,1452211200000.0,1452297600000.0,1452384000000.0,1452470400000.0,1452556800000.0,1452643200000.0,1452729600000.0,1452816000000.0,1452902400000.0,1452988800000.0,1453593600000.0,1453680000000.0,1453766400000.0,1454457600000.0,1454544000000.0,1454630400000.0,1454716800000.0,1454803200000.0,1454889600000.0,1454976000000.0,1455062400000.0,1455148800000.0,1455235200000.0,1455321600000.0,1455408000000.0,1455494400000.0,1455580800000.0,1455667200000.0,1455753600000.0,1455840000000.0,1455926400000.0,1456012800000.0,1456099200000.0,1456185600000.0,1456272000000.0,1456358400000.0,1456444800000.0,1456531200000.0,1456617600000.0,1456704000000.0,1456790400000.0,1456876800000.0,1456963200000.0,1457049600000.0,1457136000000.0,1457222400000.0,1457308800000.0,1457395200000.0,1457481600000.0,1457568000000.0,1457654400000.0,1457740800000.0,1457827200000.0,1457913600000.0,1460764800000.0,1460851200000.0,1460937600000.0,1461024000000.0,1461110400000.0,1461196800000.0,1461283200000.0,1461369600000.0,1461456000000.0,1461542400000.0,1461628800000.0,1461715200000.0,1461801600000.0,1461888000000.0,1461974400000.0,1462060800000.0,1462147200000.0,1462233600000.0,1462320000000.0,1462406400000.0,1462492800000.0,1462579200000.0,1462665600000.0,1462752000000.0,1462838400000.0,1462924800000.0,1463011200000.0,1463097600000.0,1463184000000.0,1463270400000.0,1463356800000.0,1463443200000.0,1464134400000.0,1464220800000.0,1464307200000.0,1464393600000.0,1464480000000.0,1464566400000.0,1464652800000.0,1464739200000.0,1464825600000.0,1464912000000.0,1464998400000.0,1465084800000.0,1466899200000.0,1466985600000.0,1467072000000.0,1467158400000.0,1467244800000.0,1467331200000.0,1467417600000.0,1467504000000.0,1467590400000.0,1467676800000.0,1467763200000.0,1467849600000.0,1468540800000.0,1468627200000.0,1468713600000.0,1468800000000.0,1468886400000.0,1468972800000.0,1469836800000.0,1469923200000.0,1470009600000.0,1470096000000.0,1470182400000.0,1470268800000.0,1470355200000.0,1470441600000.0,1470528000000.0,1470614400000.0,1470700800000.0,1470787200000.0,1470873600000.0,1470960000000.0,1471046400000.0,1471132800000.0,1471219200000.0,1471305600000.0,1471392000000.0,1471478400000.0,1471564800000.0,1471651200000.0,1471737600000.0,1471824000000.0,1471910400000.0,1471996800000.0,1472083200000.0,1472169600000.0,1472256000000.0,1472342400000.0,1472428800000.0,1472515200000.0,1472601600000.0,1472688000000.0,1472774400000.0,1472860800000.0,1472947200000.0,1473033600000.0,1473120000000.0,1473206400000.0,1473292800000.0,1473379200000.0,1473465600000.0,1473552000000.0,1473638400000.0,1473724800000.0,1473811200000.0,1473897600000.0,1473984000000.0,1474070400000.0,1474156800000.0,1474243200000.0,1474329600000.0,1474416000000.0,1474502400000.0,1474588800000.0,1474675200000.0,1474761600000.0,1474848000000.0,1474934400000.0,1475020800000.0,1475107200000.0,1475193600000.0,1475280000000.0,1475366400000.0,1475452800000.0,1475539200000.0,1475625600000.0,1475712000000.0,1475798400000.0,1475884800000.0,1475971200000.0,1476057600000.0,1476144000000.0,1476230400000.0,1476316800000.0,1476403200000.0,1476489600000.0,1476576000000.0,1476662400000.0,1476748800000.0,1476835200000.0,1476921600000.0,1477008000000.0,1477094400000.0,1477180800000.0,1477267200000.0,1477353600000.0,1477440000000.0,1477526400000.0,1477612800000.0,1477699200000.0,1477785600000.0,1477872000000.0,1477958400000.0,1478044800000.0,1478131200000.0,1478217600000.0,1478304000000.0,1478390400000.0,1478476800000.0,1478563200000.0,1478649600000.0,1478736000000.0,1478822400000.0,1478908800000.0,1478995200000.0,1479081600000.0,1479168000000.0,1479254400000.0,1479340800000.0,1479427200000.0,1479513600000.0,1479600000000.0,1479686400000.0,1479772800000.0,1481328000000.0,1481414400000.0,1481500800000.0,1481587200000.0,1481673600000.0,1481760000000.0,1481846400000.0,1481932800000.0,1482019200000.0,1482105600000.0,1482192000000.0,1482278400000.0,1482883200000.0,1482969600000.0,1483056000000.0,1483142400000.0,1483228800000.0,1483315200000.0,1483401600000.0,1483488000000.0,1483574400000.0,1483660800000.0,1483747200000.0,1483833600000.0,1483920000000.0,1484006400000.0,1484092800000.0,1484179200000.0,1484265600000.0,1484352000000.0,1484438400000.0,1484524800000.0,1484611200000.0,1484697600000.0,1484784000000.0,1484870400000.0,1484956800000.0,1485043200000.0,1485129600000.0,1485216000000.0,1485302400000.0,1485388800000.0,1485475200000.0,1485561600000.0,1485648000000.0,1485734400000.0,1485820800000.0,1485907200000.0,1485993600000.0,1486080000000.0,1486166400000.0,1486252800000.0,1486339200000.0,1486425600000.0,1486512000000.0,1486598400000.0,1486684800000.0,1486771200000.0,1486857600000.0,1486944000000.0,1487030400000.0,1487116800000.0,1487203200000.0,1487289600000.0,1487376000000.0,1487462400000.0,1487548800000.0,1487635200000.0,1487721600000.0,1487808000000.0,1487894400000.0,1487980800000.0,1488067200000.0,1488153600000.0,1488240000000.0,1488326400000.0,1488412800000.0,1488499200000.0,1488585600000.0,1488672000000.0,1488758400000.0,1488844800000.0,1488931200000.0,1489017600000.0,1489104000000.0,1489190400000.0,1489276800000.0,1489363200000.0,1489449600000.0,1489536000000.0,1489622400000.0,1489708800000.0,1489795200000.0,1489881600000.0,1489968000000.0,1490054400000.0,1490140800000.0,1490227200000.0,1490313600000.0,1490400000000.0,1490486400000.0,1490572800000.0,1490659200000.0,1490745600000.0,1490832000000.0,1490918400000.0,1491004800000.0,1491091200000.0,1491177600000.0,1491264000000.0,1491350400000.0,1491436800000.0,1491523200000.0,1491609600000.0,1491696000000.0,1491782400000.0,1491868800000.0,1491955200000.0,1492041600000.0,1492128000000.0,1492214400000.0,1492300800000.0,1492387200000.0,1492473600000.0,1492560000000.0,1492646400000.0,1492732800000.0,1492819200000.0,1492905600000.0,1492992000000.0,1493078400000.0,1493164800000.0,1493251200000.0,1493337600000.0,1493424000000.0,1493510400000.0,1493596800000.0,1493683200000.0,1493769600000.0,1493856000000.0,1493942400000.0,1494028800000.0,1494115200000.0,1494201600000.0,1494288000000.0,1494374400000.0,1494460800000.0,1494547200000.0,1494633600000.0,1494720000000.0,1494806400000.0,1494892800000.0,1494979200000.0,1495065600000.0,1495152000000.0,1495238400000.0,1495324800000.0,1495411200000.0,1495497600000.0,1495584000000.0,1495670400000.0,1495756800000.0,1495843200000.0,1495929600000.0,1496016000000.0,1496102400000.0,1496188800000.0,1496275200000.0,1496361600000.0,1496448000000.0,1496534400000.0,1496620800000.0,1496707200000.0,1496793600000.0,1496880000000.0,1496966400000.0,1497052800000.0,1497139200000.0,1497225600000.0,1497312000000.0,1497398400000.0,1497484800000.0,1497571200000.0,1497657600000.0,1497744000000.0,1497830400000.0,1497916800000.0,1498003200000.0,1498089600000.0,1498176000000.0,1498262400000.0,1498348800000.0,1498435200000.0,1498521600000.0,1498608000000.0,1498694400000.0,1498780800000.0,1498867200000.0,1498953600000.0,1499040000000.0,1499126400000.0,1499212800000.0,1499299200000.0,1499385600000.0,1499472000000.0,1499558400000.0,1499644800000.0,1499731200000.0,1499817600000.0,1499904000000.0,1499990400000.0,1500076800000.0,1500163200000.0,1500249600000.0,1500336000000.0,1500422400000.0,1500508800000.0,1500595200000.0,1500681600000.0,1500768000000.0,1500854400000.0,1500940800000.0,1501027200000.0,1501113600000.0,1501200000000.0,1501286400000.0,1501372800000.0,1501459200000.0,1501545600000.0,1501632000000.0,1501718400000.0,1501804800000.0,1501891200000.0,1501977600000.0,1502064000000.0,1502150400000.0,1502236800000.0,1502323200000.0,1502409600000.0,1502496000000.0,1502582400000.0,1502668800000.0,1502755200000.0,1502841600000.0,1502928000000.0,1503014400000.0,1503100800000.0,1503187200000.0,1503273600000.0,1503360000000.0,1503446400000.0,1503532800000.0,1503619200000.0,1503705600000.0,1503792000000.0,1503878400000.0,1503964800000.0,1504051200000.0,1504137600000.0,1504224000000.0,1504310400000.0,1504396800000.0,1504483200000.0,1504569600000.0,1504656000000.0,1504742400000.0,1504828800000.0,1504915200000.0,1505001600000.0,1505088000000.0,1505174400000.0,1505260800000.0,1505347200000.0,1505433600000.0,1505520000000.0,1505606400000.0,1505692800000.0,1505779200000.0,1505865600000.0,1505952000000.0,1506038400000.0,1506124800000.0,1506211200000.0,1506297600000.0,1506384000000.0,1506470400000.0,1506556800000.0,1506643200000.0,1506729600000.0,1506816000000.0,1506902400000.0,1506988800000.0,1507075200000.0,1507161600000.0,1507248000000.0,1507334400000.0,1507420800000.0,1507507200000.0,1507593600000.0,1509235200000.0,1509321600000.0,1509408000000.0,1509494400000.0,1509580800000.0,1509667200000.0,1509753600000.0,1509840000000.0,1509926400000.0,1510012800000.0,1510099200000.0,1510185600000.0,1510272000000.0,1510358400000.0,1510444800000.0,1510531200000.0,1510617600000.0,1510704000000.0,1510790400000.0,1510876800000.0,1510963200000.0,1511049600000.0,1511136000000.0,1511222400000.0,1511308800000.0,1511395200000.0,1511481600000.0,1511568000000.0,1511654400000.0,1511740800000.0,1511827200000.0,1511913600000.0,1512000000000.0,1512086400000.0,1512172800000.0,1512259200000.0,1512345600000.0,1512432000000.0,1512518400000.0,1512604800000.0,1512691200000.0,1512777600000.0,1512864000000.0,1512950400000.0,1513036800000.0,1513123200000.0,1513209600000.0,1513296000000.0,1513382400000.0,1513468800000.0,1513555200000.0,1513641600000.0,1513728000000.0,1513814400000.0,1513900800000.0,1513987200000.0,1514073600000.0,1514160000000.0,1514246400000.0,1514332800000.0,1514419200000.0,1514505600000.0,1514592000000.0,1514678400000.0,1514764800000.0,1514851200000.0,1514937600000.0,1515024000000.0,1515110400000.0,1515196800000.0,1515283200000.0,1515369600000.0,1515456000000.0,1515542400000.0,1515628800000.0,1515715200000.0,1515801600000.0,1515888000000.0,1515974400000.0,1516060800000.0,1516147200000.0,1516233600000.0,1516320000000.0,1516406400000.0,1516492800000.0,1516579200000.0,1516665600000.0,1516752000000.0,1516838400000.0,1516924800000.0,1517011200000.0,1517097600000.0,1517184000000.0,1517270400000.0,1517356800000.0,1517443200000.0,1517529600000.0,1517616000000.0,1517702400000.0,1517788800000.0,1517875200000.0,1517961600000.0,1518048000000.0,1518134400000.0,1518220800000.0,1518307200000.0,1518393600000.0,1518480000000.0,1518566400000.0,1518652800000.0,1518739200000.0,1518825600000.0,1518912000000.0,1518998400000.0,1519084800000.0,1519171200000.0,1519257600000.0,1519344000000.0,1519430400000.0,1519516800000.0,1519603200000.0,1519689600000.0,1519776000000.0,1519862400000.0,1519948800000.0,1520035200000.0,1520121600000.0,1520208000000.0,1520294400000.0,1520380800000.0,1520467200000.0,1520553600000.0,1520640000000.0,1520726400000.0,1520812800000.0,1520899200000.0,1520985600000.0,1521072000000.0,1521158400000.0,1521244800000.0,1521331200000.0,1521417600000.0,1521504000000.0,1521590400000.0,1521676800000.0,1521763200000.0,1521849600000.0,1521936000000.0,1522022400000.0,1522108800000.0,1522195200000.0,1522281600000.0,1522368000000.0,1522454400000.0,1522540800000.0,1522627200000.0,1522713600000.0,1522800000000.0,1522886400000.0,1522972800000.0,1523059200000.0,1523145600000.0,1523232000000.0,1523318400000.0,1523404800000.0],\"product_count\":[4366.0,4299.0,4299.0,4299.0,4299.0,4299.0,4299.0,4299.0,4627.0,4603.0,4771.0,4742.0,4742.0,4742.0,4742.0,4742.0,5013.0,4981.0,4981.0,4981.0,4981.0,5146.0,5324.0,5541.0,5531.0,5630.0,5619.0,5628.0,5599.0,5527.0,5527.0,5527.0,5527.0,5741.0,5888.0,5835.0,5835.0,5848.0,5989.0,5880.0,5996.0,5955.0,5955.0,5958.0,6072.0,5961.0,5961.0,6043.0,5995.0,6103.0,6020.0,6020.0,6048.0,6199.0,6160.0,6393.0,5753.0,5753.0,5732.0,5460.0,5460.0,5218.0,5121.0,5077.0,5077.0,5277.0,5208.0,5208.0,5549.0,5485.0,5485.0,5842.0,5333.0,6264.0,6072.0,6072.0,6681.0,6457.0,6457.0,6585.0,6672.0,6613.0,6753.0,6602.0,6602.0,6873.0,2208.0,2184.0,2184.0,2452.0,1801.0,1798.0,2026.0,1883.0,1883.0,2062.0,1921.0,1921.0,2244.0,2202.0,2202.0,2381.0,2296.0,2296.0,3284.0,3263.0,3263.0,3480.0,3368.0,3368.0,3444.0,3452.0,3449.0,3722.0,3653.0,3653.0,3653.0,3855.0,3813.0,3813.0,3978.0,3941.0,3941.0,4111.0,4070.0,4070.0,4257.0,4232.0,4232.0,4387.0,4211.0,4211.0,4437.0,4401.0,4401.0,4510.0,4513.0,4509.0,4653.0,348.0,6043.0,6425.0,6457.0,6408.0,6494.0,6414.0,6414.0,6471.0,6264.0,6264.0,6264.0,6474.0,6569.0,6530.0,6695.0,6624.0,6623.0,6848.0,6742.0,6715.0,6942.0,6710.0,6807.0,6587.0,6587.0,6587.0,7021.0,6451.0,6468.0,6464.0,6804.0,6596.0,6596.0,6596.0,7248.0,7017.0,7017.0,7017.0,7017.0,7017.0,7451.0,7052.0,7052.0,7359.0,7162.0,7162.0,7405.0,7232.0,7232.0,7232.0,7296.0,7242.0,7700.0,7355.0,7355.0,7550.0,7405.0,7405.0,7835.0,7590.0,7590.0,7720.0,7888.0,7683.0,7683.0,7941.0,7796.0,7796.0,8062.0,7737.0,7737.0,7907.0,7036.0,7036.0,7689.0,7515.0,7515.0,8007.0,6707.0,6707.0,7866.0,6549.0,6549.0,6908.0,6184.0,6184.0,6551.0,5879.0,5879.0,6459.0,5681.0,5681.0,6082.0,5049.0,5049.0,5561.0,4923.0,4923.0,5417.0,4435.0,4435.0,4434.0,3773.0,3773.0,4167.0,4258.0,3799.0,3799.0,3799.0,3799.0,3799.0,5045.0,4093.0,4559.0,4183.0,4183.0,4461.0,4260.0,4260.0,4623.0,4421.0,4421.0,4672.0,4507.0,4507.0,4905.0,4494.0,4494.0,4852.0,4700.0,4700.0,5062.0,4733.0,4733.0,5066.0,4909.0,4909.0,5216.0,5250.0,5178.0,5164.0,5164.0,5476.0,5357.0,5572.0,5481.0,5481.0,5738.0,5607.0,5607.0,5786.0,5518.0,5469.0,5469.0,5832.0,5722.0,5978.0,5817.0,5817.0,5817.0,6127.0,6037.0,6344.0,6212.0,6212.0,6529.0,6999.0,7071.0,7037.0,7298.0,7103.0,7103.0,7103.0,7373.0,7302.0,7289.0,7726.0,7533.0,7533.0,7852.0,7610.0,7610.0,7888.0,7769.0,7788.0,8226.0,8094.0,8093.0,8386.0,8029.0,8029.0,8054.0,8343.0,8146.0,8480.0,8078.0,8078.0,8078.0,8595.0,8108.0,8108.0,8593.0,9266.0,9281.0,9540.0,9416.0,9416.0,9457.0,9394.0,9620.0,7917.0,7917.0,7917.0,8061.0,7643.0,8705.0,8894.0,8781.0,7376.0,7411.0,7521.0,5861.0,5861.0,5939.0,5630.0,5612.0,5344.0,5202.0,5002.0,5448.0,4942.0,5161.0,4709.0,4977.0,4330.0,4424.0,4199.0,4393.0,4048.0,4895.0,3603.0,3603.0,3463.0,3714.0,3199.0,4124.0,4453.0,4365.0,4384.0,4024.0,3980.0,4070.0,4312.0,4344.0,4107.0,3950.0,4197.0,4176.0,4202.0,4400.0,5008.0,4900.0,4259.0,4344.0,4547.0,4754.0,4534.0,4643.0,4912.0,4818.0,4899.0,4920.0,5075.0,5169.0,5159.0,5331.0,5140.0,5165.0,5397.0,5285.0,5312.0,5464.0,5604.0,5600.0,5606.0,5748.0,2252.0,2300.0,2452.0,2511.0,2693.0,2848.0,2879.0,2832.0,2864.0,3001.0,3047.0,3066.0,3173.0,3189.0,3157.0,3244.0,3327.0,3386.0,3413.0,3374.0,3676.0,3612.0,3635.0,3727.0,3785.0,3801.0,3955.0,3994.0,4012.0,3942.0,4081.0,4067.0,4347.0,4268.0,4599.0,4595.0,4566.0,4627.0,4604.0,4715.0,4845.0,4845.0,4727.0,4780.0,6735.0,6568.0,6766.0,6627.0,6661.0,6503.0,6283.0,5770.0,5695.0,5607.0,5951.0,6245.0,2203.0,2054.0,1727.0,1988.0,2704.0,2453.0,3103.0,3418.0,2854.0,2585.0,2585.0,3331.0,3285.0,3182.0,3168.0,3598.0,3763.0,4069.0,3459.0,4029.0,3657.0,3464.0,3270.0,3270.0,3270.0,3270.0,3981.0,4134.0,3981.0,4085.0,4131.0,4308.0,4399.0,4496.0,4571.0,4580.0,4578.0,4733.0,4803.0,4915.0,5069.0,5120.0,5106.0,5057.0,5129.0,5284.0,5517.0,5554.0,5556.0,5558.0,5484.0,5532.0,5646.0,5837.0,5943.0,5959.0,5959.0,6063.0,6008.0,6076.0,6185.0,6267.0,6263.0,6248.0,6339.0,6359.0,6431.0,6572.0,6609.0,6662.0,6697.0,6750.0,6820.0,6787.0,6933.0,6953.0,6952.0,6965.0,7053.0,7079.0,7192.0,7199.0,7348.0,7319.0,7217.0,7391.0,7442.0,7518.0,7754.0,7738.0,7788.0,7721.0,7835.0,7903.0,8023.0,8178.0,8238.0,8238.0,8273.0,8262.0,8385.0,8395.0,8571.0,8573.0,8590.0,8574.0,8592.0,8637.0,8705.0,8844.0,8870.0,8891.0,8890.0,8898.0,8850.0,9166.0,9185.0,9242.0,9249.0,9311.0,9380.0,9389.0,11343.0,11013.0,10843.0,10782.0,10741.0,10922.0,10979.0,10899.0,10900.0,10972.0,11214.0,11207.0,9346.0,8659.0,8731.0,8533.0,9227.0,9101.0,8816.0,8422.0,8429.0,8090.0,8010.0,7321.0,7206.0,7466.0,7371.0,7472.0,7262.0,7022.0,6339.0,6041.0,6036.0,6235.0,6223.0,6710.0,6002.0,5093.0,5059.0,5166.0,5206.0,5640.0,5603.0,4924.0,4924.0,4924.0,5533.0,5535.0,5761.0,5885.0,5272.0,5259.0,5099.0,5431.0,5495.0,6028.0,5040.0,5170.0,5200.0,5280.0,5032.0,5347.0,5409.0,5387.0,5343.0,5254.0,5617.0,5450.0,5377.0,5839.0,5877.0,5772.0,5909.0,5857.0,5794.0,5908.0,6145.0,6242.0,6251.0,6244.0,6303.0,6378.0,6481.0,6642.0,6559.0,6466.0,6478.0,6613.0,6666.0,6701.0,6744.0,6493.0,6495.0,6585.0,6672.0,6721.0,6761.0,6874.0,7055.0,7066.0,7036.0,7077.0,7138.0,7042.0,7151.0,7890.0,8017.0,8006.0,8071.0,8025.0,8112.0,8210.0,8256.0,8259.0,8189.0,8316.0,8372.0,8398.0,8671.0,8714.0,8747.0,8763.0,8776.0,8806.0,8802.0,8962.0,8976.0,8689.0,8689.0,8689.0,8689.0,8689.0,9324.0,9283.0,9148.0,9423.0,9207.0,9207.0,9207.0,9207.0,9207.0,9207.0,9207.0,9802.0,9694.0,9884.0,9725.0,10095.0,9906.0,10040.0,9622.0,9622.0,9622.0,9622.0,9622.0,9622.0,9622.0,10098.0,10012.0,10141.0,9915.0,10466.0,10235.0,10424.0,10257.0,10411.0,10216.0,10216.0,10540.0,10351.0,10585.0,10373.0,10505.0,10392.0,10635.0,9484.0,10622.0,10468.0,10764.0,10570.0,10989.0,10702.0,10960.0,10658.0,10865.0,10573.0,10706.0,9374.0,9915.0,8582.0,8822.0,7748.0,7748.0,7748.0,8149.0,6940.0,7380.0,6692.0,6955.0,6246.0,6246.0,6246.0,7019.0,6129.0,6524.0,5978.0,6394.0,6188.0,7741.0,6116.0,7493.0,6433.0,6748.0,5417.0,5836.0,5264.0,6231.0,5479.0,6525.0,5788.0,6481.0,6122.0,7020.0,6234.0,7743.0,5997.0,6239.0,5965.0,5965.0,6964.0,5905.0,6562.0,5945.0,6183.0,6017.0,6301.0,6192.0,7261.0,6675.0,7088.0,6674.0,7296.0,6688.0,6796.0,6610.0,7056.0,6924.0,7059.0,6992.0,7277.0,7183.0,7669.0,7553.0,7849.0,7570.0,7845.0,7786.0,8115.0,7914.0,7914.0,8310.0,8194.0,8398.0,8335.0,8538.0,8480.0,8863.0,8784.0,8964.0,8902.0,9097.0,8969.0,8969.0,8969.0,9351.0,9272.0,9608.0,9370.0,9370.0,9370.0,9370.0,9370.0,9370.0,9370.0,10195.0,10105.0,10569.0,10438.0,10560.0,10449.0,10672.0,10569.0,10569.0,11036.0,10897.0,11089.0,10978.0,11240.0,11174.0,11179.0,11179.0,12646.0,12372.0,12372.0,12372.0,12372.0,12372.0,12372.0,13184.0,13073.0,13333.0,13249.0,13472.0,13365.0,13491.0,13409.0,13679.0,13535.0,13761.0,13589.0,13750.0,13654.0,13845.0,13378.0,13449.0,12386.0,11909.0,11845.0,12210.0,12122.0,13024.0,12840.0,14244.0,13922.0,14214.0,14002.0,14104.0,14026.0,14729.0,14180.0,14368.0,13116.0,14081.0,13887.0,14473.0,14109.0,14433.0,14134.0,14302.0,14067.0,14321.0,14040.0,14380.0,14092.0,14362.0,14063.0,14132.0,10094.0,10094.0,10094.0,10094.0,10094.0,10094.0,10094.0,10094.0,10094.0,10094.0,10355.0,9360.0,9722.0,9224.0,9718.0,9103.0,10263.0,8409.0,8771.0,7916.0,8217.0,7721.0,8959.0,6917.0,7433.0,6453.0,6924.0,6466.0,7336.0,6582.0,8174.0,5937.0,6521.0,5870.0,6248.0,6077.0,7334.0,7181.0,5869.0,6223.0,5711.0,6148.0,5511.0,5511.0,5511.0,6610.0,5838.0,6246.0,5911.0,6322.0,5856.0,6408.0,5916.0,6037.0,5963.0,6335.0,6227.0,6807.0,6171.0,6466.0,6410.0,6765.0,6683.0,7162.0,6916.0,7368.0,7033.0,7142.0,7081.0,7274.0,7209.0,7465.0,7408.0,7806.0,7714.0,7904.0,7863.0,8179.0,8061.0,8530.0,8295.0,8430.0,8348.0,8548.0,8501.0,8714.0,8577.0,8961.0,8830.0,9055.0,8947.0,8947.0,8947.0,9564.0,9383.0,9526.0,9416.0,9219.0,9219.0,9219.0,9663.0,9495.0,9726.0,9616.0,9882.0,9855.0,10093.0]},\"selected\":{\"id\":\"5826\",\"type\":\"Selection\"},\"selection_policy\":{\"id\":\"5827\",\"type\":\"UnionRenderers\"}},\"id\":\"5557\",\"type\":\"ColumnDataSource\"},{\"attributes\":{\"base\":24,\"mantissas\":[1,2,4,6,8,12],\"max_interval\":43200000.0,\"min_interval\":3600000.0,\"num_minor_ticks\":0},\"id\":\"6659\",\"type\":\"AdaptiveTicker\"},{\"attributes\":{\"fill_alpha\":{\"value\":0.1},\"fill_color\":{\"value\":\"firebrick\"},\"plot\":{\"id\":\"6360\",\"subtype\":\"Figure\",\"type\":\"Plot\"},\"top\":3000},\"id\":\"6401\",\"type\":\"BoxAnnotation\"},{\"attributes\":{},\"id\":\"6368\",\"type\":\"LinearScale\"},{\"attributes\":{},\"id\":\"6376\",\"type\":\"BasicTicker\"},{\"attributes\":{\"dimension\":1,\"plot\":{\"id\":\"6360\",\"subtype\":\"Figure\",\"type\":\"Plot\"},\"ticker\":{\"id\":\"6376\",\"type\":\"BasicTicker\"}},\"id\":\"6379\",\"type\":\"Grid\"},{\"attributes\":{\"formatter\":{\"id\":\"6653\",\"type\":\"BasicTickFormatter\"},\"plot\":{\"id\":\"6360\",\"subtype\":\"Figure\",\"type\":\"Plot\"},\"ticker\":{\"id\":\"6376\",\"type\":\"BasicTicker\"}},\"id\":\"6375\",\"type\":\"LinearAxis\"},{\"attributes\":{\"base\":60,\"mantissas\":[1,2,5,10,15,20,30],\"max_interval\":1800000.0,\"min_interval\":1000.0,\"num_minor_ticks\":0},\"id\":\"6658\",\"type\":\"AdaptiveTicker\"},{\"attributes\":{\"formatter\":{\"id\":\"6655\",\"type\":\"DatetimeTickFormatter\"},\"plot\":{\"id\":\"6360\",\"subtype\":\"Figure\",\"type\":\"Plot\"},\"ticker\":{\"id\":\"6371\",\"type\":\"DatetimeTicker\"}},\"id\":\"6370\",\"type\":\"DatetimeAxis\"},{\"attributes\":{},\"id\":\"6655\",\"type\":\"DatetimeTickFormatter\"},{\"attributes\":{\"mantissas\":[1,2,5],\"max_interval\":500.0,\"num_minor_ticks\":0},\"id\":\"6657\",\"type\":\"AdaptiveTicker\"},{\"attributes\":{\"num_minor_ticks\":5,\"tickers\":[{\"id\":\"6657\",\"type\":\"AdaptiveTicker\"},{\"id\":\"6658\",\"type\":\"AdaptiveTicker\"},{\"id\":\"6659\",\"type\":\"AdaptiveTicker\"},{\"id\":\"6660\",\"type\":\"DaysTicker\"},{\"id\":\"6661\",\"type\":\"DaysTicker\"},{\"id\":\"6662\",\"type\":\"DaysTicker\"},{\"id\":\"6663\",\"type\":\"DaysTicker\"},{\"id\":\"6664\",\"type\":\"MonthsTicker\"},{\"id\":\"6665\",\"type\":\"MonthsTicker\"},{\"id\":\"6666\",\"type\":\"MonthsTicker\"},{\"id\":\"6667\",\"type\":\"MonthsTicker\"},{\"id\":\"6668\",\"type\":\"YearsTicker\"}]},\"id\":\"6371\",\"type\":\"DatetimeTicker\"},{\"attributes\":{\"days\":[1,2,3,4,5,6,7,8,9,10,11,12,13,14,15,16,17,18,19,20,21,22,23,24,25,26,27,28,29,30,31]},\"id\":\"6660\",\"type\":\"DaysTicker\"},{\"attributes\":{\"plot\":{\"id\":\"6360\",\"subtype\":\"Figure\",\"type\":\"Plot\"},\"ticker\":{\"id\":\"6371\",\"type\":\"DatetimeTicker\"}},\"id\":\"6374\",\"type\":\"Grid\"}],\"root_ids\":[\"6360\"]},\"title\":\"Bokeh Application\",\"version\":\"1.0.2\"}};\n",
       "  var render_items = [{\"docid\":\"afc29caa-7344-4817-a98f-b4e76a43f60f\",\"roots\":{\"6360\":\"b5fff9c1-9212-48d1-9291-6240d4e6f319\"}}];\n",
       "  root.Bokeh.embed.embed_items_notebook(docs_json, render_items);\n",
       "\n",
       "  }\n",
       "  if (root.Bokeh !== undefined) {\n",
       "    embed_document(root);\n",
       "  } else {\n",
       "    var attempts = 0;\n",
       "    var timer = setInterval(function(root) {\n",
       "      if (root.Bokeh !== undefined) {\n",
       "        embed_document(root);\n",
       "        clearInterval(timer);\n",
       "      }\n",
       "      attempts++;\n",
       "      if (attempts > 100) {\n",
       "        console.log(\"Bokeh: ERROR: Unable to run BokehJS code because BokehJS library is missing\");\n",
       "        clearInterval(timer);\n",
       "      }\n",
       "    }, 10, root)\n",
       "  }\n",
       "})(window);"
      ],
      "application/vnd.bokehjs_exec.v0+json": ""
     },
     "metadata": {
      "application/vnd.bokehjs_exec.v0+json": {
       "id": "6360"
      }
     },
     "output_type": "display_data"
    }
   ],
   "source": [
    "from bokeh.models.annotations import BoxAnnotation, Span\n",
    "\n",
    "p = figure(plot_width=800, plot_height=400, x_axis_type='datetime', title=\"Webshop X - Historic chart\")\n",
    "p.line('price_date', 'product_count', line_width=2, source=source)\n",
    "\n",
    "# region that always fills the top of the plot\n",
    "upper = BoxAnnotation(bottom=11000, fill_alpha=0.1, fill_color='olive')\n",
    "p.add_layout(upper)\n",
    "\n",
    "# region that always fills the bottom of the plot\n",
    "lower = BoxAnnotation(top=3000, fill_alpha=0.1, fill_color='firebrick')\n",
    "p.add_layout(lower)\n",
    "\n",
    "show(p) # show the results"
   ]
  },
  {
   "cell_type": "code",
   "execution_count": 33,
   "metadata": {
    "slideshow": {
     "slide_type": "subslide"
    }
   },
   "outputs": [
    {
     "data": {
      "text/html": [
       "\n",
       "\n",
       "\n",
       "\n",
       "\n",
       "\n",
       "  <div class=\"bk-root\" id=\"bf6a9ee0-f4fe-4665-a987-8ec49209924d\"></div>\n"
      ]
     },
     "metadata": {},
     "output_type": "display_data"
    },
    {
     "data": {
      "application/javascript": [
       "(function(root) {\n",
       "  function embed_document(root) {\n",
       "    \n",
       "  var docs_json = {\"f0fe72d0-25b4-4718-bbab-2d278cc0b79e\":{\"roots\":{\"references\":[{\"attributes\":{\"below\":[{\"id\":\"6802\",\"type\":\"DatetimeAxis\"}],\"left\":[{\"id\":\"6807\",\"type\":\"LinearAxis\"}],\"plot_height\":400,\"plot_width\":800,\"renderers\":[{\"id\":\"6802\",\"type\":\"DatetimeAxis\"},{\"id\":\"6806\",\"type\":\"Grid\"},{\"id\":\"6807\",\"type\":\"LinearAxis\"},{\"id\":\"6811\",\"type\":\"Grid\"},{\"id\":\"6820\",\"type\":\"BoxAnnotation\"},{\"id\":\"6830\",\"type\":\"GlyphRenderer\"},{\"id\":\"6832\",\"type\":\"BoxAnnotation\"}],\"title\":{\"id\":\"6791\",\"type\":\"Title\"},\"toolbar\":{\"id\":\"6818\",\"type\":\"Toolbar\"},\"x_range\":{\"id\":\"6794\",\"type\":\"DataRange1d\"},\"x_scale\":{\"id\":\"6798\",\"type\":\"LinearScale\"},\"y_range\":{\"id\":\"6796\",\"type\":\"DataRange1d\"},\"y_scale\":{\"id\":\"6800\",\"type\":\"LinearScale\"}},\"id\":\"6792\",\"subtype\":\"Figure\",\"type\":\"Plot\"},{\"attributes\":{},\"id\":\"6798\",\"type\":\"LinearScale\"},{\"attributes\":{\"data_source\":{\"id\":\"5557\",\"type\":\"ColumnDataSource\"},\"glyph\":{\"id\":\"6828\",\"type\":\"Line\"},\"hover_glyph\":null,\"muted_glyph\":null,\"nonselection_glyph\":{\"id\":\"6829\",\"type\":\"Line\"},\"selection_glyph\":null,\"view\":{\"id\":\"6831\",\"type\":\"CDSView\"}},\"id\":\"6830\",\"type\":\"GlyphRenderer\"},{\"attributes\":{\"bottom_units\":\"screen\",\"fill_alpha\":{\"value\":0.5},\"fill_color\":{\"value\":\"lightgrey\"},\"left_units\":\"screen\",\"level\":\"overlay\",\"line_alpha\":{\"value\":1.0},\"line_color\":{\"value\":\"black\"},\"line_dash\":[4,4],\"line_width\":{\"value\":2},\"plot\":null,\"render_mode\":\"css\",\"right_units\":\"screen\",\"top_units\":\"screen\"},\"id\":\"6820\",\"type\":\"BoxAnnotation\"},{\"attributes\":{},\"id\":\"7106\",\"type\":\"DatetimeTickFormatter\"},{\"attributes\":{\"source\":{\"id\":\"5557\",\"type\":\"ColumnDataSource\"}},\"id\":\"6831\",\"type\":\"CDSView\"},{\"attributes\":{},\"id\":\"6800\",\"type\":\"LinearScale\"},{\"attributes\":{\"formatter\":{\"id\":\"7106\",\"type\":\"DatetimeTickFormatter\"},\"plot\":{\"id\":\"6792\",\"subtype\":\"Figure\",\"type\":\"Plot\"},\"ticker\":{\"id\":\"6803\",\"type\":\"DatetimeTicker\"}},\"id\":\"6802\",\"type\":\"DatetimeAxis\"},{\"attributes\":{},\"id\":\"5826\",\"type\":\"Selection\"},{\"attributes\":{\"num_minor_ticks\":5,\"tickers\":[{\"id\":\"7108\",\"type\":\"AdaptiveTicker\"},{\"id\":\"7109\",\"type\":\"AdaptiveTicker\"},{\"id\":\"7110\",\"type\":\"AdaptiveTicker\"},{\"id\":\"7111\",\"type\":\"DaysTicker\"},{\"id\":\"7112\",\"type\":\"DaysTicker\"},{\"id\":\"7113\",\"type\":\"DaysTicker\"},{\"id\":\"7114\",\"type\":\"DaysTicker\"},{\"id\":\"7115\",\"type\":\"MonthsTicker\"},{\"id\":\"7116\",\"type\":\"MonthsTicker\"},{\"id\":\"7117\",\"type\":\"MonthsTicker\"},{\"id\":\"7118\",\"type\":\"MonthsTicker\"},{\"id\":\"7119\",\"type\":\"YearsTicker\"}]},\"id\":\"6803\",\"type\":\"DatetimeTicker\"},{\"attributes\":{\"mantissas\":[1,2,5],\"max_interval\":500.0,\"num_minor_ticks\":0},\"id\":\"7108\",\"type\":\"AdaptiveTicker\"},{\"attributes\":{},\"id\":\"5827\",\"type\":\"UnionRenderers\"},{\"attributes\":{\"plot\":{\"id\":\"6792\",\"subtype\":\"Figure\",\"type\":\"Plot\"},\"ticker\":{\"id\":\"6803\",\"type\":\"DatetimeTicker\"}},\"id\":\"6806\",\"type\":\"Grid\"},{\"attributes\":{\"base\":60,\"mantissas\":[1,2,5,10,15,20,30],\"max_interval\":1800000.0,\"min_interval\":1000.0,\"num_minor_ticks\":0},\"id\":\"7109\",\"type\":\"AdaptiveTicker\"},{\"attributes\":{\"formatter\":{\"id\":\"7104\",\"type\":\"BasicTickFormatter\"},\"plot\":{\"id\":\"6792\",\"subtype\":\"Figure\",\"type\":\"Plot\"},\"ticker\":{\"id\":\"6808\",\"type\":\"BasicTicker\"}},\"id\":\"6807\",\"type\":\"LinearAxis\"},{\"attributes\":{\"base\":24,\"mantissas\":[1,2,4,6,8,12],\"max_interval\":43200000.0,\"min_interval\":3600000.0,\"num_minor_ticks\":0},\"id\":\"7110\",\"type\":\"AdaptiveTicker\"},{\"attributes\":{},\"id\":\"6808\",\"type\":\"BasicTicker\"},{\"attributes\":{\"fill_alpha\":{\"value\":0.1},\"fill_color\":{\"value\":\"yellow\"},\"left\":1451606400000.0,\"plot\":{\"id\":\"6792\",\"subtype\":\"Figure\",\"type\":\"Plot\"},\"right\":1483228800000.0},\"id\":\"6832\",\"type\":\"BoxAnnotation\"},{\"attributes\":{\"dimension\":1,\"plot\":{\"id\":\"6792\",\"subtype\":\"Figure\",\"type\":\"Plot\"},\"ticker\":{\"id\":\"6808\",\"type\":\"BasicTicker\"}},\"id\":\"6811\",\"type\":\"Grid\"},{\"attributes\":{\"callback\":null},\"id\":\"6796\",\"type\":\"DataRange1d\"},{\"attributes\":{\"days\":[1,2,3,4,5,6,7,8,9,10,11,12,13,14,15,16,17,18,19,20,21,22,23,24,25,26,27,28,29,30,31]},\"id\":\"7111\",\"type\":\"DaysTicker\"},{\"attributes\":{\"line_alpha\":0.1,\"line_color\":\"#1f77b4\",\"line_width\":2,\"x\":{\"field\":\"price_date\"},\"y\":{\"field\":\"product_count\"}},\"id\":\"6829\",\"type\":\"Line\"},{\"attributes\":{\"plot\":null,\"text\":\"Webshop X - Historic chart\"},\"id\":\"6791\",\"type\":\"Title\"},{\"attributes\":{\"days\":[1,4,7,10,13,16,19,22,25,28]},\"id\":\"7112\",\"type\":\"DaysTicker\"},{\"attributes\":{\"line_color\":\"#1f77b4\",\"line_width\":2,\"x\":{\"field\":\"price_date\"},\"y\":{\"field\":\"product_count\"}},\"id\":\"6828\",\"type\":\"Line\"},{\"attributes\":{\"callback\":null,\"data\":{\"price_date\":[1410220800000.0,1410307200000.0,1410393600000.0,1410480000000.0,1410566400000.0,1410652800000.0,1410739200000.0,1410825600000.0,1410912000000.0,1410998400000.0,1411084800000.0,1411171200000.0,1411257600000.0,1411344000000.0,1411430400000.0,1411516800000.0,1411603200000.0,1411689600000.0,1411776000000.0,1411862400000.0,1411948800000.0,1412035200000.0,1413504000000.0,1413590400000.0,1413676800000.0,1413763200000.0,1413849600000.0,1413936000000.0,1414022400000.0,1414108800000.0,1414195200000.0,1414281600000.0,1414368000000.0,1414972800000.0,1415059200000.0,1415145600000.0,1415232000000.0,1415318400000.0,1415404800000.0,1415491200000.0,1415577600000.0,1415664000000.0,1415750400000.0,1415836800000.0,1415923200000.0,1416009600000.0,1416096000000.0,1416182400000.0,1416268800000.0,1416355200000.0,1416441600000.0,1416528000000.0,1416614400000.0,1416700800000.0,1416787200000.0,1416873600000.0,1416960000000.0,1417046400000.0,1417132800000.0,1417219200000.0,1417305600000.0,1417392000000.0,1417478400000.0,1417564800000.0,1417651200000.0,1417737600000.0,1417824000000.0,1417910400000.0,1417996800000.0,1418083200000.0,1418169600000.0,1418256000000.0,1418342400000.0,1418428800000.0,1418515200000.0,1418601600000.0,1418688000000.0,1418774400000.0,1418860800000.0,1418947200000.0,1419033600000.0,1419120000000.0,1419206400000.0,1419292800000.0,1419379200000.0,1419465600000.0,1422748800000.0,1422835200000.0,1422921600000.0,1423008000000.0,1423094400000.0,1423180800000.0,1423267200000.0,1423353600000.0,1423440000000.0,1423526400000.0,1423612800000.0,1423699200000.0,1423785600000.0,1423872000000.0,1423958400000.0,1424044800000.0,1424131200000.0,1424217600000.0,1424304000000.0,1424390400000.0,1424476800000.0,1424563200000.0,1424649600000.0,1424736000000.0,1424822400000.0,1424908800000.0,1424995200000.0,1425081600000.0,1425168000000.0,1425254400000.0,1425340800000.0,1425427200000.0,1425513600000.0,1425600000000.0,1425686400000.0,1425772800000.0,1425859200000.0,1425945600000.0,1426032000000.0,1426118400000.0,1426204800000.0,1426291200000.0,1426377600000.0,1426464000000.0,1426550400000.0,1426636800000.0,1426723200000.0,1426809600000.0,1426896000000.0,1426982400000.0,1427068800000.0,1427155200000.0,1427241600000.0,1427328000000.0,1427760000000.0,1427846400000.0,1427932800000.0,1428019200000.0,1428105600000.0,1428192000000.0,1428278400000.0,1428364800000.0,1428451200000.0,1428537600000.0,1428624000000.0,1428710400000.0,1428796800000.0,1428883200000.0,1428969600000.0,1429056000000.0,1429142400000.0,1429228800000.0,1429315200000.0,1429401600000.0,1429488000000.0,1429574400000.0,1429660800000.0,1429747200000.0,1429833600000.0,1429920000000.0,1430006400000.0,1430092800000.0,1430179200000.0,1430265600000.0,1430352000000.0,1430438400000.0,1430524800000.0,1430611200000.0,1430697600000.0,1430784000000.0,1430870400000.0,1430956800000.0,1431043200000.0,1431129600000.0,1431216000000.0,1431302400000.0,1431388800000.0,1431475200000.0,1431561600000.0,1431648000000.0,1431734400000.0,1431820800000.0,1431907200000.0,1431993600000.0,1432080000000.0,1432166400000.0,1432252800000.0,1432339200000.0,1432425600000.0,1432512000000.0,1432598400000.0,1432684800000.0,1432771200000.0,1432857600000.0,1432944000000.0,1433030400000.0,1433116800000.0,1433203200000.0,1433289600000.0,1433376000000.0,1433462400000.0,1433548800000.0,1433635200000.0,1433721600000.0,1433808000000.0,1433894400000.0,1433980800000.0,1434067200000.0,1434153600000.0,1434240000000.0,1434326400000.0,1434412800000.0,1434499200000.0,1434585600000.0,1434672000000.0,1434758400000.0,1434844800000.0,1434931200000.0,1435017600000.0,1435104000000.0,1435190400000.0,1435276800000.0,1435363200000.0,1435449600000.0,1435536000000.0,1435622400000.0,1435708800000.0,1435795200000.0,1435881600000.0,1435968000000.0,1436054400000.0,1436140800000.0,1436227200000.0,1436313600000.0,1436400000000.0,1437004800000.0,1437091200000.0,1437177600000.0,1437264000000.0,1437782400000.0,1438300800000.0,1438387200000.0,1438473600000.0,1438560000000.0,1438646400000.0,1438732800000.0,1438819200000.0,1438905600000.0,1438992000000.0,1439078400000.0,1439164800000.0,1439251200000.0,1439337600000.0,1439424000000.0,1439510400000.0,1439596800000.0,1439683200000.0,1439769600000.0,1439856000000.0,1439942400000.0,1440028800000.0,1440115200000.0,1440201600000.0,1440288000000.0,1440374400000.0,1440460800000.0,1440547200000.0,1440633600000.0,1440720000000.0,1440806400000.0,1440892800000.0,1440979200000.0,1441065600000.0,1441152000000.0,1441238400000.0,1441324800000.0,1441411200000.0,1441497600000.0,1441584000000.0,1441670400000.0,1441756800000.0,1441843200000.0,1441929600000.0,1442016000000.0,1442102400000.0,1442188800000.0,1442275200000.0,1442361600000.0,1442448000000.0,1442534400000.0,1442620800000.0,1442707200000.0,1442793600000.0,1442880000000.0,1442966400000.0,1443052800000.0,1443139200000.0,1443225600000.0,1443312000000.0,1443398400000.0,1444694400000.0,1444780800000.0,1444867200000.0,1444953600000.0,1445040000000.0,1445126400000.0,1445212800000.0,1445299200000.0,1445385600000.0,1445472000000.0,1445558400000.0,1445644800000.0,1445731200000.0,1445817600000.0,1445904000000.0,1445990400000.0,1446076800000.0,1446163200000.0,1446249600000.0,1446336000000.0,1446422400000.0,1446508800000.0,1446595200000.0,1446681600000.0,1446768000000.0,1446854400000.0,1446940800000.0,1447027200000.0,1447113600000.0,1447200000000.0,1447286400000.0,1447372800000.0,1447459200000.0,1447545600000.0,1447632000000.0,1447718400000.0,1447804800000.0,1447891200000.0,1447977600000.0,1448064000000.0,1448150400000.0,1448236800000.0,1448323200000.0,1448409600000.0,1448496000000.0,1448582400000.0,1448668800000.0,1448755200000.0,1448841600000.0,1448928000000.0,1450828800000.0,1450915200000.0,1451001600000.0,1451088000000.0,1451174400000.0,1451260800000.0,1451347200000.0,1451433600000.0,1451520000000.0,1451606400000.0,1451692800000.0,1451779200000.0,1451865600000.0,1451952000000.0,1452038400000.0,1452124800000.0,1452211200000.0,1452297600000.0,1452384000000.0,1452470400000.0,1452556800000.0,1452643200000.0,1452729600000.0,1452816000000.0,1452902400000.0,1452988800000.0,1453593600000.0,1453680000000.0,1453766400000.0,1454457600000.0,1454544000000.0,1454630400000.0,1454716800000.0,1454803200000.0,1454889600000.0,1454976000000.0,1455062400000.0,1455148800000.0,1455235200000.0,1455321600000.0,1455408000000.0,1455494400000.0,1455580800000.0,1455667200000.0,1455753600000.0,1455840000000.0,1455926400000.0,1456012800000.0,1456099200000.0,1456185600000.0,1456272000000.0,1456358400000.0,1456444800000.0,1456531200000.0,1456617600000.0,1456704000000.0,1456790400000.0,1456876800000.0,1456963200000.0,1457049600000.0,1457136000000.0,1457222400000.0,1457308800000.0,1457395200000.0,1457481600000.0,1457568000000.0,1457654400000.0,1457740800000.0,1457827200000.0,1457913600000.0,1460764800000.0,1460851200000.0,1460937600000.0,1461024000000.0,1461110400000.0,1461196800000.0,1461283200000.0,1461369600000.0,1461456000000.0,1461542400000.0,1461628800000.0,1461715200000.0,1461801600000.0,1461888000000.0,1461974400000.0,1462060800000.0,1462147200000.0,1462233600000.0,1462320000000.0,1462406400000.0,1462492800000.0,1462579200000.0,1462665600000.0,1462752000000.0,1462838400000.0,1462924800000.0,1463011200000.0,1463097600000.0,1463184000000.0,1463270400000.0,1463356800000.0,1463443200000.0,1464134400000.0,1464220800000.0,1464307200000.0,1464393600000.0,1464480000000.0,1464566400000.0,1464652800000.0,1464739200000.0,1464825600000.0,1464912000000.0,1464998400000.0,1465084800000.0,1466899200000.0,1466985600000.0,1467072000000.0,1467158400000.0,1467244800000.0,1467331200000.0,1467417600000.0,1467504000000.0,1467590400000.0,1467676800000.0,1467763200000.0,1467849600000.0,1468540800000.0,1468627200000.0,1468713600000.0,1468800000000.0,1468886400000.0,1468972800000.0,1469836800000.0,1469923200000.0,1470009600000.0,1470096000000.0,1470182400000.0,1470268800000.0,1470355200000.0,1470441600000.0,1470528000000.0,1470614400000.0,1470700800000.0,1470787200000.0,1470873600000.0,1470960000000.0,1471046400000.0,1471132800000.0,1471219200000.0,1471305600000.0,1471392000000.0,1471478400000.0,1471564800000.0,1471651200000.0,1471737600000.0,1471824000000.0,1471910400000.0,1471996800000.0,1472083200000.0,1472169600000.0,1472256000000.0,1472342400000.0,1472428800000.0,1472515200000.0,1472601600000.0,1472688000000.0,1472774400000.0,1472860800000.0,1472947200000.0,1473033600000.0,1473120000000.0,1473206400000.0,1473292800000.0,1473379200000.0,1473465600000.0,1473552000000.0,1473638400000.0,1473724800000.0,1473811200000.0,1473897600000.0,1473984000000.0,1474070400000.0,1474156800000.0,1474243200000.0,1474329600000.0,1474416000000.0,1474502400000.0,1474588800000.0,1474675200000.0,1474761600000.0,1474848000000.0,1474934400000.0,1475020800000.0,1475107200000.0,1475193600000.0,1475280000000.0,1475366400000.0,1475452800000.0,1475539200000.0,1475625600000.0,1475712000000.0,1475798400000.0,1475884800000.0,1475971200000.0,1476057600000.0,1476144000000.0,1476230400000.0,1476316800000.0,1476403200000.0,1476489600000.0,1476576000000.0,1476662400000.0,1476748800000.0,1476835200000.0,1476921600000.0,1477008000000.0,1477094400000.0,1477180800000.0,1477267200000.0,1477353600000.0,1477440000000.0,1477526400000.0,1477612800000.0,1477699200000.0,1477785600000.0,1477872000000.0,1477958400000.0,1478044800000.0,1478131200000.0,1478217600000.0,1478304000000.0,1478390400000.0,1478476800000.0,1478563200000.0,1478649600000.0,1478736000000.0,1478822400000.0,1478908800000.0,1478995200000.0,1479081600000.0,1479168000000.0,1479254400000.0,1479340800000.0,1479427200000.0,1479513600000.0,1479600000000.0,1479686400000.0,1479772800000.0,1481328000000.0,1481414400000.0,1481500800000.0,1481587200000.0,1481673600000.0,1481760000000.0,1481846400000.0,1481932800000.0,1482019200000.0,1482105600000.0,1482192000000.0,1482278400000.0,1482883200000.0,1482969600000.0,1483056000000.0,1483142400000.0,1483228800000.0,1483315200000.0,1483401600000.0,1483488000000.0,1483574400000.0,1483660800000.0,1483747200000.0,1483833600000.0,1483920000000.0,1484006400000.0,1484092800000.0,1484179200000.0,1484265600000.0,1484352000000.0,1484438400000.0,1484524800000.0,1484611200000.0,1484697600000.0,1484784000000.0,1484870400000.0,1484956800000.0,1485043200000.0,1485129600000.0,1485216000000.0,1485302400000.0,1485388800000.0,1485475200000.0,1485561600000.0,1485648000000.0,1485734400000.0,1485820800000.0,1485907200000.0,1485993600000.0,1486080000000.0,1486166400000.0,1486252800000.0,1486339200000.0,1486425600000.0,1486512000000.0,1486598400000.0,1486684800000.0,1486771200000.0,1486857600000.0,1486944000000.0,1487030400000.0,1487116800000.0,1487203200000.0,1487289600000.0,1487376000000.0,1487462400000.0,1487548800000.0,1487635200000.0,1487721600000.0,1487808000000.0,1487894400000.0,1487980800000.0,1488067200000.0,1488153600000.0,1488240000000.0,1488326400000.0,1488412800000.0,1488499200000.0,1488585600000.0,1488672000000.0,1488758400000.0,1488844800000.0,1488931200000.0,1489017600000.0,1489104000000.0,1489190400000.0,1489276800000.0,1489363200000.0,1489449600000.0,1489536000000.0,1489622400000.0,1489708800000.0,1489795200000.0,1489881600000.0,1489968000000.0,1490054400000.0,1490140800000.0,1490227200000.0,1490313600000.0,1490400000000.0,1490486400000.0,1490572800000.0,1490659200000.0,1490745600000.0,1490832000000.0,1490918400000.0,1491004800000.0,1491091200000.0,1491177600000.0,1491264000000.0,1491350400000.0,1491436800000.0,1491523200000.0,1491609600000.0,1491696000000.0,1491782400000.0,1491868800000.0,1491955200000.0,1492041600000.0,1492128000000.0,1492214400000.0,1492300800000.0,1492387200000.0,1492473600000.0,1492560000000.0,1492646400000.0,1492732800000.0,1492819200000.0,1492905600000.0,1492992000000.0,1493078400000.0,1493164800000.0,1493251200000.0,1493337600000.0,1493424000000.0,1493510400000.0,1493596800000.0,1493683200000.0,1493769600000.0,1493856000000.0,1493942400000.0,1494028800000.0,1494115200000.0,1494201600000.0,1494288000000.0,1494374400000.0,1494460800000.0,1494547200000.0,1494633600000.0,1494720000000.0,1494806400000.0,1494892800000.0,1494979200000.0,1495065600000.0,1495152000000.0,1495238400000.0,1495324800000.0,1495411200000.0,1495497600000.0,1495584000000.0,1495670400000.0,1495756800000.0,1495843200000.0,1495929600000.0,1496016000000.0,1496102400000.0,1496188800000.0,1496275200000.0,1496361600000.0,1496448000000.0,1496534400000.0,1496620800000.0,1496707200000.0,1496793600000.0,1496880000000.0,1496966400000.0,1497052800000.0,1497139200000.0,1497225600000.0,1497312000000.0,1497398400000.0,1497484800000.0,1497571200000.0,1497657600000.0,1497744000000.0,1497830400000.0,1497916800000.0,1498003200000.0,1498089600000.0,1498176000000.0,1498262400000.0,1498348800000.0,1498435200000.0,1498521600000.0,1498608000000.0,1498694400000.0,1498780800000.0,1498867200000.0,1498953600000.0,1499040000000.0,1499126400000.0,1499212800000.0,1499299200000.0,1499385600000.0,1499472000000.0,1499558400000.0,1499644800000.0,1499731200000.0,1499817600000.0,1499904000000.0,1499990400000.0,1500076800000.0,1500163200000.0,1500249600000.0,1500336000000.0,1500422400000.0,1500508800000.0,1500595200000.0,1500681600000.0,1500768000000.0,1500854400000.0,1500940800000.0,1501027200000.0,1501113600000.0,1501200000000.0,1501286400000.0,1501372800000.0,1501459200000.0,1501545600000.0,1501632000000.0,1501718400000.0,1501804800000.0,1501891200000.0,1501977600000.0,1502064000000.0,1502150400000.0,1502236800000.0,1502323200000.0,1502409600000.0,1502496000000.0,1502582400000.0,1502668800000.0,1502755200000.0,1502841600000.0,1502928000000.0,1503014400000.0,1503100800000.0,1503187200000.0,1503273600000.0,1503360000000.0,1503446400000.0,1503532800000.0,1503619200000.0,1503705600000.0,1503792000000.0,1503878400000.0,1503964800000.0,1504051200000.0,1504137600000.0,1504224000000.0,1504310400000.0,1504396800000.0,1504483200000.0,1504569600000.0,1504656000000.0,1504742400000.0,1504828800000.0,1504915200000.0,1505001600000.0,1505088000000.0,1505174400000.0,1505260800000.0,1505347200000.0,1505433600000.0,1505520000000.0,1505606400000.0,1505692800000.0,1505779200000.0,1505865600000.0,1505952000000.0,1506038400000.0,1506124800000.0,1506211200000.0,1506297600000.0,1506384000000.0,1506470400000.0,1506556800000.0,1506643200000.0,1506729600000.0,1506816000000.0,1506902400000.0,1506988800000.0,1507075200000.0,1507161600000.0,1507248000000.0,1507334400000.0,1507420800000.0,1507507200000.0,1507593600000.0,1509235200000.0,1509321600000.0,1509408000000.0,1509494400000.0,1509580800000.0,1509667200000.0,1509753600000.0,1509840000000.0,1509926400000.0,1510012800000.0,1510099200000.0,1510185600000.0,1510272000000.0,1510358400000.0,1510444800000.0,1510531200000.0,1510617600000.0,1510704000000.0,1510790400000.0,1510876800000.0,1510963200000.0,1511049600000.0,1511136000000.0,1511222400000.0,1511308800000.0,1511395200000.0,1511481600000.0,1511568000000.0,1511654400000.0,1511740800000.0,1511827200000.0,1511913600000.0,1512000000000.0,1512086400000.0,1512172800000.0,1512259200000.0,1512345600000.0,1512432000000.0,1512518400000.0,1512604800000.0,1512691200000.0,1512777600000.0,1512864000000.0,1512950400000.0,1513036800000.0,1513123200000.0,1513209600000.0,1513296000000.0,1513382400000.0,1513468800000.0,1513555200000.0,1513641600000.0,1513728000000.0,1513814400000.0,1513900800000.0,1513987200000.0,1514073600000.0,1514160000000.0,1514246400000.0,1514332800000.0,1514419200000.0,1514505600000.0,1514592000000.0,1514678400000.0,1514764800000.0,1514851200000.0,1514937600000.0,1515024000000.0,1515110400000.0,1515196800000.0,1515283200000.0,1515369600000.0,1515456000000.0,1515542400000.0,1515628800000.0,1515715200000.0,1515801600000.0,1515888000000.0,1515974400000.0,1516060800000.0,1516147200000.0,1516233600000.0,1516320000000.0,1516406400000.0,1516492800000.0,1516579200000.0,1516665600000.0,1516752000000.0,1516838400000.0,1516924800000.0,1517011200000.0,1517097600000.0,1517184000000.0,1517270400000.0,1517356800000.0,1517443200000.0,1517529600000.0,1517616000000.0,1517702400000.0,1517788800000.0,1517875200000.0,1517961600000.0,1518048000000.0,1518134400000.0,1518220800000.0,1518307200000.0,1518393600000.0,1518480000000.0,1518566400000.0,1518652800000.0,1518739200000.0,1518825600000.0,1518912000000.0,1518998400000.0,1519084800000.0,1519171200000.0,1519257600000.0,1519344000000.0,1519430400000.0,1519516800000.0,1519603200000.0,1519689600000.0,1519776000000.0,1519862400000.0,1519948800000.0,1520035200000.0,1520121600000.0,1520208000000.0,1520294400000.0,1520380800000.0,1520467200000.0,1520553600000.0,1520640000000.0,1520726400000.0,1520812800000.0,1520899200000.0,1520985600000.0,1521072000000.0,1521158400000.0,1521244800000.0,1521331200000.0,1521417600000.0,1521504000000.0,1521590400000.0,1521676800000.0,1521763200000.0,1521849600000.0,1521936000000.0,1522022400000.0,1522108800000.0,1522195200000.0,1522281600000.0,1522368000000.0,1522454400000.0,1522540800000.0,1522627200000.0,1522713600000.0,1522800000000.0,1522886400000.0,1522972800000.0,1523059200000.0,1523145600000.0,1523232000000.0,1523318400000.0,1523404800000.0],\"product_count\":[4366.0,4299.0,4299.0,4299.0,4299.0,4299.0,4299.0,4299.0,4627.0,4603.0,4771.0,4742.0,4742.0,4742.0,4742.0,4742.0,5013.0,4981.0,4981.0,4981.0,4981.0,5146.0,5324.0,5541.0,5531.0,5630.0,5619.0,5628.0,5599.0,5527.0,5527.0,5527.0,5527.0,5741.0,5888.0,5835.0,5835.0,5848.0,5989.0,5880.0,5996.0,5955.0,5955.0,5958.0,6072.0,5961.0,5961.0,6043.0,5995.0,6103.0,6020.0,6020.0,6048.0,6199.0,6160.0,6393.0,5753.0,5753.0,5732.0,5460.0,5460.0,5218.0,5121.0,5077.0,5077.0,5277.0,5208.0,5208.0,5549.0,5485.0,5485.0,5842.0,5333.0,6264.0,6072.0,6072.0,6681.0,6457.0,6457.0,6585.0,6672.0,6613.0,6753.0,6602.0,6602.0,6873.0,2208.0,2184.0,2184.0,2452.0,1801.0,1798.0,2026.0,1883.0,1883.0,2062.0,1921.0,1921.0,2244.0,2202.0,2202.0,2381.0,2296.0,2296.0,3284.0,3263.0,3263.0,3480.0,3368.0,3368.0,3444.0,3452.0,3449.0,3722.0,3653.0,3653.0,3653.0,3855.0,3813.0,3813.0,3978.0,3941.0,3941.0,4111.0,4070.0,4070.0,4257.0,4232.0,4232.0,4387.0,4211.0,4211.0,4437.0,4401.0,4401.0,4510.0,4513.0,4509.0,4653.0,348.0,6043.0,6425.0,6457.0,6408.0,6494.0,6414.0,6414.0,6471.0,6264.0,6264.0,6264.0,6474.0,6569.0,6530.0,6695.0,6624.0,6623.0,6848.0,6742.0,6715.0,6942.0,6710.0,6807.0,6587.0,6587.0,6587.0,7021.0,6451.0,6468.0,6464.0,6804.0,6596.0,6596.0,6596.0,7248.0,7017.0,7017.0,7017.0,7017.0,7017.0,7451.0,7052.0,7052.0,7359.0,7162.0,7162.0,7405.0,7232.0,7232.0,7232.0,7296.0,7242.0,7700.0,7355.0,7355.0,7550.0,7405.0,7405.0,7835.0,7590.0,7590.0,7720.0,7888.0,7683.0,7683.0,7941.0,7796.0,7796.0,8062.0,7737.0,7737.0,7907.0,7036.0,7036.0,7689.0,7515.0,7515.0,8007.0,6707.0,6707.0,7866.0,6549.0,6549.0,6908.0,6184.0,6184.0,6551.0,5879.0,5879.0,6459.0,5681.0,5681.0,6082.0,5049.0,5049.0,5561.0,4923.0,4923.0,5417.0,4435.0,4435.0,4434.0,3773.0,3773.0,4167.0,4258.0,3799.0,3799.0,3799.0,3799.0,3799.0,5045.0,4093.0,4559.0,4183.0,4183.0,4461.0,4260.0,4260.0,4623.0,4421.0,4421.0,4672.0,4507.0,4507.0,4905.0,4494.0,4494.0,4852.0,4700.0,4700.0,5062.0,4733.0,4733.0,5066.0,4909.0,4909.0,5216.0,5250.0,5178.0,5164.0,5164.0,5476.0,5357.0,5572.0,5481.0,5481.0,5738.0,5607.0,5607.0,5786.0,5518.0,5469.0,5469.0,5832.0,5722.0,5978.0,5817.0,5817.0,5817.0,6127.0,6037.0,6344.0,6212.0,6212.0,6529.0,6999.0,7071.0,7037.0,7298.0,7103.0,7103.0,7103.0,7373.0,7302.0,7289.0,7726.0,7533.0,7533.0,7852.0,7610.0,7610.0,7888.0,7769.0,7788.0,8226.0,8094.0,8093.0,8386.0,8029.0,8029.0,8054.0,8343.0,8146.0,8480.0,8078.0,8078.0,8078.0,8595.0,8108.0,8108.0,8593.0,9266.0,9281.0,9540.0,9416.0,9416.0,9457.0,9394.0,9620.0,7917.0,7917.0,7917.0,8061.0,7643.0,8705.0,8894.0,8781.0,7376.0,7411.0,7521.0,5861.0,5861.0,5939.0,5630.0,5612.0,5344.0,5202.0,5002.0,5448.0,4942.0,5161.0,4709.0,4977.0,4330.0,4424.0,4199.0,4393.0,4048.0,4895.0,3603.0,3603.0,3463.0,3714.0,3199.0,4124.0,4453.0,4365.0,4384.0,4024.0,3980.0,4070.0,4312.0,4344.0,4107.0,3950.0,4197.0,4176.0,4202.0,4400.0,5008.0,4900.0,4259.0,4344.0,4547.0,4754.0,4534.0,4643.0,4912.0,4818.0,4899.0,4920.0,5075.0,5169.0,5159.0,5331.0,5140.0,5165.0,5397.0,5285.0,5312.0,5464.0,5604.0,5600.0,5606.0,5748.0,2252.0,2300.0,2452.0,2511.0,2693.0,2848.0,2879.0,2832.0,2864.0,3001.0,3047.0,3066.0,3173.0,3189.0,3157.0,3244.0,3327.0,3386.0,3413.0,3374.0,3676.0,3612.0,3635.0,3727.0,3785.0,3801.0,3955.0,3994.0,4012.0,3942.0,4081.0,4067.0,4347.0,4268.0,4599.0,4595.0,4566.0,4627.0,4604.0,4715.0,4845.0,4845.0,4727.0,4780.0,6735.0,6568.0,6766.0,6627.0,6661.0,6503.0,6283.0,5770.0,5695.0,5607.0,5951.0,6245.0,2203.0,2054.0,1727.0,1988.0,2704.0,2453.0,3103.0,3418.0,2854.0,2585.0,2585.0,3331.0,3285.0,3182.0,3168.0,3598.0,3763.0,4069.0,3459.0,4029.0,3657.0,3464.0,3270.0,3270.0,3270.0,3270.0,3981.0,4134.0,3981.0,4085.0,4131.0,4308.0,4399.0,4496.0,4571.0,4580.0,4578.0,4733.0,4803.0,4915.0,5069.0,5120.0,5106.0,5057.0,5129.0,5284.0,5517.0,5554.0,5556.0,5558.0,5484.0,5532.0,5646.0,5837.0,5943.0,5959.0,5959.0,6063.0,6008.0,6076.0,6185.0,6267.0,6263.0,6248.0,6339.0,6359.0,6431.0,6572.0,6609.0,6662.0,6697.0,6750.0,6820.0,6787.0,6933.0,6953.0,6952.0,6965.0,7053.0,7079.0,7192.0,7199.0,7348.0,7319.0,7217.0,7391.0,7442.0,7518.0,7754.0,7738.0,7788.0,7721.0,7835.0,7903.0,8023.0,8178.0,8238.0,8238.0,8273.0,8262.0,8385.0,8395.0,8571.0,8573.0,8590.0,8574.0,8592.0,8637.0,8705.0,8844.0,8870.0,8891.0,8890.0,8898.0,8850.0,9166.0,9185.0,9242.0,9249.0,9311.0,9380.0,9389.0,11343.0,11013.0,10843.0,10782.0,10741.0,10922.0,10979.0,10899.0,10900.0,10972.0,11214.0,11207.0,9346.0,8659.0,8731.0,8533.0,9227.0,9101.0,8816.0,8422.0,8429.0,8090.0,8010.0,7321.0,7206.0,7466.0,7371.0,7472.0,7262.0,7022.0,6339.0,6041.0,6036.0,6235.0,6223.0,6710.0,6002.0,5093.0,5059.0,5166.0,5206.0,5640.0,5603.0,4924.0,4924.0,4924.0,5533.0,5535.0,5761.0,5885.0,5272.0,5259.0,5099.0,5431.0,5495.0,6028.0,5040.0,5170.0,5200.0,5280.0,5032.0,5347.0,5409.0,5387.0,5343.0,5254.0,5617.0,5450.0,5377.0,5839.0,5877.0,5772.0,5909.0,5857.0,5794.0,5908.0,6145.0,6242.0,6251.0,6244.0,6303.0,6378.0,6481.0,6642.0,6559.0,6466.0,6478.0,6613.0,6666.0,6701.0,6744.0,6493.0,6495.0,6585.0,6672.0,6721.0,6761.0,6874.0,7055.0,7066.0,7036.0,7077.0,7138.0,7042.0,7151.0,7890.0,8017.0,8006.0,8071.0,8025.0,8112.0,8210.0,8256.0,8259.0,8189.0,8316.0,8372.0,8398.0,8671.0,8714.0,8747.0,8763.0,8776.0,8806.0,8802.0,8962.0,8976.0,8689.0,8689.0,8689.0,8689.0,8689.0,9324.0,9283.0,9148.0,9423.0,9207.0,9207.0,9207.0,9207.0,9207.0,9207.0,9207.0,9802.0,9694.0,9884.0,9725.0,10095.0,9906.0,10040.0,9622.0,9622.0,9622.0,9622.0,9622.0,9622.0,9622.0,10098.0,10012.0,10141.0,9915.0,10466.0,10235.0,10424.0,10257.0,10411.0,10216.0,10216.0,10540.0,10351.0,10585.0,10373.0,10505.0,10392.0,10635.0,9484.0,10622.0,10468.0,10764.0,10570.0,10989.0,10702.0,10960.0,10658.0,10865.0,10573.0,10706.0,9374.0,9915.0,8582.0,8822.0,7748.0,7748.0,7748.0,8149.0,6940.0,7380.0,6692.0,6955.0,6246.0,6246.0,6246.0,7019.0,6129.0,6524.0,5978.0,6394.0,6188.0,7741.0,6116.0,7493.0,6433.0,6748.0,5417.0,5836.0,5264.0,6231.0,5479.0,6525.0,5788.0,6481.0,6122.0,7020.0,6234.0,7743.0,5997.0,6239.0,5965.0,5965.0,6964.0,5905.0,6562.0,5945.0,6183.0,6017.0,6301.0,6192.0,7261.0,6675.0,7088.0,6674.0,7296.0,6688.0,6796.0,6610.0,7056.0,6924.0,7059.0,6992.0,7277.0,7183.0,7669.0,7553.0,7849.0,7570.0,7845.0,7786.0,8115.0,7914.0,7914.0,8310.0,8194.0,8398.0,8335.0,8538.0,8480.0,8863.0,8784.0,8964.0,8902.0,9097.0,8969.0,8969.0,8969.0,9351.0,9272.0,9608.0,9370.0,9370.0,9370.0,9370.0,9370.0,9370.0,9370.0,10195.0,10105.0,10569.0,10438.0,10560.0,10449.0,10672.0,10569.0,10569.0,11036.0,10897.0,11089.0,10978.0,11240.0,11174.0,11179.0,11179.0,12646.0,12372.0,12372.0,12372.0,12372.0,12372.0,12372.0,13184.0,13073.0,13333.0,13249.0,13472.0,13365.0,13491.0,13409.0,13679.0,13535.0,13761.0,13589.0,13750.0,13654.0,13845.0,13378.0,13449.0,12386.0,11909.0,11845.0,12210.0,12122.0,13024.0,12840.0,14244.0,13922.0,14214.0,14002.0,14104.0,14026.0,14729.0,14180.0,14368.0,13116.0,14081.0,13887.0,14473.0,14109.0,14433.0,14134.0,14302.0,14067.0,14321.0,14040.0,14380.0,14092.0,14362.0,14063.0,14132.0,10094.0,10094.0,10094.0,10094.0,10094.0,10094.0,10094.0,10094.0,10094.0,10094.0,10355.0,9360.0,9722.0,9224.0,9718.0,9103.0,10263.0,8409.0,8771.0,7916.0,8217.0,7721.0,8959.0,6917.0,7433.0,6453.0,6924.0,6466.0,7336.0,6582.0,8174.0,5937.0,6521.0,5870.0,6248.0,6077.0,7334.0,7181.0,5869.0,6223.0,5711.0,6148.0,5511.0,5511.0,5511.0,6610.0,5838.0,6246.0,5911.0,6322.0,5856.0,6408.0,5916.0,6037.0,5963.0,6335.0,6227.0,6807.0,6171.0,6466.0,6410.0,6765.0,6683.0,7162.0,6916.0,7368.0,7033.0,7142.0,7081.0,7274.0,7209.0,7465.0,7408.0,7806.0,7714.0,7904.0,7863.0,8179.0,8061.0,8530.0,8295.0,8430.0,8348.0,8548.0,8501.0,8714.0,8577.0,8961.0,8830.0,9055.0,8947.0,8947.0,8947.0,9564.0,9383.0,9526.0,9416.0,9219.0,9219.0,9219.0,9663.0,9495.0,9726.0,9616.0,9882.0,9855.0,10093.0]},\"selected\":{\"id\":\"5826\",\"type\":\"Selection\"},\"selection_policy\":{\"id\":\"5827\",\"type\":\"UnionRenderers\"}},\"id\":\"5557\",\"type\":\"ColumnDataSource\"},{\"attributes\":{\"active_drag\":\"auto\",\"active_inspect\":\"auto\",\"active_multi\":null,\"active_scroll\":\"auto\",\"active_tap\":\"auto\",\"tools\":[{\"id\":\"6812\",\"type\":\"PanTool\"},{\"id\":\"6813\",\"type\":\"WheelZoomTool\"},{\"id\":\"6814\",\"type\":\"BoxZoomTool\"},{\"id\":\"6815\",\"type\":\"SaveTool\"},{\"id\":\"6816\",\"type\":\"ResetTool\"},{\"id\":\"6817\",\"type\":\"HelpTool\"}]},\"id\":\"6818\",\"type\":\"Toolbar\"},{\"attributes\":{\"days\":[1,8,15,22]},\"id\":\"7113\",\"type\":\"DaysTicker\"},{\"attributes\":{},\"id\":\"6812\",\"type\":\"PanTool\"},{\"attributes\":{\"days\":[1,15]},\"id\":\"7114\",\"type\":\"DaysTicker\"},{\"attributes\":{\"callback\":null},\"id\":\"6794\",\"type\":\"DataRange1d\"},{\"attributes\":{},\"id\":\"6813\",\"type\":\"WheelZoomTool\"},{\"attributes\":{\"months\":[0,1,2,3,4,5,6,7,8,9,10,11]},\"id\":\"7115\",\"type\":\"MonthsTicker\"},{\"attributes\":{\"overlay\":{\"id\":\"6820\",\"type\":\"BoxAnnotation\"}},\"id\":\"6814\",\"type\":\"BoxZoomTool\"},{\"attributes\":{\"months\":[0,2,4,6,8,10]},\"id\":\"7116\",\"type\":\"MonthsTicker\"},{\"attributes\":{},\"id\":\"6815\",\"type\":\"SaveTool\"},{\"attributes\":{\"months\":[0,4,8]},\"id\":\"7117\",\"type\":\"MonthsTicker\"},{\"attributes\":{},\"id\":\"6816\",\"type\":\"ResetTool\"},{\"attributes\":{\"months\":[0,6]},\"id\":\"7118\",\"type\":\"MonthsTicker\"},{\"attributes\":{},\"id\":\"7104\",\"type\":\"BasicTickFormatter\"},{\"attributes\":{},\"id\":\"6817\",\"type\":\"HelpTool\"},{\"attributes\":{},\"id\":\"7119\",\"type\":\"YearsTicker\"}],\"root_ids\":[\"6792\"]},\"title\":\"Bokeh Application\",\"version\":\"1.0.2\"}};\n",
       "  var render_items = [{\"docid\":\"f0fe72d0-25b4-4718-bbab-2d278cc0b79e\",\"roots\":{\"6792\":\"bf6a9ee0-f4fe-4665-a987-8ec49209924d\"}}];\n",
       "  root.Bokeh.embed.embed_items_notebook(docs_json, render_items);\n",
       "\n",
       "  }\n",
       "  if (root.Bokeh !== undefined) {\n",
       "    embed_document(root);\n",
       "  } else {\n",
       "    var attempts = 0;\n",
       "    var timer = setInterval(function(root) {\n",
       "      if (root.Bokeh !== undefined) {\n",
       "        embed_document(root);\n",
       "        clearInterval(timer);\n",
       "      }\n",
       "      attempts++;\n",
       "      if (attempts > 100) {\n",
       "        console.log(\"Bokeh: ERROR: Unable to run BokehJS code because BokehJS library is missing\");\n",
       "        clearInterval(timer);\n",
       "      }\n",
       "    }, 10, root)\n",
       "  }\n",
       "})(window);"
      ],
      "application/vnd.bokehjs_exec.v0+json": ""
     },
     "metadata": {
      "application/vnd.bokehjs_exec.v0+json": {
       "id": "6792"
      }
     },
     "output_type": "display_data"
    }
   ],
   "source": [
    "from bokeh.models.annotations import BoxAnnotation\n",
    "from datetime import datetime\n",
    "\n",
    "p = figure(plot_width=800, plot_height=400, x_axis_type='datetime', title=\"Webshop X - Historic chart\")\n",
    "p.line('price_date', 'product_count', line_width=2, source=source)\n",
    "\n",
    "# a finite region\n",
    "center = BoxAnnotation(left=datetime.strptime('2016-01-01', \"%Y-%m-%d\"), \n",
    "                       right=datetime.strptime('2017-01-01', \"%Y-%m-%d\"), \n",
    "                       fill_alpha=0.1, fill_color='yellow')\n",
    "p.add_layout(center)\n",
    "\n",
    "show(p) # show the results"
   ]
  },
  {
   "cell_type": "markdown",
   "metadata": {
    "slideshow": {
     "slide_type": "subslide"
    }
   },
   "source": [
    "Hovers"
   ]
  },
  {
   "cell_type": "code",
   "execution_count": 34,
   "metadata": {
    "slideshow": {
     "slide_type": "-"
    }
   },
   "outputs": [
    {
     "data": {
      "text/html": [
       "\n",
       "\n",
       "\n",
       "\n",
       "\n",
       "\n",
       "  <div class=\"bk-root\" id=\"6adc0e17-ffda-469f-b5e5-c03717ea4fd8\"></div>\n"
      ]
     },
     "metadata": {},
     "output_type": "display_data"
    },
    {
     "data": {
      "application/javascript": [
       "(function(root) {\n",
       "  function embed_document(root) {\n",
       "    \n",
       "  var docs_json = {\"e4f9ca3f-87b4-47f8-a3ee-cd3824cf80c8\":{\"roots\":{\"references\":[{\"attributes\":{\"below\":[{\"id\":\"7254\",\"type\":\"DatetimeAxis\"}],\"left\":[{\"id\":\"7259\",\"type\":\"LinearAxis\"}],\"plot_height\":400,\"plot_width\":800,\"renderers\":[{\"id\":\"7254\",\"type\":\"DatetimeAxis\"},{\"id\":\"7258\",\"type\":\"Grid\"},{\"id\":\"7259\",\"type\":\"LinearAxis\"},{\"id\":\"7263\",\"type\":\"Grid\"},{\"id\":\"7269\",\"type\":\"GlyphRenderer\"}],\"title\":{\"id\":\"7243\",\"type\":\"Title\"},\"toolbar\":{\"id\":\"7264\",\"type\":\"Toolbar\"},\"x_range\":{\"id\":\"7246\",\"type\":\"DataRange1d\"},\"x_scale\":{\"id\":\"7250\",\"type\":\"LinearScale\"},\"y_range\":{\"id\":\"7248\",\"type\":\"DataRange1d\"},\"y_scale\":{\"id\":\"7252\",\"type\":\"LinearScale\"}},\"id\":\"7244\",\"subtype\":\"Figure\",\"type\":\"Plot\"},{\"attributes\":{\"months\":[0,1,2,3,4,5,6,7,8,9,10,11]},\"id\":\"7572\",\"type\":\"MonthsTicker\"},{\"attributes\":{\"callback\":null,\"tooltips\":[[\"index\",\"$index\"],[\"price_date\",\"@price_date\"],[\"product_count\",\"@product_count\"]]},\"id\":\"7242\",\"type\":\"HoverTool\"},{\"attributes\":{\"active_drag\":\"auto\",\"active_inspect\":\"auto\",\"active_multi\":null,\"active_scroll\":\"auto\",\"active_tap\":\"auto\",\"tools\":[{\"id\":\"7242\",\"type\":\"HoverTool\"}]},\"id\":\"7264\",\"type\":\"Toolbar\"},{\"attributes\":{\"months\":[0,2,4,6,8,10]},\"id\":\"7573\",\"type\":\"MonthsTicker\"},{\"attributes\":{},\"id\":\"7564\",\"type\":\"DatetimeTickFormatter\"},{\"attributes\":{\"source\":{\"id\":\"5557\",\"type\":\"ColumnDataSource\"}},\"id\":\"7270\",\"type\":\"CDSView\"},{\"attributes\":{\"days\":[1,15]},\"id\":\"7571\",\"type\":\"DaysTicker\"},{\"attributes\":{},\"id\":\"5826\",\"type\":\"Selection\"},{\"attributes\":{\"data_source\":{\"id\":\"5557\",\"type\":\"ColumnDataSource\"},\"glyph\":{\"id\":\"7267\",\"type\":\"Line\"},\"hover_glyph\":null,\"muted_glyph\":null,\"nonselection_glyph\":{\"id\":\"7268\",\"type\":\"Line\"},\"selection_glyph\":null,\"view\":{\"id\":\"7270\",\"type\":\"CDSView\"}},\"id\":\"7269\",\"type\":\"GlyphRenderer\"},{\"attributes\":{},\"id\":\"5827\",\"type\":\"UnionRenderers\"},{\"attributes\":{\"line_alpha\":0.1,\"line_color\":\"#1f77b4\",\"line_width\":2,\"x\":{\"field\":\"price_date\"},\"y\":{\"field\":\"product_count\"}},\"id\":\"7268\",\"type\":\"Line\"},{\"attributes\":{\"dimension\":1,\"plot\":{\"id\":\"7244\",\"subtype\":\"Figure\",\"type\":\"Plot\"},\"ticker\":{\"id\":\"7260\",\"type\":\"BasicTicker\"}},\"id\":\"7263\",\"type\":\"Grid\"},{\"attributes\":{\"line_color\":\"#1f77b4\",\"line_width\":2,\"x\":{\"field\":\"price_date\"},\"y\":{\"field\":\"product_count\"}},\"id\":\"7267\",\"type\":\"Line\"},{\"attributes\":{\"formatter\":{\"id\":\"7564\",\"type\":\"DatetimeTickFormatter\"},\"plot\":{\"id\":\"7244\",\"subtype\":\"Figure\",\"type\":\"Plot\"},\"ticker\":{\"id\":\"7255\",\"type\":\"DatetimeTicker\"}},\"id\":\"7254\",\"type\":\"DatetimeAxis\"},{\"attributes\":{\"num_minor_ticks\":5,\"tickers\":[{\"id\":\"7565\",\"type\":\"AdaptiveTicker\"},{\"id\":\"7566\",\"type\":\"AdaptiveTicker\"},{\"id\":\"7567\",\"type\":\"AdaptiveTicker\"},{\"id\":\"7568\",\"type\":\"DaysTicker\"},{\"id\":\"7569\",\"type\":\"DaysTicker\"},{\"id\":\"7570\",\"type\":\"DaysTicker\"},{\"id\":\"7571\",\"type\":\"DaysTicker\"},{\"id\":\"7572\",\"type\":\"MonthsTicker\"},{\"id\":\"7573\",\"type\":\"MonthsTicker\"},{\"id\":\"7574\",\"type\":\"MonthsTicker\"},{\"id\":\"7575\",\"type\":\"MonthsTicker\"},{\"id\":\"7576\",\"type\":\"YearsTicker\"}]},\"id\":\"7255\",\"type\":\"DatetimeTicker\"},{\"attributes\":{\"days\":[1,2,3,4,5,6,7,8,9,10,11,12,13,14,15,16,17,18,19,20,21,22,23,24,25,26,27,28,29,30,31]},\"id\":\"7568\",\"type\":\"DaysTicker\"},{\"attributes\":{\"base\":24,\"mantissas\":[1,2,4,6,8,12],\"max_interval\":43200000.0,\"min_interval\":3600000.0,\"num_minor_ticks\":0},\"id\":\"7567\",\"type\":\"AdaptiveTicker\"},{\"attributes\":{\"plot\":{\"id\":\"7244\",\"subtype\":\"Figure\",\"type\":\"Plot\"},\"ticker\":{\"id\":\"7255\",\"type\":\"DatetimeTicker\"}},\"id\":\"7258\",\"type\":\"Grid\"},{\"attributes\":{\"formatter\":{\"id\":\"7562\",\"type\":\"BasicTickFormatter\"},\"plot\":{\"id\":\"7244\",\"subtype\":\"Figure\",\"type\":\"Plot\"},\"ticker\":{\"id\":\"7260\",\"type\":\"BasicTicker\"}},\"id\":\"7259\",\"type\":\"LinearAxis\"},{\"attributes\":{\"base\":60,\"mantissas\":[1,2,5,10,15,20,30],\"max_interval\":1800000.0,\"min_interval\":1000.0,\"num_minor_ticks\":0},\"id\":\"7566\",\"type\":\"AdaptiveTicker\"},{\"attributes\":{},\"id\":\"7260\",\"type\":\"BasicTicker\"},{\"attributes\":{\"callback\":null,\"data\":{\"price_date\":[1410220800000.0,1410307200000.0,1410393600000.0,1410480000000.0,1410566400000.0,1410652800000.0,1410739200000.0,1410825600000.0,1410912000000.0,1410998400000.0,1411084800000.0,1411171200000.0,1411257600000.0,1411344000000.0,1411430400000.0,1411516800000.0,1411603200000.0,1411689600000.0,1411776000000.0,1411862400000.0,1411948800000.0,1412035200000.0,1413504000000.0,1413590400000.0,1413676800000.0,1413763200000.0,1413849600000.0,1413936000000.0,1414022400000.0,1414108800000.0,1414195200000.0,1414281600000.0,1414368000000.0,1414972800000.0,1415059200000.0,1415145600000.0,1415232000000.0,1415318400000.0,1415404800000.0,1415491200000.0,1415577600000.0,1415664000000.0,1415750400000.0,1415836800000.0,1415923200000.0,1416009600000.0,1416096000000.0,1416182400000.0,1416268800000.0,1416355200000.0,1416441600000.0,1416528000000.0,1416614400000.0,1416700800000.0,1416787200000.0,1416873600000.0,1416960000000.0,1417046400000.0,1417132800000.0,1417219200000.0,1417305600000.0,1417392000000.0,1417478400000.0,1417564800000.0,1417651200000.0,1417737600000.0,1417824000000.0,1417910400000.0,1417996800000.0,1418083200000.0,1418169600000.0,1418256000000.0,1418342400000.0,1418428800000.0,1418515200000.0,1418601600000.0,1418688000000.0,1418774400000.0,1418860800000.0,1418947200000.0,1419033600000.0,1419120000000.0,1419206400000.0,1419292800000.0,1419379200000.0,1419465600000.0,1422748800000.0,1422835200000.0,1422921600000.0,1423008000000.0,1423094400000.0,1423180800000.0,1423267200000.0,1423353600000.0,1423440000000.0,1423526400000.0,1423612800000.0,1423699200000.0,1423785600000.0,1423872000000.0,1423958400000.0,1424044800000.0,1424131200000.0,1424217600000.0,1424304000000.0,1424390400000.0,1424476800000.0,1424563200000.0,1424649600000.0,1424736000000.0,1424822400000.0,1424908800000.0,1424995200000.0,1425081600000.0,1425168000000.0,1425254400000.0,1425340800000.0,1425427200000.0,1425513600000.0,1425600000000.0,1425686400000.0,1425772800000.0,1425859200000.0,1425945600000.0,1426032000000.0,1426118400000.0,1426204800000.0,1426291200000.0,1426377600000.0,1426464000000.0,1426550400000.0,1426636800000.0,1426723200000.0,1426809600000.0,1426896000000.0,1426982400000.0,1427068800000.0,1427155200000.0,1427241600000.0,1427328000000.0,1427760000000.0,1427846400000.0,1427932800000.0,1428019200000.0,1428105600000.0,1428192000000.0,1428278400000.0,1428364800000.0,1428451200000.0,1428537600000.0,1428624000000.0,1428710400000.0,1428796800000.0,1428883200000.0,1428969600000.0,1429056000000.0,1429142400000.0,1429228800000.0,1429315200000.0,1429401600000.0,1429488000000.0,1429574400000.0,1429660800000.0,1429747200000.0,1429833600000.0,1429920000000.0,1430006400000.0,1430092800000.0,1430179200000.0,1430265600000.0,1430352000000.0,1430438400000.0,1430524800000.0,1430611200000.0,1430697600000.0,1430784000000.0,1430870400000.0,1430956800000.0,1431043200000.0,1431129600000.0,1431216000000.0,1431302400000.0,1431388800000.0,1431475200000.0,1431561600000.0,1431648000000.0,1431734400000.0,1431820800000.0,1431907200000.0,1431993600000.0,1432080000000.0,1432166400000.0,1432252800000.0,1432339200000.0,1432425600000.0,1432512000000.0,1432598400000.0,1432684800000.0,1432771200000.0,1432857600000.0,1432944000000.0,1433030400000.0,1433116800000.0,1433203200000.0,1433289600000.0,1433376000000.0,1433462400000.0,1433548800000.0,1433635200000.0,1433721600000.0,1433808000000.0,1433894400000.0,1433980800000.0,1434067200000.0,1434153600000.0,1434240000000.0,1434326400000.0,1434412800000.0,1434499200000.0,1434585600000.0,1434672000000.0,1434758400000.0,1434844800000.0,1434931200000.0,1435017600000.0,1435104000000.0,1435190400000.0,1435276800000.0,1435363200000.0,1435449600000.0,1435536000000.0,1435622400000.0,1435708800000.0,1435795200000.0,1435881600000.0,1435968000000.0,1436054400000.0,1436140800000.0,1436227200000.0,1436313600000.0,1436400000000.0,1437004800000.0,1437091200000.0,1437177600000.0,1437264000000.0,1437782400000.0,1438300800000.0,1438387200000.0,1438473600000.0,1438560000000.0,1438646400000.0,1438732800000.0,1438819200000.0,1438905600000.0,1438992000000.0,1439078400000.0,1439164800000.0,1439251200000.0,1439337600000.0,1439424000000.0,1439510400000.0,1439596800000.0,1439683200000.0,1439769600000.0,1439856000000.0,1439942400000.0,1440028800000.0,1440115200000.0,1440201600000.0,1440288000000.0,1440374400000.0,1440460800000.0,1440547200000.0,1440633600000.0,1440720000000.0,1440806400000.0,1440892800000.0,1440979200000.0,1441065600000.0,1441152000000.0,1441238400000.0,1441324800000.0,1441411200000.0,1441497600000.0,1441584000000.0,1441670400000.0,1441756800000.0,1441843200000.0,1441929600000.0,1442016000000.0,1442102400000.0,1442188800000.0,1442275200000.0,1442361600000.0,1442448000000.0,1442534400000.0,1442620800000.0,1442707200000.0,1442793600000.0,1442880000000.0,1442966400000.0,1443052800000.0,1443139200000.0,1443225600000.0,1443312000000.0,1443398400000.0,1444694400000.0,1444780800000.0,1444867200000.0,1444953600000.0,1445040000000.0,1445126400000.0,1445212800000.0,1445299200000.0,1445385600000.0,1445472000000.0,1445558400000.0,1445644800000.0,1445731200000.0,1445817600000.0,1445904000000.0,1445990400000.0,1446076800000.0,1446163200000.0,1446249600000.0,1446336000000.0,1446422400000.0,1446508800000.0,1446595200000.0,1446681600000.0,1446768000000.0,1446854400000.0,1446940800000.0,1447027200000.0,1447113600000.0,1447200000000.0,1447286400000.0,1447372800000.0,1447459200000.0,1447545600000.0,1447632000000.0,1447718400000.0,1447804800000.0,1447891200000.0,1447977600000.0,1448064000000.0,1448150400000.0,1448236800000.0,1448323200000.0,1448409600000.0,1448496000000.0,1448582400000.0,1448668800000.0,1448755200000.0,1448841600000.0,1448928000000.0,1450828800000.0,1450915200000.0,1451001600000.0,1451088000000.0,1451174400000.0,1451260800000.0,1451347200000.0,1451433600000.0,1451520000000.0,1451606400000.0,1451692800000.0,1451779200000.0,1451865600000.0,1451952000000.0,1452038400000.0,1452124800000.0,1452211200000.0,1452297600000.0,1452384000000.0,1452470400000.0,1452556800000.0,1452643200000.0,1452729600000.0,1452816000000.0,1452902400000.0,1452988800000.0,1453593600000.0,1453680000000.0,1453766400000.0,1454457600000.0,1454544000000.0,1454630400000.0,1454716800000.0,1454803200000.0,1454889600000.0,1454976000000.0,1455062400000.0,1455148800000.0,1455235200000.0,1455321600000.0,1455408000000.0,1455494400000.0,1455580800000.0,1455667200000.0,1455753600000.0,1455840000000.0,1455926400000.0,1456012800000.0,1456099200000.0,1456185600000.0,1456272000000.0,1456358400000.0,1456444800000.0,1456531200000.0,1456617600000.0,1456704000000.0,1456790400000.0,1456876800000.0,1456963200000.0,1457049600000.0,1457136000000.0,1457222400000.0,1457308800000.0,1457395200000.0,1457481600000.0,1457568000000.0,1457654400000.0,1457740800000.0,1457827200000.0,1457913600000.0,1460764800000.0,1460851200000.0,1460937600000.0,1461024000000.0,1461110400000.0,1461196800000.0,1461283200000.0,1461369600000.0,1461456000000.0,1461542400000.0,1461628800000.0,1461715200000.0,1461801600000.0,1461888000000.0,1461974400000.0,1462060800000.0,1462147200000.0,1462233600000.0,1462320000000.0,1462406400000.0,1462492800000.0,1462579200000.0,1462665600000.0,1462752000000.0,1462838400000.0,1462924800000.0,1463011200000.0,1463097600000.0,1463184000000.0,1463270400000.0,1463356800000.0,1463443200000.0,1464134400000.0,1464220800000.0,1464307200000.0,1464393600000.0,1464480000000.0,1464566400000.0,1464652800000.0,1464739200000.0,1464825600000.0,1464912000000.0,1464998400000.0,1465084800000.0,1466899200000.0,1466985600000.0,1467072000000.0,1467158400000.0,1467244800000.0,1467331200000.0,1467417600000.0,1467504000000.0,1467590400000.0,1467676800000.0,1467763200000.0,1467849600000.0,1468540800000.0,1468627200000.0,1468713600000.0,1468800000000.0,1468886400000.0,1468972800000.0,1469836800000.0,1469923200000.0,1470009600000.0,1470096000000.0,1470182400000.0,1470268800000.0,1470355200000.0,1470441600000.0,1470528000000.0,1470614400000.0,1470700800000.0,1470787200000.0,1470873600000.0,1470960000000.0,1471046400000.0,1471132800000.0,1471219200000.0,1471305600000.0,1471392000000.0,1471478400000.0,1471564800000.0,1471651200000.0,1471737600000.0,1471824000000.0,1471910400000.0,1471996800000.0,1472083200000.0,1472169600000.0,1472256000000.0,1472342400000.0,1472428800000.0,1472515200000.0,1472601600000.0,1472688000000.0,1472774400000.0,1472860800000.0,1472947200000.0,1473033600000.0,1473120000000.0,1473206400000.0,1473292800000.0,1473379200000.0,1473465600000.0,1473552000000.0,1473638400000.0,1473724800000.0,1473811200000.0,1473897600000.0,1473984000000.0,1474070400000.0,1474156800000.0,1474243200000.0,1474329600000.0,1474416000000.0,1474502400000.0,1474588800000.0,1474675200000.0,1474761600000.0,1474848000000.0,1474934400000.0,1475020800000.0,1475107200000.0,1475193600000.0,1475280000000.0,1475366400000.0,1475452800000.0,1475539200000.0,1475625600000.0,1475712000000.0,1475798400000.0,1475884800000.0,1475971200000.0,1476057600000.0,1476144000000.0,1476230400000.0,1476316800000.0,1476403200000.0,1476489600000.0,1476576000000.0,1476662400000.0,1476748800000.0,1476835200000.0,1476921600000.0,1477008000000.0,1477094400000.0,1477180800000.0,1477267200000.0,1477353600000.0,1477440000000.0,1477526400000.0,1477612800000.0,1477699200000.0,1477785600000.0,1477872000000.0,1477958400000.0,1478044800000.0,1478131200000.0,1478217600000.0,1478304000000.0,1478390400000.0,1478476800000.0,1478563200000.0,1478649600000.0,1478736000000.0,1478822400000.0,1478908800000.0,1478995200000.0,1479081600000.0,1479168000000.0,1479254400000.0,1479340800000.0,1479427200000.0,1479513600000.0,1479600000000.0,1479686400000.0,1479772800000.0,1481328000000.0,1481414400000.0,1481500800000.0,1481587200000.0,1481673600000.0,1481760000000.0,1481846400000.0,1481932800000.0,1482019200000.0,1482105600000.0,1482192000000.0,1482278400000.0,1482883200000.0,1482969600000.0,1483056000000.0,1483142400000.0,1483228800000.0,1483315200000.0,1483401600000.0,1483488000000.0,1483574400000.0,1483660800000.0,1483747200000.0,1483833600000.0,1483920000000.0,1484006400000.0,1484092800000.0,1484179200000.0,1484265600000.0,1484352000000.0,1484438400000.0,1484524800000.0,1484611200000.0,1484697600000.0,1484784000000.0,1484870400000.0,1484956800000.0,1485043200000.0,1485129600000.0,1485216000000.0,1485302400000.0,1485388800000.0,1485475200000.0,1485561600000.0,1485648000000.0,1485734400000.0,1485820800000.0,1485907200000.0,1485993600000.0,1486080000000.0,1486166400000.0,1486252800000.0,1486339200000.0,1486425600000.0,1486512000000.0,1486598400000.0,1486684800000.0,1486771200000.0,1486857600000.0,1486944000000.0,1487030400000.0,1487116800000.0,1487203200000.0,1487289600000.0,1487376000000.0,1487462400000.0,1487548800000.0,1487635200000.0,1487721600000.0,1487808000000.0,1487894400000.0,1487980800000.0,1488067200000.0,1488153600000.0,1488240000000.0,1488326400000.0,1488412800000.0,1488499200000.0,1488585600000.0,1488672000000.0,1488758400000.0,1488844800000.0,1488931200000.0,1489017600000.0,1489104000000.0,1489190400000.0,1489276800000.0,1489363200000.0,1489449600000.0,1489536000000.0,1489622400000.0,1489708800000.0,1489795200000.0,1489881600000.0,1489968000000.0,1490054400000.0,1490140800000.0,1490227200000.0,1490313600000.0,1490400000000.0,1490486400000.0,1490572800000.0,1490659200000.0,1490745600000.0,1490832000000.0,1490918400000.0,1491004800000.0,1491091200000.0,1491177600000.0,1491264000000.0,1491350400000.0,1491436800000.0,1491523200000.0,1491609600000.0,1491696000000.0,1491782400000.0,1491868800000.0,1491955200000.0,1492041600000.0,1492128000000.0,1492214400000.0,1492300800000.0,1492387200000.0,1492473600000.0,1492560000000.0,1492646400000.0,1492732800000.0,1492819200000.0,1492905600000.0,1492992000000.0,1493078400000.0,1493164800000.0,1493251200000.0,1493337600000.0,1493424000000.0,1493510400000.0,1493596800000.0,1493683200000.0,1493769600000.0,1493856000000.0,1493942400000.0,1494028800000.0,1494115200000.0,1494201600000.0,1494288000000.0,1494374400000.0,1494460800000.0,1494547200000.0,1494633600000.0,1494720000000.0,1494806400000.0,1494892800000.0,1494979200000.0,1495065600000.0,1495152000000.0,1495238400000.0,1495324800000.0,1495411200000.0,1495497600000.0,1495584000000.0,1495670400000.0,1495756800000.0,1495843200000.0,1495929600000.0,1496016000000.0,1496102400000.0,1496188800000.0,1496275200000.0,1496361600000.0,1496448000000.0,1496534400000.0,1496620800000.0,1496707200000.0,1496793600000.0,1496880000000.0,1496966400000.0,1497052800000.0,1497139200000.0,1497225600000.0,1497312000000.0,1497398400000.0,1497484800000.0,1497571200000.0,1497657600000.0,1497744000000.0,1497830400000.0,1497916800000.0,1498003200000.0,1498089600000.0,1498176000000.0,1498262400000.0,1498348800000.0,1498435200000.0,1498521600000.0,1498608000000.0,1498694400000.0,1498780800000.0,1498867200000.0,1498953600000.0,1499040000000.0,1499126400000.0,1499212800000.0,1499299200000.0,1499385600000.0,1499472000000.0,1499558400000.0,1499644800000.0,1499731200000.0,1499817600000.0,1499904000000.0,1499990400000.0,1500076800000.0,1500163200000.0,1500249600000.0,1500336000000.0,1500422400000.0,1500508800000.0,1500595200000.0,1500681600000.0,1500768000000.0,1500854400000.0,1500940800000.0,1501027200000.0,1501113600000.0,1501200000000.0,1501286400000.0,1501372800000.0,1501459200000.0,1501545600000.0,1501632000000.0,1501718400000.0,1501804800000.0,1501891200000.0,1501977600000.0,1502064000000.0,1502150400000.0,1502236800000.0,1502323200000.0,1502409600000.0,1502496000000.0,1502582400000.0,1502668800000.0,1502755200000.0,1502841600000.0,1502928000000.0,1503014400000.0,1503100800000.0,1503187200000.0,1503273600000.0,1503360000000.0,1503446400000.0,1503532800000.0,1503619200000.0,1503705600000.0,1503792000000.0,1503878400000.0,1503964800000.0,1504051200000.0,1504137600000.0,1504224000000.0,1504310400000.0,1504396800000.0,1504483200000.0,1504569600000.0,1504656000000.0,1504742400000.0,1504828800000.0,1504915200000.0,1505001600000.0,1505088000000.0,1505174400000.0,1505260800000.0,1505347200000.0,1505433600000.0,1505520000000.0,1505606400000.0,1505692800000.0,1505779200000.0,1505865600000.0,1505952000000.0,1506038400000.0,1506124800000.0,1506211200000.0,1506297600000.0,1506384000000.0,1506470400000.0,1506556800000.0,1506643200000.0,1506729600000.0,1506816000000.0,1506902400000.0,1506988800000.0,1507075200000.0,1507161600000.0,1507248000000.0,1507334400000.0,1507420800000.0,1507507200000.0,1507593600000.0,1509235200000.0,1509321600000.0,1509408000000.0,1509494400000.0,1509580800000.0,1509667200000.0,1509753600000.0,1509840000000.0,1509926400000.0,1510012800000.0,1510099200000.0,1510185600000.0,1510272000000.0,1510358400000.0,1510444800000.0,1510531200000.0,1510617600000.0,1510704000000.0,1510790400000.0,1510876800000.0,1510963200000.0,1511049600000.0,1511136000000.0,1511222400000.0,1511308800000.0,1511395200000.0,1511481600000.0,1511568000000.0,1511654400000.0,1511740800000.0,1511827200000.0,1511913600000.0,1512000000000.0,1512086400000.0,1512172800000.0,1512259200000.0,1512345600000.0,1512432000000.0,1512518400000.0,1512604800000.0,1512691200000.0,1512777600000.0,1512864000000.0,1512950400000.0,1513036800000.0,1513123200000.0,1513209600000.0,1513296000000.0,1513382400000.0,1513468800000.0,1513555200000.0,1513641600000.0,1513728000000.0,1513814400000.0,1513900800000.0,1513987200000.0,1514073600000.0,1514160000000.0,1514246400000.0,1514332800000.0,1514419200000.0,1514505600000.0,1514592000000.0,1514678400000.0,1514764800000.0,1514851200000.0,1514937600000.0,1515024000000.0,1515110400000.0,1515196800000.0,1515283200000.0,1515369600000.0,1515456000000.0,1515542400000.0,1515628800000.0,1515715200000.0,1515801600000.0,1515888000000.0,1515974400000.0,1516060800000.0,1516147200000.0,1516233600000.0,1516320000000.0,1516406400000.0,1516492800000.0,1516579200000.0,1516665600000.0,1516752000000.0,1516838400000.0,1516924800000.0,1517011200000.0,1517097600000.0,1517184000000.0,1517270400000.0,1517356800000.0,1517443200000.0,1517529600000.0,1517616000000.0,1517702400000.0,1517788800000.0,1517875200000.0,1517961600000.0,1518048000000.0,1518134400000.0,1518220800000.0,1518307200000.0,1518393600000.0,1518480000000.0,1518566400000.0,1518652800000.0,1518739200000.0,1518825600000.0,1518912000000.0,1518998400000.0,1519084800000.0,1519171200000.0,1519257600000.0,1519344000000.0,1519430400000.0,1519516800000.0,1519603200000.0,1519689600000.0,1519776000000.0,1519862400000.0,1519948800000.0,1520035200000.0,1520121600000.0,1520208000000.0,1520294400000.0,1520380800000.0,1520467200000.0,1520553600000.0,1520640000000.0,1520726400000.0,1520812800000.0,1520899200000.0,1520985600000.0,1521072000000.0,1521158400000.0,1521244800000.0,1521331200000.0,1521417600000.0,1521504000000.0,1521590400000.0,1521676800000.0,1521763200000.0,1521849600000.0,1521936000000.0,1522022400000.0,1522108800000.0,1522195200000.0,1522281600000.0,1522368000000.0,1522454400000.0,1522540800000.0,1522627200000.0,1522713600000.0,1522800000000.0,1522886400000.0,1522972800000.0,1523059200000.0,1523145600000.0,1523232000000.0,1523318400000.0,1523404800000.0],\"product_count\":[4366.0,4299.0,4299.0,4299.0,4299.0,4299.0,4299.0,4299.0,4627.0,4603.0,4771.0,4742.0,4742.0,4742.0,4742.0,4742.0,5013.0,4981.0,4981.0,4981.0,4981.0,5146.0,5324.0,5541.0,5531.0,5630.0,5619.0,5628.0,5599.0,5527.0,5527.0,5527.0,5527.0,5741.0,5888.0,5835.0,5835.0,5848.0,5989.0,5880.0,5996.0,5955.0,5955.0,5958.0,6072.0,5961.0,5961.0,6043.0,5995.0,6103.0,6020.0,6020.0,6048.0,6199.0,6160.0,6393.0,5753.0,5753.0,5732.0,5460.0,5460.0,5218.0,5121.0,5077.0,5077.0,5277.0,5208.0,5208.0,5549.0,5485.0,5485.0,5842.0,5333.0,6264.0,6072.0,6072.0,6681.0,6457.0,6457.0,6585.0,6672.0,6613.0,6753.0,6602.0,6602.0,6873.0,2208.0,2184.0,2184.0,2452.0,1801.0,1798.0,2026.0,1883.0,1883.0,2062.0,1921.0,1921.0,2244.0,2202.0,2202.0,2381.0,2296.0,2296.0,3284.0,3263.0,3263.0,3480.0,3368.0,3368.0,3444.0,3452.0,3449.0,3722.0,3653.0,3653.0,3653.0,3855.0,3813.0,3813.0,3978.0,3941.0,3941.0,4111.0,4070.0,4070.0,4257.0,4232.0,4232.0,4387.0,4211.0,4211.0,4437.0,4401.0,4401.0,4510.0,4513.0,4509.0,4653.0,348.0,6043.0,6425.0,6457.0,6408.0,6494.0,6414.0,6414.0,6471.0,6264.0,6264.0,6264.0,6474.0,6569.0,6530.0,6695.0,6624.0,6623.0,6848.0,6742.0,6715.0,6942.0,6710.0,6807.0,6587.0,6587.0,6587.0,7021.0,6451.0,6468.0,6464.0,6804.0,6596.0,6596.0,6596.0,7248.0,7017.0,7017.0,7017.0,7017.0,7017.0,7451.0,7052.0,7052.0,7359.0,7162.0,7162.0,7405.0,7232.0,7232.0,7232.0,7296.0,7242.0,7700.0,7355.0,7355.0,7550.0,7405.0,7405.0,7835.0,7590.0,7590.0,7720.0,7888.0,7683.0,7683.0,7941.0,7796.0,7796.0,8062.0,7737.0,7737.0,7907.0,7036.0,7036.0,7689.0,7515.0,7515.0,8007.0,6707.0,6707.0,7866.0,6549.0,6549.0,6908.0,6184.0,6184.0,6551.0,5879.0,5879.0,6459.0,5681.0,5681.0,6082.0,5049.0,5049.0,5561.0,4923.0,4923.0,5417.0,4435.0,4435.0,4434.0,3773.0,3773.0,4167.0,4258.0,3799.0,3799.0,3799.0,3799.0,3799.0,5045.0,4093.0,4559.0,4183.0,4183.0,4461.0,4260.0,4260.0,4623.0,4421.0,4421.0,4672.0,4507.0,4507.0,4905.0,4494.0,4494.0,4852.0,4700.0,4700.0,5062.0,4733.0,4733.0,5066.0,4909.0,4909.0,5216.0,5250.0,5178.0,5164.0,5164.0,5476.0,5357.0,5572.0,5481.0,5481.0,5738.0,5607.0,5607.0,5786.0,5518.0,5469.0,5469.0,5832.0,5722.0,5978.0,5817.0,5817.0,5817.0,6127.0,6037.0,6344.0,6212.0,6212.0,6529.0,6999.0,7071.0,7037.0,7298.0,7103.0,7103.0,7103.0,7373.0,7302.0,7289.0,7726.0,7533.0,7533.0,7852.0,7610.0,7610.0,7888.0,7769.0,7788.0,8226.0,8094.0,8093.0,8386.0,8029.0,8029.0,8054.0,8343.0,8146.0,8480.0,8078.0,8078.0,8078.0,8595.0,8108.0,8108.0,8593.0,9266.0,9281.0,9540.0,9416.0,9416.0,9457.0,9394.0,9620.0,7917.0,7917.0,7917.0,8061.0,7643.0,8705.0,8894.0,8781.0,7376.0,7411.0,7521.0,5861.0,5861.0,5939.0,5630.0,5612.0,5344.0,5202.0,5002.0,5448.0,4942.0,5161.0,4709.0,4977.0,4330.0,4424.0,4199.0,4393.0,4048.0,4895.0,3603.0,3603.0,3463.0,3714.0,3199.0,4124.0,4453.0,4365.0,4384.0,4024.0,3980.0,4070.0,4312.0,4344.0,4107.0,3950.0,4197.0,4176.0,4202.0,4400.0,5008.0,4900.0,4259.0,4344.0,4547.0,4754.0,4534.0,4643.0,4912.0,4818.0,4899.0,4920.0,5075.0,5169.0,5159.0,5331.0,5140.0,5165.0,5397.0,5285.0,5312.0,5464.0,5604.0,5600.0,5606.0,5748.0,2252.0,2300.0,2452.0,2511.0,2693.0,2848.0,2879.0,2832.0,2864.0,3001.0,3047.0,3066.0,3173.0,3189.0,3157.0,3244.0,3327.0,3386.0,3413.0,3374.0,3676.0,3612.0,3635.0,3727.0,3785.0,3801.0,3955.0,3994.0,4012.0,3942.0,4081.0,4067.0,4347.0,4268.0,4599.0,4595.0,4566.0,4627.0,4604.0,4715.0,4845.0,4845.0,4727.0,4780.0,6735.0,6568.0,6766.0,6627.0,6661.0,6503.0,6283.0,5770.0,5695.0,5607.0,5951.0,6245.0,2203.0,2054.0,1727.0,1988.0,2704.0,2453.0,3103.0,3418.0,2854.0,2585.0,2585.0,3331.0,3285.0,3182.0,3168.0,3598.0,3763.0,4069.0,3459.0,4029.0,3657.0,3464.0,3270.0,3270.0,3270.0,3270.0,3981.0,4134.0,3981.0,4085.0,4131.0,4308.0,4399.0,4496.0,4571.0,4580.0,4578.0,4733.0,4803.0,4915.0,5069.0,5120.0,5106.0,5057.0,5129.0,5284.0,5517.0,5554.0,5556.0,5558.0,5484.0,5532.0,5646.0,5837.0,5943.0,5959.0,5959.0,6063.0,6008.0,6076.0,6185.0,6267.0,6263.0,6248.0,6339.0,6359.0,6431.0,6572.0,6609.0,6662.0,6697.0,6750.0,6820.0,6787.0,6933.0,6953.0,6952.0,6965.0,7053.0,7079.0,7192.0,7199.0,7348.0,7319.0,7217.0,7391.0,7442.0,7518.0,7754.0,7738.0,7788.0,7721.0,7835.0,7903.0,8023.0,8178.0,8238.0,8238.0,8273.0,8262.0,8385.0,8395.0,8571.0,8573.0,8590.0,8574.0,8592.0,8637.0,8705.0,8844.0,8870.0,8891.0,8890.0,8898.0,8850.0,9166.0,9185.0,9242.0,9249.0,9311.0,9380.0,9389.0,11343.0,11013.0,10843.0,10782.0,10741.0,10922.0,10979.0,10899.0,10900.0,10972.0,11214.0,11207.0,9346.0,8659.0,8731.0,8533.0,9227.0,9101.0,8816.0,8422.0,8429.0,8090.0,8010.0,7321.0,7206.0,7466.0,7371.0,7472.0,7262.0,7022.0,6339.0,6041.0,6036.0,6235.0,6223.0,6710.0,6002.0,5093.0,5059.0,5166.0,5206.0,5640.0,5603.0,4924.0,4924.0,4924.0,5533.0,5535.0,5761.0,5885.0,5272.0,5259.0,5099.0,5431.0,5495.0,6028.0,5040.0,5170.0,5200.0,5280.0,5032.0,5347.0,5409.0,5387.0,5343.0,5254.0,5617.0,5450.0,5377.0,5839.0,5877.0,5772.0,5909.0,5857.0,5794.0,5908.0,6145.0,6242.0,6251.0,6244.0,6303.0,6378.0,6481.0,6642.0,6559.0,6466.0,6478.0,6613.0,6666.0,6701.0,6744.0,6493.0,6495.0,6585.0,6672.0,6721.0,6761.0,6874.0,7055.0,7066.0,7036.0,7077.0,7138.0,7042.0,7151.0,7890.0,8017.0,8006.0,8071.0,8025.0,8112.0,8210.0,8256.0,8259.0,8189.0,8316.0,8372.0,8398.0,8671.0,8714.0,8747.0,8763.0,8776.0,8806.0,8802.0,8962.0,8976.0,8689.0,8689.0,8689.0,8689.0,8689.0,9324.0,9283.0,9148.0,9423.0,9207.0,9207.0,9207.0,9207.0,9207.0,9207.0,9207.0,9802.0,9694.0,9884.0,9725.0,10095.0,9906.0,10040.0,9622.0,9622.0,9622.0,9622.0,9622.0,9622.0,9622.0,10098.0,10012.0,10141.0,9915.0,10466.0,10235.0,10424.0,10257.0,10411.0,10216.0,10216.0,10540.0,10351.0,10585.0,10373.0,10505.0,10392.0,10635.0,9484.0,10622.0,10468.0,10764.0,10570.0,10989.0,10702.0,10960.0,10658.0,10865.0,10573.0,10706.0,9374.0,9915.0,8582.0,8822.0,7748.0,7748.0,7748.0,8149.0,6940.0,7380.0,6692.0,6955.0,6246.0,6246.0,6246.0,7019.0,6129.0,6524.0,5978.0,6394.0,6188.0,7741.0,6116.0,7493.0,6433.0,6748.0,5417.0,5836.0,5264.0,6231.0,5479.0,6525.0,5788.0,6481.0,6122.0,7020.0,6234.0,7743.0,5997.0,6239.0,5965.0,5965.0,6964.0,5905.0,6562.0,5945.0,6183.0,6017.0,6301.0,6192.0,7261.0,6675.0,7088.0,6674.0,7296.0,6688.0,6796.0,6610.0,7056.0,6924.0,7059.0,6992.0,7277.0,7183.0,7669.0,7553.0,7849.0,7570.0,7845.0,7786.0,8115.0,7914.0,7914.0,8310.0,8194.0,8398.0,8335.0,8538.0,8480.0,8863.0,8784.0,8964.0,8902.0,9097.0,8969.0,8969.0,8969.0,9351.0,9272.0,9608.0,9370.0,9370.0,9370.0,9370.0,9370.0,9370.0,9370.0,10195.0,10105.0,10569.0,10438.0,10560.0,10449.0,10672.0,10569.0,10569.0,11036.0,10897.0,11089.0,10978.0,11240.0,11174.0,11179.0,11179.0,12646.0,12372.0,12372.0,12372.0,12372.0,12372.0,12372.0,13184.0,13073.0,13333.0,13249.0,13472.0,13365.0,13491.0,13409.0,13679.0,13535.0,13761.0,13589.0,13750.0,13654.0,13845.0,13378.0,13449.0,12386.0,11909.0,11845.0,12210.0,12122.0,13024.0,12840.0,14244.0,13922.0,14214.0,14002.0,14104.0,14026.0,14729.0,14180.0,14368.0,13116.0,14081.0,13887.0,14473.0,14109.0,14433.0,14134.0,14302.0,14067.0,14321.0,14040.0,14380.0,14092.0,14362.0,14063.0,14132.0,10094.0,10094.0,10094.0,10094.0,10094.0,10094.0,10094.0,10094.0,10094.0,10094.0,10355.0,9360.0,9722.0,9224.0,9718.0,9103.0,10263.0,8409.0,8771.0,7916.0,8217.0,7721.0,8959.0,6917.0,7433.0,6453.0,6924.0,6466.0,7336.0,6582.0,8174.0,5937.0,6521.0,5870.0,6248.0,6077.0,7334.0,7181.0,5869.0,6223.0,5711.0,6148.0,5511.0,5511.0,5511.0,6610.0,5838.0,6246.0,5911.0,6322.0,5856.0,6408.0,5916.0,6037.0,5963.0,6335.0,6227.0,6807.0,6171.0,6466.0,6410.0,6765.0,6683.0,7162.0,6916.0,7368.0,7033.0,7142.0,7081.0,7274.0,7209.0,7465.0,7408.0,7806.0,7714.0,7904.0,7863.0,8179.0,8061.0,8530.0,8295.0,8430.0,8348.0,8548.0,8501.0,8714.0,8577.0,8961.0,8830.0,9055.0,8947.0,8947.0,8947.0,9564.0,9383.0,9526.0,9416.0,9219.0,9219.0,9219.0,9663.0,9495.0,9726.0,9616.0,9882.0,9855.0,10093.0]},\"selected\":{\"id\":\"5826\",\"type\":\"Selection\"},\"selection_policy\":{\"id\":\"5827\",\"type\":\"UnionRenderers\"}},\"id\":\"5557\",\"type\":\"ColumnDataSource\"},{\"attributes\":{\"mantissas\":[1,2,5],\"max_interval\":500.0,\"num_minor_ticks\":0},\"id\":\"7565\",\"type\":\"AdaptiveTicker\"},{\"attributes\":{},\"id\":\"7252\",\"type\":\"LinearScale\"},{\"attributes\":{\"days\":[1,8,15,22]},\"id\":\"7570\",\"type\":\"DaysTicker\"},{\"attributes\":{},\"id\":\"7250\",\"type\":\"LinearScale\"},{\"attributes\":{\"days\":[1,4,7,10,13,16,19,22,25,28]},\"id\":\"7569\",\"type\":\"DaysTicker\"},{\"attributes\":{\"callback\":null},\"id\":\"7248\",\"type\":\"DataRange1d\"},{\"attributes\":{\"months\":[0,4,8]},\"id\":\"7574\",\"type\":\"MonthsTicker\"},{\"attributes\":{\"callback\":null},\"id\":\"7246\",\"type\":\"DataRange1d\"},{\"attributes\":{\"months\":[0,6]},\"id\":\"7575\",\"type\":\"MonthsTicker\"},{\"attributes\":{},\"id\":\"7562\",\"type\":\"BasicTickFormatter\"},{\"attributes\":{},\"id\":\"7576\",\"type\":\"YearsTicker\"},{\"attributes\":{\"plot\":null,\"text\":\"Webshop X - Historic chart\"},\"id\":\"7243\",\"type\":\"Title\"}],\"root_ids\":[\"7244\"]},\"title\":\"Bokeh Application\",\"version\":\"1.0.2\"}};\n",
       "  var render_items = [{\"docid\":\"e4f9ca3f-87b4-47f8-a3ee-cd3824cf80c8\",\"roots\":{\"7244\":\"6adc0e17-ffda-469f-b5e5-c03717ea4fd8\"}}];\n",
       "  root.Bokeh.embed.embed_items_notebook(docs_json, render_items);\n",
       "\n",
       "  }\n",
       "  if (root.Bokeh !== undefined) {\n",
       "    embed_document(root);\n",
       "  } else {\n",
       "    var attempts = 0;\n",
       "    var timer = setInterval(function(root) {\n",
       "      if (root.Bokeh !== undefined) {\n",
       "        embed_document(root);\n",
       "        clearInterval(timer);\n",
       "      }\n",
       "      attempts++;\n",
       "      if (attempts > 100) {\n",
       "        console.log(\"Bokeh: ERROR: Unable to run BokehJS code because BokehJS library is missing\");\n",
       "        clearInterval(timer);\n",
       "      }\n",
       "    }, 10, root)\n",
       "  }\n",
       "})(window);"
      ],
      "application/vnd.bokehjs_exec.v0+json": ""
     },
     "metadata": {
      "application/vnd.bokehjs_exec.v0+json": {
       "id": "7244"
      }
     },
     "output_type": "display_data"
    }
   ],
   "source": [
    "from bokeh.models import HoverTool\n",
    "\n",
    "hover = HoverTool(tooltips=[\n",
    "    (\"index\", \"$index\"),\n",
    "    (\"price_date\", \"@price_date\"),\n",
    "    (\"product_count\", \"@product_count\"),\n",
    "])\n",
    "\n",
    "p = figure(plot_width=800, plot_height=400, \n",
    "           x_axis_type='datetime', \n",
    "           tools=[hover],\n",
    "           title=\"Webshop X - Historic chart\")\n",
    "\n",
    "p.line('price_date', 'product_count', line_width=2, source=source)\n",
    "\n",
    "show(p) # show the results"
   ]
  },
  {
   "cell_type": "markdown",
   "metadata": {
    "slideshow": {
     "slide_type": "slide"
    }
   },
   "source": [
    "## Awesomic charts"
   ]
  },
  {
   "cell_type": "code",
   "execution_count": 35,
   "metadata": {
    "slideshow": {
     "slide_type": "subslide"
    }
   },
   "outputs": [
    {
     "data": {
      "text/html": [
       "\n",
       "\n",
       "\n",
       "\n",
       "\n",
       "\n",
       "  <div class=\"bk-root\" id=\"48fd801a-08bc-49e4-9108-d001cf0b4425\"></div>\n"
      ]
     },
     "metadata": {},
     "output_type": "display_data"
    },
    {
     "data": {
      "application/javascript": [
       "(function(root) {\n",
       "  function embed_document(root) {\n",
       "    \n",
       "  var docs_json = {\"f9148118-fe97-454f-bd8b-a5e04d9a8709\":{\"roots\":{\"references\":[{\"attributes\":{\"below\":[{\"id\":\"7704\",\"type\":\"DatetimeAxis\"}],\"left\":[{\"id\":\"7709\",\"type\":\"LinearAxis\"}],\"plot_height\":400,\"plot_width\":900,\"renderers\":[{\"id\":\"7704\",\"type\":\"DatetimeAxis\"},{\"id\":\"7708\",\"type\":\"Grid\"},{\"id\":\"7709\",\"type\":\"LinearAxis\"},{\"id\":\"7713\",\"type\":\"Grid\"},{\"id\":\"7722\",\"type\":\"BoxAnnotation\"},{\"id\":\"7732\",\"type\":\"GlyphRenderer\"},{\"id\":\"7738\",\"type\":\"GlyphRenderer\"}],\"title\":{\"id\":\"7693\",\"type\":\"Title\"},\"toolbar\":{\"id\":\"7720\",\"type\":\"Toolbar\"},\"x_range\":{\"id\":\"7696\",\"type\":\"DataRange1d\"},\"x_scale\":{\"id\":\"7700\",\"type\":\"LinearScale\"},\"y_range\":{\"id\":\"7698\",\"type\":\"DataRange1d\"},\"y_scale\":{\"id\":\"7702\",\"type\":\"LinearScale\"}},\"id\":\"7694\",\"subtype\":\"Figure\",\"type\":\"Plot\"},{\"attributes\":{},\"id\":\"7700\",\"type\":\"LinearScale\"},{\"attributes\":{\"days\":[1,15]},\"id\":\"8062\",\"type\":\"DaysTicker\"},{\"attributes\":{\"bottom_units\":\"screen\",\"fill_alpha\":{\"value\":0.5},\"fill_color\":{\"value\":\"lightgrey\"},\"left_units\":\"screen\",\"level\":\"overlay\",\"line_alpha\":{\"value\":1.0},\"line_color\":{\"value\":\"black\"},\"line_dash\":[4,4],\"line_width\":{\"value\":2},\"plot\":null,\"render_mode\":\"css\",\"right_units\":\"screen\",\"top_units\":\"screen\"},\"id\":\"7722\",\"type\":\"BoxAnnotation\"},{\"attributes\":{\"months\":[0,1,2,3,4,5,6,7,8,9,10,11]},\"id\":\"8063\",\"type\":\"MonthsTicker\"},{\"attributes\":{\"source\":{\"id\":\"7729\",\"type\":\"ColumnDataSource\"}},\"id\":\"7733\",\"type\":\"CDSView\"},{\"attributes\":{\"formatter\":{\"id\":\"8054\",\"type\":\"DatetimeTickFormatter\"},\"plot\":{\"id\":\"7694\",\"subtype\":\"Figure\",\"type\":\"Plot\"},\"ticker\":{\"id\":\"7705\",\"type\":\"DatetimeTicker\"}},\"id\":\"7704\",\"type\":\"DatetimeAxis\"},{\"attributes\":{\"months\":[0,2,4,6,8,10]},\"id\":\"8064\",\"type\":\"MonthsTicker\"},{\"attributes\":{\"callback\":null,\"mode\":\"hline\",\"renderers\":[{\"id\":\"7738\",\"type\":\"GlyphRenderer\"}],\"tooltips\":null},\"id\":\"7740\",\"type\":\"HoverTool\"},{\"attributes\":{},\"id\":\"7702\",\"type\":\"LinearScale\"},{\"attributes\":{\"months\":[0,4,8]},\"id\":\"8065\",\"type\":\"MonthsTicker\"},{\"attributes\":{\"fill_alpha\":{\"value\":0.05},\"fill_color\":{\"value\":\"grey\"},\"line_color\":{\"value\":null},\"size\":{\"units\":\"screen\",\"value\":20},\"x\":{\"field\":\"x\"},\"y\":{\"field\":\"y\"}},\"id\":\"7735\",\"type\":\"Circle\"},{\"attributes\":{\"num_minor_ticks\":5,\"tickers\":[{\"id\":\"8056\",\"type\":\"AdaptiveTicker\"},{\"id\":\"8057\",\"type\":\"AdaptiveTicker\"},{\"id\":\"8058\",\"type\":\"AdaptiveTicker\"},{\"id\":\"8059\",\"type\":\"DaysTicker\"},{\"id\":\"8060\",\"type\":\"DaysTicker\"},{\"id\":\"8061\",\"type\":\"DaysTicker\"},{\"id\":\"8062\",\"type\":\"DaysTicker\"},{\"id\":\"8063\",\"type\":\"MonthsTicker\"},{\"id\":\"8064\",\"type\":\"MonthsTicker\"},{\"id\":\"8065\",\"type\":\"MonthsTicker\"},{\"id\":\"8066\",\"type\":\"MonthsTicker\"},{\"id\":\"8067\",\"type\":\"YearsTicker\"}]},\"id\":\"7705\",\"type\":\"DatetimeTicker\"},{\"attributes\":{\"months\":[0,6]},\"id\":\"8066\",\"type\":\"MonthsTicker\"},{\"attributes\":{\"fill_alpha\":{\"value\":0.1},\"fill_color\":{\"value\":\"#1f77b4\"},\"line_alpha\":{\"value\":0.1},\"line_color\":{\"value\":\"#1f77b4\"},\"size\":{\"units\":\"screen\",\"value\":20},\"x\":{\"field\":\"x\"},\"y\":{\"field\":\"y\"}},\"id\":\"7736\",\"type\":\"Circle\"},{\"attributes\":{\"plot\":{\"id\":\"7694\",\"subtype\":\"Figure\",\"type\":\"Plot\"},\"ticker\":{\"id\":\"7705\",\"type\":\"DatetimeTicker\"}},\"id\":\"7708\",\"type\":\"Grid\"},{\"attributes\":{},\"id\":\"8067\",\"type\":\"YearsTicker\"},{\"attributes\":{\"fill_alpha\":{\"value\":0.3},\"fill_color\":{\"value\":\"firebrick\"},\"line_alpha\":{\"value\":0.3},\"line_color\":{\"value\":\"white\"},\"size\":{\"units\":\"screen\",\"value\":20},\"x\":{\"field\":\"x\"},\"y\":{\"field\":\"y\"}},\"id\":\"7737\",\"type\":\"Circle\"},{\"attributes\":{\"formatter\":{\"id\":\"8052\",\"type\":\"BasicTickFormatter\"},\"plot\":{\"id\":\"7694\",\"subtype\":\"Figure\",\"type\":\"Plot\"},\"ticker\":{\"id\":\"7710\",\"type\":\"BasicTicker\"}},\"id\":\"7709\",\"type\":\"LinearAxis\"},{\"attributes\":{},\"id\":\"8068\",\"type\":\"Selection\"},{\"attributes\":{\"data_source\":{\"id\":\"7734\",\"type\":\"ColumnDataSource\"},\"glyph\":{\"id\":\"7735\",\"type\":\"Circle\"},\"hover_glyph\":{\"id\":\"7737\",\"type\":\"Circle\"},\"muted_glyph\":null,\"nonselection_glyph\":{\"id\":\"7736\",\"type\":\"Circle\"},\"selection_glyph\":null,\"view\":{\"id\":\"7739\",\"type\":\"CDSView\"}},\"id\":\"7738\",\"type\":\"GlyphRenderer\"},{\"attributes\":{},\"id\":\"7710\",\"type\":\"BasicTicker\"},{\"attributes\":{},\"id\":\"8069\",\"type\":\"UnionRenderers\"},{\"attributes\":{\"source\":{\"id\":\"7734\",\"type\":\"ColumnDataSource\"}},\"id\":\"7739\",\"type\":\"CDSView\"},{\"attributes\":{\"dimension\":1,\"plot\":{\"id\":\"7694\",\"subtype\":\"Figure\",\"type\":\"Plot\"},\"ticker\":{\"id\":\"7710\",\"type\":\"BasicTicker\"}},\"id\":\"7713\",\"type\":\"Grid\"},{\"attributes\":{},\"id\":\"8070\",\"type\":\"Selection\"},{\"attributes\":{\"data_source\":{\"id\":\"7729\",\"type\":\"ColumnDataSource\"},\"glyph\":{\"id\":\"7730\",\"type\":\"Line\"},\"hover_glyph\":null,\"muted_glyph\":null,\"nonselection_glyph\":{\"id\":\"7731\",\"type\":\"Line\"},\"selection_glyph\":null,\"view\":{\"id\":\"7733\",\"type\":\"CDSView\"}},\"id\":\"7732\",\"type\":\"GlyphRenderer\"},{\"attributes\":{},\"id\":\"8071\",\"type\":\"UnionRenderers\"},{\"attributes\":{},\"id\":\"8052\",\"type\":\"BasicTickFormatter\"},{\"attributes\":{\"plot\":null,\"text\":\"Hover over points\"},\"id\":\"7693\",\"type\":\"Title\"},{\"attributes\":{\"line_alpha\":0.1,\"line_color\":\"#1f77b4\",\"line_dash\":[4,4],\"x\":{\"field\":\"x\"},\"y\":{\"field\":\"y\"}},\"id\":\"7731\",\"type\":\"Line\"},{\"attributes\":{},\"id\":\"8054\",\"type\":\"DatetimeTickFormatter\"},{\"attributes\":{\"callback\":null,\"data\":{\"x\":{\"__ndarray__\":\"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\",\"dtype\":\"float64\",\"shape\":[288]},\"y\":[143,147,150,152,152,152,154,155,142,140,138,134,131,130,128,127,126,126,126,126,127,129,131,132,134,136,136,136,136,135,134,132,130,130,130,129,128,127,125,124,123,123,122,121,120,118,115,112,111,111,110,110,109,108,107,107,107,108,107,105,105,105,105,104,103,102,99,97,96,94,94,93,93,92,91,92,94,95,96,97,99,102,104,112,112,112,111,110,107,104,105,105,103,99,96,94,95,102,114,128,144,160,173,185,196,205,209,214,219,226,234,241,248,255,260,265,268,270,272,271,271,268,265,261,256,253,250,246,244,241,237,233,229,225,222,204,200,197,193,190,186,182,179,175,171,168,164,158,154,151,148,145,141,133,139,152,173,196,217,233,244,249,250,253,256,260,263,265,265,264,260,254,246,234,217,200,188,181,175,169,164,159,154,147,138,132,129,127,123,117,111,106,104,103,100,94,88,83,78,75,73,71,69,68,67,67,68,70,71,71,70,69,68,67,67,67,66,67,69,71,74,76,78,80,80,80,80,80,80,82,84,87,90,92,87,87,86,86,86,86,87,87,87,85,83,82,83,87,95,107,118,130,141,149,172,179,187,201,214,221,225,230,232,230,223,216,208,199,191,185,181,177,176,177,176,173,171,169,163,154,152,153,154,154,153,151,150,150]},\"selected\":{\"id\":\"8070\",\"type\":\"Selection\"},\"selection_policy\":{\"id\":\"8071\",\"type\":\"UnionRenderers\"}},\"id\":\"7734\",\"type\":\"ColumnDataSource\"},{\"attributes\":{\"active_drag\":\"auto\",\"active_inspect\":\"auto\",\"active_multi\":null,\"active_scroll\":\"auto\",\"active_tap\":\"auto\",\"tools\":[{\"id\":\"7714\",\"type\":\"PanTool\"},{\"id\":\"7715\",\"type\":\"WheelZoomTool\"},{\"id\":\"7716\",\"type\":\"BoxZoomTool\"},{\"id\":\"7717\",\"type\":\"SaveTool\"},{\"id\":\"7718\",\"type\":\"ResetTool\"},{\"id\":\"7719\",\"type\":\"HelpTool\"},{\"id\":\"7740\",\"type\":\"HoverTool\"}]},\"id\":\"7720\",\"type\":\"Toolbar\"},{\"attributes\":{\"mantissas\":[1,2,5],\"max_interval\":500.0,\"num_minor_ticks\":0},\"id\":\"8056\",\"type\":\"AdaptiveTicker\"},{\"attributes\":{},\"id\":\"7714\",\"type\":\"PanTool\"},{\"attributes\":{\"callback\":null},\"id\":\"7698\",\"type\":\"DataRange1d\"},{\"attributes\":{},\"id\":\"7715\",\"type\":\"WheelZoomTool\"},{\"attributes\":{\"base\":60,\"mantissas\":[1,2,5,10,15,20,30],\"max_interval\":1800000.0,\"min_interval\":1000.0,\"num_minor_ticks\":0},\"id\":\"8057\",\"type\":\"AdaptiveTicker\"},{\"attributes\":{\"overlay\":{\"id\":\"7722\",\"type\":\"BoxAnnotation\"}},\"id\":\"7716\",\"type\":\"BoxZoomTool\"},{\"attributes\":{\"base\":24,\"mantissas\":[1,2,4,6,8,12],\"max_interval\":43200000.0,\"min_interval\":3600000.0,\"num_minor_ticks\":0},\"id\":\"8058\",\"type\":\"AdaptiveTicker\"},{\"attributes\":{},\"id\":\"7717\",\"type\":\"SaveTool\"},{\"attributes\":{\"line_color\":\"gray\",\"line_dash\":[4,4],\"x\":{\"field\":\"x\"},\"y\":{\"field\":\"y\"}},\"id\":\"7730\",\"type\":\"Line\"},{\"attributes\":{\"callback\":null,\"data\":{\"x\":{\"__ndarray__\":\"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\",\"dtype\":\"float64\",\"shape\":[288]},\"y\":[143,147,150,152,152,152,154,155,142,140,138,134,131,130,128,127,126,126,126,126,127,129,131,132,134,136,136,136,136,135,134,132,130,130,130,129,128,127,125,124,123,123,122,121,120,118,115,112,111,111,110,110,109,108,107,107,107,108,107,105,105,105,105,104,103,102,99,97,96,94,94,93,93,92,91,92,94,95,96,97,99,102,104,112,112,112,111,110,107,104,105,105,103,99,96,94,95,102,114,128,144,160,173,185,196,205,209,214,219,226,234,241,248,255,260,265,268,270,272,271,271,268,265,261,256,253,250,246,244,241,237,233,229,225,222,204,200,197,193,190,186,182,179,175,171,168,164,158,154,151,148,145,141,133,139,152,173,196,217,233,244,249,250,253,256,260,263,265,265,264,260,254,246,234,217,200,188,181,175,169,164,159,154,147,138,132,129,127,123,117,111,106,104,103,100,94,88,83,78,75,73,71,69,68,67,67,68,70,71,71,70,69,68,67,67,67,66,67,69,71,74,76,78,80,80,80,80,80,80,82,84,87,90,92,87,87,86,86,86,86,87,87,87,85,83,82,83,87,95,107,118,130,141,149,172,179,187,201,214,221,225,230,232,230,223,216,208,199,191,185,181,177,176,177,176,173,171,169,163,154,152,153,154,154,153,151,150,150]},\"selected\":{\"id\":\"8068\",\"type\":\"Selection\"},\"selection_policy\":{\"id\":\"8069\",\"type\":\"UnionRenderers\"}},\"id\":\"7729\",\"type\":\"ColumnDataSource\"},{\"attributes\":{\"days\":[1,2,3,4,5,6,7,8,9,10,11,12,13,14,15,16,17,18,19,20,21,22,23,24,25,26,27,28,29,30,31]},\"id\":\"8059\",\"type\":\"DaysTicker\"},{\"attributes\":{},\"id\":\"7718\",\"type\":\"ResetTool\"},{\"attributes\":{\"callback\":null},\"id\":\"7696\",\"type\":\"DataRange1d\"},{\"attributes\":{\"days\":[1,4,7,10,13,16,19,22,25,28]},\"id\":\"8060\",\"type\":\"DaysTicker\"},{\"attributes\":{},\"id\":\"7719\",\"type\":\"HelpTool\"},{\"attributes\":{\"days\":[1,8,15,22]},\"id\":\"8061\",\"type\":\"DaysTicker\"}],\"root_ids\":[\"7694\"]},\"title\":\"Bokeh Application\",\"version\":\"1.0.2\"}};\n",
       "  var render_items = [{\"docid\":\"f9148118-fe97-454f-bd8b-a5e04d9a8709\",\"roots\":{\"7694\":\"48fd801a-08bc-49e4-9108-d001cf0b4425\"}}];\n",
       "  root.Bokeh.embed.embed_items_notebook(docs_json, render_items);\n",
       "\n",
       "  }\n",
       "  if (root.Bokeh !== undefined) {\n",
       "    embed_document(root);\n",
       "  } else {\n",
       "    var attempts = 0;\n",
       "    var timer = setInterval(function(root) {\n",
       "      if (root.Bokeh !== undefined) {\n",
       "        embed_document(root);\n",
       "        clearInterval(timer);\n",
       "      }\n",
       "      attempts++;\n",
       "      if (attempts > 100) {\n",
       "        console.log(\"Bokeh: ERROR: Unable to run BokehJS code because BokehJS library is missing\");\n",
       "        clearInterval(timer);\n",
       "      }\n",
       "    }, 10, root)\n",
       "  }\n",
       "})(window);"
      ],
      "application/vnd.bokehjs_exec.v0+json": ""
     },
     "metadata": {
      "application/vnd.bokehjs_exec.v0+json": {
       "id": "7694"
      }
     },
     "output_type": "display_data"
    }
   ],
   "source": [
    "from bokeh.models.tools import HoverTool\n",
    "from bokeh.sampledata.glucose import data\n",
    "\n",
    "subset = data.loc['2010-10-06']\n",
    "\n",
    "x, y = subset.index.to_series(), subset['glucose']\n",
    "\n",
    "# Basic plot setup\n",
    "p = figure(width=900, height=400, x_axis_type=\"datetime\", title='Hover over points')\n",
    "\n",
    "p.line(x, y, line_dash=\"4 4\", line_width=1, color='gray')\n",
    "\n",
    "cr = p.circle(x, y, size=20,\n",
    "              fill_color=\"grey\", hover_fill_color=\"firebrick\",\n",
    "              fill_alpha=0.05, hover_alpha=0.3,\n",
    "              line_color=None, hover_line_color=\"white\")\n",
    "\n",
    "p.add_tools(HoverTool(tooltips=None, renderers=[cr], mode='hline'))\n",
    "\n",
    "show(p)"
   ]
  },
  {
   "cell_type": "markdown",
   "metadata": {
    "slideshow": {
     "slide_type": "subslide"
    }
   },
   "source": [
    "Interactive data applications"
   ]
  },
  {
   "cell_type": "code",
   "execution_count": 36,
   "metadata": {
    "slideshow": {
     "slide_type": "-"
    }
   },
   "outputs": [
    {
     "data": {
      "text/html": [
       "\n",
       "        <iframe\n",
       "            width=\"900\"\n",
       "            height=\"500\"\n",
       "            src=\"https://demo.bokehplots.com/apps/sliders\"\n",
       "            frameborder=\"0\"\n",
       "            allowfullscreen\n",
       "        ></iframe>\n",
       "        "
      ],
      "text/plain": [
       "<IPython.lib.display.IFrame at 0x7ff69055cba8>"
      ]
     },
     "execution_count": 36,
     "metadata": {},
     "output_type": "execute_result"
    }
   ],
   "source": [
    "# Create and deploy \n",
    "\n",
    "from IPython.display import IFrame\n",
    "IFrame('https://demo.bokehplots.com/apps/sliders', width=900, height=500)"
   ]
  },
  {
   "cell_type": "markdown",
   "metadata": {
    "slideshow": {
     "slide_type": "subslide"
    }
   },
   "source": [
    "Maps :)"
   ]
  },
  {
   "cell_type": "code",
   "execution_count": 37,
   "metadata": {
    "slideshow": {
     "slide_type": "-"
    }
   },
   "outputs": [
    {
     "data": {
      "text/html": [
       "\n",
       "\n",
       "\n",
       "\n",
       "\n",
       "\n",
       "  <div class=\"bk-root\" id=\"39b6149b-5d84-483e-a7a8-7ba1c67eb234\"></div>\n"
      ]
     },
     "metadata": {},
     "output_type": "display_data"
    },
    {
     "data": {
      "application/javascript": [
       "(function(root) {\n",
       "  function embed_document(root) {\n",
       "    \n",
       "  var docs_json = {\"c57a9d4d-69c7-4db3-9aca-4b0916ba4cf1\":{\"roots\":{\"references\":[{\"attributes\":{\"below\":[{\"id\":\"8213\",\"type\":\"LinearAxis\"}],\"left\":[{\"id\":\"8218\",\"type\":\"LinearAxis\"}],\"renderers\":[{\"id\":\"8213\",\"type\":\"LinearAxis\"},{\"id\":\"8217\",\"type\":\"Grid\"},{\"id\":\"8218\",\"type\":\"LinearAxis\"},{\"id\":\"8222\",\"type\":\"Grid\"},{\"id\":\"8229\",\"type\":\"TileRenderer\"},{\"id\":\"8234\",\"type\":\"GlyphRenderer\"}],\"title\":{\"id\":\"8567\",\"type\":\"Title\"},\"toolbar\":{\"id\":\"8225\",\"type\":\"Toolbar\"},\"x_range\":{\"id\":\"8205\",\"type\":\"Range1d\"},\"x_scale\":{\"id\":\"8209\",\"type\":\"LinearScale\"},\"y_range\":{\"id\":\"8207\",\"type\":\"Range1d\"},\"y_scale\":{\"id\":\"8211\",\"type\":\"LinearScale\"}},\"id\":\"8204\",\"subtype\":\"Figure\",\"type\":\"Plot\"},{\"attributes\":{},\"id\":\"8214\",\"type\":\"BasicTicker\"},{\"attributes\":{\"plot\":{\"id\":\"8204\",\"subtype\":\"Figure\",\"type\":\"Plot\"},\"ticker\":{\"id\":\"8214\",\"type\":\"BasicTicker\"}},\"id\":\"8217\",\"type\":\"Grid\"},{\"attributes\":{},\"id\":\"8572\",\"type\":\"Selection\"},{\"attributes\":{\"formatter\":{\"id\":\"8569\",\"type\":\"BasicTickFormatter\"},\"plot\":{\"id\":\"8204\",\"subtype\":\"Figure\",\"type\":\"Plot\"},\"ticker\":{\"id\":\"8219\",\"type\":\"BasicTicker\"},\"visible\":false},\"id\":\"8218\",\"type\":\"LinearAxis\"},{\"attributes\":{\"formatter\":{\"id\":\"8571\",\"type\":\"BasicTickFormatter\"},\"plot\":{\"id\":\"8204\",\"subtype\":\"Figure\",\"type\":\"Plot\"},\"ticker\":{\"id\":\"8214\",\"type\":\"BasicTicker\"},\"visible\":false},\"id\":\"8213\",\"type\":\"LinearAxis\"},{\"attributes\":{},\"id\":\"8573\",\"type\":\"UnionRenderers\"},{\"attributes\":{\"callback\":null,\"end\":6455972,\"start\":2698291},\"id\":\"8207\",\"type\":\"Range1d\"},{\"attributes\":{},\"id\":\"8219\",\"type\":\"BasicTicker\"},{\"attributes\":{\"dimension\":1,\"plot\":{\"id\":\"8204\",\"subtype\":\"Figure\",\"type\":\"Plot\"},\"ticker\":{\"id\":\"8219\",\"type\":\"BasicTicker\"}},\"id\":\"8222\",\"type\":\"Grid\"},{\"attributes\":{},\"id\":\"8223\",\"type\":\"PanTool\"},{\"attributes\":{\"active_drag\":\"auto\",\"active_inspect\":\"auto\",\"active_multi\":null,\"active_scroll\":\"auto\",\"active_tap\":\"auto\",\"tools\":[{\"id\":\"8223\",\"type\":\"PanTool\"},{\"id\":\"8224\",\"type\":\"WheelZoomTool\"}]},\"id\":\"8225\",\"type\":\"Toolbar\"},{\"attributes\":{},\"id\":\"8224\",\"type\":\"WheelZoomTool\"},{\"attributes\":{\"tile_source\":{\"id\":\"8228\",\"type\":\"WMTSTileSource\"}},\"id\":\"8229\",\"type\":\"TileRenderer\"},{\"attributes\":{\"callback\":null,\"data\":{\"x\":{\"__ndarray__\":\"TJjbA9nAZMGf/KLGNm1fwQ==\",\"dtype\":\"float64\",\"shape\":[2]},\"y\":{\"__ndarray__\":\"bqXdLQv+SkFnqxDllfVSQQ==\",\"dtype\":\"float64\",\"shape\":[2]}},\"selected\":{\"id\":\"8572\",\"type\":\"Selection\"},\"selection_policy\":{\"id\":\"8573\",\"type\":\"UnionRenderers\"}},\"id\":\"8231\",\"type\":\"ColumnDataSource\"},{\"attributes\":{},\"id\":\"8211\",\"type\":\"LinearScale\"},{\"attributes\":{\"fill_color\":{\"value\":\"orange\"},\"line_color\":{\"value\":\"#1f77b4\"},\"size\":{\"units\":\"screen\",\"value\":10},\"x\":{\"field\":\"x\"},\"y\":{\"field\":\"y\"}},\"id\":\"8232\",\"type\":\"Circle\"},{\"attributes\":{\"fill_alpha\":{\"value\":0.1},\"fill_color\":{\"value\":\"#1f77b4\"},\"line_alpha\":{\"value\":0.1},\"line_color\":{\"value\":\"#1f77b4\"},\"size\":{\"units\":\"screen\",\"value\":10},\"x\":{\"field\":\"x\"},\"y\":{\"field\":\"y\"}},\"id\":\"8233\",\"type\":\"Circle\"},{\"attributes\":{},\"id\":\"8209\",\"type\":\"LinearScale\"},{\"attributes\":{\"data_source\":{\"id\":\"8231\",\"type\":\"ColumnDataSource\"},\"glyph\":{\"id\":\"8232\",\"type\":\"Circle\"},\"hover_glyph\":null,\"muted_glyph\":null,\"nonselection_glyph\":{\"id\":\"8233\",\"type\":\"Circle\"},\"selection_glyph\":null,\"view\":{\"id\":\"8235\",\"type\":\"CDSView\"}},\"id\":\"8234\",\"type\":\"GlyphRenderer\"},{\"attributes\":{\"source\":{\"id\":\"8231\",\"type\":\"ColumnDataSource\"}},\"id\":\"8235\",\"type\":\"CDSView\"},{\"attributes\":{\"callback\":null,\"end\":-7453304,\"start\":-13884029},\"id\":\"8205\",\"type\":\"Range1d\"},{\"attributes\":{\"plot\":null,\"text\":\"\"},\"id\":\"8567\",\"type\":\"Title\"},{\"attributes\":{},\"id\":\"8569\",\"type\":\"BasicTickFormatter\"},{\"attributes\":{\"attribution\":\"Tiles by Carto, under CC BY 3.0. Data by OSM, under ODbL\",\"url\":\"http://a.basemaps.cartocdn.com/dark_all/{Z}/{X}/{Y}.png\"},\"id\":\"8228\",\"type\":\"WMTSTileSource\"},{\"attributes\":{},\"id\":\"8571\",\"type\":\"BasicTickFormatter\"}],\"root_ids\":[\"8204\"]},\"title\":\"Bokeh Application\",\"version\":\"1.0.2\"}};\n",
       "  var render_items = [{\"docid\":\"c57a9d4d-69c7-4db3-9aca-4b0916ba4cf1\",\"roots\":{\"8204\":\"39b6149b-5d84-483e-a7a8-7ba1c67eb234\"}}];\n",
       "  root.Bokeh.embed.embed_items_notebook(docs_json, render_items);\n",
       "\n",
       "  }\n",
       "  if (root.Bokeh !== undefined) {\n",
       "    embed_document(root);\n",
       "  } else {\n",
       "    var attempts = 0;\n",
       "    var timer = setInterval(function(root) {\n",
       "      if (root.Bokeh !== undefined) {\n",
       "        embed_document(root);\n",
       "        clearInterval(timer);\n",
       "      }\n",
       "      attempts++;\n",
       "      if (attempts > 100) {\n",
       "        console.log(\"Bokeh: ERROR: Unable to run BokehJS code because BokehJS library is missing\");\n",
       "        clearInterval(timer);\n",
       "      }\n",
       "    }, 10, root)\n",
       "  }\n",
       "})(window);"
      ],
      "application/vnd.bokehjs_exec.v0+json": ""
     },
     "metadata": {
      "application/vnd.bokehjs_exec.v0+json": {
       "id": "8204"
      }
     },
     "output_type": "display_data"
    }
   ],
   "source": [
    "from bokeh.plotting import figure\n",
    "from bokeh.models import WMTSTileSource\n",
    "import pandas as pd\n",
    "\n",
    "# web mercator coordinates\n",
    "x_range,y_range = ((-13884029,-7453304), (2698291,6455972))\n",
    "\n",
    "p = figure(tools='pan, wheel_zoom', x_range=x_range, y_range=y_range)\n",
    "p.axis.visible = False\n",
    "\n",
    "url = 'http://a.basemaps.cartocdn.com/dark_all/{Z}/{X}/{Y}.png'\n",
    "attribution = \"Tiles by Carto, under CC BY 3.0. Data by OSM, under ODbL\"\n",
    "\n",
    "p.add_tile(WMTSTileSource(url=url, attribution=attribution))\n",
    "\n",
    "df = pd.DataFrame({\n",
    "    'name': {0: 'Austin', 1: 'NYC'},\n",
    "    'x': {0: -10880712.12055602, 1: -8238299.103697925},\n",
    "    'y': {0: 3537942.3583266055, 1: 4970071.579142428}})\n",
    "\n",
    "p.circle(x=df['x'], y=df['y'], fill_color='orange', size=10)\n",
    "show(p)"
   ]
  },
  {
   "cell_type": "markdown",
   "metadata": {
    "slideshow": {
     "slide_type": "subslide"
    }
   },
   "source": [
    "Linked panning"
   ]
  },
  {
   "cell_type": "code",
   "execution_count": 38,
   "metadata": {
    "slideshow": {
     "slide_type": "-"
    }
   },
   "outputs": [
    {
     "data": {
      "text/html": [
       "\n",
       "\n",
       "\n",
       "\n",
       "\n",
       "\n",
       "  <div class=\"bk-root\" id=\"e5926f50-0765-4786-9a95-654d798772ee\"></div>\n"
      ]
     },
     "metadata": {},
     "output_type": "display_data"
    },
    {
     "data": {
      "application/javascript": [
       "(function(root) {\n",
       "  function embed_document(root) {\n",
       "    \n",
       "  var docs_json = {\"b6617dbe-9355-46b8-8331-66244eaf7959\":{\"roots\":{\"references\":[{\"attributes\":{\"children\":[{\"id\":\"8736\",\"type\":\"ToolbarBox\"},{\"id\":\"8734\",\"type\":\"Column\"}]},\"id\":\"8737\",\"type\":\"Column\"},{\"attributes\":{\"plot\":null,\"text\":\"\"},\"id\":\"8707\",\"type\":\"Title\"},{\"attributes\":{\"source\":{\"id\":\"8646\",\"type\":\"ColumnDataSource\"}},\"id\":\"8650\",\"type\":\"CDSView\"},{\"attributes\":{\"toolbar\":{\"id\":\"8735\",\"type\":\"ProxyToolbar\"},\"toolbar_location\":\"above\"},\"id\":\"8736\",\"type\":\"ToolbarBox\"},{\"attributes\":{\"callback\":null},\"id\":\"8625\",\"type\":\"DataRange1d\"},{\"attributes\":{\"callback\":null},\"id\":\"8680\",\"type\":\"DataRange1d\"},{\"attributes\":{\"callback\":null},\"id\":\"8623\",\"type\":\"DataRange1d\"},{\"attributes\":{},\"id\":\"8682\",\"type\":\"LinearScale\"},{\"attributes\":{\"callback\":null,\"data\":{\"x\":[0,1,2,3,4,5,6,7,8,9,10],\"y\":[10,9,8,7,6,5,4,3,2,1,0]},\"selected\":{\"id\":\"8721\",\"type\":\"Selection\"},\"selection_policy\":{\"id\":\"8722\",\"type\":\"UnionRenderers\"}},\"id\":\"8673\",\"type\":\"ColumnDataSource\"},{\"attributes\":{},\"id\":\"8627\",\"type\":\"LinearScale\"},{\"attributes\":{},\"id\":\"8654\",\"type\":\"LinearScale\"},{\"attributes\":{},\"id\":\"8709\",\"type\":\"BasicTickFormatter\"},{\"attributes\":{},\"id\":\"8684\",\"type\":\"LinearScale\"},{\"attributes\":{\"fill_alpha\":{\"value\":0.1},\"fill_color\":{\"value\":\"#1f77b4\"},\"line_alpha\":{\"value\":0.1},\"line_color\":{\"value\":\"#1f77b4\"},\"size\":{\"units\":\"screen\",\"value\":10},\"x\":{\"field\":\"x\"},\"y\":{\"field\":\"y\"}},\"id\":\"8675\",\"type\":\"Triangle\"},{\"attributes\":{\"source\":{\"id\":\"8701\",\"type\":\"ColumnDataSource\"}},\"id\":\"8705\",\"type\":\"CDSView\"},{\"attributes\":{},\"id\":\"8629\",\"type\":\"LinearScale\"},{\"attributes\":{\"below\":[{\"id\":\"8658\",\"type\":\"LinearAxis\"}],\"left\":[{\"id\":\"8663\",\"type\":\"LinearAxis\"}],\"plot_height\":250,\"plot_width\":250,\"renderers\":[{\"id\":\"8658\",\"type\":\"LinearAxis\"},{\"id\":\"8662\",\"type\":\"Grid\"},{\"id\":\"8663\",\"type\":\"LinearAxis\"},{\"id\":\"8667\",\"type\":\"Grid\"},{\"id\":\"8676\",\"type\":\"GlyphRenderer\"}],\"title\":{\"id\":\"8716\",\"type\":\"Title\"},\"toolbar\":{\"id\":\"8670\",\"type\":\"Toolbar\"},\"toolbar_location\":null,\"x_range\":{\"id\":\"8623\",\"type\":\"DataRange1d\"},\"x_scale\":{\"id\":\"8654\",\"type\":\"LinearScale\"},\"y_range\":{\"id\":\"8625\",\"type\":\"DataRange1d\"},\"y_scale\":{\"id\":\"8656\",\"type\":\"LinearScale\"}},\"id\":\"8651\",\"subtype\":\"Figure\",\"type\":\"Plot\"},{\"attributes\":{},\"id\":\"8656\",\"type\":\"LinearScale\"},{\"attributes\":{\"formatter\":{\"id\":\"8729\",\"type\":\"BasicTickFormatter\"},\"plot\":{\"id\":\"8678\",\"subtype\":\"Figure\",\"type\":\"Plot\"},\"ticker\":{\"id\":\"8687\",\"type\":\"BasicTicker\"}},\"id\":\"8686\",\"type\":\"LinearAxis\"},{\"attributes\":{},\"id\":\"8711\",\"type\":\"BasicTickFormatter\"},{\"attributes\":{\"callback\":null,\"data\":{\"x\":[0,1,2,3,4,5,6,7,8,9,10],\"y\":[0,1,2,3,4,5,6,7,8,9,10]},\"selected\":{\"id\":\"8712\",\"type\":\"Selection\"},\"selection_policy\":{\"id\":\"8713\",\"type\":\"UnionRenderers\"}},\"id\":\"8646\",\"type\":\"ColumnDataSource\"},{\"attributes\":{\"formatter\":{\"id\":\"8711\",\"type\":\"BasicTickFormatter\"},\"plot\":{\"id\":\"8622\",\"subtype\":\"Figure\",\"type\":\"Plot\"},\"ticker\":{\"id\":\"8632\",\"type\":\"BasicTicker\"}},\"id\":\"8631\",\"type\":\"LinearAxis\"},{\"attributes\":{\"formatter\":{\"id\":\"8720\",\"type\":\"BasicTickFormatter\"},\"plot\":{\"id\":\"8651\",\"subtype\":\"Figure\",\"type\":\"Plot\"},\"ticker\":{\"id\":\"8659\",\"type\":\"BasicTicker\"}},\"id\":\"8658\",\"type\":\"LinearAxis\"},{\"attributes\":{},\"id\":\"8712\",\"type\":\"Selection\"},{\"attributes\":{},\"id\":\"8687\",\"type\":\"BasicTicker\"},{\"attributes\":{},\"id\":\"8632\",\"type\":\"BasicTicker\"},{\"attributes\":{},\"id\":\"8659\",\"type\":\"BasicTicker\"},{\"attributes\":{},\"id\":\"8713\",\"type\":\"UnionRenderers\"},{\"attributes\":{\"plot\":{\"id\":\"8678\",\"subtype\":\"Figure\",\"type\":\"Plot\"},\"ticker\":{\"id\":\"8687\",\"type\":\"BasicTicker\"}},\"id\":\"8690\",\"type\":\"Grid\"},{\"attributes\":{\"plot\":{\"id\":\"8622\",\"subtype\":\"Figure\",\"type\":\"Plot\"},\"ticker\":{\"id\":\"8632\",\"type\":\"BasicTicker\"}},\"id\":\"8635\",\"type\":\"Grid\"},{\"attributes\":{\"plot\":{\"id\":\"8651\",\"subtype\":\"Figure\",\"type\":\"Plot\"},\"ticker\":{\"id\":\"8659\",\"type\":\"BasicTicker\"}},\"id\":\"8662\",\"type\":\"Grid\"},{\"attributes\":{\"plot\":null,\"text\":\"\"},\"id\":\"8716\",\"type\":\"Title\"},{\"attributes\":{\"formatter\":{\"id\":\"8727\",\"type\":\"BasicTickFormatter\"},\"plot\":{\"id\":\"8678\",\"subtype\":\"Figure\",\"type\":\"Plot\"},\"ticker\":{\"id\":\"8692\",\"type\":\"BasicTicker\"}},\"id\":\"8691\",\"type\":\"LinearAxis\"},{\"attributes\":{\"formatter\":{\"id\":\"8709\",\"type\":\"BasicTickFormatter\"},\"plot\":{\"id\":\"8622\",\"subtype\":\"Figure\",\"type\":\"Plot\"},\"ticker\":{\"id\":\"8637\",\"type\":\"BasicTicker\"}},\"id\":\"8636\",\"type\":\"LinearAxis\"},{\"attributes\":{\"formatter\":{\"id\":\"8718\",\"type\":\"BasicTickFormatter\"},\"plot\":{\"id\":\"8651\",\"subtype\":\"Figure\",\"type\":\"Plot\"},\"ticker\":{\"id\":\"8664\",\"type\":\"BasicTicker\"}},\"id\":\"8663\",\"type\":\"LinearAxis\"},{\"attributes\":{},\"id\":\"8718\",\"type\":\"BasicTickFormatter\"},{\"attributes\":{},\"id\":\"8692\",\"type\":\"BasicTicker\"},{\"attributes\":{},\"id\":\"8637\",\"type\":\"BasicTicker\"},{\"attributes\":{\"below\":[{\"id\":\"8631\",\"type\":\"LinearAxis\"}],\"left\":[{\"id\":\"8636\",\"type\":\"LinearAxis\"}],\"plot_height\":250,\"plot_width\":250,\"renderers\":[{\"id\":\"8631\",\"type\":\"LinearAxis\"},{\"id\":\"8635\",\"type\":\"Grid\"},{\"id\":\"8636\",\"type\":\"LinearAxis\"},{\"id\":\"8640\",\"type\":\"Grid\"},{\"id\":\"8649\",\"type\":\"GlyphRenderer\"}],\"title\":{\"id\":\"8707\",\"type\":\"Title\"},\"toolbar\":{\"id\":\"8643\",\"type\":\"Toolbar\"},\"toolbar_location\":null,\"x_range\":{\"id\":\"8623\",\"type\":\"DataRange1d\"},\"x_scale\":{\"id\":\"8627\",\"type\":\"LinearScale\"},\"y_range\":{\"id\":\"8625\",\"type\":\"DataRange1d\"},\"y_scale\":{\"id\":\"8629\",\"type\":\"LinearScale\"}},\"id\":\"8622\",\"subtype\":\"Figure\",\"type\":\"Plot\"},{\"attributes\":{},\"id\":\"8664\",\"type\":\"BasicTicker\"},{\"attributes\":{\"dimension\":1,\"plot\":{\"id\":\"8678\",\"subtype\":\"Figure\",\"type\":\"Plot\"},\"ticker\":{\"id\":\"8692\",\"type\":\"BasicTicker\"}},\"id\":\"8695\",\"type\":\"Grid\"},{\"attributes\":{},\"id\":\"8720\",\"type\":\"BasicTickFormatter\"},{\"attributes\":{\"dimension\":1,\"plot\":{\"id\":\"8622\",\"subtype\":\"Figure\",\"type\":\"Plot\"},\"ticker\":{\"id\":\"8637\",\"type\":\"BasicTicker\"}},\"id\":\"8640\",\"type\":\"Grid\"},{\"attributes\":{\"dimension\":1,\"plot\":{\"id\":\"8651\",\"subtype\":\"Figure\",\"type\":\"Plot\"},\"ticker\":{\"id\":\"8664\",\"type\":\"BasicTicker\"}},\"id\":\"8667\",\"type\":\"Grid\"},{\"attributes\":{},\"id\":\"8721\",\"type\":\"Selection\"},{\"attributes\":{\"active_drag\":\"auto\",\"active_inspect\":\"auto\",\"active_multi\":null,\"active_scroll\":\"auto\",\"active_tap\":\"auto\",\"tools\":[{\"id\":\"8696\",\"type\":\"PanTool\"},{\"id\":\"8697\",\"type\":\"WheelZoomTool\"}]},\"id\":\"8698\",\"type\":\"Toolbar\"},{\"attributes\":{\"children\":[{\"id\":\"8733\",\"type\":\"Row\"}]},\"id\":\"8734\",\"type\":\"Column\"},{\"attributes\":{},\"id\":\"8722\",\"type\":\"UnionRenderers\"},{\"attributes\":{},\"id\":\"8696\",\"type\":\"PanTool\"},{\"attributes\":{\"active_drag\":\"auto\",\"active_inspect\":\"auto\",\"active_multi\":null,\"active_scroll\":\"auto\",\"active_tap\":\"auto\",\"tools\":[{\"id\":\"8668\",\"type\":\"PanTool\"},{\"id\":\"8669\",\"type\":\"WheelZoomTool\"}]},\"id\":\"8670\",\"type\":\"Toolbar\"},{\"attributes\":{},\"id\":\"8668\",\"type\":\"PanTool\"},{\"attributes\":{\"plot\":null,\"text\":\"\"},\"id\":\"8725\",\"type\":\"Title\"},{\"attributes\":{},\"id\":\"8697\",\"type\":\"WheelZoomTool\"},{\"attributes\":{\"active_drag\":\"auto\",\"active_inspect\":\"auto\",\"active_multi\":null,\"active_scroll\":\"auto\",\"active_tap\":\"auto\",\"tools\":[{\"id\":\"8641\",\"type\":\"PanTool\"},{\"id\":\"8642\",\"type\":\"WheelZoomTool\"}]},\"id\":\"8643\",\"type\":\"Toolbar\"},{\"attributes\":{\"callback\":null,\"data\":{\"x\":[0,1,2,3,4,5,6,7,8,9,10],\"y\":[5,4,3,2,1,0,1,2,3,4,5]},\"selected\":{\"id\":\"8730\",\"type\":\"Selection\"},\"selection_policy\":{\"id\":\"8731\",\"type\":\"UnionRenderers\"}},\"id\":\"8701\",\"type\":\"ColumnDataSource\"},{\"attributes\":{},\"id\":\"8669\",\"type\":\"WheelZoomTool\"},{\"attributes\":{},\"id\":\"8727\",\"type\":\"BasicTickFormatter\"},{\"attributes\":{},\"id\":\"8641\",\"type\":\"PanTool\"},{\"attributes\":{\"children\":[{\"id\":\"8622\",\"subtype\":\"Figure\",\"type\":\"Plot\"},{\"id\":\"8651\",\"subtype\":\"Figure\",\"type\":\"Plot\"},{\"id\":\"8678\",\"subtype\":\"Figure\",\"type\":\"Plot\"}]},\"id\":\"8733\",\"type\":\"Row\"},{\"attributes\":{},\"id\":\"8729\",\"type\":\"BasicTickFormatter\"},{\"attributes\":{},\"id\":\"8642\",\"type\":\"WheelZoomTool\"},{\"attributes\":{\"below\":[{\"id\":\"8686\",\"type\":\"LinearAxis\"}],\"left\":[{\"id\":\"8691\",\"type\":\"LinearAxis\"}],\"plot_height\":250,\"plot_width\":250,\"renderers\":[{\"id\":\"8686\",\"type\":\"LinearAxis\"},{\"id\":\"8690\",\"type\":\"Grid\"},{\"id\":\"8691\",\"type\":\"LinearAxis\"},{\"id\":\"8695\",\"type\":\"Grid\"},{\"id\":\"8704\",\"type\":\"GlyphRenderer\"}],\"title\":{\"id\":\"8725\",\"type\":\"Title\"},\"toolbar\":{\"id\":\"8698\",\"type\":\"Toolbar\"},\"toolbar_location\":null,\"x_range\":{\"id\":\"8623\",\"type\":\"DataRange1d\"},\"x_scale\":{\"id\":\"8682\",\"type\":\"LinearScale\"},\"y_range\":{\"id\":\"8680\",\"type\":\"DataRange1d\"},\"y_scale\":{\"id\":\"8684\",\"type\":\"LinearScale\"}},\"id\":\"8678\",\"subtype\":\"Figure\",\"type\":\"Plot\"},{\"attributes\":{\"fill_color\":{\"value\":\"olive\"},\"line_color\":{\"value\":\"olive\"},\"size\":{\"units\":\"screen\",\"value\":10},\"x\":{\"field\":\"x\"},\"y\":{\"field\":\"y\"}},\"id\":\"8702\",\"type\":\"Square\"},{\"attributes\":{\"fill_color\":{\"value\":\"firebrick\"},\"line_color\":{\"value\":\"firebrick\"},\"size\":{\"units\":\"screen\",\"value\":10},\"x\":{\"field\":\"x\"},\"y\":{\"field\":\"y\"}},\"id\":\"8674\",\"type\":\"Triangle\"},{\"attributes\":{},\"id\":\"8730\",\"type\":\"Selection\"},{\"attributes\":{\"fill_alpha\":{\"value\":0.1},\"fill_color\":{\"value\":\"#1f77b4\"},\"line_alpha\":{\"value\":0.1},\"line_color\":{\"value\":\"#1f77b4\"},\"size\":{\"units\":\"screen\",\"value\":10},\"x\":{\"field\":\"x\"},\"y\":{\"field\":\"y\"}},\"id\":\"8703\",\"type\":\"Square\"},{\"attributes\":{\"data_source\":{\"id\":\"8673\",\"type\":\"ColumnDataSource\"},\"glyph\":{\"id\":\"8674\",\"type\":\"Triangle\"},\"hover_glyph\":null,\"muted_glyph\":null,\"nonselection_glyph\":{\"id\":\"8675\",\"type\":\"Triangle\"},\"selection_glyph\":null,\"view\":{\"id\":\"8677\",\"type\":\"CDSView\"}},\"id\":\"8676\",\"type\":\"GlyphRenderer\"},{\"attributes\":{},\"id\":\"8731\",\"type\":\"UnionRenderers\"},{\"attributes\":{\"data_source\":{\"id\":\"8701\",\"type\":\"ColumnDataSource\"},\"glyph\":{\"id\":\"8702\",\"type\":\"Square\"},\"hover_glyph\":null,\"muted_glyph\":null,\"nonselection_glyph\":{\"id\":\"8703\",\"type\":\"Square\"},\"selection_glyph\":null,\"view\":{\"id\":\"8705\",\"type\":\"CDSView\"}},\"id\":\"8704\",\"type\":\"GlyphRenderer\"},{\"attributes\":{\"fill_color\":{\"value\":\"navy\"},\"line_color\":{\"value\":\"navy\"},\"size\":{\"units\":\"screen\",\"value\":10},\"x\":{\"field\":\"x\"},\"y\":{\"field\":\"y\"}},\"id\":\"8647\",\"type\":\"Circle\"},{\"attributes\":{\"source\":{\"id\":\"8673\",\"type\":\"ColumnDataSource\"}},\"id\":\"8677\",\"type\":\"CDSView\"},{\"attributes\":{\"fill_alpha\":{\"value\":0.1},\"fill_color\":{\"value\":\"#1f77b4\"},\"line_alpha\":{\"value\":0.1},\"line_color\":{\"value\":\"#1f77b4\"},\"size\":{\"units\":\"screen\",\"value\":10},\"x\":{\"field\":\"x\"},\"y\":{\"field\":\"y\"}},\"id\":\"8648\",\"type\":\"Circle\"},{\"attributes\":{\"tools\":[{\"id\":\"8641\",\"type\":\"PanTool\"},{\"id\":\"8642\",\"type\":\"WheelZoomTool\"},{\"id\":\"8668\",\"type\":\"PanTool\"},{\"id\":\"8669\",\"type\":\"WheelZoomTool\"},{\"id\":\"8696\",\"type\":\"PanTool\"},{\"id\":\"8697\",\"type\":\"WheelZoomTool\"}]},\"id\":\"8735\",\"type\":\"ProxyToolbar\"},{\"attributes\":{\"data_source\":{\"id\":\"8646\",\"type\":\"ColumnDataSource\"},\"glyph\":{\"id\":\"8647\",\"type\":\"Circle\"},\"hover_glyph\":null,\"muted_glyph\":null,\"nonselection_glyph\":{\"id\":\"8648\",\"type\":\"Circle\"},\"selection_glyph\":null,\"view\":{\"id\":\"8650\",\"type\":\"CDSView\"}},\"id\":\"8649\",\"type\":\"GlyphRenderer\"}],\"root_ids\":[\"8737\"]},\"title\":\"Bokeh Application\",\"version\":\"1.0.2\"}};\n",
       "  var render_items = [{\"docid\":\"b6617dbe-9355-46b8-8331-66244eaf7959\",\"roots\":{\"8737\":\"e5926f50-0765-4786-9a95-654d798772ee\"}}];\n",
       "  root.Bokeh.embed.embed_items_notebook(docs_json, render_items);\n",
       "\n",
       "  }\n",
       "  if (root.Bokeh !== undefined) {\n",
       "    embed_document(root);\n",
       "  } else {\n",
       "    var attempts = 0;\n",
       "    var timer = setInterval(function(root) {\n",
       "      if (root.Bokeh !== undefined) {\n",
       "        embed_document(root);\n",
       "        clearInterval(timer);\n",
       "      }\n",
       "      attempts++;\n",
       "      if (attempts > 100) {\n",
       "        console.log(\"Bokeh: ERROR: Unable to run BokehJS code because BokehJS library is missing\");\n",
       "        clearInterval(timer);\n",
       "      }\n",
       "    }, 10, root)\n",
       "  }\n",
       "})(window);"
      ],
      "application/vnd.bokehjs_exec.v0+json": ""
     },
     "metadata": {
      "application/vnd.bokehjs_exec.v0+json": {
       "id": "8737"
      }
     },
     "output_type": "display_data"
    }
   ],
   "source": [
    "from bokeh.layouts import gridplot\n",
    "\n",
    "x = list(range(11))\n",
    "y0, y1, y2 = x, [10-i for i in x], [abs(i-5) for i in x]\n",
    "\n",
    "plot_options = dict(width=250, plot_height=250, tools='pan,wheel_zoom')\n",
    "\n",
    "# create a new plot\n",
    "s1 = figure(**plot_options)\n",
    "s1.circle(x, y0, size=10, color=\"navy\")\n",
    "\n",
    "# create a new plot and share both ranges\n",
    "s2 = figure(x_range=s1.x_range, y_range=s1.y_range, **plot_options)\n",
    "s2.triangle(x, y1, size=10, color=\"firebrick\")\n",
    "\n",
    "# create a new plot and share only one range\n",
    "s3 = figure(x_range=s1.x_range, **plot_options)\n",
    "s3.square(x, y2, size=10, color=\"olive\")\n",
    "\n",
    "p = gridplot([[s1, s2, s3]])\n",
    "\n",
    "# show the results\n",
    "show(p)"
   ]
  },
  {
   "cell_type": "markdown",
   "metadata": {
    "slideshow": {
     "slide_type": "slide"
    }
   },
   "source": [
    "# THANK YOU!"
   ]
  }
 ],
 "metadata": {
  "celltoolbar": "Slideshow",
  "kernelspec": {
   "display_name": "Python 3",
   "language": "python",
   "name": "python3"
  },
  "language_info": {
   "codemirror_mode": {
    "name": "ipython",
    "version": 3
   },
   "file_extension": ".py",
   "mimetype": "text/x-python",
   "name": "python",
   "nbconvert_exporter": "python",
   "pygments_lexer": "ipython3",
   "version": "3.6.7"
  }
 },
 "nbformat": 4,
 "nbformat_minor": 2
}
